{
 "cells": [
  {
   "cell_type": "markdown",
   "id": "e814117d",
   "metadata": {},
   "source": [
    "# Phase 3 project"
   ]
  },
  {
   "cell_type": "markdown",
   "id": "e372aa7a",
   "metadata": {},
   "source": [
    "## Covid Dataset"
   ]
  },
  {
   "cell_type": "code",
   "execution_count": 1,
   "id": "07bdfb07",
   "metadata": {},
   "outputs": [],
   "source": [
    "import pandas as pd\n",
    "import numpy as np\n",
    "import seaborn as sns\n",
    "import matplotlib.pyplot as plt\n",
    "import joblib\n",
    "import xgboost as xgb\n",
    "\n",
    "from sklearn.model_selection import train_test_split, cross_val_score\n",
    "from sklearn.model_selection import StratifiedKFold, GridSearchCV\n",
    "from sklearn.preprocessing import MinMaxScaler, LabelEncoder\n",
    "from sklearn.neighbors import KNeighborsClassifier\n",
    "from sklearn.metrics import precision_score, recall_score, accuracy_score, f1_score\n",
    "from sklearn.metrics import roc_curve, auc, plot_roc_curve, roc_auc_score\n",
    "from sklearn.metrics import confusion_matrix, plot_confusion_matrix, classification_report\n",
    "\n",
    "from sklearn.linear_model import LogisticRegression\n",
    "from sklearn import tree\n",
    "from sklearn.tree import DecisionTreeClassifier, DecisionTreeRegressor, plot_tree\n",
    "from sklearn.ensemble import BaggingClassifier, RandomForestClassifier, AdaBoostRegressor\n",
    "from sklearn.ensemble import GradientBoostingClassifier\n",
    "\n",
    "from colorama import Fore\n",
    "from colorama import Style\n",
    "\n",
    "import warnings\n",
    "warnings.filterwarnings('ignore')"
   ]
  },
  {
   "cell_type": "code",
   "execution_count": 2,
   "id": "64a407a7",
   "metadata": {},
   "outputs": [],
   "source": [
    "df_covid=pd.read_csv('Covid Data.csv')"
   ]
  },
  {
   "cell_type": "code",
   "execution_count": 3,
   "id": "9326c527",
   "metadata": {},
   "outputs": [
    {
     "data": {
      "text/html": [
       "<div>\n",
       "<style scoped>\n",
       "    .dataframe tbody tr th:only-of-type {\n",
       "        vertical-align: middle;\n",
       "    }\n",
       "\n",
       "    .dataframe tbody tr th {\n",
       "        vertical-align: top;\n",
       "    }\n",
       "\n",
       "    .dataframe thead th {\n",
       "        text-align: right;\n",
       "    }\n",
       "</style>\n",
       "<table border=\"1\" class=\"dataframe\">\n",
       "  <thead>\n",
       "    <tr style=\"text-align: right;\">\n",
       "      <th></th>\n",
       "      <th>USMER</th>\n",
       "      <th>MEDICAL_UNIT</th>\n",
       "      <th>SEX</th>\n",
       "      <th>PATIENT_TYPE</th>\n",
       "      <th>DATE_DIED</th>\n",
       "      <th>INTUBED</th>\n",
       "      <th>PNEUMONIA</th>\n",
       "      <th>AGE</th>\n",
       "      <th>PREGNANT</th>\n",
       "      <th>DIABETES</th>\n",
       "      <th>...</th>\n",
       "      <th>ASTHMA</th>\n",
       "      <th>INMSUPR</th>\n",
       "      <th>HIPERTENSION</th>\n",
       "      <th>OTHER_DISEASE</th>\n",
       "      <th>CARDIOVASCULAR</th>\n",
       "      <th>OBESITY</th>\n",
       "      <th>RENAL_CHRONIC</th>\n",
       "      <th>TOBACCO</th>\n",
       "      <th>CLASIFFICATION_FINAL</th>\n",
       "      <th>ICU</th>\n",
       "    </tr>\n",
       "  </thead>\n",
       "  <tbody>\n",
       "    <tr>\n",
       "      <th>0</th>\n",
       "      <td>2</td>\n",
       "      <td>1</td>\n",
       "      <td>1</td>\n",
       "      <td>1</td>\n",
       "      <td>03/05/2020</td>\n",
       "      <td>97</td>\n",
       "      <td>1</td>\n",
       "      <td>65</td>\n",
       "      <td>2</td>\n",
       "      <td>2</td>\n",
       "      <td>...</td>\n",
       "      <td>2</td>\n",
       "      <td>2</td>\n",
       "      <td>1</td>\n",
       "      <td>2</td>\n",
       "      <td>2</td>\n",
       "      <td>2</td>\n",
       "      <td>2</td>\n",
       "      <td>2</td>\n",
       "      <td>3</td>\n",
       "      <td>97</td>\n",
       "    </tr>\n",
       "    <tr>\n",
       "      <th>1</th>\n",
       "      <td>2</td>\n",
       "      <td>1</td>\n",
       "      <td>2</td>\n",
       "      <td>1</td>\n",
       "      <td>03/06/2020</td>\n",
       "      <td>97</td>\n",
       "      <td>1</td>\n",
       "      <td>72</td>\n",
       "      <td>97</td>\n",
       "      <td>2</td>\n",
       "      <td>...</td>\n",
       "      <td>2</td>\n",
       "      <td>2</td>\n",
       "      <td>1</td>\n",
       "      <td>2</td>\n",
       "      <td>2</td>\n",
       "      <td>1</td>\n",
       "      <td>1</td>\n",
       "      <td>2</td>\n",
       "      <td>5</td>\n",
       "      <td>97</td>\n",
       "    </tr>\n",
       "    <tr>\n",
       "      <th>2</th>\n",
       "      <td>2</td>\n",
       "      <td>1</td>\n",
       "      <td>2</td>\n",
       "      <td>2</td>\n",
       "      <td>09/06/2020</td>\n",
       "      <td>1</td>\n",
       "      <td>2</td>\n",
       "      <td>55</td>\n",
       "      <td>97</td>\n",
       "      <td>1</td>\n",
       "      <td>...</td>\n",
       "      <td>2</td>\n",
       "      <td>2</td>\n",
       "      <td>2</td>\n",
       "      <td>2</td>\n",
       "      <td>2</td>\n",
       "      <td>2</td>\n",
       "      <td>2</td>\n",
       "      <td>2</td>\n",
       "      <td>3</td>\n",
       "      <td>2</td>\n",
       "    </tr>\n",
       "    <tr>\n",
       "      <th>3</th>\n",
       "      <td>2</td>\n",
       "      <td>1</td>\n",
       "      <td>1</td>\n",
       "      <td>1</td>\n",
       "      <td>12/06/2020</td>\n",
       "      <td>97</td>\n",
       "      <td>2</td>\n",
       "      <td>53</td>\n",
       "      <td>2</td>\n",
       "      <td>2</td>\n",
       "      <td>...</td>\n",
       "      <td>2</td>\n",
       "      <td>2</td>\n",
       "      <td>2</td>\n",
       "      <td>2</td>\n",
       "      <td>2</td>\n",
       "      <td>2</td>\n",
       "      <td>2</td>\n",
       "      <td>2</td>\n",
       "      <td>7</td>\n",
       "      <td>97</td>\n",
       "    </tr>\n",
       "    <tr>\n",
       "      <th>4</th>\n",
       "      <td>2</td>\n",
       "      <td>1</td>\n",
       "      <td>2</td>\n",
       "      <td>1</td>\n",
       "      <td>21/06/2020</td>\n",
       "      <td>97</td>\n",
       "      <td>2</td>\n",
       "      <td>68</td>\n",
       "      <td>97</td>\n",
       "      <td>1</td>\n",
       "      <td>...</td>\n",
       "      <td>2</td>\n",
       "      <td>2</td>\n",
       "      <td>1</td>\n",
       "      <td>2</td>\n",
       "      <td>2</td>\n",
       "      <td>2</td>\n",
       "      <td>2</td>\n",
       "      <td>2</td>\n",
       "      <td>3</td>\n",
       "      <td>97</td>\n",
       "    </tr>\n",
       "    <tr>\n",
       "      <th>...</th>\n",
       "      <td>...</td>\n",
       "      <td>...</td>\n",
       "      <td>...</td>\n",
       "      <td>...</td>\n",
       "      <td>...</td>\n",
       "      <td>...</td>\n",
       "      <td>...</td>\n",
       "      <td>...</td>\n",
       "      <td>...</td>\n",
       "      <td>...</td>\n",
       "      <td>...</td>\n",
       "      <td>...</td>\n",
       "      <td>...</td>\n",
       "      <td>...</td>\n",
       "      <td>...</td>\n",
       "      <td>...</td>\n",
       "      <td>...</td>\n",
       "      <td>...</td>\n",
       "      <td>...</td>\n",
       "      <td>...</td>\n",
       "      <td>...</td>\n",
       "    </tr>\n",
       "    <tr>\n",
       "      <th>1048570</th>\n",
       "      <td>2</td>\n",
       "      <td>13</td>\n",
       "      <td>2</td>\n",
       "      <td>1</td>\n",
       "      <td>9999-99-99</td>\n",
       "      <td>97</td>\n",
       "      <td>2</td>\n",
       "      <td>40</td>\n",
       "      <td>97</td>\n",
       "      <td>2</td>\n",
       "      <td>...</td>\n",
       "      <td>2</td>\n",
       "      <td>2</td>\n",
       "      <td>2</td>\n",
       "      <td>2</td>\n",
       "      <td>2</td>\n",
       "      <td>2</td>\n",
       "      <td>2</td>\n",
       "      <td>2</td>\n",
       "      <td>7</td>\n",
       "      <td>97</td>\n",
       "    </tr>\n",
       "    <tr>\n",
       "      <th>1048571</th>\n",
       "      <td>1</td>\n",
       "      <td>13</td>\n",
       "      <td>2</td>\n",
       "      <td>2</td>\n",
       "      <td>9999-99-99</td>\n",
       "      <td>2</td>\n",
       "      <td>2</td>\n",
       "      <td>51</td>\n",
       "      <td>97</td>\n",
       "      <td>2</td>\n",
       "      <td>...</td>\n",
       "      <td>2</td>\n",
       "      <td>2</td>\n",
       "      <td>1</td>\n",
       "      <td>2</td>\n",
       "      <td>2</td>\n",
       "      <td>2</td>\n",
       "      <td>2</td>\n",
       "      <td>2</td>\n",
       "      <td>7</td>\n",
       "      <td>2</td>\n",
       "    </tr>\n",
       "    <tr>\n",
       "      <th>1048572</th>\n",
       "      <td>2</td>\n",
       "      <td>13</td>\n",
       "      <td>2</td>\n",
       "      <td>1</td>\n",
       "      <td>9999-99-99</td>\n",
       "      <td>97</td>\n",
       "      <td>2</td>\n",
       "      <td>55</td>\n",
       "      <td>97</td>\n",
       "      <td>2</td>\n",
       "      <td>...</td>\n",
       "      <td>2</td>\n",
       "      <td>2</td>\n",
       "      <td>2</td>\n",
       "      <td>2</td>\n",
       "      <td>2</td>\n",
       "      <td>2</td>\n",
       "      <td>2</td>\n",
       "      <td>2</td>\n",
       "      <td>7</td>\n",
       "      <td>97</td>\n",
       "    </tr>\n",
       "    <tr>\n",
       "      <th>1048573</th>\n",
       "      <td>2</td>\n",
       "      <td>13</td>\n",
       "      <td>2</td>\n",
       "      <td>1</td>\n",
       "      <td>9999-99-99</td>\n",
       "      <td>97</td>\n",
       "      <td>2</td>\n",
       "      <td>28</td>\n",
       "      <td>97</td>\n",
       "      <td>2</td>\n",
       "      <td>...</td>\n",
       "      <td>2</td>\n",
       "      <td>2</td>\n",
       "      <td>2</td>\n",
       "      <td>2</td>\n",
       "      <td>2</td>\n",
       "      <td>2</td>\n",
       "      <td>2</td>\n",
       "      <td>2</td>\n",
       "      <td>7</td>\n",
       "      <td>97</td>\n",
       "    </tr>\n",
       "    <tr>\n",
       "      <th>1048574</th>\n",
       "      <td>2</td>\n",
       "      <td>13</td>\n",
       "      <td>2</td>\n",
       "      <td>1</td>\n",
       "      <td>9999-99-99</td>\n",
       "      <td>97</td>\n",
       "      <td>2</td>\n",
       "      <td>52</td>\n",
       "      <td>97</td>\n",
       "      <td>2</td>\n",
       "      <td>...</td>\n",
       "      <td>2</td>\n",
       "      <td>2</td>\n",
       "      <td>2</td>\n",
       "      <td>2</td>\n",
       "      <td>2</td>\n",
       "      <td>2</td>\n",
       "      <td>2</td>\n",
       "      <td>2</td>\n",
       "      <td>7</td>\n",
       "      <td>97</td>\n",
       "    </tr>\n",
       "  </tbody>\n",
       "</table>\n",
       "<p>1048575 rows × 21 columns</p>\n",
       "</div>"
      ],
      "text/plain": [
       "         USMER  MEDICAL_UNIT  SEX  PATIENT_TYPE   DATE_DIED  INTUBED  \\\n",
       "0            2             1    1             1  03/05/2020       97   \n",
       "1            2             1    2             1  03/06/2020       97   \n",
       "2            2             1    2             2  09/06/2020        1   \n",
       "3            2             1    1             1  12/06/2020       97   \n",
       "4            2             1    2             1  21/06/2020       97   \n",
       "...        ...           ...  ...           ...         ...      ...   \n",
       "1048570      2            13    2             1  9999-99-99       97   \n",
       "1048571      1            13    2             2  9999-99-99        2   \n",
       "1048572      2            13    2             1  9999-99-99       97   \n",
       "1048573      2            13    2             1  9999-99-99       97   \n",
       "1048574      2            13    2             1  9999-99-99       97   \n",
       "\n",
       "         PNEUMONIA  AGE  PREGNANT  DIABETES  ...  ASTHMA  INMSUPR  \\\n",
       "0                1   65         2         2  ...       2        2   \n",
       "1                1   72        97         2  ...       2        2   \n",
       "2                2   55        97         1  ...       2        2   \n",
       "3                2   53         2         2  ...       2        2   \n",
       "4                2   68        97         1  ...       2        2   \n",
       "...            ...  ...       ...       ...  ...     ...      ...   \n",
       "1048570          2   40        97         2  ...       2        2   \n",
       "1048571          2   51        97         2  ...       2        2   \n",
       "1048572          2   55        97         2  ...       2        2   \n",
       "1048573          2   28        97         2  ...       2        2   \n",
       "1048574          2   52        97         2  ...       2        2   \n",
       "\n",
       "         HIPERTENSION  OTHER_DISEASE  CARDIOVASCULAR  OBESITY  RENAL_CHRONIC  \\\n",
       "0                   1              2               2        2              2   \n",
       "1                   1              2               2        1              1   \n",
       "2                   2              2               2        2              2   \n",
       "3                   2              2               2        2              2   \n",
       "4                   1              2               2        2              2   \n",
       "...               ...            ...             ...      ...            ...   \n",
       "1048570             2              2               2        2              2   \n",
       "1048571             1              2               2        2              2   \n",
       "1048572             2              2               2        2              2   \n",
       "1048573             2              2               2        2              2   \n",
       "1048574             2              2               2        2              2   \n",
       "\n",
       "         TOBACCO  CLASIFFICATION_FINAL  ICU  \n",
       "0              2                     3   97  \n",
       "1              2                     5   97  \n",
       "2              2                     3    2  \n",
       "3              2                     7   97  \n",
       "4              2                     3   97  \n",
       "...          ...                   ...  ...  \n",
       "1048570        2                     7   97  \n",
       "1048571        2                     7    2  \n",
       "1048572        2                     7   97  \n",
       "1048573        2                     7   97  \n",
       "1048574        2                     7   97  \n",
       "\n",
       "[1048575 rows x 21 columns]"
      ]
     },
     "execution_count": 3,
     "metadata": {},
     "output_type": "execute_result"
    }
   ],
   "source": [
    "df_covid"
   ]
  },
  {
   "cell_type": "markdown",
   "id": "5a39eac2",
   "metadata": {},
   "source": [
    "### Description of Dataset\n",
    "\n",
    "About Dataset\n",
    "Context\n",
    "Coronavirus disease (COVID-19) is an infectious disease caused by a newly discovered coronavirus. Most people infected with COVID-19 virus will experience mild to moderate respiratory illness and recover without requiring special treatment. Older people, and those with underlying medical problems like cardiovascular disease, diabetes, chronic respiratory disease, and cancer are more likely to develop serious illness.\n",
    "During the entire course of the pandemic, one of the main problems that healthcare providers have faced is the shortage of medical resources and a proper plan to efficiently distribute them. In these tough times, being able to predict what kind of resource an individual might require at the time of being tested positive or even before that will be of immense help to the authorities as they would be able to procure and arrange for the resources necessary to save the life of that patient.\n",
    "\n",
    "The main goal of this project is to build a machine learning model that, given a Covid-19 patient's current symptom, status, and medical history, will predict whether the patient is in high risk or not.\n",
    "\n",
    "### content\n",
    "The dataset was provided by the Mexican government (link). This dataset contains an enormous number of anonymized patient-related information including pre-conditions. The raw dataset consists of 21 unique features and 1,048,576 unique patients. In the Boolean features, 1 means \"yes\" and 2 means \"no\". values as 97 and 99 are missing data.\n",
    "\n",
    "* sex: 1 for female and 2 for male.\n",
    "* age: of the patient.\n",
    "* classification: covid test findings. Values 1-3 mean that the patient was diagnosed with covid in different degrees. 4 or higher means that the patient is not a carrier of covid or that the test is inconclusive.\n",
    "* patient type: type of care the patient received in the unit. 1 for returned home and 2 for hospitalization.\n",
    "* pneumonia: whether the patient already have air sacs inflammation or not.\n",
    "* pregnancy: whether the patient is pregnant or not.\n",
    "* diabetes: whether the patient has diabetes or not.\n",
    "* copd: Indicates whether the patient has Chronic obstructive pulmonary disease or not.\n",
    "* asthma: whether the patient has asthma or not.\n",
    "* inmsupr: whether the patient is immunosuppressed or not.\n",
    "* hypertension: whether the patient has hypertension or not.\n",
    "* cardiovascular: whether the patient has heart or blood vessels related disease.\n",
    "* renal chronic: whether the patient has chronic renal disease or not.\n",
    "* other disease: whether the patient has other disease or not.\n",
    "* obesity: whether the patient is obese or not.\n",
    "* tobacco: whether the patient is a tobacco user.\n",
    "* usmr: Indicates whether the patient treated medical units of the first, second or third level.\n",
    "* medical unit: type of institution of the National Health System that provided the care.\n",
    "* intubed: whether the patient was connected to the ventilator.\n",
    "* icu: Indicates whether the patient had been admitted to an Intensive Care Unit.\n",
    "* date died: If the patient died indicate the date of death, and 9999-99-99 otherwise."
   ]
  },
  {
   "cell_type": "code",
   "execution_count": 4,
   "id": "c4c2b405",
   "metadata": {},
   "outputs": [
    {
     "data": {
      "text/plain": [
       "Index(['USMER', 'MEDICAL_UNIT', 'SEX', 'PATIENT_TYPE', 'DATE_DIED', 'INTUBED',\n",
       "       'PNEUMONIA', 'AGE', 'PREGNANT', 'DIABETES', 'COPD', 'ASTHMA', 'INMSUPR',\n",
       "       'HIPERTENSION', 'OTHER_DISEASE', 'CARDIOVASCULAR', 'OBESITY',\n",
       "       'RENAL_CHRONIC', 'TOBACCO', 'CLASIFFICATION_FINAL', 'ICU'],\n",
       "      dtype='object')"
      ]
     },
     "execution_count": 4,
     "metadata": {},
     "output_type": "execute_result"
    }
   ],
   "source": [
    "df_covid.columns"
   ]
  },
  {
   "cell_type": "markdown",
   "id": "591f6581",
   "metadata": {},
   "source": [
    "The column 'CLASSIFICATION_FINAL' tells us which patients tested positive for Covid and which ones didn't.\n",
    "Values 1-3 mean that the patient was diagnosed with covid in different degrees. 4 or higher means that the patient is not a carrier of covid or that the test is inconclusive. \n",
    "So since we are interested only in data regarding covid positive patients, we will filter out the rows that have a value greater than 3."
   ]
  },
  {
   "cell_type": "code",
   "execution_count": 5,
   "id": "90097a4a",
   "metadata": {},
   "outputs": [
    {
     "data": {
      "text/plain": [
       "7    0.476122\n",
       "3    0.363853\n",
       "6    0.122197\n",
       "5    0.024882\n",
       "1    0.008203\n",
       "4    0.002977\n",
       "2    0.001765\n",
       "Name: CLASIFFICATION_FINAL, dtype: float64"
      ]
     },
     "execution_count": 5,
     "metadata": {},
     "output_type": "execute_result"
    }
   ],
   "source": [
    "df_covid['CLASIFFICATION_FINAL'].value_counts(normalize=True)"
   ]
  },
  {
   "cell_type": "code",
   "execution_count": 6,
   "id": "cb84f810",
   "metadata": {},
   "outputs": [],
   "source": [
    "df_covid.drop(df_covid.loc[df_covid['CLASIFFICATION_FINAL']>3].index, inplace=True)"
   ]
  },
  {
   "cell_type": "code",
   "execution_count": 7,
   "id": "8911d9df",
   "metadata": {},
   "outputs": [
    {
     "data": {
      "text/plain": [
       "3    0.973335\n",
       "1    0.021943\n",
       "2    0.004722\n",
       "Name: CLASIFFICATION_FINAL, dtype: float64"
      ]
     },
     "execution_count": 7,
     "metadata": {},
     "output_type": "execute_result"
    }
   ],
   "source": [
    "df_covid['CLASIFFICATION_FINAL'].value_counts(normalize=True)"
   ]
  },
  {
   "cell_type": "code",
   "execution_count": 8,
   "id": "eaada3a6",
   "metadata": {},
   "outputs": [
    {
     "data": {
      "text/plain": [
       "(391979, 21)"
      ]
     },
     "execution_count": 8,
     "metadata": {},
     "output_type": "execute_result"
    }
   ],
   "source": [
    "df_covid.shape"
   ]
  },
  {
   "cell_type": "markdown",
   "id": "3240340d",
   "metadata": {},
   "source": [
    "We still have a good amount of entries left.\n",
    "And now that we made sure our dataframe contains only covid positive patients, I need to decide which one should be the target variable. <br>The possible ones are:'patient type', 'usmr', 'medical unit', 'icu', 'date died'"
   ]
  },
  {
   "cell_type": "code",
   "execution_count": 9,
   "id": "0f420f60",
   "metadata": {},
   "outputs": [],
   "source": [
    "### ADD MARKDOWN to describe the columns"
   ]
  },
  {
   "cell_type": "code",
   "execution_count": 10,
   "id": "9f37026d",
   "metadata": {},
   "outputs": [
    {
     "data": {
      "text/plain": [
       "2    0.624658\n",
       "1    0.375342\n",
       "Name: USMER, dtype: float64"
      ]
     },
     "execution_count": 10,
     "metadata": {},
     "output_type": "execute_result"
    }
   ],
   "source": [
    "df_covid['USMER'].value_counts(normalize=True)"
   ]
  },
  {
   "cell_type": "code",
   "execution_count": 11,
   "id": "f6a396e0",
   "metadata": {},
   "outputs": [
    {
     "data": {
      "text/plain": [
       "1    0.716077\n",
       "2    0.283923\n",
       "Name: PATIENT_TYPE, dtype: float64"
      ]
     },
     "execution_count": 11,
     "metadata": {},
     "output_type": "execute_result"
    }
   ],
   "source": [
    "df_covid['PATIENT_TYPE'].value_counts(normalize=True)"
   ]
  },
  {
   "cell_type": "code",
   "execution_count": 12,
   "id": "56add8e7",
   "metadata": {},
   "outputs": [],
   "source": [
    "### This could be good but it is imbalanced. But maybe even like this it is ok."
   ]
  },
  {
   "cell_type": "code",
   "execution_count": 13,
   "id": "5a94d91a",
   "metadata": {},
   "outputs": [
    {
     "data": {
      "text/plain": [
       "12    0.531217\n",
       "4     0.323101\n",
       "6     0.045125\n",
       "9     0.037209\n",
       "3     0.022019\n",
       "8     0.012740\n",
       "10    0.009712\n",
       "11    0.009529\n",
       "5     0.007278\n",
       "7     0.001056\n",
       "13    0.000880\n",
       "1     0.000102\n",
       "2     0.000031\n",
       "Name: MEDICAL_UNIT, dtype: float64"
      ]
     },
     "execution_count": 13,
     "metadata": {},
     "output_type": "execute_result"
    }
   ],
   "source": [
    "df_covid['MEDICAL_UNIT'].value_counts(normalize=True)"
   ]
  },
  {
   "cell_type": "code",
   "execution_count": 14,
   "id": "a6cc4b50",
   "metadata": {},
   "outputs": [],
   "source": [
    "# Not very informative"
   ]
  },
  {
   "cell_type": "code",
   "execution_count": 15,
   "id": "ada292d4",
   "metadata": {},
   "outputs": [
    {
     "data": {
      "text/plain": [
       "97    0.716077\n",
       "2     0.253386\n",
       "1     0.026657\n",
       "99    0.003880\n",
       "Name: ICU, dtype: float64"
      ]
     },
     "execution_count": 15,
     "metadata": {},
     "output_type": "execute_result"
    }
   ],
   "source": [
    "df_covid['ICU'].value_counts(normalize=True)"
   ]
  },
  {
   "cell_type": "code",
   "execution_count": 16,
   "id": "02f1cd04",
   "metadata": {},
   "outputs": [],
   "source": [
    "# Mostly missing values"
   ]
  },
  {
   "cell_type": "code",
   "execution_count": 17,
   "id": "e3f78f73",
   "metadata": {},
   "outputs": [
    {
     "data": {
      "text/plain": [
       "9999-99-99    0.861635\n",
       "13/07/2020    0.002008\n",
       "06/07/2020    0.001972\n",
       "16/07/2020    0.001941\n",
       "07/07/2020    0.001934\n",
       "                ...   \n",
       "17/12/2020    0.000003\n",
       "02/04/2021    0.000003\n",
       "06/10/2020    0.000003\n",
       "10/02/2021    0.000003\n",
       "15/04/2021    0.000003\n",
       "Name: DATE_DIED, Length: 288, dtype: float64"
      ]
     },
     "execution_count": 17,
     "metadata": {},
     "output_type": "execute_result"
    }
   ],
   "source": [
    "df_covid['DATE_DIED'].value_counts(normalize=True)"
   ]
  },
  {
   "cell_type": "code",
   "execution_count": 18,
   "id": "a93f4fc9",
   "metadata": {},
   "outputs": [],
   "source": [
    "# Mostly missing values"
   ]
  },
  {
   "cell_type": "markdown",
   "id": "d22f2a8c",
   "metadata": {},
   "source": [
    "Stays standing 'classification', 'patient type'"
   ]
  },
  {
   "cell_type": "markdown",
   "id": "c1a4f441",
   "metadata": {},
   "source": [
    "To make the decision between these two variables we did some research to gain some domain knowledge and spoke directly to some first responders during the covid 19 pandemic, that suggested that the information about whether or not a patient needed to be hospitalized was more valuable than the results of the covid test.\n",
    "This is the case since some patients might have tested positive for covid 19, but because of mild symptoms and overall good health were sent back home to be treated, and what actually really put a strain on health structures was the number of people in need to be hospitalized. Because of this we are going to use 'patient type' as our target for this study.\n",
    "We are also going to drop all the other variables related to hospitalization since those contain knowledge about the hospitalization of the patient, while what we are trying to predict is the amout of people that would need to be hospitalized, based on previous knowledge so this is not a type of information we would have, if we wanted to use the model again on other data."
   ]
  },
  {
   "cell_type": "markdown",
   "id": "196855ea",
   "metadata": {},
   "source": [
    "So target should be patient type and all the other hospital related variables should be dropped."
   ]
  },
  {
   "cell_type": "code",
   "execution_count": 19,
   "id": "c3f9ac6f",
   "metadata": {},
   "outputs": [],
   "source": [
    "df=df_covid.drop(['USMER', 'MEDICAL_UNIT', 'INTUBED', 'CLASIFFICATION_FINAL', 'ICU', 'DATE_DIED'], axis=1)"
   ]
  },
  {
   "cell_type": "code",
   "execution_count": 20,
   "id": "78f53ca6",
   "metadata": {},
   "outputs": [
    {
     "data": {
      "text/html": [
       "<div>\n",
       "<style scoped>\n",
       "    .dataframe tbody tr th:only-of-type {\n",
       "        vertical-align: middle;\n",
       "    }\n",
       "\n",
       "    .dataframe tbody tr th {\n",
       "        vertical-align: top;\n",
       "    }\n",
       "\n",
       "    .dataframe thead th {\n",
       "        text-align: right;\n",
       "    }\n",
       "</style>\n",
       "<table border=\"1\" class=\"dataframe\">\n",
       "  <thead>\n",
       "    <tr style=\"text-align: right;\">\n",
       "      <th></th>\n",
       "      <th>SEX</th>\n",
       "      <th>PATIENT_TYPE</th>\n",
       "      <th>PNEUMONIA</th>\n",
       "      <th>AGE</th>\n",
       "      <th>PREGNANT</th>\n",
       "      <th>DIABETES</th>\n",
       "      <th>COPD</th>\n",
       "      <th>ASTHMA</th>\n",
       "      <th>INMSUPR</th>\n",
       "      <th>HIPERTENSION</th>\n",
       "      <th>OTHER_DISEASE</th>\n",
       "      <th>CARDIOVASCULAR</th>\n",
       "      <th>OBESITY</th>\n",
       "      <th>RENAL_CHRONIC</th>\n",
       "      <th>TOBACCO</th>\n",
       "    </tr>\n",
       "  </thead>\n",
       "  <tbody>\n",
       "    <tr>\n",
       "      <th>0</th>\n",
       "      <td>1</td>\n",
       "      <td>1</td>\n",
       "      <td>1</td>\n",
       "      <td>65</td>\n",
       "      <td>2</td>\n",
       "      <td>2</td>\n",
       "      <td>2</td>\n",
       "      <td>2</td>\n",
       "      <td>2</td>\n",
       "      <td>1</td>\n",
       "      <td>2</td>\n",
       "      <td>2</td>\n",
       "      <td>2</td>\n",
       "      <td>2</td>\n",
       "      <td>2</td>\n",
       "    </tr>\n",
       "    <tr>\n",
       "      <th>2</th>\n",
       "      <td>2</td>\n",
       "      <td>2</td>\n",
       "      <td>2</td>\n",
       "      <td>55</td>\n",
       "      <td>97</td>\n",
       "      <td>1</td>\n",
       "      <td>2</td>\n",
       "      <td>2</td>\n",
       "      <td>2</td>\n",
       "      <td>2</td>\n",
       "      <td>2</td>\n",
       "      <td>2</td>\n",
       "      <td>2</td>\n",
       "      <td>2</td>\n",
       "      <td>2</td>\n",
       "    </tr>\n",
       "    <tr>\n",
       "      <th>4</th>\n",
       "      <td>2</td>\n",
       "      <td>1</td>\n",
       "      <td>2</td>\n",
       "      <td>68</td>\n",
       "      <td>97</td>\n",
       "      <td>1</td>\n",
       "      <td>2</td>\n",
       "      <td>2</td>\n",
       "      <td>2</td>\n",
       "      <td>1</td>\n",
       "      <td>2</td>\n",
       "      <td>2</td>\n",
       "      <td>2</td>\n",
       "      <td>2</td>\n",
       "      <td>2</td>\n",
       "    </tr>\n",
       "    <tr>\n",
       "      <th>5</th>\n",
       "      <td>1</td>\n",
       "      <td>2</td>\n",
       "      <td>1</td>\n",
       "      <td>40</td>\n",
       "      <td>2</td>\n",
       "      <td>2</td>\n",
       "      <td>2</td>\n",
       "      <td>2</td>\n",
       "      <td>2</td>\n",
       "      <td>2</td>\n",
       "      <td>2</td>\n",
       "      <td>2</td>\n",
       "      <td>2</td>\n",
       "      <td>2</td>\n",
       "      <td>2</td>\n",
       "    </tr>\n",
       "    <tr>\n",
       "      <th>6</th>\n",
       "      <td>1</td>\n",
       "      <td>1</td>\n",
       "      <td>2</td>\n",
       "      <td>64</td>\n",
       "      <td>2</td>\n",
       "      <td>2</td>\n",
       "      <td>2</td>\n",
       "      <td>2</td>\n",
       "      <td>2</td>\n",
       "      <td>2</td>\n",
       "      <td>2</td>\n",
       "      <td>2</td>\n",
       "      <td>2</td>\n",
       "      <td>2</td>\n",
       "      <td>2</td>\n",
       "    </tr>\n",
       "    <tr>\n",
       "      <th>...</th>\n",
       "      <td>...</td>\n",
       "      <td>...</td>\n",
       "      <td>...</td>\n",
       "      <td>...</td>\n",
       "      <td>...</td>\n",
       "      <td>...</td>\n",
       "      <td>...</td>\n",
       "      <td>...</td>\n",
       "      <td>...</td>\n",
       "      <td>...</td>\n",
       "      <td>...</td>\n",
       "      <td>...</td>\n",
       "      <td>...</td>\n",
       "      <td>...</td>\n",
       "      <td>...</td>\n",
       "    </tr>\n",
       "    <tr>\n",
       "      <th>1047933</th>\n",
       "      <td>1</td>\n",
       "      <td>2</td>\n",
       "      <td>2</td>\n",
       "      <td>77</td>\n",
       "      <td>2</td>\n",
       "      <td>1</td>\n",
       "      <td>2</td>\n",
       "      <td>2</td>\n",
       "      <td>1</td>\n",
       "      <td>1</td>\n",
       "      <td>2</td>\n",
       "      <td>2</td>\n",
       "      <td>2</td>\n",
       "      <td>2</td>\n",
       "      <td>2</td>\n",
       "    </tr>\n",
       "    <tr>\n",
       "      <th>1047934</th>\n",
       "      <td>1</td>\n",
       "      <td>1</td>\n",
       "      <td>2</td>\n",
       "      <td>55</td>\n",
       "      <td>2</td>\n",
       "      <td>1</td>\n",
       "      <td>2</td>\n",
       "      <td>2</td>\n",
       "      <td>2</td>\n",
       "      <td>2</td>\n",
       "      <td>2</td>\n",
       "      <td>2</td>\n",
       "      <td>2</td>\n",
       "      <td>2</td>\n",
       "      <td>2</td>\n",
       "    </tr>\n",
       "    <tr>\n",
       "      <th>1047935</th>\n",
       "      <td>2</td>\n",
       "      <td>1</td>\n",
       "      <td>2</td>\n",
       "      <td>70</td>\n",
       "      <td>97</td>\n",
       "      <td>2</td>\n",
       "      <td>2</td>\n",
       "      <td>2</td>\n",
       "      <td>2</td>\n",
       "      <td>1</td>\n",
       "      <td>2</td>\n",
       "      <td>2</td>\n",
       "      <td>2</td>\n",
       "      <td>2</td>\n",
       "      <td>2</td>\n",
       "    </tr>\n",
       "    <tr>\n",
       "      <th>1047936</th>\n",
       "      <td>2</td>\n",
       "      <td>1</td>\n",
       "      <td>2</td>\n",
       "      <td>32</td>\n",
       "      <td>97</td>\n",
       "      <td>2</td>\n",
       "      <td>2</td>\n",
       "      <td>2</td>\n",
       "      <td>2</td>\n",
       "      <td>2</td>\n",
       "      <td>2</td>\n",
       "      <td>2</td>\n",
       "      <td>2</td>\n",
       "      <td>2</td>\n",
       "      <td>2</td>\n",
       "    </tr>\n",
       "    <tr>\n",
       "      <th>1047937</th>\n",
       "      <td>1</td>\n",
       "      <td>1</td>\n",
       "      <td>2</td>\n",
       "      <td>30</td>\n",
       "      <td>2</td>\n",
       "      <td>2</td>\n",
       "      <td>2</td>\n",
       "      <td>2</td>\n",
       "      <td>2</td>\n",
       "      <td>2</td>\n",
       "      <td>2</td>\n",
       "      <td>2</td>\n",
       "      <td>2</td>\n",
       "      <td>2</td>\n",
       "      <td>2</td>\n",
       "    </tr>\n",
       "  </tbody>\n",
       "</table>\n",
       "<p>391979 rows × 15 columns</p>\n",
       "</div>"
      ],
      "text/plain": [
       "         SEX  PATIENT_TYPE  PNEUMONIA  AGE  PREGNANT  DIABETES  COPD  ASTHMA  \\\n",
       "0          1             1          1   65         2         2     2       2   \n",
       "2          2             2          2   55        97         1     2       2   \n",
       "4          2             1          2   68        97         1     2       2   \n",
       "5          1             2          1   40         2         2     2       2   \n",
       "6          1             1          2   64         2         2     2       2   \n",
       "...      ...           ...        ...  ...       ...       ...   ...     ...   \n",
       "1047933    1             2          2   77         2         1     2       2   \n",
       "1047934    1             1          2   55         2         1     2       2   \n",
       "1047935    2             1          2   70        97         2     2       2   \n",
       "1047936    2             1          2   32        97         2     2       2   \n",
       "1047937    1             1          2   30         2         2     2       2   \n",
       "\n",
       "         INMSUPR  HIPERTENSION  OTHER_DISEASE  CARDIOVASCULAR  OBESITY  \\\n",
       "0              2             1              2               2        2   \n",
       "2              2             2              2               2        2   \n",
       "4              2             1              2               2        2   \n",
       "5              2             2              2               2        2   \n",
       "6              2             2              2               2        2   \n",
       "...          ...           ...            ...             ...      ...   \n",
       "1047933        1             1              2               2        2   \n",
       "1047934        2             2              2               2        2   \n",
       "1047935        2             1              2               2        2   \n",
       "1047936        2             2              2               2        2   \n",
       "1047937        2             2              2               2        2   \n",
       "\n",
       "         RENAL_CHRONIC  TOBACCO  \n",
       "0                    2        2  \n",
       "2                    2        2  \n",
       "4                    2        2  \n",
       "5                    2        2  \n",
       "6                    2        2  \n",
       "...                ...      ...  \n",
       "1047933              2        2  \n",
       "1047934              2        2  \n",
       "1047935              2        2  \n",
       "1047936              2        2  \n",
       "1047937              2        2  \n",
       "\n",
       "[391979 rows x 15 columns]"
      ]
     },
     "execution_count": 20,
     "metadata": {},
     "output_type": "execute_result"
    }
   ],
   "source": [
    "df"
   ]
  },
  {
   "cell_type": "markdown",
   "id": "3c306d6a",
   "metadata": {},
   "source": [
    "The missing values are catalogued as 97 or 99. So I have to look for these values to understand how many null values."
   ]
  },
  {
   "cell_type": "markdown",
   "id": "ee46a193",
   "metadata": {},
   "source": [
    "Will need to find a way to replace the missing values for pregnant."
   ]
  },
  {
   "cell_type": "code",
   "execution_count": 21,
   "id": "4dfbe870",
   "metadata": {},
   "outputs": [
    {
     "name": "stdout",
     "output_type": "stream",
     "text": [
      "2    0.534439\n",
      "1    0.465561\n",
      "Name: SEX, dtype: float64\n",
      "\n",
      "\n",
      "1    0.716077\n",
      "2    0.283923\n",
      "Name: PATIENT_TYPE, dtype: float64\n",
      "\n",
      "\n",
      "2     0.780486\n",
      "1     0.219504\n",
      "99    0.000010\n",
      "Name: PNEUMONIA, dtype: float64\n",
      "\n",
      "\n",
      "37     0.023009\n",
      "45     0.022769\n",
      "40     0.022728\n",
      "30     0.022703\n",
      "46     0.022682\n",
      "         ...   \n",
      "119    0.000003\n",
      "104    0.000003\n",
      "116    0.000003\n",
      "106    0.000003\n",
      "120    0.000003\n",
      "Name: AGE, Length: 110, dtype: float64\n",
      "\n",
      "\n",
      "97    0.534439\n",
      "2     0.455007\n",
      "1     0.007026\n",
      "98    0.003528\n",
      "Name: PREGNANT, dtype: float64\n",
      "\n",
      "\n",
      "2     0.837864\n",
      "1     0.158463\n",
      "98    0.003674\n",
      "Name: DIABETES, dtype: float64\n",
      "\n",
      "\n",
      "2     0.981009\n",
      "1     0.015641\n",
      "98    0.003350\n",
      "Name: COPD, dtype: float64\n",
      "\n",
      "\n",
      "2     0.970098\n",
      "1     0.026563\n",
      "98    0.003339\n",
      "Name: ASTHMA, dtype: float64\n",
      "\n",
      "\n",
      "2     0.984127\n",
      "1     0.012177\n",
      "98    0.003697\n",
      "Name: INMSUPR, dtype: float64\n",
      "\n",
      "\n",
      "2     0.800716\n",
      "1     0.195743\n",
      "98    0.003541\n",
      "Name: HIPERTENSION, dtype: float64\n",
      "\n",
      "\n",
      "2     0.968993\n",
      "1     0.025557\n",
      "98    0.005449\n",
      "Name: OTHER_DISEASE, dtype: float64\n",
      "\n",
      "\n",
      "2     0.974751\n",
      "1     0.021700\n",
      "98    0.003549\n",
      "Name: CARDIOVASCULAR, dtype: float64\n",
      "\n",
      "\n",
      "2     0.810890\n",
      "1     0.185658\n",
      "98    0.003452\n",
      "Name: OBESITY, dtype: float64\n",
      "\n",
      "\n",
      "2     0.976269\n",
      "1     0.020287\n",
      "98    0.003444\n",
      "Name: RENAL_CHRONIC, dtype: float64\n",
      "\n",
      "\n",
      "2     0.923004\n",
      "1     0.073338\n",
      "98    0.003658\n",
      "Name: TOBACCO, dtype: float64\n",
      "\n",
      "\n"
     ]
    }
   ],
   "source": [
    "for i in df.columns:\n",
    "    print(df[i].value_counts(normalize=True))\n",
    "    print(\"\\n\")"
   ]
  },
  {
   "cell_type": "markdown",
   "id": "119d9370",
   "metadata": {},
   "source": [
    "97, 98 and 99 represent missing values for all the columns except 'AGE'.\n",
    "<br>For some categories the missing values are so little that it's worth just dropping them. <br>For the two categories with the most missing values, 'PREGNANT' and 'PNEUMONIA' we will proceed to impute them."
   ]
  },
  {
   "cell_type": "markdown",
   "id": "731ffd80",
   "metadata": {},
   "source": [
    "We will temporarily remove the 'age' column as in this one 97, 98 and 99 are actually real values and not missing values.\n",
    "<br> We will work on this column first to remove the outliers, then we will drop it from the dataset and reeinsert it once we dealt with the missing values for the other columns."
   ]
  },
  {
   "cell_type": "code",
   "execution_count": 22,
   "id": "270a294b",
   "metadata": {},
   "outputs": [],
   "source": [
    "age=df['AGE']"
   ]
  },
  {
   "cell_type": "code",
   "execution_count": 23,
   "id": "4b35fcb8",
   "metadata": {},
   "outputs": [
    {
     "data": {
      "image/png": "[encoded data removed]",
      "text/plain": [
       "<Figure size 432x288 with 1 Axes>"
      ]
     },
     "metadata": {
      "needs_background": "light"
     },
     "output_type": "display_data"
    }
   ],
   "source": [
    "plt.hist(age);"
   ]
  },
  {
   "cell_type": "markdown",
   "id": "43e2d3ac",
   "metadata": {},
   "source": [
    "Even if we cannot be certain about this, since there is no information about this on the dataset, we can safely assume that values for age that are above 110 are probably typos or outliers. It might also be the way that it was inputed when the value of 'age' for that patient was missing: since there are no NaN values and yet, 97 98 and 99 which were used in the other columns to indicate missing values, clearly cannot be used in this one.\n",
    "So we will remove the columns that have the age value>110."
   ]
  },
  {
   "cell_type": "code",
   "execution_count": 24,
   "id": "058c5b69",
   "metadata": {},
   "outputs": [],
   "source": [
    "df.drop(df.loc[df['AGE']>110].index, inplace=True)"
   ]
  },
  {
   "cell_type": "code",
   "execution_count": 25,
   "id": "3ab1059b",
   "metadata": {},
   "outputs": [
    {
     "data": {
      "text/plain": [
       "37     9019\n",
       "45     8925\n",
       "40     8909\n",
       "30     8899\n",
       "46     8891\n",
       "       ... \n",
       "103       6\n",
       "102       3\n",
       "105       2\n",
       "104       1\n",
       "106       1\n",
       "Name: AGE, Length: 107, dtype: int64"
      ]
     },
     "execution_count": 25,
     "metadata": {},
     "output_type": "execute_result"
    }
   ],
   "source": [
    "df['AGE'].value_counts()"
   ]
  },
  {
   "cell_type": "markdown",
   "id": "b5086ead",
   "metadata": {},
   "source": [
    "Now that we have taken care of the outliers for this column in the Dataframe we can remove it to add it again once we finish the rest of the data processing."
   ]
  },
  {
   "cell_type": "code",
   "execution_count": 26,
   "id": "780a58f8",
   "metadata": {},
   "outputs": [],
   "source": [
    "df.drop('AGE', axis=1, inplace=True)"
   ]
  },
  {
   "cell_type": "code",
   "execution_count": 27,
   "id": "043b7c79",
   "metadata": {},
   "outputs": [],
   "source": [
    "for i in df.columns:\n",
    "    df[i]=df[i].replace([97,98,99], np.NaN)"
   ]
  },
  {
   "cell_type": "code",
   "execution_count": 28,
   "id": "0f81e22c",
   "metadata": {},
   "outputs": [
    {
     "data": {
      "text/plain": [
       "SEX                    0\n",
       "PATIENT_TYPE           0\n",
       "PNEUMONIA              4\n",
       "PREGNANT          210870\n",
       "DIABETES            1440\n",
       "COPD                1313\n",
       "ASTHMA              1309\n",
       "INMSUPR             1449\n",
       "HIPERTENSION        1388\n",
       "OTHER_DISEASE       2136\n",
       "CARDIOVASCULAR      1391\n",
       "OBESITY             1353\n",
       "RENAL_CHRONIC       1350\n",
       "TOBACCO             1433\n",
       "dtype: int64"
      ]
     },
     "execution_count": 28,
     "metadata": {},
     "output_type": "execute_result"
    }
   ],
   "source": [
    "df.isna().sum()"
   ]
  },
  {
   "cell_type": "code",
   "execution_count": 29,
   "id": "18437b1b",
   "metadata": {},
   "outputs": [
    {
     "data": {
      "text/plain": [
       "'I could replace the missing values using percentages OR I could do it using KNN OR I could do it direclty in the decision tree/random forest.\\nFor now let me replace them in this easier percentage way, then if I have time later I will try the other two ways.'"
      ]
     },
     "execution_count": 29,
     "metadata": {},
     "output_type": "execute_result"
    }
   ],
   "source": [
    "\"\"\"I could replace the missing values using percentages OR I could do it using KNN OR I could do it direclty in the decision tree/random forest.\n",
    "For now let me replace them in this easier percentage way, then if I have time later I will try the other two ways.\"\"\""
   ]
  },
  {
   "cell_type": "markdown",
   "id": "641895ab",
   "metadata": {},
   "source": [
    "As we saw before most missing values are in the column \"PREGNANT\".\n",
    "<br>We want to replace them but not just with the mode, but keeping the same percentage of values from the original data.\n",
    "<br>We will look at how the percentage is distributed, filtering out for now the null values."
   ]
  },
  {
   "cell_type": "code",
   "execution_count": 30,
   "id": "1835a453",
   "metadata": {},
   "outputs": [],
   "source": [
    "preg=pd.DataFrame()\n",
    "preg=df['PREGNANT']\n",
    "preg.drop(preg.loc[preg>3].index, inplace=True)"
   ]
  },
  {
   "cell_type": "code",
   "execution_count": 31,
   "id": "e3bf8769",
   "metadata": {},
   "outputs": [
    {
     "data": {
      "text/plain": [
       "2.0    0.984793\n",
       "1.0    0.015207\n",
       "Name: PREGNANT, dtype: float64"
      ]
     },
     "execution_count": 31,
     "metadata": {},
     "output_type": "execute_result"
    }
   ],
   "source": [
    "preg.value_counts(normalize=True)"
   ]
  },
  {
   "cell_type": "code",
   "execution_count": 32,
   "id": "11900818",
   "metadata": {},
   "outputs": [],
   "source": [
    "df['PREGNANT'].fillna(np.random.choice([1, 2], \n",
    "                                    p=[0.02,0.98]), inplace=True)"
   ]
  },
  {
   "cell_type": "code",
   "execution_count": 33,
   "id": "21dc3861",
   "metadata": {},
   "outputs": [
    {
     "data": {
      "text/plain": [
       "2.0    389222\n",
       "1.0      2754\n",
       "Name: PREGNANT, dtype: int64"
      ]
     },
     "execution_count": 33,
     "metadata": {},
     "output_type": "execute_result"
    }
   ],
   "source": [
    "df['PREGNANT'].value_counts()"
   ]
  },
  {
   "cell_type": "code",
   "execution_count": 34,
   "id": "9a2ebc5f",
   "metadata": {},
   "outputs": [
    {
     "data": {
      "text/plain": [
       "SEX                  0\n",
       "PATIENT_TYPE         0\n",
       "PNEUMONIA            4\n",
       "PREGNANT             0\n",
       "DIABETES          1440\n",
       "COPD              1313\n",
       "ASTHMA            1309\n",
       "INMSUPR           1449\n",
       "HIPERTENSION      1388\n",
       "OTHER_DISEASE     2136\n",
       "CARDIOVASCULAR    1391\n",
       "OBESITY           1353\n",
       "RENAL_CHRONIC     1350\n",
       "TOBACCO           1433\n",
       "dtype: int64"
      ]
     },
     "execution_count": 34,
     "metadata": {},
     "output_type": "execute_result"
    }
   ],
   "source": [
    "df.isna().sum()"
   ]
  },
  {
   "cell_type": "code",
   "execution_count": 35,
   "id": "108d54e7",
   "metadata": {},
   "outputs": [],
   "source": [
    "df=pd.concat([df, age], axis=1)"
   ]
  },
  {
   "cell_type": "code",
   "execution_count": 36,
   "id": "6b93a357",
   "metadata": {},
   "outputs": [],
   "source": [
    "df.dropna(inplace=True)"
   ]
  },
  {
   "cell_type": "code",
   "execution_count": 37,
   "id": "4d4ab564",
   "metadata": {},
   "outputs": [
    {
     "data": {
      "text/plain": [
       "SEX               0\n",
       "PATIENT_TYPE      0\n",
       "PNEUMONIA         0\n",
       "PREGNANT          0\n",
       "DIABETES          0\n",
       "COPD              0\n",
       "ASTHMA            0\n",
       "INMSUPR           0\n",
       "HIPERTENSION      0\n",
       "OTHER_DISEASE     0\n",
       "CARDIOVASCULAR    0\n",
       "OBESITY           0\n",
       "RENAL_CHRONIC     0\n",
       "TOBACCO           0\n",
       "AGE               0\n",
       "dtype: int64"
      ]
     },
     "execution_count": 37,
     "metadata": {},
     "output_type": "execute_result"
    }
   ],
   "source": [
    "df.isna().sum()"
   ]
  },
  {
   "cell_type": "code",
   "execution_count": 38,
   "id": "d62b44f8",
   "metadata": {},
   "outputs": [
    {
     "data": {
      "text/html": [
       "<div>\n",
       "<style scoped>\n",
       "    .dataframe tbody tr th:only-of-type {\n",
       "        vertical-align: middle;\n",
       "    }\n",
       "\n",
       "    .dataframe tbody tr th {\n",
       "        vertical-align: top;\n",
       "    }\n",
       "\n",
       "    .dataframe thead th {\n",
       "        text-align: right;\n",
       "    }\n",
       "</style>\n",
       "<table border=\"1\" class=\"dataframe\">\n",
       "  <thead>\n",
       "    <tr style=\"text-align: right;\">\n",
       "      <th></th>\n",
       "      <th>SEX</th>\n",
       "      <th>PATIENT_TYPE</th>\n",
       "      <th>PNEUMONIA</th>\n",
       "      <th>PREGNANT</th>\n",
       "      <th>DIABETES</th>\n",
       "      <th>COPD</th>\n",
       "      <th>ASTHMA</th>\n",
       "      <th>INMSUPR</th>\n",
       "      <th>HIPERTENSION</th>\n",
       "      <th>OTHER_DISEASE</th>\n",
       "      <th>CARDIOVASCULAR</th>\n",
       "      <th>OBESITY</th>\n",
       "      <th>RENAL_CHRONIC</th>\n",
       "      <th>TOBACCO</th>\n",
       "      <th>AGE</th>\n",
       "    </tr>\n",
       "  </thead>\n",
       "  <tbody>\n",
       "    <tr>\n",
       "      <th>0</th>\n",
       "      <td>1.0</td>\n",
       "      <td>1.0</td>\n",
       "      <td>1.0</td>\n",
       "      <td>2.0</td>\n",
       "      <td>2.0</td>\n",
       "      <td>2.0</td>\n",
       "      <td>2.0</td>\n",
       "      <td>2.0</td>\n",
       "      <td>1.0</td>\n",
       "      <td>2.0</td>\n",
       "      <td>2.0</td>\n",
       "      <td>2.0</td>\n",
       "      <td>2.0</td>\n",
       "      <td>2.0</td>\n",
       "      <td>65</td>\n",
       "    </tr>\n",
       "    <tr>\n",
       "      <th>2</th>\n",
       "      <td>2.0</td>\n",
       "      <td>2.0</td>\n",
       "      <td>2.0</td>\n",
       "      <td>2.0</td>\n",
       "      <td>1.0</td>\n",
       "      <td>2.0</td>\n",
       "      <td>2.0</td>\n",
       "      <td>2.0</td>\n",
       "      <td>2.0</td>\n",
       "      <td>2.0</td>\n",
       "      <td>2.0</td>\n",
       "      <td>2.0</td>\n",
       "      <td>2.0</td>\n",
       "      <td>2.0</td>\n",
       "      <td>55</td>\n",
       "    </tr>\n",
       "    <tr>\n",
       "      <th>4</th>\n",
       "      <td>2.0</td>\n",
       "      <td>1.0</td>\n",
       "      <td>2.0</td>\n",
       "      <td>2.0</td>\n",
       "      <td>1.0</td>\n",
       "      <td>2.0</td>\n",
       "      <td>2.0</td>\n",
       "      <td>2.0</td>\n",
       "      <td>1.0</td>\n",
       "      <td>2.0</td>\n",
       "      <td>2.0</td>\n",
       "      <td>2.0</td>\n",
       "      <td>2.0</td>\n",
       "      <td>2.0</td>\n",
       "      <td>68</td>\n",
       "    </tr>\n",
       "    <tr>\n",
       "      <th>5</th>\n",
       "      <td>1.0</td>\n",
       "      <td>2.0</td>\n",
       "      <td>1.0</td>\n",
       "      <td>2.0</td>\n",
       "      <td>2.0</td>\n",
       "      <td>2.0</td>\n",
       "      <td>2.0</td>\n",
       "      <td>2.0</td>\n",
       "      <td>2.0</td>\n",
       "      <td>2.0</td>\n",
       "      <td>2.0</td>\n",
       "      <td>2.0</td>\n",
       "      <td>2.0</td>\n",
       "      <td>2.0</td>\n",
       "      <td>40</td>\n",
       "    </tr>\n",
       "    <tr>\n",
       "      <th>6</th>\n",
       "      <td>1.0</td>\n",
       "      <td>1.0</td>\n",
       "      <td>2.0</td>\n",
       "      <td>2.0</td>\n",
       "      <td>2.0</td>\n",
       "      <td>2.0</td>\n",
       "      <td>2.0</td>\n",
       "      <td>2.0</td>\n",
       "      <td>2.0</td>\n",
       "      <td>2.0</td>\n",
       "      <td>2.0</td>\n",
       "      <td>2.0</td>\n",
       "      <td>2.0</td>\n",
       "      <td>2.0</td>\n",
       "      <td>64</td>\n",
       "    </tr>\n",
       "    <tr>\n",
       "      <th>...</th>\n",
       "      <td>...</td>\n",
       "      <td>...</td>\n",
       "      <td>...</td>\n",
       "      <td>...</td>\n",
       "      <td>...</td>\n",
       "      <td>...</td>\n",
       "      <td>...</td>\n",
       "      <td>...</td>\n",
       "      <td>...</td>\n",
       "      <td>...</td>\n",
       "      <td>...</td>\n",
       "      <td>...</td>\n",
       "      <td>...</td>\n",
       "      <td>...</td>\n",
       "      <td>...</td>\n",
       "    </tr>\n",
       "    <tr>\n",
       "      <th>1047933</th>\n",
       "      <td>1.0</td>\n",
       "      <td>2.0</td>\n",
       "      <td>2.0</td>\n",
       "      <td>2.0</td>\n",
       "      <td>1.0</td>\n",
       "      <td>2.0</td>\n",
       "      <td>2.0</td>\n",
       "      <td>1.0</td>\n",
       "      <td>1.0</td>\n",
       "      <td>2.0</td>\n",
       "      <td>2.0</td>\n",
       "      <td>2.0</td>\n",
       "      <td>2.0</td>\n",
       "      <td>2.0</td>\n",
       "      <td>77</td>\n",
       "    </tr>\n",
       "    <tr>\n",
       "      <th>1047934</th>\n",
       "      <td>1.0</td>\n",
       "      <td>1.0</td>\n",
       "      <td>2.0</td>\n",
       "      <td>2.0</td>\n",
       "      <td>1.0</td>\n",
       "      <td>2.0</td>\n",
       "      <td>2.0</td>\n",
       "      <td>2.0</td>\n",
       "      <td>2.0</td>\n",
       "      <td>2.0</td>\n",
       "      <td>2.0</td>\n",
       "      <td>2.0</td>\n",
       "      <td>2.0</td>\n",
       "      <td>2.0</td>\n",
       "      <td>55</td>\n",
       "    </tr>\n",
       "    <tr>\n",
       "      <th>1047935</th>\n",
       "      <td>2.0</td>\n",
       "      <td>1.0</td>\n",
       "      <td>2.0</td>\n",
       "      <td>2.0</td>\n",
       "      <td>2.0</td>\n",
       "      <td>2.0</td>\n",
       "      <td>2.0</td>\n",
       "      <td>2.0</td>\n",
       "      <td>1.0</td>\n",
       "      <td>2.0</td>\n",
       "      <td>2.0</td>\n",
       "      <td>2.0</td>\n",
       "      <td>2.0</td>\n",
       "      <td>2.0</td>\n",
       "      <td>70</td>\n",
       "    </tr>\n",
       "    <tr>\n",
       "      <th>1047936</th>\n",
       "      <td>2.0</td>\n",
       "      <td>1.0</td>\n",
       "      <td>2.0</td>\n",
       "      <td>2.0</td>\n",
       "      <td>2.0</td>\n",
       "      <td>2.0</td>\n",
       "      <td>2.0</td>\n",
       "      <td>2.0</td>\n",
       "      <td>2.0</td>\n",
       "      <td>2.0</td>\n",
       "      <td>2.0</td>\n",
       "      <td>2.0</td>\n",
       "      <td>2.0</td>\n",
       "      <td>2.0</td>\n",
       "      <td>32</td>\n",
       "    </tr>\n",
       "    <tr>\n",
       "      <th>1047937</th>\n",
       "      <td>1.0</td>\n",
       "      <td>1.0</td>\n",
       "      <td>2.0</td>\n",
       "      <td>2.0</td>\n",
       "      <td>2.0</td>\n",
       "      <td>2.0</td>\n",
       "      <td>2.0</td>\n",
       "      <td>2.0</td>\n",
       "      <td>2.0</td>\n",
       "      <td>2.0</td>\n",
       "      <td>2.0</td>\n",
       "      <td>2.0</td>\n",
       "      <td>2.0</td>\n",
       "      <td>2.0</td>\n",
       "      <td>30</td>\n",
       "    </tr>\n",
       "  </tbody>\n",
       "</table>\n",
       "<p>388876 rows × 15 columns</p>\n",
       "</div>"
      ],
      "text/plain": [
       "         SEX  PATIENT_TYPE  PNEUMONIA  PREGNANT  DIABETES  COPD  ASTHMA  \\\n",
       "0        1.0           1.0        1.0       2.0       2.0   2.0     2.0   \n",
       "2        2.0           2.0        2.0       2.0       1.0   2.0     2.0   \n",
       "4        2.0           1.0        2.0       2.0       1.0   2.0     2.0   \n",
       "5        1.0           2.0        1.0       2.0       2.0   2.0     2.0   \n",
       "6        1.0           1.0        2.0       2.0       2.0   2.0     2.0   \n",
       "...      ...           ...        ...       ...       ...   ...     ...   \n",
       "1047933  1.0           2.0        2.0       2.0       1.0   2.0     2.0   \n",
       "1047934  1.0           1.0        2.0       2.0       1.0   2.0     2.0   \n",
       "1047935  2.0           1.0        2.0       2.0       2.0   2.0     2.0   \n",
       "1047936  2.0           1.0        2.0       2.0       2.0   2.0     2.0   \n",
       "1047937  1.0           1.0        2.0       2.0       2.0   2.0     2.0   \n",
       "\n",
       "         INMSUPR  HIPERTENSION  OTHER_DISEASE  CARDIOVASCULAR  OBESITY  \\\n",
       "0            2.0           1.0            2.0             2.0      2.0   \n",
       "2            2.0           2.0            2.0             2.0      2.0   \n",
       "4            2.0           1.0            2.0             2.0      2.0   \n",
       "5            2.0           2.0            2.0             2.0      2.0   \n",
       "6            2.0           2.0            2.0             2.0      2.0   \n",
       "...          ...           ...            ...             ...      ...   \n",
       "1047933      1.0           1.0            2.0             2.0      2.0   \n",
       "1047934      2.0           2.0            2.0             2.0      2.0   \n",
       "1047935      2.0           1.0            2.0             2.0      2.0   \n",
       "1047936      2.0           2.0            2.0             2.0      2.0   \n",
       "1047937      2.0           2.0            2.0             2.0      2.0   \n",
       "\n",
       "         RENAL_CHRONIC  TOBACCO  AGE  \n",
       "0                  2.0      2.0   65  \n",
       "2                  2.0      2.0   55  \n",
       "4                  2.0      2.0   68  \n",
       "5                  2.0      2.0   40  \n",
       "6                  2.0      2.0   64  \n",
       "...                ...      ...  ...  \n",
       "1047933            2.0      2.0   77  \n",
       "1047934            2.0      2.0   55  \n",
       "1047935            2.0      2.0   70  \n",
       "1047936            2.0      2.0   32  \n",
       "1047937            2.0      2.0   30  \n",
       "\n",
       "[388876 rows x 15 columns]"
      ]
     },
     "execution_count": 38,
     "metadata": {},
     "output_type": "execute_result"
    }
   ],
   "source": [
    "df"
   ]
  },
  {
   "cell_type": "code",
   "execution_count": 39,
   "id": "75482b07",
   "metadata": {},
   "outputs": [],
   "source": [
    "###Correlation Matrix see if there's a better place for it."
   ]
  },
  {
   "cell_type": "code",
   "execution_count": 40,
   "id": "aeb19a60",
   "metadata": {},
   "outputs": [],
   "source": [
    "#fig, ax = plt.subplots(figsize=(15, 12))\n",
    "#sns.heatmap(df.corr(), center=0, ax=ax, annot=True, mask=np.triu(np.ones_like(df.corr(), dtype=bool)), cmap=\"Blues\");"
   ]
  },
  {
   "cell_type": "markdown",
   "id": "79472ac5",
   "metadata": {},
   "source": [
    "Now to follow the usual convention of one hot encoding I want to change the values 2 which means no into 0.\n",
    "<br>This is true for all the columns except our target, 'PATIENT_TYPE' where 1 means they returned home and 2 means they were hospitalized. I will do this separately, and then assign the column to y.\n",
    "For X I will do the necessary changes to df and then concat with 'AGE' that I dropped before.\n",
    "<br>For sex it is going to be 1 for female and 0 for male."
   ]
  },
  {
   "cell_type": "code",
   "execution_count": null,
   "id": "82f2d332",
   "metadata": {},
   "outputs": [],
   "source": []
  },
  {
   "cell_type": "code",
   "execution_count": 41,
   "id": "8b5be451",
   "metadata": {},
   "outputs": [],
   "source": [
    "#I have to redifine age again because the old onw has some null values that I dropped.\n",
    "age=df['AGE']"
   ]
  },
  {
   "cell_type": "code",
   "execution_count": 42,
   "id": "247e3843",
   "metadata": {},
   "outputs": [],
   "source": [
    "df.drop(['AGE'], axis=1, inplace=True)"
   ]
  },
  {
   "cell_type": "code",
   "execution_count": 43,
   "id": "96f22101",
   "metadata": {},
   "outputs": [],
   "source": [
    "df=df.replace(2, 0)"
   ]
  },
  {
   "cell_type": "code",
   "execution_count": 44,
   "id": "5a011f05",
   "metadata": {},
   "outputs": [
    {
     "data": {
      "text/html": [
       "<div>\n",
       "<style scoped>\n",
       "    .dataframe tbody tr th:only-of-type {\n",
       "        vertical-align: middle;\n",
       "    }\n",
       "\n",
       "    .dataframe tbody tr th {\n",
       "        vertical-align: top;\n",
       "    }\n",
       "\n",
       "    .dataframe thead th {\n",
       "        text-align: right;\n",
       "    }\n",
       "</style>\n",
       "<table border=\"1\" class=\"dataframe\">\n",
       "  <thead>\n",
       "    <tr style=\"text-align: right;\">\n",
       "      <th></th>\n",
       "      <th>SEX</th>\n",
       "      <th>PATIENT_TYPE</th>\n",
       "      <th>PNEUMONIA</th>\n",
       "      <th>PREGNANT</th>\n",
       "      <th>DIABETES</th>\n",
       "      <th>COPD</th>\n",
       "      <th>ASTHMA</th>\n",
       "      <th>INMSUPR</th>\n",
       "      <th>HIPERTENSION</th>\n",
       "      <th>OTHER_DISEASE</th>\n",
       "      <th>CARDIOVASCULAR</th>\n",
       "      <th>OBESITY</th>\n",
       "      <th>RENAL_CHRONIC</th>\n",
       "      <th>TOBACCO</th>\n",
       "    </tr>\n",
       "  </thead>\n",
       "  <tbody>\n",
       "    <tr>\n",
       "      <th>0</th>\n",
       "      <td>1.0</td>\n",
       "      <td>1.0</td>\n",
       "      <td>1.0</td>\n",
       "      <td>0.0</td>\n",
       "      <td>0.0</td>\n",
       "      <td>0.0</td>\n",
       "      <td>0.0</td>\n",
       "      <td>0.0</td>\n",
       "      <td>1.0</td>\n",
       "      <td>0.0</td>\n",
       "      <td>0.0</td>\n",
       "      <td>0.0</td>\n",
       "      <td>0.0</td>\n",
       "      <td>0.0</td>\n",
       "    </tr>\n",
       "    <tr>\n",
       "      <th>2</th>\n",
       "      <td>0.0</td>\n",
       "      <td>0.0</td>\n",
       "      <td>0.0</td>\n",
       "      <td>0.0</td>\n",
       "      <td>1.0</td>\n",
       "      <td>0.0</td>\n",
       "      <td>0.0</td>\n",
       "      <td>0.0</td>\n",
       "      <td>0.0</td>\n",
       "      <td>0.0</td>\n",
       "      <td>0.0</td>\n",
       "      <td>0.0</td>\n",
       "      <td>0.0</td>\n",
       "      <td>0.0</td>\n",
       "    </tr>\n",
       "    <tr>\n",
       "      <th>4</th>\n",
       "      <td>0.0</td>\n",
       "      <td>1.0</td>\n",
       "      <td>0.0</td>\n",
       "      <td>0.0</td>\n",
       "      <td>1.0</td>\n",
       "      <td>0.0</td>\n",
       "      <td>0.0</td>\n",
       "      <td>0.0</td>\n",
       "      <td>1.0</td>\n",
       "      <td>0.0</td>\n",
       "      <td>0.0</td>\n",
       "      <td>0.0</td>\n",
       "      <td>0.0</td>\n",
       "      <td>0.0</td>\n",
       "    </tr>\n",
       "    <tr>\n",
       "      <th>5</th>\n",
       "      <td>1.0</td>\n",
       "      <td>0.0</td>\n",
       "      <td>1.0</td>\n",
       "      <td>0.0</td>\n",
       "      <td>0.0</td>\n",
       "      <td>0.0</td>\n",
       "      <td>0.0</td>\n",
       "      <td>0.0</td>\n",
       "      <td>0.0</td>\n",
       "      <td>0.0</td>\n",
       "      <td>0.0</td>\n",
       "      <td>0.0</td>\n",
       "      <td>0.0</td>\n",
       "      <td>0.0</td>\n",
       "    </tr>\n",
       "    <tr>\n",
       "      <th>6</th>\n",
       "      <td>1.0</td>\n",
       "      <td>1.0</td>\n",
       "      <td>0.0</td>\n",
       "      <td>0.0</td>\n",
       "      <td>0.0</td>\n",
       "      <td>0.0</td>\n",
       "      <td>0.0</td>\n",
       "      <td>0.0</td>\n",
       "      <td>0.0</td>\n",
       "      <td>0.0</td>\n",
       "      <td>0.0</td>\n",
       "      <td>0.0</td>\n",
       "      <td>0.0</td>\n",
       "      <td>0.0</td>\n",
       "    </tr>\n",
       "    <tr>\n",
       "      <th>...</th>\n",
       "      <td>...</td>\n",
       "      <td>...</td>\n",
       "      <td>...</td>\n",
       "      <td>...</td>\n",
       "      <td>...</td>\n",
       "      <td>...</td>\n",
       "      <td>...</td>\n",
       "      <td>...</td>\n",
       "      <td>...</td>\n",
       "      <td>...</td>\n",
       "      <td>...</td>\n",
       "      <td>...</td>\n",
       "      <td>...</td>\n",
       "      <td>...</td>\n",
       "    </tr>\n",
       "    <tr>\n",
       "      <th>1047933</th>\n",
       "      <td>1.0</td>\n",
       "      <td>0.0</td>\n",
       "      <td>0.0</td>\n",
       "      <td>0.0</td>\n",
       "      <td>1.0</td>\n",
       "      <td>0.0</td>\n",
       "      <td>0.0</td>\n",
       "      <td>1.0</td>\n",
       "      <td>1.0</td>\n",
       "      <td>0.0</td>\n",
       "      <td>0.0</td>\n",
       "      <td>0.0</td>\n",
       "      <td>0.0</td>\n",
       "      <td>0.0</td>\n",
       "    </tr>\n",
       "    <tr>\n",
       "      <th>1047934</th>\n",
       "      <td>1.0</td>\n",
       "      <td>1.0</td>\n",
       "      <td>0.0</td>\n",
       "      <td>0.0</td>\n",
       "      <td>1.0</td>\n",
       "      <td>0.0</td>\n",
       "      <td>0.0</td>\n",
       "      <td>0.0</td>\n",
       "      <td>0.0</td>\n",
       "      <td>0.0</td>\n",
       "      <td>0.0</td>\n",
       "      <td>0.0</td>\n",
       "      <td>0.0</td>\n",
       "      <td>0.0</td>\n",
       "    </tr>\n",
       "    <tr>\n",
       "      <th>1047935</th>\n",
       "      <td>0.0</td>\n",
       "      <td>1.0</td>\n",
       "      <td>0.0</td>\n",
       "      <td>0.0</td>\n",
       "      <td>0.0</td>\n",
       "      <td>0.0</td>\n",
       "      <td>0.0</td>\n",
       "      <td>0.0</td>\n",
       "      <td>1.0</td>\n",
       "      <td>0.0</td>\n",
       "      <td>0.0</td>\n",
       "      <td>0.0</td>\n",
       "      <td>0.0</td>\n",
       "      <td>0.0</td>\n",
       "    </tr>\n",
       "    <tr>\n",
       "      <th>1047936</th>\n",
       "      <td>0.0</td>\n",
       "      <td>1.0</td>\n",
       "      <td>0.0</td>\n",
       "      <td>0.0</td>\n",
       "      <td>0.0</td>\n",
       "      <td>0.0</td>\n",
       "      <td>0.0</td>\n",
       "      <td>0.0</td>\n",
       "      <td>0.0</td>\n",
       "      <td>0.0</td>\n",
       "      <td>0.0</td>\n",
       "      <td>0.0</td>\n",
       "      <td>0.0</td>\n",
       "      <td>0.0</td>\n",
       "    </tr>\n",
       "    <tr>\n",
       "      <th>1047937</th>\n",
       "      <td>1.0</td>\n",
       "      <td>1.0</td>\n",
       "      <td>0.0</td>\n",
       "      <td>0.0</td>\n",
       "      <td>0.0</td>\n",
       "      <td>0.0</td>\n",
       "      <td>0.0</td>\n",
       "      <td>0.0</td>\n",
       "      <td>0.0</td>\n",
       "      <td>0.0</td>\n",
       "      <td>0.0</td>\n",
       "      <td>0.0</td>\n",
       "      <td>0.0</td>\n",
       "      <td>0.0</td>\n",
       "    </tr>\n",
       "  </tbody>\n",
       "</table>\n",
       "<p>388876 rows × 14 columns</p>\n",
       "</div>"
      ],
      "text/plain": [
       "         SEX  PATIENT_TYPE  PNEUMONIA  PREGNANT  DIABETES  COPD  ASTHMA  \\\n",
       "0        1.0           1.0        1.0       0.0       0.0   0.0     0.0   \n",
       "2        0.0           0.0        0.0       0.0       1.0   0.0     0.0   \n",
       "4        0.0           1.0        0.0       0.0       1.0   0.0     0.0   \n",
       "5        1.0           0.0        1.0       0.0       0.0   0.0     0.0   \n",
       "6        1.0           1.0        0.0       0.0       0.0   0.0     0.0   \n",
       "...      ...           ...        ...       ...       ...   ...     ...   \n",
       "1047933  1.0           0.0        0.0       0.0       1.0   0.0     0.0   \n",
       "1047934  1.0           1.0        0.0       0.0       1.0   0.0     0.0   \n",
       "1047935  0.0           1.0        0.0       0.0       0.0   0.0     0.0   \n",
       "1047936  0.0           1.0        0.0       0.0       0.0   0.0     0.0   \n",
       "1047937  1.0           1.0        0.0       0.0       0.0   0.0     0.0   \n",
       "\n",
       "         INMSUPR  HIPERTENSION  OTHER_DISEASE  CARDIOVASCULAR  OBESITY  \\\n",
       "0            0.0           1.0            0.0             0.0      0.0   \n",
       "2            0.0           0.0            0.0             0.0      0.0   \n",
       "4            0.0           1.0            0.0             0.0      0.0   \n",
       "5            0.0           0.0            0.0             0.0      0.0   \n",
       "6            0.0           0.0            0.0             0.0      0.0   \n",
       "...          ...           ...            ...             ...      ...   \n",
       "1047933      1.0           1.0            0.0             0.0      0.0   \n",
       "1047934      0.0           0.0            0.0             0.0      0.0   \n",
       "1047935      0.0           1.0            0.0             0.0      0.0   \n",
       "1047936      0.0           0.0            0.0             0.0      0.0   \n",
       "1047937      0.0           0.0            0.0             0.0      0.0   \n",
       "\n",
       "         RENAL_CHRONIC  TOBACCO  \n",
       "0                  0.0      0.0  \n",
       "2                  0.0      0.0  \n",
       "4                  0.0      0.0  \n",
       "5                  0.0      0.0  \n",
       "6                  0.0      0.0  \n",
       "...                ...      ...  \n",
       "1047933            0.0      0.0  \n",
       "1047934            0.0      0.0  \n",
       "1047935            0.0      0.0  \n",
       "1047936            0.0      0.0  \n",
       "1047937            0.0      0.0  \n",
       "\n",
       "[388876 rows x 14 columns]"
      ]
     },
     "execution_count": 44,
     "metadata": {},
     "output_type": "execute_result"
    }
   ],
   "source": [
    "df"
   ]
  },
  {
   "cell_type": "code",
   "execution_count": 45,
   "id": "0d0781a5",
   "metadata": {},
   "outputs": [],
   "source": [
    "df=pd.concat([df,age], axis=1)"
   ]
  },
  {
   "cell_type": "code",
   "execution_count": 46,
   "id": "83084858",
   "metadata": {},
   "outputs": [
    {
     "data": {
      "text/html": [
       "<div>\n",
       "<style scoped>\n",
       "    .dataframe tbody tr th:only-of-type {\n",
       "        vertical-align: middle;\n",
       "    }\n",
       "\n",
       "    .dataframe tbody tr th {\n",
       "        vertical-align: top;\n",
       "    }\n",
       "\n",
       "    .dataframe thead th {\n",
       "        text-align: right;\n",
       "    }\n",
       "</style>\n",
       "<table border=\"1\" class=\"dataframe\">\n",
       "  <thead>\n",
       "    <tr style=\"text-align: right;\">\n",
       "      <th></th>\n",
       "      <th>SEX</th>\n",
       "      <th>PATIENT_TYPE</th>\n",
       "      <th>PNEUMONIA</th>\n",
       "      <th>PREGNANT</th>\n",
       "      <th>DIABETES</th>\n",
       "      <th>COPD</th>\n",
       "      <th>ASTHMA</th>\n",
       "      <th>INMSUPR</th>\n",
       "      <th>HIPERTENSION</th>\n",
       "      <th>OTHER_DISEASE</th>\n",
       "      <th>CARDIOVASCULAR</th>\n",
       "      <th>OBESITY</th>\n",
       "      <th>RENAL_CHRONIC</th>\n",
       "      <th>TOBACCO</th>\n",
       "      <th>AGE</th>\n",
       "    </tr>\n",
       "  </thead>\n",
       "  <tbody>\n",
       "    <tr>\n",
       "      <th>0</th>\n",
       "      <td>1.0</td>\n",
       "      <td>1.0</td>\n",
       "      <td>1.0</td>\n",
       "      <td>0.0</td>\n",
       "      <td>0.0</td>\n",
       "      <td>0.0</td>\n",
       "      <td>0.0</td>\n",
       "      <td>0.0</td>\n",
       "      <td>1.0</td>\n",
       "      <td>0.0</td>\n",
       "      <td>0.0</td>\n",
       "      <td>0.0</td>\n",
       "      <td>0.0</td>\n",
       "      <td>0.0</td>\n",
       "      <td>65</td>\n",
       "    </tr>\n",
       "    <tr>\n",
       "      <th>2</th>\n",
       "      <td>0.0</td>\n",
       "      <td>0.0</td>\n",
       "      <td>0.0</td>\n",
       "      <td>0.0</td>\n",
       "      <td>1.0</td>\n",
       "      <td>0.0</td>\n",
       "      <td>0.0</td>\n",
       "      <td>0.0</td>\n",
       "      <td>0.0</td>\n",
       "      <td>0.0</td>\n",
       "      <td>0.0</td>\n",
       "      <td>0.0</td>\n",
       "      <td>0.0</td>\n",
       "      <td>0.0</td>\n",
       "      <td>55</td>\n",
       "    </tr>\n",
       "    <tr>\n",
       "      <th>4</th>\n",
       "      <td>0.0</td>\n",
       "      <td>1.0</td>\n",
       "      <td>0.0</td>\n",
       "      <td>0.0</td>\n",
       "      <td>1.0</td>\n",
       "      <td>0.0</td>\n",
       "      <td>0.0</td>\n",
       "      <td>0.0</td>\n",
       "      <td>1.0</td>\n",
       "      <td>0.0</td>\n",
       "      <td>0.0</td>\n",
       "      <td>0.0</td>\n",
       "      <td>0.0</td>\n",
       "      <td>0.0</td>\n",
       "      <td>68</td>\n",
       "    </tr>\n",
       "    <tr>\n",
       "      <th>5</th>\n",
       "      <td>1.0</td>\n",
       "      <td>0.0</td>\n",
       "      <td>1.0</td>\n",
       "      <td>0.0</td>\n",
       "      <td>0.0</td>\n",
       "      <td>0.0</td>\n",
       "      <td>0.0</td>\n",
       "      <td>0.0</td>\n",
       "      <td>0.0</td>\n",
       "      <td>0.0</td>\n",
       "      <td>0.0</td>\n",
       "      <td>0.0</td>\n",
       "      <td>0.0</td>\n",
       "      <td>0.0</td>\n",
       "      <td>40</td>\n",
       "    </tr>\n",
       "    <tr>\n",
       "      <th>6</th>\n",
       "      <td>1.0</td>\n",
       "      <td>1.0</td>\n",
       "      <td>0.0</td>\n",
       "      <td>0.0</td>\n",
       "      <td>0.0</td>\n",
       "      <td>0.0</td>\n",
       "      <td>0.0</td>\n",
       "      <td>0.0</td>\n",
       "      <td>0.0</td>\n",
       "      <td>0.0</td>\n",
       "      <td>0.0</td>\n",
       "      <td>0.0</td>\n",
       "      <td>0.0</td>\n",
       "      <td>0.0</td>\n",
       "      <td>64</td>\n",
       "    </tr>\n",
       "    <tr>\n",
       "      <th>...</th>\n",
       "      <td>...</td>\n",
       "      <td>...</td>\n",
       "      <td>...</td>\n",
       "      <td>...</td>\n",
       "      <td>...</td>\n",
       "      <td>...</td>\n",
       "      <td>...</td>\n",
       "      <td>...</td>\n",
       "      <td>...</td>\n",
       "      <td>...</td>\n",
       "      <td>...</td>\n",
       "      <td>...</td>\n",
       "      <td>...</td>\n",
       "      <td>...</td>\n",
       "      <td>...</td>\n",
       "    </tr>\n",
       "    <tr>\n",
       "      <th>1047933</th>\n",
       "      <td>1.0</td>\n",
       "      <td>0.0</td>\n",
       "      <td>0.0</td>\n",
       "      <td>0.0</td>\n",
       "      <td>1.0</td>\n",
       "      <td>0.0</td>\n",
       "      <td>0.0</td>\n",
       "      <td>1.0</td>\n",
       "      <td>1.0</td>\n",
       "      <td>0.0</td>\n",
       "      <td>0.0</td>\n",
       "      <td>0.0</td>\n",
       "      <td>0.0</td>\n",
       "      <td>0.0</td>\n",
       "      <td>77</td>\n",
       "    </tr>\n",
       "    <tr>\n",
       "      <th>1047934</th>\n",
       "      <td>1.0</td>\n",
       "      <td>1.0</td>\n",
       "      <td>0.0</td>\n",
       "      <td>0.0</td>\n",
       "      <td>1.0</td>\n",
       "      <td>0.0</td>\n",
       "      <td>0.0</td>\n",
       "      <td>0.0</td>\n",
       "      <td>0.0</td>\n",
       "      <td>0.0</td>\n",
       "      <td>0.0</td>\n",
       "      <td>0.0</td>\n",
       "      <td>0.0</td>\n",
       "      <td>0.0</td>\n",
       "      <td>55</td>\n",
       "    </tr>\n",
       "    <tr>\n",
       "      <th>1047935</th>\n",
       "      <td>0.0</td>\n",
       "      <td>1.0</td>\n",
       "      <td>0.0</td>\n",
       "      <td>0.0</td>\n",
       "      <td>0.0</td>\n",
       "      <td>0.0</td>\n",
       "      <td>0.0</td>\n",
       "      <td>0.0</td>\n",
       "      <td>1.0</td>\n",
       "      <td>0.0</td>\n",
       "      <td>0.0</td>\n",
       "      <td>0.0</td>\n",
       "      <td>0.0</td>\n",
       "      <td>0.0</td>\n",
       "      <td>70</td>\n",
       "    </tr>\n",
       "    <tr>\n",
       "      <th>1047936</th>\n",
       "      <td>0.0</td>\n",
       "      <td>1.0</td>\n",
       "      <td>0.0</td>\n",
       "      <td>0.0</td>\n",
       "      <td>0.0</td>\n",
       "      <td>0.0</td>\n",
       "      <td>0.0</td>\n",
       "      <td>0.0</td>\n",
       "      <td>0.0</td>\n",
       "      <td>0.0</td>\n",
       "      <td>0.0</td>\n",
       "      <td>0.0</td>\n",
       "      <td>0.0</td>\n",
       "      <td>0.0</td>\n",
       "      <td>32</td>\n",
       "    </tr>\n",
       "    <tr>\n",
       "      <th>1047937</th>\n",
       "      <td>1.0</td>\n",
       "      <td>1.0</td>\n",
       "      <td>0.0</td>\n",
       "      <td>0.0</td>\n",
       "      <td>0.0</td>\n",
       "      <td>0.0</td>\n",
       "      <td>0.0</td>\n",
       "      <td>0.0</td>\n",
       "      <td>0.0</td>\n",
       "      <td>0.0</td>\n",
       "      <td>0.0</td>\n",
       "      <td>0.0</td>\n",
       "      <td>0.0</td>\n",
       "      <td>0.0</td>\n",
       "      <td>30</td>\n",
       "    </tr>\n",
       "  </tbody>\n",
       "</table>\n",
       "<p>388876 rows × 15 columns</p>\n",
       "</div>"
      ],
      "text/plain": [
       "         SEX  PATIENT_TYPE  PNEUMONIA  PREGNANT  DIABETES  COPD  ASTHMA  \\\n",
       "0        1.0           1.0        1.0       0.0       0.0   0.0     0.0   \n",
       "2        0.0           0.0        0.0       0.0       1.0   0.0     0.0   \n",
       "4        0.0           1.0        0.0       0.0       1.0   0.0     0.0   \n",
       "5        1.0           0.0        1.0       0.0       0.0   0.0     0.0   \n",
       "6        1.0           1.0        0.0       0.0       0.0   0.0     0.0   \n",
       "...      ...           ...        ...       ...       ...   ...     ...   \n",
       "1047933  1.0           0.0        0.0       0.0       1.0   0.0     0.0   \n",
       "1047934  1.0           1.0        0.0       0.0       1.0   0.0     0.0   \n",
       "1047935  0.0           1.0        0.0       0.0       0.0   0.0     0.0   \n",
       "1047936  0.0           1.0        0.0       0.0       0.0   0.0     0.0   \n",
       "1047937  1.0           1.0        0.0       0.0       0.0   0.0     0.0   \n",
       "\n",
       "         INMSUPR  HIPERTENSION  OTHER_DISEASE  CARDIOVASCULAR  OBESITY  \\\n",
       "0            0.0           1.0            0.0             0.0      0.0   \n",
       "2            0.0           0.0            0.0             0.0      0.0   \n",
       "4            0.0           1.0            0.0             0.0      0.0   \n",
       "5            0.0           0.0            0.0             0.0      0.0   \n",
       "6            0.0           0.0            0.0             0.0      0.0   \n",
       "...          ...           ...            ...             ...      ...   \n",
       "1047933      1.0           1.0            0.0             0.0      0.0   \n",
       "1047934      0.0           0.0            0.0             0.0      0.0   \n",
       "1047935      0.0           1.0            0.0             0.0      0.0   \n",
       "1047936      0.0           0.0            0.0             0.0      0.0   \n",
       "1047937      0.0           0.0            0.0             0.0      0.0   \n",
       "\n",
       "         RENAL_CHRONIC  TOBACCO  AGE  \n",
       "0                  0.0      0.0   65  \n",
       "2                  0.0      0.0   55  \n",
       "4                  0.0      0.0   68  \n",
       "5                  0.0      0.0   40  \n",
       "6                  0.0      0.0   64  \n",
       "...                ...      ...  ...  \n",
       "1047933            0.0      0.0   77  \n",
       "1047934            0.0      0.0   55  \n",
       "1047935            0.0      0.0   70  \n",
       "1047936            0.0      0.0   32  \n",
       "1047937            0.0      0.0   30  \n",
       "\n",
       "[388876 rows x 15 columns]"
      ]
     },
     "execution_count": 46,
     "metadata": {},
     "output_type": "execute_result"
    }
   ],
   "source": [
    "df"
   ]
  },
  {
   "cell_type": "code",
   "execution_count": 47,
   "id": "85fc6fb6",
   "metadata": {},
   "outputs": [
    {
     "data": {
      "image/png": "[encoded data removed]",
      "text/plain": [
       "<Figure size 1080x864 with 2 Axes>"
      ]
     },
     "metadata": {
      "needs_background": "light"
     },
     "output_type": "display_data"
    }
   ],
   "source": [
    "fig, ax = plt.subplots(figsize=(15, 12))\n",
    "sns.heatmap(df.corr(), center=0, ax=ax, annot=True, mask=np.triu(np.ones_like(df.corr(), dtype=bool)), cmap=\"Blues\");"
   ]
  },
  {
   "cell_type": "code",
   "execution_count": 48,
   "id": "721d3cda",
   "metadata": {},
   "outputs": [],
   "source": [
    "y=df['PATIENT_TYPE']"
   ]
  },
  {
   "cell_type": "code",
   "execution_count": 49,
   "id": "07d81289",
   "metadata": {},
   "outputs": [
    {
     "data": {
      "text/plain": [
       "1.0    279107\n",
       "0.0    109769\n",
       "Name: PATIENT_TYPE, dtype: int64"
      ]
     },
     "execution_count": 49,
     "metadata": {},
     "output_type": "execute_result"
    }
   ],
   "source": [
    "y.value_counts()"
   ]
  },
  {
   "cell_type": "markdown",
   "id": "2e385168",
   "metadata": {},
   "source": [
    "Changing to zero and 1 for the target:"
   ]
  },
  {
   "cell_type": "code",
   "execution_count": 50,
   "id": "e3645a53",
   "metadata": {},
   "outputs": [],
   "source": [
    "X=df"
   ]
  },
  {
   "cell_type": "code",
   "execution_count": 51,
   "id": "6cdbf010",
   "metadata": {},
   "outputs": [
    {
     "data": {
      "text/html": [
       "<div>\n",
       "<style scoped>\n",
       "    .dataframe tbody tr th:only-of-type {\n",
       "        vertical-align: middle;\n",
       "    }\n",
       "\n",
       "    .dataframe tbody tr th {\n",
       "        vertical-align: top;\n",
       "    }\n",
       "\n",
       "    .dataframe thead th {\n",
       "        text-align: right;\n",
       "    }\n",
       "</style>\n",
       "<table border=\"1\" class=\"dataframe\">\n",
       "  <thead>\n",
       "    <tr style=\"text-align: right;\">\n",
       "      <th></th>\n",
       "      <th>SEX</th>\n",
       "      <th>PATIENT_TYPE</th>\n",
       "      <th>PNEUMONIA</th>\n",
       "      <th>PREGNANT</th>\n",
       "      <th>DIABETES</th>\n",
       "      <th>COPD</th>\n",
       "      <th>ASTHMA</th>\n",
       "      <th>INMSUPR</th>\n",
       "      <th>HIPERTENSION</th>\n",
       "      <th>OTHER_DISEASE</th>\n",
       "      <th>CARDIOVASCULAR</th>\n",
       "      <th>OBESITY</th>\n",
       "      <th>RENAL_CHRONIC</th>\n",
       "      <th>TOBACCO</th>\n",
       "      <th>AGE</th>\n",
       "    </tr>\n",
       "  </thead>\n",
       "  <tbody>\n",
       "    <tr>\n",
       "      <th>0</th>\n",
       "      <td>1.0</td>\n",
       "      <td>1.0</td>\n",
       "      <td>1.0</td>\n",
       "      <td>0.0</td>\n",
       "      <td>0.0</td>\n",
       "      <td>0.0</td>\n",
       "      <td>0.0</td>\n",
       "      <td>0.0</td>\n",
       "      <td>1.0</td>\n",
       "      <td>0.0</td>\n",
       "      <td>0.0</td>\n",
       "      <td>0.0</td>\n",
       "      <td>0.0</td>\n",
       "      <td>0.0</td>\n",
       "      <td>65</td>\n",
       "    </tr>\n",
       "    <tr>\n",
       "      <th>2</th>\n",
       "      <td>0.0</td>\n",
       "      <td>0.0</td>\n",
       "      <td>0.0</td>\n",
       "      <td>0.0</td>\n",
       "      <td>1.0</td>\n",
       "      <td>0.0</td>\n",
       "      <td>0.0</td>\n",
       "      <td>0.0</td>\n",
       "      <td>0.0</td>\n",
       "      <td>0.0</td>\n",
       "      <td>0.0</td>\n",
       "      <td>0.0</td>\n",
       "      <td>0.0</td>\n",
       "      <td>0.0</td>\n",
       "      <td>55</td>\n",
       "    </tr>\n",
       "    <tr>\n",
       "      <th>4</th>\n",
       "      <td>0.0</td>\n",
       "      <td>1.0</td>\n",
       "      <td>0.0</td>\n",
       "      <td>0.0</td>\n",
       "      <td>1.0</td>\n",
       "      <td>0.0</td>\n",
       "      <td>0.0</td>\n",
       "      <td>0.0</td>\n",
       "      <td>1.0</td>\n",
       "      <td>0.0</td>\n",
       "      <td>0.0</td>\n",
       "      <td>0.0</td>\n",
       "      <td>0.0</td>\n",
       "      <td>0.0</td>\n",
       "      <td>68</td>\n",
       "    </tr>\n",
       "    <tr>\n",
       "      <th>5</th>\n",
       "      <td>1.0</td>\n",
       "      <td>0.0</td>\n",
       "      <td>1.0</td>\n",
       "      <td>0.0</td>\n",
       "      <td>0.0</td>\n",
       "      <td>0.0</td>\n",
       "      <td>0.0</td>\n",
       "      <td>0.0</td>\n",
       "      <td>0.0</td>\n",
       "      <td>0.0</td>\n",
       "      <td>0.0</td>\n",
       "      <td>0.0</td>\n",
       "      <td>0.0</td>\n",
       "      <td>0.0</td>\n",
       "      <td>40</td>\n",
       "    </tr>\n",
       "    <tr>\n",
       "      <th>6</th>\n",
       "      <td>1.0</td>\n",
       "      <td>1.0</td>\n",
       "      <td>0.0</td>\n",
       "      <td>0.0</td>\n",
       "      <td>0.0</td>\n",
       "      <td>0.0</td>\n",
       "      <td>0.0</td>\n",
       "      <td>0.0</td>\n",
       "      <td>0.0</td>\n",
       "      <td>0.0</td>\n",
       "      <td>0.0</td>\n",
       "      <td>0.0</td>\n",
       "      <td>0.0</td>\n",
       "      <td>0.0</td>\n",
       "      <td>64</td>\n",
       "    </tr>\n",
       "    <tr>\n",
       "      <th>...</th>\n",
       "      <td>...</td>\n",
       "      <td>...</td>\n",
       "      <td>...</td>\n",
       "      <td>...</td>\n",
       "      <td>...</td>\n",
       "      <td>...</td>\n",
       "      <td>...</td>\n",
       "      <td>...</td>\n",
       "      <td>...</td>\n",
       "      <td>...</td>\n",
       "      <td>...</td>\n",
       "      <td>...</td>\n",
       "      <td>...</td>\n",
       "      <td>...</td>\n",
       "      <td>...</td>\n",
       "    </tr>\n",
       "    <tr>\n",
       "      <th>1047933</th>\n",
       "      <td>1.0</td>\n",
       "      <td>0.0</td>\n",
       "      <td>0.0</td>\n",
       "      <td>0.0</td>\n",
       "      <td>1.0</td>\n",
       "      <td>0.0</td>\n",
       "      <td>0.0</td>\n",
       "      <td>1.0</td>\n",
       "      <td>1.0</td>\n",
       "      <td>0.0</td>\n",
       "      <td>0.0</td>\n",
       "      <td>0.0</td>\n",
       "      <td>0.0</td>\n",
       "      <td>0.0</td>\n",
       "      <td>77</td>\n",
       "    </tr>\n",
       "    <tr>\n",
       "      <th>1047934</th>\n",
       "      <td>1.0</td>\n",
       "      <td>1.0</td>\n",
       "      <td>0.0</td>\n",
       "      <td>0.0</td>\n",
       "      <td>1.0</td>\n",
       "      <td>0.0</td>\n",
       "      <td>0.0</td>\n",
       "      <td>0.0</td>\n",
       "      <td>0.0</td>\n",
       "      <td>0.0</td>\n",
       "      <td>0.0</td>\n",
       "      <td>0.0</td>\n",
       "      <td>0.0</td>\n",
       "      <td>0.0</td>\n",
       "      <td>55</td>\n",
       "    </tr>\n",
       "    <tr>\n",
       "      <th>1047935</th>\n",
       "      <td>0.0</td>\n",
       "      <td>1.0</td>\n",
       "      <td>0.0</td>\n",
       "      <td>0.0</td>\n",
       "      <td>0.0</td>\n",
       "      <td>0.0</td>\n",
       "      <td>0.0</td>\n",
       "      <td>0.0</td>\n",
       "      <td>1.0</td>\n",
       "      <td>0.0</td>\n",
       "      <td>0.0</td>\n",
       "      <td>0.0</td>\n",
       "      <td>0.0</td>\n",
       "      <td>0.0</td>\n",
       "      <td>70</td>\n",
       "    </tr>\n",
       "    <tr>\n",
       "      <th>1047936</th>\n",
       "      <td>0.0</td>\n",
       "      <td>1.0</td>\n",
       "      <td>0.0</td>\n",
       "      <td>0.0</td>\n",
       "      <td>0.0</td>\n",
       "      <td>0.0</td>\n",
       "      <td>0.0</td>\n",
       "      <td>0.0</td>\n",
       "      <td>0.0</td>\n",
       "      <td>0.0</td>\n",
       "      <td>0.0</td>\n",
       "      <td>0.0</td>\n",
       "      <td>0.0</td>\n",
       "      <td>0.0</td>\n",
       "      <td>32</td>\n",
       "    </tr>\n",
       "    <tr>\n",
       "      <th>1047937</th>\n",
       "      <td>1.0</td>\n",
       "      <td>1.0</td>\n",
       "      <td>0.0</td>\n",
       "      <td>0.0</td>\n",
       "      <td>0.0</td>\n",
       "      <td>0.0</td>\n",
       "      <td>0.0</td>\n",
       "      <td>0.0</td>\n",
       "      <td>0.0</td>\n",
       "      <td>0.0</td>\n",
       "      <td>0.0</td>\n",
       "      <td>0.0</td>\n",
       "      <td>0.0</td>\n",
       "      <td>0.0</td>\n",
       "      <td>30</td>\n",
       "    </tr>\n",
       "  </tbody>\n",
       "</table>\n",
       "<p>388876 rows × 15 columns</p>\n",
       "</div>"
      ],
      "text/plain": [
       "         SEX  PATIENT_TYPE  PNEUMONIA  PREGNANT  DIABETES  COPD  ASTHMA  \\\n",
       "0        1.0           1.0        1.0       0.0       0.0   0.0     0.0   \n",
       "2        0.0           0.0        0.0       0.0       1.0   0.0     0.0   \n",
       "4        0.0           1.0        0.0       0.0       1.0   0.0     0.0   \n",
       "5        1.0           0.0        1.0       0.0       0.0   0.0     0.0   \n",
       "6        1.0           1.0        0.0       0.0       0.0   0.0     0.0   \n",
       "...      ...           ...        ...       ...       ...   ...     ...   \n",
       "1047933  1.0           0.0        0.0       0.0       1.0   0.0     0.0   \n",
       "1047934  1.0           1.0        0.0       0.0       1.0   0.0     0.0   \n",
       "1047935  0.0           1.0        0.0       0.0       0.0   0.0     0.0   \n",
       "1047936  0.0           1.0        0.0       0.0       0.0   0.0     0.0   \n",
       "1047937  1.0           1.0        0.0       0.0       0.0   0.0     0.0   \n",
       "\n",
       "         INMSUPR  HIPERTENSION  OTHER_DISEASE  CARDIOVASCULAR  OBESITY  \\\n",
       "0            0.0           1.0            0.0             0.0      0.0   \n",
       "2            0.0           0.0            0.0             0.0      0.0   \n",
       "4            0.0           1.0            0.0             0.0      0.0   \n",
       "5            0.0           0.0            0.0             0.0      0.0   \n",
       "6            0.0           0.0            0.0             0.0      0.0   \n",
       "...          ...           ...            ...             ...      ...   \n",
       "1047933      1.0           1.0            0.0             0.0      0.0   \n",
       "1047934      0.0           0.0            0.0             0.0      0.0   \n",
       "1047935      0.0           1.0            0.0             0.0      0.0   \n",
       "1047936      0.0           0.0            0.0             0.0      0.0   \n",
       "1047937      0.0           0.0            0.0             0.0      0.0   \n",
       "\n",
       "         RENAL_CHRONIC  TOBACCO  AGE  \n",
       "0                  0.0      0.0   65  \n",
       "2                  0.0      0.0   55  \n",
       "4                  0.0      0.0   68  \n",
       "5                  0.0      0.0   40  \n",
       "6                  0.0      0.0   64  \n",
       "...                ...      ...  ...  \n",
       "1047933            0.0      0.0   77  \n",
       "1047934            0.0      0.0   55  \n",
       "1047935            0.0      0.0   70  \n",
       "1047936            0.0      0.0   32  \n",
       "1047937            0.0      0.0   30  \n",
       "\n",
       "[388876 rows x 15 columns]"
      ]
     },
     "execution_count": 51,
     "metadata": {},
     "output_type": "execute_result"
    }
   ],
   "source": [
    "X"
   ]
  },
  {
   "cell_type": "code",
   "execution_count": 52,
   "id": "a6ef31ec",
   "metadata": {},
   "outputs": [
    {
     "data": {
      "text/html": [
       "<div>\n",
       "<style scoped>\n",
       "    .dataframe tbody tr th:only-of-type {\n",
       "        vertical-align: middle;\n",
       "    }\n",
       "\n",
       "    .dataframe tbody tr th {\n",
       "        vertical-align: top;\n",
       "    }\n",
       "\n",
       "    .dataframe thead th {\n",
       "        text-align: right;\n",
       "    }\n",
       "</style>\n",
       "<table border=\"1\" class=\"dataframe\">\n",
       "  <thead>\n",
       "    <tr style=\"text-align: right;\">\n",
       "      <th></th>\n",
       "      <th>SEX</th>\n",
       "      <th>PATIENT_TYPE</th>\n",
       "      <th>PNEUMONIA</th>\n",
       "      <th>PREGNANT</th>\n",
       "      <th>DIABETES</th>\n",
       "      <th>COPD</th>\n",
       "      <th>ASTHMA</th>\n",
       "      <th>INMSUPR</th>\n",
       "      <th>HIPERTENSION</th>\n",
       "      <th>OTHER_DISEASE</th>\n",
       "      <th>CARDIOVASCULAR</th>\n",
       "      <th>OBESITY</th>\n",
       "      <th>RENAL_CHRONIC</th>\n",
       "      <th>TOBACCO</th>\n",
       "      <th>AGE</th>\n",
       "    </tr>\n",
       "  </thead>\n",
       "  <tbody>\n",
       "    <tr>\n",
       "      <th>0</th>\n",
       "      <td>1.0</td>\n",
       "      <td>1.0</td>\n",
       "      <td>1.0</td>\n",
       "      <td>0.0</td>\n",
       "      <td>0.0</td>\n",
       "      <td>0.0</td>\n",
       "      <td>0.0</td>\n",
       "      <td>0.0</td>\n",
       "      <td>1.0</td>\n",
       "      <td>0.0</td>\n",
       "      <td>0.0</td>\n",
       "      <td>0.0</td>\n",
       "      <td>0.0</td>\n",
       "      <td>0.0</td>\n",
       "      <td>65</td>\n",
       "    </tr>\n",
       "    <tr>\n",
       "      <th>2</th>\n",
       "      <td>0.0</td>\n",
       "      <td>0.0</td>\n",
       "      <td>0.0</td>\n",
       "      <td>0.0</td>\n",
       "      <td>1.0</td>\n",
       "      <td>0.0</td>\n",
       "      <td>0.0</td>\n",
       "      <td>0.0</td>\n",
       "      <td>0.0</td>\n",
       "      <td>0.0</td>\n",
       "      <td>0.0</td>\n",
       "      <td>0.0</td>\n",
       "      <td>0.0</td>\n",
       "      <td>0.0</td>\n",
       "      <td>55</td>\n",
       "    </tr>\n",
       "    <tr>\n",
       "      <th>4</th>\n",
       "      <td>0.0</td>\n",
       "      <td>1.0</td>\n",
       "      <td>0.0</td>\n",
       "      <td>0.0</td>\n",
       "      <td>1.0</td>\n",
       "      <td>0.0</td>\n",
       "      <td>0.0</td>\n",
       "      <td>0.0</td>\n",
       "      <td>1.0</td>\n",
       "      <td>0.0</td>\n",
       "      <td>0.0</td>\n",
       "      <td>0.0</td>\n",
       "      <td>0.0</td>\n",
       "      <td>0.0</td>\n",
       "      <td>68</td>\n",
       "    </tr>\n",
       "    <tr>\n",
       "      <th>5</th>\n",
       "      <td>1.0</td>\n",
       "      <td>0.0</td>\n",
       "      <td>1.0</td>\n",
       "      <td>0.0</td>\n",
       "      <td>0.0</td>\n",
       "      <td>0.0</td>\n",
       "      <td>0.0</td>\n",
       "      <td>0.0</td>\n",
       "      <td>0.0</td>\n",
       "      <td>0.0</td>\n",
       "      <td>0.0</td>\n",
       "      <td>0.0</td>\n",
       "      <td>0.0</td>\n",
       "      <td>0.0</td>\n",
       "      <td>40</td>\n",
       "    </tr>\n",
       "    <tr>\n",
       "      <th>6</th>\n",
       "      <td>1.0</td>\n",
       "      <td>1.0</td>\n",
       "      <td>0.0</td>\n",
       "      <td>0.0</td>\n",
       "      <td>0.0</td>\n",
       "      <td>0.0</td>\n",
       "      <td>0.0</td>\n",
       "      <td>0.0</td>\n",
       "      <td>0.0</td>\n",
       "      <td>0.0</td>\n",
       "      <td>0.0</td>\n",
       "      <td>0.0</td>\n",
       "      <td>0.0</td>\n",
       "      <td>0.0</td>\n",
       "      <td>64</td>\n",
       "    </tr>\n",
       "    <tr>\n",
       "      <th>...</th>\n",
       "      <td>...</td>\n",
       "      <td>...</td>\n",
       "      <td>...</td>\n",
       "      <td>...</td>\n",
       "      <td>...</td>\n",
       "      <td>...</td>\n",
       "      <td>...</td>\n",
       "      <td>...</td>\n",
       "      <td>...</td>\n",
       "      <td>...</td>\n",
       "      <td>...</td>\n",
       "      <td>...</td>\n",
       "      <td>...</td>\n",
       "      <td>...</td>\n",
       "      <td>...</td>\n",
       "    </tr>\n",
       "    <tr>\n",
       "      <th>1047933</th>\n",
       "      <td>1.0</td>\n",
       "      <td>0.0</td>\n",
       "      <td>0.0</td>\n",
       "      <td>0.0</td>\n",
       "      <td>1.0</td>\n",
       "      <td>0.0</td>\n",
       "      <td>0.0</td>\n",
       "      <td>1.0</td>\n",
       "      <td>1.0</td>\n",
       "      <td>0.0</td>\n",
       "      <td>0.0</td>\n",
       "      <td>0.0</td>\n",
       "      <td>0.0</td>\n",
       "      <td>0.0</td>\n",
       "      <td>77</td>\n",
       "    </tr>\n",
       "    <tr>\n",
       "      <th>1047934</th>\n",
       "      <td>1.0</td>\n",
       "      <td>1.0</td>\n",
       "      <td>0.0</td>\n",
       "      <td>0.0</td>\n",
       "      <td>1.0</td>\n",
       "      <td>0.0</td>\n",
       "      <td>0.0</td>\n",
       "      <td>0.0</td>\n",
       "      <td>0.0</td>\n",
       "      <td>0.0</td>\n",
       "      <td>0.0</td>\n",
       "      <td>0.0</td>\n",
       "      <td>0.0</td>\n",
       "      <td>0.0</td>\n",
       "      <td>55</td>\n",
       "    </tr>\n",
       "    <tr>\n",
       "      <th>1047935</th>\n",
       "      <td>0.0</td>\n",
       "      <td>1.0</td>\n",
       "      <td>0.0</td>\n",
       "      <td>0.0</td>\n",
       "      <td>0.0</td>\n",
       "      <td>0.0</td>\n",
       "      <td>0.0</td>\n",
       "      <td>0.0</td>\n",
       "      <td>1.0</td>\n",
       "      <td>0.0</td>\n",
       "      <td>0.0</td>\n",
       "      <td>0.0</td>\n",
       "      <td>0.0</td>\n",
       "      <td>0.0</td>\n",
       "      <td>70</td>\n",
       "    </tr>\n",
       "    <tr>\n",
       "      <th>1047936</th>\n",
       "      <td>0.0</td>\n",
       "      <td>1.0</td>\n",
       "      <td>0.0</td>\n",
       "      <td>0.0</td>\n",
       "      <td>0.0</td>\n",
       "      <td>0.0</td>\n",
       "      <td>0.0</td>\n",
       "      <td>0.0</td>\n",
       "      <td>0.0</td>\n",
       "      <td>0.0</td>\n",
       "      <td>0.0</td>\n",
       "      <td>0.0</td>\n",
       "      <td>0.0</td>\n",
       "      <td>0.0</td>\n",
       "      <td>32</td>\n",
       "    </tr>\n",
       "    <tr>\n",
       "      <th>1047937</th>\n",
       "      <td>1.0</td>\n",
       "      <td>1.0</td>\n",
       "      <td>0.0</td>\n",
       "      <td>0.0</td>\n",
       "      <td>0.0</td>\n",
       "      <td>0.0</td>\n",
       "      <td>0.0</td>\n",
       "      <td>0.0</td>\n",
       "      <td>0.0</td>\n",
       "      <td>0.0</td>\n",
       "      <td>0.0</td>\n",
       "      <td>0.0</td>\n",
       "      <td>0.0</td>\n",
       "      <td>0.0</td>\n",
       "      <td>30</td>\n",
       "    </tr>\n",
       "  </tbody>\n",
       "</table>\n",
       "<p>388876 rows × 15 columns</p>\n",
       "</div>"
      ],
      "text/plain": [
       "         SEX  PATIENT_TYPE  PNEUMONIA  PREGNANT  DIABETES  COPD  ASTHMA  \\\n",
       "0        1.0           1.0        1.0       0.0       0.0   0.0     0.0   \n",
       "2        0.0           0.0        0.0       0.0       1.0   0.0     0.0   \n",
       "4        0.0           1.0        0.0       0.0       1.0   0.0     0.0   \n",
       "5        1.0           0.0        1.0       0.0       0.0   0.0     0.0   \n",
       "6        1.0           1.0        0.0       0.0       0.0   0.0     0.0   \n",
       "...      ...           ...        ...       ...       ...   ...     ...   \n",
       "1047933  1.0           0.0        0.0       0.0       1.0   0.0     0.0   \n",
       "1047934  1.0           1.0        0.0       0.0       1.0   0.0     0.0   \n",
       "1047935  0.0           1.0        0.0       0.0       0.0   0.0     0.0   \n",
       "1047936  0.0           1.0        0.0       0.0       0.0   0.0     0.0   \n",
       "1047937  1.0           1.0        0.0       0.0       0.0   0.0     0.0   \n",
       "\n",
       "         INMSUPR  HIPERTENSION  OTHER_DISEASE  CARDIOVASCULAR  OBESITY  \\\n",
       "0            0.0           1.0            0.0             0.0      0.0   \n",
       "2            0.0           0.0            0.0             0.0      0.0   \n",
       "4            0.0           1.0            0.0             0.0      0.0   \n",
       "5            0.0           0.0            0.0             0.0      0.0   \n",
       "6            0.0           0.0            0.0             0.0      0.0   \n",
       "...          ...           ...            ...             ...      ...   \n",
       "1047933      1.0           1.0            0.0             0.0      0.0   \n",
       "1047934      0.0           0.0            0.0             0.0      0.0   \n",
       "1047935      0.0           1.0            0.0             0.0      0.0   \n",
       "1047936      0.0           0.0            0.0             0.0      0.0   \n",
       "1047937      0.0           0.0            0.0             0.0      0.0   \n",
       "\n",
       "         RENAL_CHRONIC  TOBACCO  AGE  \n",
       "0                  0.0      0.0   65  \n",
       "2                  0.0      0.0   55  \n",
       "4                  0.0      0.0   68  \n",
       "5                  0.0      0.0   40  \n",
       "6                  0.0      0.0   64  \n",
       "...                ...      ...  ...  \n",
       "1047933            0.0      0.0   77  \n",
       "1047934            0.0      0.0   55  \n",
       "1047935            0.0      0.0   70  \n",
       "1047936            0.0      0.0   32  \n",
       "1047937            0.0      0.0   30  \n",
       "\n",
       "[388876 rows x 15 columns]"
      ]
     },
     "execution_count": 52,
     "metadata": {},
     "output_type": "execute_result"
    }
   ],
   "source": [
    "df"
   ]
  },
  {
   "cell_type": "code",
   "execution_count": 53,
   "id": "3301f15a",
   "metadata": {},
   "outputs": [],
   "source": [
    "df.drop(['PATIENT_TYPE'], axis=1, inplace=True)\n",
    "X=df"
   ]
  },
  {
   "cell_type": "code",
   "execution_count": 54,
   "id": "9c03fd4c",
   "metadata": {},
   "outputs": [
    {
     "data": {
      "text/html": [
       "<div>\n",
       "<style scoped>\n",
       "    .dataframe tbody tr th:only-of-type {\n",
       "        vertical-align: middle;\n",
       "    }\n",
       "\n",
       "    .dataframe tbody tr th {\n",
       "        vertical-align: top;\n",
       "    }\n",
       "\n",
       "    .dataframe thead th {\n",
       "        text-align: right;\n",
       "    }\n",
       "</style>\n",
       "<table border=\"1\" class=\"dataframe\">\n",
       "  <thead>\n",
       "    <tr style=\"text-align: right;\">\n",
       "      <th></th>\n",
       "      <th>SEX</th>\n",
       "      <th>PNEUMONIA</th>\n",
       "      <th>PREGNANT</th>\n",
       "      <th>DIABETES</th>\n",
       "      <th>COPD</th>\n",
       "      <th>ASTHMA</th>\n",
       "      <th>INMSUPR</th>\n",
       "      <th>HIPERTENSION</th>\n",
       "      <th>OTHER_DISEASE</th>\n",
       "      <th>CARDIOVASCULAR</th>\n",
       "      <th>OBESITY</th>\n",
       "      <th>RENAL_CHRONIC</th>\n",
       "      <th>TOBACCO</th>\n",
       "      <th>AGE</th>\n",
       "    </tr>\n",
       "  </thead>\n",
       "  <tbody>\n",
       "    <tr>\n",
       "      <th>0</th>\n",
       "      <td>1.0</td>\n",
       "      <td>1.0</td>\n",
       "      <td>0.0</td>\n",
       "      <td>0.0</td>\n",
       "      <td>0.0</td>\n",
       "      <td>0.0</td>\n",
       "      <td>0.0</td>\n",
       "      <td>1.0</td>\n",
       "      <td>0.0</td>\n",
       "      <td>0.0</td>\n",
       "      <td>0.0</td>\n",
       "      <td>0.0</td>\n",
       "      <td>0.0</td>\n",
       "      <td>65</td>\n",
       "    </tr>\n",
       "    <tr>\n",
       "      <th>2</th>\n",
       "      <td>0.0</td>\n",
       "      <td>0.0</td>\n",
       "      <td>0.0</td>\n",
       "      <td>1.0</td>\n",
       "      <td>0.0</td>\n",
       "      <td>0.0</td>\n",
       "      <td>0.0</td>\n",
       "      <td>0.0</td>\n",
       "      <td>0.0</td>\n",
       "      <td>0.0</td>\n",
       "      <td>0.0</td>\n",
       "      <td>0.0</td>\n",
       "      <td>0.0</td>\n",
       "      <td>55</td>\n",
       "    </tr>\n",
       "    <tr>\n",
       "      <th>4</th>\n",
       "      <td>0.0</td>\n",
       "      <td>0.0</td>\n",
       "      <td>0.0</td>\n",
       "      <td>1.0</td>\n",
       "      <td>0.0</td>\n",
       "      <td>0.0</td>\n",
       "      <td>0.0</td>\n",
       "      <td>1.0</td>\n",
       "      <td>0.0</td>\n",
       "      <td>0.0</td>\n",
       "      <td>0.0</td>\n",
       "      <td>0.0</td>\n",
       "      <td>0.0</td>\n",
       "      <td>68</td>\n",
       "    </tr>\n",
       "    <tr>\n",
       "      <th>5</th>\n",
       "      <td>1.0</td>\n",
       "      <td>1.0</td>\n",
       "      <td>0.0</td>\n",
       "      <td>0.0</td>\n",
       "      <td>0.0</td>\n",
       "      <td>0.0</td>\n",
       "      <td>0.0</td>\n",
       "      <td>0.0</td>\n",
       "      <td>0.0</td>\n",
       "      <td>0.0</td>\n",
       "      <td>0.0</td>\n",
       "      <td>0.0</td>\n",
       "      <td>0.0</td>\n",
       "      <td>40</td>\n",
       "    </tr>\n",
       "    <tr>\n",
       "      <th>6</th>\n",
       "      <td>1.0</td>\n",
       "      <td>0.0</td>\n",
       "      <td>0.0</td>\n",
       "      <td>0.0</td>\n",
       "      <td>0.0</td>\n",
       "      <td>0.0</td>\n",
       "      <td>0.0</td>\n",
       "      <td>0.0</td>\n",
       "      <td>0.0</td>\n",
       "      <td>0.0</td>\n",
       "      <td>0.0</td>\n",
       "      <td>0.0</td>\n",
       "      <td>0.0</td>\n",
       "      <td>64</td>\n",
       "    </tr>\n",
       "    <tr>\n",
       "      <th>...</th>\n",
       "      <td>...</td>\n",
       "      <td>...</td>\n",
       "      <td>...</td>\n",
       "      <td>...</td>\n",
       "      <td>...</td>\n",
       "      <td>...</td>\n",
       "      <td>...</td>\n",
       "      <td>...</td>\n",
       "      <td>...</td>\n",
       "      <td>...</td>\n",
       "      <td>...</td>\n",
       "      <td>...</td>\n",
       "      <td>...</td>\n",
       "      <td>...</td>\n",
       "    </tr>\n",
       "    <tr>\n",
       "      <th>1047933</th>\n",
       "      <td>1.0</td>\n",
       "      <td>0.0</td>\n",
       "      <td>0.0</td>\n",
       "      <td>1.0</td>\n",
       "      <td>0.0</td>\n",
       "      <td>0.0</td>\n",
       "      <td>1.0</td>\n",
       "      <td>1.0</td>\n",
       "      <td>0.0</td>\n",
       "      <td>0.0</td>\n",
       "      <td>0.0</td>\n",
       "      <td>0.0</td>\n",
       "      <td>0.0</td>\n",
       "      <td>77</td>\n",
       "    </tr>\n",
       "    <tr>\n",
       "      <th>1047934</th>\n",
       "      <td>1.0</td>\n",
       "      <td>0.0</td>\n",
       "      <td>0.0</td>\n",
       "      <td>1.0</td>\n",
       "      <td>0.0</td>\n",
       "      <td>0.0</td>\n",
       "      <td>0.0</td>\n",
       "      <td>0.0</td>\n",
       "      <td>0.0</td>\n",
       "      <td>0.0</td>\n",
       "      <td>0.0</td>\n",
       "      <td>0.0</td>\n",
       "      <td>0.0</td>\n",
       "      <td>55</td>\n",
       "    </tr>\n",
       "    <tr>\n",
       "      <th>1047935</th>\n",
       "      <td>0.0</td>\n",
       "      <td>0.0</td>\n",
       "      <td>0.0</td>\n",
       "      <td>0.0</td>\n",
       "      <td>0.0</td>\n",
       "      <td>0.0</td>\n",
       "      <td>0.0</td>\n",
       "      <td>1.0</td>\n",
       "      <td>0.0</td>\n",
       "      <td>0.0</td>\n",
       "      <td>0.0</td>\n",
       "      <td>0.0</td>\n",
       "      <td>0.0</td>\n",
       "      <td>70</td>\n",
       "    </tr>\n",
       "    <tr>\n",
       "      <th>1047936</th>\n",
       "      <td>0.0</td>\n",
       "      <td>0.0</td>\n",
       "      <td>0.0</td>\n",
       "      <td>0.0</td>\n",
       "      <td>0.0</td>\n",
       "      <td>0.0</td>\n",
       "      <td>0.0</td>\n",
       "      <td>0.0</td>\n",
       "      <td>0.0</td>\n",
       "      <td>0.0</td>\n",
       "      <td>0.0</td>\n",
       "      <td>0.0</td>\n",
       "      <td>0.0</td>\n",
       "      <td>32</td>\n",
       "    </tr>\n",
       "    <tr>\n",
       "      <th>1047937</th>\n",
       "      <td>1.0</td>\n",
       "      <td>0.0</td>\n",
       "      <td>0.0</td>\n",
       "      <td>0.0</td>\n",
       "      <td>0.0</td>\n",
       "      <td>0.0</td>\n",
       "      <td>0.0</td>\n",
       "      <td>0.0</td>\n",
       "      <td>0.0</td>\n",
       "      <td>0.0</td>\n",
       "      <td>0.0</td>\n",
       "      <td>0.0</td>\n",
       "      <td>0.0</td>\n",
       "      <td>30</td>\n",
       "    </tr>\n",
       "  </tbody>\n",
       "</table>\n",
       "<p>388876 rows × 14 columns</p>\n",
       "</div>"
      ],
      "text/plain": [
       "         SEX  PNEUMONIA  PREGNANT  DIABETES  COPD  ASTHMA  INMSUPR  \\\n",
       "0        1.0        1.0       0.0       0.0   0.0     0.0      0.0   \n",
       "2        0.0        0.0       0.0       1.0   0.0     0.0      0.0   \n",
       "4        0.0        0.0       0.0       1.0   0.0     0.0      0.0   \n",
       "5        1.0        1.0       0.0       0.0   0.0     0.0      0.0   \n",
       "6        1.0        0.0       0.0       0.0   0.0     0.0      0.0   \n",
       "...      ...        ...       ...       ...   ...     ...      ...   \n",
       "1047933  1.0        0.0       0.0       1.0   0.0     0.0      1.0   \n",
       "1047934  1.0        0.0       0.0       1.0   0.0     0.0      0.0   \n",
       "1047935  0.0        0.0       0.0       0.0   0.0     0.0      0.0   \n",
       "1047936  0.0        0.0       0.0       0.0   0.0     0.0      0.0   \n",
       "1047937  1.0        0.0       0.0       0.0   0.0     0.0      0.0   \n",
       "\n",
       "         HIPERTENSION  OTHER_DISEASE  CARDIOVASCULAR  OBESITY  RENAL_CHRONIC  \\\n",
       "0                 1.0            0.0             0.0      0.0            0.0   \n",
       "2                 0.0            0.0             0.0      0.0            0.0   \n",
       "4                 1.0            0.0             0.0      0.0            0.0   \n",
       "5                 0.0            0.0             0.0      0.0            0.0   \n",
       "6                 0.0            0.0             0.0      0.0            0.0   \n",
       "...               ...            ...             ...      ...            ...   \n",
       "1047933           1.0            0.0             0.0      0.0            0.0   \n",
       "1047934           0.0            0.0             0.0      0.0            0.0   \n",
       "1047935           1.0            0.0             0.0      0.0            0.0   \n",
       "1047936           0.0            0.0             0.0      0.0            0.0   \n",
       "1047937           0.0            0.0             0.0      0.0            0.0   \n",
       "\n",
       "         TOBACCO  AGE  \n",
       "0            0.0   65  \n",
       "2            0.0   55  \n",
       "4            0.0   68  \n",
       "5            0.0   40  \n",
       "6            0.0   64  \n",
       "...          ...  ...  \n",
       "1047933      0.0   77  \n",
       "1047934      0.0   55  \n",
       "1047935      0.0   70  \n",
       "1047936      0.0   32  \n",
       "1047937      0.0   30  \n",
       "\n",
       "[388876 rows x 14 columns]"
      ]
     },
     "execution_count": 54,
     "metadata": {},
     "output_type": "execute_result"
    }
   ],
   "source": [
    "X"
   ]
  },
  {
   "cell_type": "markdown",
   "id": "032eec0b",
   "metadata": {},
   "source": [
    "At this point I took care of the missing values and I don't need to do one hot encoding.\n",
    "<br>I have my X and y, I can divide in train and test and start trying some models.\n",
    "<br>But if I want to use KNN first (and I do) I have to scale first, specifically age needs to be scaled."
   ]
  },
  {
   "cell_type": "code",
   "execution_count": 55,
   "id": "8c4dd619",
   "metadata": {},
   "outputs": [
    {
     "data": {
      "text/plain": [
       "'Another thing I could try later to improve the model is instead of scaling the age to divide it into bins. Like 10 years for each bin and one hot encode that.'"
      ]
     },
     "execution_count": 55,
     "metadata": {},
     "output_type": "execute_result"
    }
   ],
   "source": [
    "\"\"\"Another thing I could try later to improve the model is instead of scaling the age to divide it into bins. Like 10 years for each bin and one hot encode that.\"\"\""
   ]
  },
  {
   "cell_type": "markdown",
   "id": "a8efc17f",
   "metadata": {},
   "source": [
    "### Splitting into train and test set"
   ]
  },
  {
   "cell_type": "code",
   "execution_count": 56,
   "id": "af931cf9",
   "metadata": {},
   "outputs": [],
   "source": [
    "# Split the data\n",
    "X_train, X_test, y_train, y_test = train_test_split(X,y,random_state=42)"
   ]
  },
  {
   "cell_type": "code",
   "execution_count": 57,
   "id": "d4e54b3f",
   "metadata": {},
   "outputs": [
    {
     "data": {
      "text/html": [
       "<div>\n",
       "<style scoped>\n",
       "    .dataframe tbody tr th:only-of-type {\n",
       "        vertical-align: middle;\n",
       "    }\n",
       "\n",
       "    .dataframe tbody tr th {\n",
       "        vertical-align: top;\n",
       "    }\n",
       "\n",
       "    .dataframe thead th {\n",
       "        text-align: right;\n",
       "    }\n",
       "</style>\n",
       "<table border=\"1\" class=\"dataframe\">\n",
       "  <thead>\n",
       "    <tr style=\"text-align: right;\">\n",
       "      <th></th>\n",
       "      <th>SEX</th>\n",
       "      <th>PNEUMONIA</th>\n",
       "      <th>PREGNANT</th>\n",
       "      <th>DIABETES</th>\n",
       "      <th>COPD</th>\n",
       "      <th>ASTHMA</th>\n",
       "      <th>INMSUPR</th>\n",
       "      <th>HIPERTENSION</th>\n",
       "      <th>OTHER_DISEASE</th>\n",
       "      <th>CARDIOVASCULAR</th>\n",
       "      <th>OBESITY</th>\n",
       "      <th>RENAL_CHRONIC</th>\n",
       "      <th>TOBACCO</th>\n",
       "      <th>AGE</th>\n",
       "    </tr>\n",
       "  </thead>\n",
       "  <tbody>\n",
       "    <tr>\n",
       "      <th>0</th>\n",
       "      <td>1.0</td>\n",
       "      <td>1.0</td>\n",
       "      <td>0.0</td>\n",
       "      <td>0.0</td>\n",
       "      <td>0.0</td>\n",
       "      <td>0.0</td>\n",
       "      <td>0.0</td>\n",
       "      <td>0.0</td>\n",
       "      <td>0.0</td>\n",
       "      <td>0.0</td>\n",
       "      <td>0.0</td>\n",
       "      <td>0.0</td>\n",
       "      <td>0.0</td>\n",
       "      <td>0.619048</td>\n",
       "    </tr>\n",
       "    <tr>\n",
       "      <th>1</th>\n",
       "      <td>0.0</td>\n",
       "      <td>0.0</td>\n",
       "      <td>0.0</td>\n",
       "      <td>0.0</td>\n",
       "      <td>0.0</td>\n",
       "      <td>0.0</td>\n",
       "      <td>0.0</td>\n",
       "      <td>1.0</td>\n",
       "      <td>0.0</td>\n",
       "      <td>0.0</td>\n",
       "      <td>1.0</td>\n",
       "      <td>0.0</td>\n",
       "      <td>0.0</td>\n",
       "      <td>0.638095</td>\n",
       "    </tr>\n",
       "    <tr>\n",
       "      <th>2</th>\n",
       "      <td>1.0</td>\n",
       "      <td>0.0</td>\n",
       "      <td>0.0</td>\n",
       "      <td>0.0</td>\n",
       "      <td>0.0</td>\n",
       "      <td>0.0</td>\n",
       "      <td>0.0</td>\n",
       "      <td>0.0</td>\n",
       "      <td>0.0</td>\n",
       "      <td>0.0</td>\n",
       "      <td>0.0</td>\n",
       "      <td>0.0</td>\n",
       "      <td>0.0</td>\n",
       "      <td>0.333333</td>\n",
       "    </tr>\n",
       "    <tr>\n",
       "      <th>3</th>\n",
       "      <td>0.0</td>\n",
       "      <td>1.0</td>\n",
       "      <td>0.0</td>\n",
       "      <td>0.0</td>\n",
       "      <td>0.0</td>\n",
       "      <td>0.0</td>\n",
       "      <td>0.0</td>\n",
       "      <td>0.0</td>\n",
       "      <td>0.0</td>\n",
       "      <td>0.0</td>\n",
       "      <td>0.0</td>\n",
       "      <td>0.0</td>\n",
       "      <td>0.0</td>\n",
       "      <td>0.666667</td>\n",
       "    </tr>\n",
       "    <tr>\n",
       "      <th>4</th>\n",
       "      <td>0.0</td>\n",
       "      <td>0.0</td>\n",
       "      <td>0.0</td>\n",
       "      <td>1.0</td>\n",
       "      <td>0.0</td>\n",
       "      <td>0.0</td>\n",
       "      <td>0.0</td>\n",
       "      <td>1.0</td>\n",
       "      <td>0.0</td>\n",
       "      <td>0.0</td>\n",
       "      <td>0.0</td>\n",
       "      <td>0.0</td>\n",
       "      <td>0.0</td>\n",
       "      <td>0.638095</td>\n",
       "    </tr>\n",
       "  </tbody>\n",
       "</table>\n",
       "</div>"
      ],
      "text/plain": [
       "   SEX  PNEUMONIA  PREGNANT  DIABETES  COPD  ASTHMA  INMSUPR  HIPERTENSION  \\\n",
       "0  1.0        1.0       0.0       0.0   0.0     0.0      0.0           0.0   \n",
       "1  0.0        0.0       0.0       0.0   0.0     0.0      0.0           1.0   \n",
       "2  1.0        0.0       0.0       0.0   0.0     0.0      0.0           0.0   \n",
       "3  0.0        1.0       0.0       0.0   0.0     0.0      0.0           0.0   \n",
       "4  0.0        0.0       0.0       1.0   0.0     0.0      0.0           1.0   \n",
       "\n",
       "   OTHER_DISEASE  CARDIOVASCULAR  OBESITY  RENAL_CHRONIC  TOBACCO       AGE  \n",
       "0            0.0             0.0      0.0            0.0      0.0  0.619048  \n",
       "1            0.0             0.0      1.0            0.0      0.0  0.638095  \n",
       "2            0.0             0.0      0.0            0.0      0.0  0.333333  \n",
       "3            0.0             0.0      0.0            0.0      0.0  0.666667  \n",
       "4            0.0             0.0      0.0            0.0      0.0  0.638095  "
      ]
     },
     "execution_count": 57,
     "metadata": {},
     "output_type": "execute_result"
    }
   ],
   "source": [
    "# Instantiate StandardScaler\n",
    "scaler = MinMaxScaler()\n",
    "# Transform the training and test sets\n",
    "scaled_data_train = scaler.fit_transform(X_train)\n",
    "X_test = scaler.transform(X_test)\n",
    "\n",
    "# Convert into a DataFrame\n",
    "X_train = pd.DataFrame(scaled_data_train, columns=X.columns)\n",
    "X_train.head()"
   ]
  },
  {
   "cell_type": "markdown",
   "id": "aecf642d",
   "metadata": {},
   "source": [
    "### Preliminary model with Logistic Regression:"
   ]
  },
  {
   "cell_type": "markdown",
   "id": "242f0a63",
   "metadata": {},
   "source": [
    "A simple model that we can try is Logistic Regression.<br> I works similarly to Linear Regression but it can make predictions on categorical data, splitting continuous intervals into beams."
   ]
  },
  {
   "cell_type": "code",
   "execution_count": 58,
   "id": "5d5fd28d",
   "metadata": {},
   "outputs": [
    {
     "data": {
      "text/plain": [
       "LogisticRegression(max_iter=500, random_state=19)"
      ]
     },
     "execution_count": 58,
     "metadata": {},
     "output_type": "execute_result"
    }
   ],
   "source": [
    "logreg = LogisticRegression(max_iter=500, random_state=19)\n",
    "logreg.fit(X_train,y_train)"
   ]
  },
  {
   "cell_type": "code",
   "execution_count": 59,
   "id": "b50432a8",
   "metadata": {},
   "outputs": [],
   "source": [
    "pred_train_log = logreg.predict(X_train)"
   ]
  },
  {
   "cell_type": "markdown",
   "id": "6b3348ec",
   "metadata": {},
   "source": [
    "We will take a chance here to define a few functions that will help us preview our results."
   ]
  },
  {
   "cell_type": "code",
   "execution_count": 60,
   "id": "6b5bb7bb",
   "metadata": {},
   "outputs": [],
   "source": [
    "# defined so that I can use it for test or train\n",
    "def print_metrics(labels, preds):\n",
    "    print(\"Precision Score: {}\".format(precision_score(labels, preds)))\n",
    "    print(\"Recall Score: {}\".format(recall_score(labels, preds)))\n",
    "    print(\"Accuracy Score: {}\".format(accuracy_score(labels, preds)))\n",
    "    print(\"F1 Score: {}\".format(f1_score(labels, preds)))"
   ]
  },
  {
   "cell_type": "code",
   "execution_count": 61,
   "id": "02791d72",
   "metadata": {},
   "outputs": [],
   "source": [
    "def plot_matrix(labels, preds, cmap=None):\n",
    "    cm = confusion_matrix(labels, preds)\n",
    "    # To Normalize\n",
    "    cmn = cm.astype('float') / cm.sum(axis=1)[:, np.newaxis]\n",
    "    fig, ax = plt.subplots(figsize=(6,5))\n",
    "    sns.heatmap(cmn, annot=True, fmt='.2f', cmap=\"OrRd\")\n",
    "    plt.ylabel('Actual')\n",
    "    plt.xlabel('Predicted')\n",
    "    plt.show(block=False)"
   ]
  },
  {
   "cell_type": "code",
   "execution_count": 62,
   "id": "ea042776",
   "metadata": {},
   "outputs": [],
   "source": [
    "def model_results(model):\n",
    "    roc_auc_test=[]\n",
    "    with plt.style.context('seaborn-talk'):\n",
    "        print(f'{Fore.BLUE}TRAIN{Style.RESET_ALL}')\n",
    "        y_preds_train=model.predict(X_train)\n",
    "        print(classification_report(y_train, y_preds_train))\n",
    "        print(\"Accuracy Score Train: {}\".format(accuracy_score(y_train, y_preds_train)))\n",
    "        print_metrics(y_train, y_preds_train)\n",
    "        yhat_tr = model.predict_proba(X_train)\n",
    "        yhat_tr = yhat_tr[:, 1]\n",
    "        fpr, tpr, thresholds = roc_curve(y_train, yhat_tr)\n",
    "        roc_score_train = roc_auc_score(y_train, yhat_tr)\n",
    "#        auc_train=auc(fpr, tpr)\n",
    "        print(f\"Train Roc_Auc Score: {roc_score_train :.2%}\")\n",
    "#        print(f\"Train AUC Score: {auc_train :.2%}\")\n",
    "        print('Confusion Matrix Train:')\n",
    "        plot_matrix(y_train, y_preds_train)\n",
    "        print(f'{Fore.GREEN}TEST{Style.RESET_ALL}')\n",
    "        y_preds_test=model.predict(X_test)\n",
    "        print_metrics(y_test, y_preds_test)\n",
    "        print(classification_report(y_test, y_preds_test))\n",
    "        print(\"Accuracy Score Test: {}\".format(accuracy_score(y_test, y_preds_test)))\n",
    "        yhat_ts = model.predict_proba(X_test)\n",
    "        yhat_ts = yhat_ts[:, 1]\n",
    "        fpr, tpr, thresholds = roc_curve(y_test, yhat_ts)\n",
    "        roc_score_test = roc_auc_score(y_test, yhat_ts)\n",
    "        roc_auc_test.append(roc_score_test)\n",
    "        print(f\"Test Roc_Auc Score: {roc_score_test :.2%}\")\n",
    "#        print(f\"Test AUC Score: {auc_test :.2%}\")\n",
    "        print('Confusion Matrix Test:')\n",
    "        plot_matrix(y_test, y_preds_test)\n",
    "        plt.show() "
   ]
  },
  {
   "cell_type": "code",
   "execution_count": 63,
   "id": "b2900958",
   "metadata": {},
   "outputs": [],
   "source": [
    "def plot_roc(models):\n",
    "    colors=['blue', 'green', 'red', 'purple','orange', 'm', 'c', 'cyan', 'lime' ]\n",
    "    lines=['dashed', 'dashdot', 'dotted', 'dashed', 'dashdot', 'dotted', 'dashed', 'dashdot', 'dotted']\n",
    "    plt.figure(figsize=(10,8))\n",
    "    for i, j, k in zip(models, lines, colors):\n",
    "        yhat = i.predict_proba(X_test)\n",
    "        yhat = yhat[:, 1]\n",
    "        fpr, tpr, thresholds = roc_curve(y_test, yhat)\n",
    "        plt.plot(fpr, tpr, label=i, alpha=0.6, linestyle=j, color=k, linewidth=1.5)\n",
    "    plt.plot([0, 1], [0, 1], color='pink', label='No Skill', linewidth=1, linestyle='--')\n",
    "    plt.xlabel('False Positive Rate')\n",
    "    plt.ylabel('True Positive Rate')\n",
    "    plt.title('ROC Curve Test') \n",
    "    plt.legend(loc='lower right')\n",
    "    plt.show()\n"
   ]
  },
  {
   "cell_type": "code",
   "execution_count": 64,
   "id": "d156923f",
   "metadata": {},
   "outputs": [],
   "source": [
    "def compare_roc(model):\n",
    "    plt.figure(figsize=(10,8))\n",
    "    yhat_train = model.predict_proba(X_train)\n",
    "    yhat_train = yhat_train[:, 1]\n",
    "    fpr, tpr, thresholds = roc_curve(y_train, yhat_train)\n",
    "    plt.plot(fpr, tpr, label='train', alpha=0.6, color='green', linewidth=2)\n",
    "    yhat_test = model.predict_proba(X_test)\n",
    "    yhat_test = yhat_test[:, 1]\n",
    "    fpr, tpr, thresholds = roc_curve(y_test, yhat_test)\n",
    "    plt.plot(fpr, tpr, label='test', alpha=0.6, linestyle='dotted', color='b', linewidth=2)\n",
    "    yhat_log = logreg.predict_proba(X_test)\n",
    "    yhat_log = yhat_log[:, 1]\n",
    "    fpr, tpr, thresholds = roc_curve(y_test, yhat_log)\n",
    "    plt.plot(fpr, tpr, label='LogisticRegression', alpha=0.6,linestyle='--', color='r', linewidth=2)\n",
    "    plt.plot([0, 1], [0, 1], color='pink', linestyle='--', label='No Skill')\n",
    "    plt.xlabel('False Positive Rate')\n",
    "    plt.ylabel('True Positive Rate')\n",
    "    plt.title('Receiver operating characteristic (ROC) Curve')\n",
    "    plt.legend(loc='lower right')\n",
    "    plt.show()"
   ]
  },
  {
   "cell_type": "code",
   "execution_count": 65,
   "id": "6197f2ec",
   "metadata": {},
   "outputs": [
    {
     "name": "stdout",
     "output_type": "stream",
     "text": [
      "Precision Score: 0.8819533924009156\n",
      "Recall Score: 0.9512945300671981\n",
      "Accuracy Score: 0.8736255258745719\n",
      "F1 Score: 0.9153125746741908\n"
     ]
    }
   ],
   "source": [
    "print_metrics(y_train, pred_train_log)"
   ]
  },
  {
   "cell_type": "code",
   "execution_count": 66,
   "id": "2c40c3e4",
   "metadata": {},
   "outputs": [
    {
     "data": {
      "image/png": "[encoded data removed]",
      "text/plain": [
       "<Figure size 432x360 with 2 Axes>"
      ]
     },
     "metadata": {
      "needs_background": "light"
     },
     "output_type": "display_data"
    }
   ],
   "source": [
    "plot_matrix(y_train, pred_train_log)"
   ]
  },
  {
   "cell_type": "code",
   "execution_count": 67,
   "id": "fc1991fd",
   "metadata": {},
   "outputs": [
    {
     "data": {
      "image/png": "[encoded data removed]",
      "text/plain": [
       "<Figure size 720x576 with 1 Axes>"
      ]
     },
     "metadata": {
      "needs_background": "light"
     },
     "output_type": "display_data"
    }
   ],
   "source": [
    "compare_roc(logreg)"
   ]
  },
  {
   "cell_type": "code",
   "execution_count": 68,
   "id": "969847f7",
   "metadata": {},
   "outputs": [
    {
     "data": {
      "image/png": "[encoded data removed]",
      "text/plain": [
       "<Figure size 720x576 with 1 Axes>"
      ]
     },
     "metadata": {
      "needs_background": "light"
     },
     "output_type": "display_data"
    }
   ],
   "source": [
    "plot_roc([logreg])"
   ]
  },
  {
   "cell_type": "code",
   "execution_count": 69,
   "id": "dbe09820",
   "metadata": {},
   "outputs": [],
   "source": [
    "#resu_logreg=save_metrics(logreg, y_train, pred_train_log)"
   ]
  },
  {
   "cell_type": "code",
   "execution_count": 70,
   "id": "e195dc1e",
   "metadata": {},
   "outputs": [],
   "source": [
    "#resu_logreg"
   ]
  },
  {
   "cell_type": "markdown",
   "id": "bbf90017",
   "metadata": {},
   "source": [
    "### Decision tree\n",
    "The Logistic Regression Model will be kept as our baseline model.\n",
    "<br>We will try next with a Decision Tree, and see if it performs better."
   ]
  },
  {
   "cell_type": "code",
   "execution_count": 71,
   "id": "220670e4",
   "metadata": {},
   "outputs": [],
   "source": [
    "#Create the tree\n",
    "DT1 = DecisionTreeClassifier(criterion='entropy', random_state=19)"
   ]
  },
  {
   "cell_type": "code",
   "execution_count": 72,
   "id": "6a6bef4c",
   "metadata": {},
   "outputs": [
    {
     "data": {
      "text/plain": [
       "DecisionTreeClassifier(criterion='entropy', random_state=19)"
      ]
     },
     "execution_count": 72,
     "metadata": {},
     "output_type": "execute_result"
    }
   ],
   "source": [
    "# fit the tree\n",
    "DT1.fit(X_train, y_train)"
   ]
  },
  {
   "cell_type": "code",
   "execution_count": 73,
   "id": "f949ad70",
   "metadata": {},
   "outputs": [
    {
     "name": "stdout",
     "output_type": "stream",
     "text": [
      "\u001b[31mResults for the Decision Tree Model\n",
      "\u001b[34mTRAIN\u001b[0m\n",
      "              precision    recall  f1-score   support\n",
      "\n",
      "         0.0       0.86      0.72      0.78     82276\n",
      "         1.0       0.90      0.95      0.92    209381\n",
      "\n",
      "    accuracy                           0.89    291657\n",
      "   macro avg       0.88      0.84      0.85    291657\n",
      "weighted avg       0.88      0.89      0.88    291657\n",
      "\n",
      "Accuracy Score Train: 0.8865653833098468\n",
      "Precision Score: 0.8958510155783386\n",
      "Recall Score: 0.9527559807241345\n",
      "Accuracy Score: 0.8865653833098468\n",
      "F1 Score: 0.923427656216006\n",
      "Train Roc_Auc Score: 91.65%\n",
      "Confusion Matrix Train:\n"
     ]
    },
    {
     "data": {
      "image/png": "[encoded data removed]",
      "text/plain": [
       "<Figure size 432x360 with 2 Axes>"
      ]
     },
     "metadata": {
      "needs_background": "light"
     },
     "output_type": "display_data"
    },
    {
     "name": "stdout",
     "output_type": "stream",
     "text": [
      "\u001b[32mTEST\u001b[0m\n",
      "Precision Score: 0.8835656096411499\n",
      "Recall Score: 0.9410836703668646\n",
      "Accuracy Score: 0.8688013659881298\n",
      "F1 Score: 0.9114180747407824\n",
      "              precision    recall  f1-score   support\n",
      "\n",
      "         0.0       0.82      0.69      0.75     27493\n",
      "         1.0       0.88      0.94      0.91     69726\n",
      "\n",
      "    accuracy                           0.87     97219\n",
      "   macro avg       0.85      0.81      0.83     97219\n",
      "weighted avg       0.87      0.87      0.86     97219\n",
      "\n",
      "Accuracy Score Test: 0.8688013659881298\n",
      "Test Roc_Auc Score: 87.24%\n",
      "Confusion Matrix Test:\n"
     ]
    },
    {
     "data": {
      "image/png": "[encoded data removed]",
      "text/plain": [
       "<Figure size 432x360 with 2 Axes>"
      ]
     },
     "metadata": {
      "needs_background": "light"
     },
     "output_type": "display_data"
    }
   ],
   "source": [
    "# Evaluate the tree\n",
    "preds_train_DT1 = DT1.predict(X_train)\n",
    "print(f'{Fore.RED}Results for the Decision Tree Model')\n",
    "model_results(DT1)"
   ]
  },
  {
   "cell_type": "code",
   "execution_count": 74,
   "id": "affd062d",
   "metadata": {},
   "outputs": [
    {
     "data": {
      "image/png": "[encoded data removed]",
      "text/plain": [
       "<Figure size 720x576 with 1 Axes>"
      ]
     },
     "metadata": {
      "needs_background": "light"
     },
     "output_type": "display_data"
    }
   ],
   "source": [
    "compare_roc(DT1)"
   ]
  },
  {
   "cell_type": "code",
   "execution_count": 75,
   "id": "75980fa4",
   "metadata": {},
   "outputs": [
    {
     "data": {
      "image/png": "[encoded data removed]",
      "text/plain": [
       "<Figure size 720x576 with 1 Axes>"
      ]
     },
     "metadata": {
      "needs_background": "light"
     },
     "output_type": "display_data"
    }
   ],
   "source": [
    "plot_roc([logreg,DT1])"
   ]
  },
  {
   "cell_type": "code",
   "execution_count": null,
   "id": "6afe996c",
   "metadata": {},
   "outputs": [],
   "source": []
  },
  {
   "cell_type": "markdown",
   "id": "dd085073",
   "metadata": {},
   "source": [
    "Another feature that we have with decision trees is that we can extract their feature importance."
   ]
  },
  {
   "cell_type": "code",
   "execution_count": 76,
   "id": "e432a218",
   "metadata": {},
   "outputs": [],
   "source": [
    "def plot_feature_importances(model):\n",
    "    n_features = X_train.shape[1]\n",
    "    plt.figure(figsize=(5,5))\n",
    "    #not sure why when I add np.sort in front of model feature it changes\n",
    "    plt.barh(range(n_features), (model.feature_importances_), align='center') \n",
    "    plt.yticks(np.arange(n_features), X_train.columns.values) \n",
    "    plt.xlabel('Feature importance')\n",
    "    plt.ylabel('Feature')"
   ]
  },
  {
   "cell_type": "code",
   "execution_count": 77,
   "id": "babf46b7",
   "metadata": {},
   "outputs": [
    {
     "data": {
      "image/png": "[encoded data removed]",
      "text/plain": [
       "<Figure size 360x360 with 1 Axes>"
      ]
     },
     "metadata": {
      "needs_background": "light"
     },
     "output_type": "display_data"
    }
   ],
   "source": [
    "plot_feature_importances(DT1)"
   ]
  },
  {
   "cell_type": "code",
   "execution_count": 78,
   "id": "8faf264b",
   "metadata": {},
   "outputs": [],
   "source": [
    "#resu_DT1=save_metrics(DT1, y_train, preds_train_DT1)"
   ]
  },
  {
   "cell_type": "code",
   "execution_count": 79,
   "id": "c33b6be4",
   "metadata": {},
   "outputs": [],
   "source": [
    "#resu_DT1"
   ]
  },
  {
   "cell_type": "markdown",
   "id": "3cf433e7",
   "metadata": {},
   "source": [
    "A few more information that we can retrieve about our tree:"
   ]
  },
  {
   "cell_type": "code",
   "execution_count": 80,
   "id": "0053abb5",
   "metadata": {},
   "outputs": [
    {
     "name": "stdout",
     "output_type": "stream",
     "text": [
      "Decision Tree has 22413 nodes with a maximum depth of 31.\n",
      "Model Accuracy for train data: 0.8865653833098468\n"
     ]
    }
   ],
   "source": [
    "print(f'Decision Tree has {DT1.tree_.node_count} nodes with a maximum depth of {DT1.tree_.max_depth}.')\n",
    "print(f'Model Accuracy for train data: {DT1.score(X_train, y_train)}')"
   ]
  },
  {
   "cell_type": "markdown",
   "id": "3d0c3d13",
   "metadata": {},
   "source": [
    "This is not so bad as a result. But we have to ekep in mind that because of our class imbalance (80% of the patients returned home and 20% got hospitalized) a baseline model would have an accuracy of 80%.\n",
    "<br><br>\n",
    "Also - given our situation I would actually like to have a higher recall than accuracy. With a high recall it means I am getting more false positives because I am decreasing the thershold, but that is what I want most times in 'medical situations', because I would rather have a false positive than a false negative."
   ]
  },
  {
   "cell_type": "markdown",
   "id": "28e07270",
   "metadata": {},
   "source": [
    "### Class Imbalance\n",
    "<br> One thing we have not considered yet is the fact that the classes of our target (patients sent home vs. patients hospitalized) are not balanced. They are not present equally in our dataset but around 80% of the patients were sent home and only 20% were hospitalized, as we saw from the split of the data for that column.\n",
    "<br> This means that a very basic model that simply predicts all the patients to be sent home would have an 80% accuracy, that's the baseline.\n",
    "<br> We have a way to counteract this problem by balancing the classes with a decision tree and that is what we are going to do."
   ]
  },
  {
   "cell_type": "code",
   "execution_count": 81,
   "id": "c67dad86",
   "metadata": {},
   "outputs": [],
   "source": [
    "DT_bal = DecisionTreeClassifier(criterion='entropy', class_weight='balanced', random_state=19)"
   ]
  },
  {
   "cell_type": "code",
   "execution_count": 82,
   "id": "c67a81b5",
   "metadata": {},
   "outputs": [
    {
     "data": {
      "text/plain": [
       "DecisionTreeClassifier(class_weight='balanced', criterion='entropy',\n",
       "                       random_state=19)"
      ]
     },
     "execution_count": 82,
     "metadata": {},
     "output_type": "execute_result"
    }
   ],
   "source": [
    "DT_bal.fit(X_train, y_train)"
   ]
  },
  {
   "cell_type": "code",
   "execution_count": 83,
   "id": "c0d2a48f",
   "metadata": {},
   "outputs": [],
   "source": [
    "preds_train_DTbal = DT_bal.predict(X_train)"
   ]
  },
  {
   "cell_type": "code",
   "execution_count": 84,
   "id": "44366f8b",
   "metadata": {},
   "outputs": [
    {
     "name": "stdout",
     "output_type": "stream",
     "text": [
      "\u001b[31mResults for the Decision Tree Model considering class imbalance\n",
      "\u001b[34mTRAIN\u001b[0m\n",
      "              precision    recall  f1-score   support\n",
      "\n",
      "         0.0       0.76      0.79      0.78     82276\n",
      "         1.0       0.92      0.90      0.91    209381\n",
      "\n",
      "    accuracy                           0.87    291657\n",
      "   macro avg       0.84      0.85      0.84    291657\n",
      "weighted avg       0.87      0.87      0.87    291657\n",
      "\n",
      "Accuracy Score Train: 0.8701591252738662\n",
      "Precision Score: 0.9174382039973908\n",
      "Recall Score: 0.9001437570744242\n",
      "Accuracy Score: 0.8701591252738662\n",
      "F1 Score: 0.9087087014693296\n",
      "Train Roc_Auc Score: 91.65%\n",
      "Confusion Matrix Train:\n"
     ]
    },
    {
     "data": {
      "image/png": "[encoded data removed]",
      "text/plain": [
       "<Figure size 432x360 with 2 Axes>"
      ]
     },
     "metadata": {
      "needs_background": "light"
     },
     "output_type": "display_data"
    },
    {
     "name": "stdout",
     "output_type": "stream",
     "text": [
      "\u001b[32mTEST\u001b[0m\n",
      "Precision Score: 0.903025364164205\n",
      "Recall Score: 0.8899836502882712\n",
      "Accuracy Score: 0.8525493987800739\n",
      "F1 Score: 0.8964570768175087\n",
      "              precision    recall  f1-score   support\n",
      "\n",
      "         0.0       0.73      0.76      0.74     27493\n",
      "         1.0       0.90      0.89      0.90     69726\n",
      "\n",
      "    accuracy                           0.85     97219\n",
      "   macro avg       0.82      0.82      0.82     97219\n",
      "weighted avg       0.85      0.85      0.85     97219\n",
      "\n",
      "Accuracy Score Test: 0.8525493987800739\n",
      "Test Roc_Auc Score: 87.26%\n",
      "Confusion Matrix Test:\n"
     ]
    },
    {
     "data": {
      "image/png": "[encoded data removed]",
      "text/plain": [
       "<Figure size 432x360 with 2 Axes>"
      ]
     },
     "metadata": {
      "needs_background": "light"
     },
     "output_type": "display_data"
    }
   ],
   "source": [
    "# Evaluate the tree\n",
    "print(f'{Fore.RED}Results for the Decision Tree Model considering class imbalance')\n",
    "model_results(DT_bal)"
   ]
  },
  {
   "cell_type": "code",
   "execution_count": 85,
   "id": "2a14fce1",
   "metadata": {},
   "outputs": [
    {
     "data": {
      "image/png": "[encoded data removed]",
      "text/plain": [
       "<Figure size 720x576 with 1 Axes>"
      ]
     },
     "metadata": {
      "needs_background": "light"
     },
     "output_type": "display_data"
    }
   ],
   "source": [
    "compare_roc(DT_bal)"
   ]
  },
  {
   "cell_type": "code",
   "execution_count": 86,
   "id": "98daa6e7",
   "metadata": {},
   "outputs": [
    {
     "data": {
      "image/png": "[encoded data removed]",
      "text/plain": [
       "<Figure size 720x576 with 1 Axes>"
      ]
     },
     "metadata": {
      "needs_background": "light"
     },
     "output_type": "display_data"
    }
   ],
   "source": [
    "plot_roc([logreg, DT1, DT_bal])"
   ]
  },
  {
   "cell_type": "code",
   "execution_count": 87,
   "id": "08d5e181",
   "metadata": {},
   "outputs": [
    {
     "data": {
      "image/png": "[encoded data removed]",
      "text/plain": [
       "<Figure size 360x360 with 1 Axes>"
      ]
     },
     "metadata": {
      "needs_background": "light"
     },
     "output_type": "display_data"
    }
   ],
   "source": [
    "plot_feature_importances(DT_bal)"
   ]
  },
  {
   "cell_type": "markdown",
   "id": "1bb7daf4",
   "metadata": {},
   "source": [
    "As we can see from the confusion matrix we started to have more False Positives and the predictions of the majority class (0, people returned home) has decreased. This reflects also in the accuracy score and F1 score.\n",
    "<br> But on the bright side the predictions for the minority class (1, hospitalized) have improved, with less false negatives and a recall that went from 0.63 to 0.77.\n",
    "<br> This is a matter of choice for the stakeholder, which model to use. The Decision tree without class imbalance leads to an overall more precise model: less falses overall, negative and positive, more patients categorized correctly.\n",
    "<br> On the other hand the model that accounts for class imbalance makes more mistakes, has lower accurcay precision and F1 score, but it has overall less false negatives.\n",
    "<br>Given the specific problem we would recommend staying on the safer side, trying to minimize the false negatives then the false positives, because it would be less of a loss to be prepared for one extra patient that doesn't ultimately need to be hospitalized, rather then not being ready with the equippment for one that actually needs to be."
   ]
  },
  {
   "cell_type": "markdown",
   "id": "cc4e5219",
   "metadata": {},
   "source": [
    "### PROBABLY NOT DOING THIS GridSearchCV for Decision Tree:"
   ]
  },
  {
   "cell_type": "code",
   "execution_count": 88,
   "id": "f9fd6432",
   "metadata": {},
   "outputs": [
    {
     "data": {
      "text/plain": [
       "\"param_grid = {\\n    'criterion': ['gini', 'entropy'],\\n    'max_depth': [None, 1, 5, 10, 20],\\n    'min_samples_split': [0.1, 0.2, 0.5, 0.75],\\n    'min_samples_leaf':[1,3,5,10]\\n}\\n\\ngs_tree = GridSearchCV(DT_bal, param_grid, cv=3)\\ngs_tree.fit(X_train, y_train)\\n\""
      ]
     },
     "execution_count": 88,
     "metadata": {},
     "output_type": "execute_result"
    }
   ],
   "source": [
    "\"\"\"param_grid = {\n",
    "    'criterion': ['gini', 'entropy'],\n",
    "    'max_depth': [None, 1, 5, 10, 20],\n",
    "    'min_samples_split': [0.1, 0.2, 0.5, 0.75],\n",
    "    'min_samples_leaf':[1,3,5,10]\n",
    "}\n",
    "\n",
    "gs_tree = GridSearchCV(DT_bal, param_grid, cv=3)\n",
    "gs_tree.fit(X_train, y_train)\n",
    "\"\"\""
   ]
  },
  {
   "cell_type": "code",
   "execution_count": 89,
   "id": "5c418be6",
   "metadata": {},
   "outputs": [
    {
     "data": {
      "text/plain": [
       "'gstree_accuracy=gs_tree.best_score_ \\npred_gstree=gs_tree.predict(X_train)\\nprint(f\"Testing Accuracy: {gstree_accuracy:.2%}\")\\nprint(\"\")\\n# Mean training score\\n#dt_gs_training_score = np.mean(gs_tree.cv_results_[\\'mean_train_score\\'])\\n# Mean test score\\n#dt_gs_testing_score = gs_tree.score(X_test,y_test)\\n#print(f\"Mean Training Score: {dt_gs_training_score :.2%}\")\\n#print(f\"Mean Test Score: {dt_gs_testing_score :.2%}\")\\nprint(f\"Best Parameter Combination Found During Grid Search:{gs_tree.best_params_}\")\\n'"
      ]
     },
     "execution_count": 89,
     "metadata": {},
     "output_type": "execute_result"
    }
   ],
   "source": [
    "\"\"\"gstree_accuracy=gs_tree.best_score_ \n",
    "pred_gstree=gs_tree.predict(X_train)\n",
    "print(f\"Testing Accuracy: {gstree_accuracy:.2%}\")\n",
    "print(\"\")\n",
    "# Mean training score\n",
    "#dt_gs_training_score = np.mean(gs_tree.cv_results_['mean_train_score'])\n",
    "# Mean test score\n",
    "#dt_gs_testing_score = gs_tree.score(X_test,y_test)\n",
    "#print(f\"Mean Training Score: {dt_gs_training_score :.2%}\")\n",
    "#print(f\"Mean Test Score: {dt_gs_testing_score :.2%}\")\n",
    "print(f\"Best Parameter Combination Found During Grid Search:{gs_tree.best_params_}\")\n",
    "\"\"\""
   ]
  },
  {
   "cell_type": "code",
   "execution_count": 90,
   "id": "60a4083a",
   "metadata": {},
   "outputs": [],
   "source": [
    "###model_results(gs_tree)"
   ]
  },
  {
   "cell_type": "code",
   "execution_count": 91,
   "id": "9347c76d",
   "metadata": {},
   "outputs": [],
   "source": [
    "###resu_gstree=save_metrics(gs_tree, y_train, pred_gstree)"
   ]
  },
  {
   "cell_type": "code",
   "execution_count": 92,
   "id": "83d041f2",
   "metadata": {},
   "outputs": [],
   "source": [
    "###best_tree=DecisionTreeClassifier(criterion='gini', class_weight='balanced', max_depth=1, min_samples_split=0.1, min_samples_leaf=1, random_state=19)"
   ]
  },
  {
   "cell_type": "code",
   "execution_count": 93,
   "id": "90c544cf",
   "metadata": {},
   "outputs": [],
   "source": [
    "###best_tree.fit(X_train, y_train)"
   ]
  },
  {
   "cell_type": "code",
   "execution_count": 94,
   "id": "a8198453",
   "metadata": {},
   "outputs": [],
   "source": [
    "###preds_best3 = best_tree.predict(X_train)"
   ]
  },
  {
   "cell_type": "code",
   "execution_count": 95,
   "id": "163e3c31",
   "metadata": {},
   "outputs": [],
   "source": [
    "###print(\"Results with best Decision Tree considering class imbalance:\\n\")\n",
    "###model_results(best_tree)"
   ]
  },
  {
   "cell_type": "code",
   "execution_count": 96,
   "id": "5e5aea46",
   "metadata": {},
   "outputs": [],
   "source": [
    "###resu_best3=save_metrics(best_tree, y_train, preds_best3)"
   ]
  },
  {
   "cell_type": "code",
   "execution_count": 97,
   "id": "84b928e6",
   "metadata": {},
   "outputs": [],
   "source": [
    "###resu_gstree"
   ]
  },
  {
   "cell_type": "code",
   "execution_count": 98,
   "id": "10efac3a",
   "metadata": {},
   "outputs": [],
   "source": [
    "###resu_best3"
   ]
  },
  {
   "cell_type": "code",
   "execution_count": 99,
   "id": "f712c881",
   "metadata": {},
   "outputs": [],
   "source": [
    "###plot_roc([logreg, DT1, DT_bal, best_tree], y_train)"
   ]
  },
  {
   "cell_type": "markdown",
   "id": "ea8fda7d",
   "metadata": {},
   "source": [
    "### Random Forest"
   ]
  },
  {
   "cell_type": "code",
   "execution_count": 100,
   "id": "1bfb9eef",
   "metadata": {},
   "outputs": [
    {
     "data": {
      "text/plain": [
       "RandomForestClassifier(random_state=19)"
      ]
     },
     "execution_count": 100,
     "metadata": {},
     "output_type": "execute_result"
    }
   ],
   "source": [
    "# Instantiate and fit a RandomForestClassifier\n",
    "forest = RandomForestClassifier(random_state=19)\n",
    "forest.fit(X_train, y_train)"
   ]
  },
  {
   "cell_type": "code",
   "execution_count": 101,
   "id": "8f0af13e",
   "metadata": {},
   "outputs": [
    {
     "data": {
      "text/plain": [
       "0.8865516685695869"
      ]
     },
     "execution_count": 101,
     "metadata": {},
     "output_type": "execute_result"
    }
   ],
   "source": [
    "# Training accuracy score\n",
    "forest.score(X_train, y_train)"
   ]
  },
  {
   "cell_type": "code",
   "execution_count": 102,
   "id": "5bc3f3e5",
   "metadata": {},
   "outputs": [],
   "source": [
    "preds_for=forest.predict(X_train)"
   ]
  },
  {
   "cell_type": "code",
   "execution_count": 103,
   "id": "b59f40bd",
   "metadata": {},
   "outputs": [],
   "source": [
    "# This should be the accuracy\n",
    "#mean_rf_cv_score = np.mean(cross_val_score(forest, X_train, y_train, cv=3))"
   ]
  },
  {
   "cell_type": "code",
   "execution_count": 104,
   "id": "1f1d1cb4",
   "metadata": {},
   "outputs": [],
   "source": [
    "#mean_rf_cv_score"
   ]
  },
  {
   "cell_type": "code",
   "execution_count": 105,
   "id": "b4b2421e",
   "metadata": {},
   "outputs": [
    {
     "name": "stdout",
     "output_type": "stream",
     "text": [
      "\u001b[31mResults for the Random Forest Model\n",
      "\u001b[34mTRAIN\u001b[0m\n",
      "              precision    recall  f1-score   support\n",
      "\n",
      "         0.0       0.86      0.71      0.78     82276\n",
      "         1.0       0.89      0.96      0.92    209381\n",
      "\n",
      "    accuracy                           0.89    291657\n",
      "   macro avg       0.88      0.83      0.85    291657\n",
      "weighted avg       0.89      0.89      0.88    291657\n",
      "\n",
      "Accuracy Score Train: 0.8865516685695869\n",
      "Precision Score: 0.893769571995908\n",
      "Recall Score: 0.955545154526915\n",
      "Accuracy Score: 0.8865516685695869\n",
      "F1 Score: 0.9236255695536362\n",
      "Train Roc_Auc Score: 91.42%\n",
      "Confusion Matrix Train:\n"
     ]
    },
    {
     "data": {
      "image/png": "[encoded data removed]",
      "text/plain": [
       "<Figure size 432x360 with 2 Axes>"
      ]
     },
     "metadata": {
      "needs_background": "light"
     },
     "output_type": "display_data"
    },
    {
     "name": "stdout",
     "output_type": "stream",
     "text": [
      "\u001b[32mTEST\u001b[0m\n",
      "Precision Score: 0.8827710132489406\n",
      "Recall Score: 0.9441241430743195\n",
      "Accuracy Score: 0.8700048344459417\n",
      "F1 Score: 0.9124173585219476\n",
      "              precision    recall  f1-score   support\n",
      "\n",
      "         0.0       0.83      0.68      0.75     27493\n",
      "         1.0       0.88      0.94      0.91     69726\n",
      "\n",
      "    accuracy                           0.87     97219\n",
      "   macro avg       0.86      0.81      0.83     97219\n",
      "weighted avg       0.87      0.87      0.87     97219\n",
      "\n",
      "Accuracy Score Test: 0.8700048344459417\n",
      "Test Roc_Auc Score: 89.04%\n",
      "Confusion Matrix Test:\n"
     ]
    },
    {
     "data": {
      "image/png": "[encoded data removed]",
      "text/plain": [
       "<Figure size 432x360 with 2 Axes>"
      ]
     },
     "metadata": {
      "needs_background": "light"
     },
     "output_type": "display_data"
    }
   ],
   "source": [
    "print(f'{Fore.RED}Results for the Random Forest Model')\n",
    "model_results(forest)"
   ]
  },
  {
   "cell_type": "code",
   "execution_count": 106,
   "id": "fc51fcc6",
   "metadata": {},
   "outputs": [
    {
     "data": {
      "image/png": "[encoded data removed]",
      "text/plain": [
       "<Figure size 720x576 with 1 Axes>"
      ]
     },
     "metadata": {
      "needs_background": "light"
     },
     "output_type": "display_data"
    }
   ],
   "source": [
    "compare_roc(forest)"
   ]
  },
  {
   "cell_type": "code",
   "execution_count": 107,
   "id": "34624dea",
   "metadata": {},
   "outputs": [
    {
     "data": {
      "image/png": "[encoded data removed]",
      "text/plain": [
       "<Figure size 720x576 with 1 Axes>"
      ]
     },
     "metadata": {
      "needs_background": "light"
     },
     "output_type": "display_data"
    }
   ],
   "source": [
    "plot_roc([logreg, DT1, DT_bal, forest])"
   ]
  },
  {
   "cell_type": "code",
   "execution_count": 108,
   "id": "6b1cdd0a",
   "metadata": {},
   "outputs": [],
   "source": [
    "#resu_forest=save_metrics(forest, y_train, preds_for)"
   ]
  },
  {
   "cell_type": "markdown",
   "id": "60bd07b0",
   "metadata": {},
   "source": [
    "### Random Forest class imbalance:\n",
    "Now accounting for the class imbalance in Random Forest."
   ]
  },
  {
   "cell_type": "code",
   "execution_count": null,
   "id": "6e61cc73",
   "metadata": {},
   "outputs": [],
   "source": [
    "forest_bal = RandomForestClassifier(random_state=19, class_weight='balanced')\n",
    "forest_bal.fit(X_train, y_train)"
   ]
  },
  {
   "cell_type": "code",
   "execution_count": null,
   "id": "50ca7907",
   "metadata": {},
   "outputs": [],
   "source": [
    "# Training accuracy score\n",
    "forest_bal.score(X_train, y_train)"
   ]
  },
  {
   "cell_type": "code",
   "execution_count": null,
   "id": "7c7a9624",
   "metadata": {},
   "outputs": [],
   "source": [
    "preds_forbal=forest_bal.predict(X_train)"
   ]
  },
  {
   "cell_type": "code",
   "execution_count": null,
   "id": "72895717",
   "metadata": {},
   "outputs": [],
   "source": [
    "print(f'{Fore.RED}Results for the Random Forest Model considering class imbalance')\n",
    "model_results(forest_bal)"
   ]
  },
  {
   "cell_type": "code",
   "execution_count": null,
   "id": "5be57ee4",
   "metadata": {},
   "outputs": [],
   "source": [
    "compare_roc(forest_bal)"
   ]
  },
  {
   "cell_type": "code",
   "execution_count": null,
   "id": "db8c1235",
   "metadata": {},
   "outputs": [],
   "source": [
    "plot_roc([logreg, DT1, DT_bal, forest, forest_bal])"
   ]
  },
  {
   "cell_type": "markdown",
   "id": "ae6fef37",
   "metadata": {},
   "source": [
    "### GridSearchCV for Random Forest:"
   ]
  },
  {
   "cell_type": "code",
   "execution_count": null,
   "id": "5686988c",
   "metadata": {},
   "outputs": [],
   "source": [
    "# create the grid with parameters:\n",
    "\n",
    "rf_param_grid = { 'n_estimators':[10,30,100],\n",
    "                 'criterion': ['gini', 'entropy'],\n",
    "                 'max_depth': [None, 6, 10, 30],\n",
    "                 'min_samples_split':[5, 10],\n",
    "                 'min_samples_leaf':[3, 6]\n",
    "    \n",
    "}"
   ]
  },
  {
   "cell_type": "code",
   "execution_count": null,
   "id": "5aea4ddc",
   "metadata": {},
   "outputs": [],
   "source": [
    "\"\"\" code with which we ran the GridSearchCV\n",
    "rf_grid_search = GridSearchCV(forest_bal, rf_param_grid,cv=3)\n",
    "rf_grid_search.fit(X_train, y_train)\"\"\""
   ]
  },
  {
   "cell_type": "markdown",
   "id": "6a80e1fc",
   "metadata": {},
   "source": [
    "Since the model took a very long time to fit I am going to pickle it, to save it for a later rerun without it having to fit again."
   ]
  },
  {
   "cell_type": "code",
   "execution_count": null,
   "id": "8c7ee2ce",
   "metadata": {},
   "outputs": [],
   "source": [
    "filename = 'CVforest.pkl'"
   ]
  },
  {
   "cell_type": "code",
   "execution_count": null,
   "id": "484812c8",
   "metadata": {},
   "outputs": [],
   "source": [
    "\"\"\" code with which we saved the model\n",
    "# save the model to disk\n",
    "\n",
    "joblib.dump(rf_grid_search, filename)\n",
    "\"\"\""
   ]
  },
  {
   "cell_type": "code",
   "execution_count": null,
   "id": "a9804116",
   "metadata": {},
   "outputs": [],
   "source": [
    "# some time later...\n",
    "\n",
    "# load the model from disk\n",
    "loaded_model = joblib.load(filename)"
   ]
  },
  {
   "cell_type": "code",
   "execution_count": null,
   "id": "cd9f70da",
   "metadata": {},
   "outputs": [],
   "source": [
    "forest_accuracy=loaded_model.best_score_ \n",
    "best_params=loaded_model.best_params_\n",
    "print(f\"Testing Accuracy: {forest_accuracy:.2%}\")\n",
    "print(\"\")\n",
    "print(f\"Best Parameters:{best_params}\")"
   ]
  },
  {
   "cell_type": "code",
   "execution_count": null,
   "id": "14b4fbbe",
   "metadata": {},
   "outputs": [],
   "source": [
    "for_CV1 = RandomForestClassifier(random_state=19,class_weight='balanced',criterion='entropy',\n",
    "                                 max_depth= 6, min_samples_leaf= 6, min_samples_split= 5,n_estimators=10)"
   ]
  },
  {
   "cell_type": "code",
   "execution_count": null,
   "id": "8b46e1a7",
   "metadata": {},
   "outputs": [],
   "source": [
    "for_CV1.fit(X_train, y_train)"
   ]
  },
  {
   "cell_type": "code",
   "execution_count": null,
   "id": "9aba35a1",
   "metadata": {},
   "outputs": [],
   "source": [
    "preds_forCV1=for_CV1.predict(X_train)"
   ]
  },
  {
   "cell_type": "code",
   "execution_count": null,
   "id": "989db402",
   "metadata": {},
   "outputs": [],
   "source": [
    "print(f'{Fore.RED}Results for the Random Forest model with best parameters after First GridSeachCV')\n",
    "model_results(for_CV1)"
   ]
  },
  {
   "cell_type": "code",
   "execution_count": null,
   "id": "c95607fb",
   "metadata": {},
   "outputs": [],
   "source": [
    "compare_roc(for_CV1)"
   ]
  },
  {
   "cell_type": "code",
   "execution_count": null,
   "id": "4d3ef3e3",
   "metadata": {},
   "outputs": [],
   "source": [
    "plot_roc([logreg, forest, forest_bal, for_CV1])"
   ]
  },
  {
   "cell_type": "code",
   "execution_count": null,
   "id": "50cffd3e",
   "metadata": {},
   "outputs": [],
   "source": [
    "#model_results(loaded_model) I do not think this makes sense but lets hear from Eva"
   ]
  },
  {
   "cell_type": "code",
   "execution_count": null,
   "id": "689ad770",
   "metadata": {},
   "outputs": [],
   "source": [
    "rf_param_grid2 = { 'n_estimators':[20,30,40],\n",
    "                 'criterion': ['gini'],\n",
    "                 'max_depth':[None],\n",
    "                 'min_samples_split':[3,5],\n",
    "                 'min_samples_leaf':[5, 10, 20]\n",
    "    \n",
    "}"
   ]
  },
  {
   "cell_type": "code",
   "execution_count": null,
   "id": "ccbae2b2",
   "metadata": {},
   "outputs": [],
   "source": [
    "\"\"\"Code with which we ran the second grid search\n",
    "rf_grid_search2 = GridSearchCV(forest_bal, rf_param_grid2,cv=3)\n",
    "rf_grid_search2.fit(X_train, y_train)\"\"\""
   ]
  },
  {
   "cell_type": "code",
   "execution_count": null,
   "id": "b69aad27",
   "metadata": {},
   "outputs": [],
   "source": [
    "filename2 = 'forGrid2.pkl'"
   ]
  },
  {
   "cell_type": "code",
   "execution_count": null,
   "id": "92b5bf94",
   "metadata": {},
   "outputs": [],
   "source": [
    "\"\"\" code with which we saved the model\n",
    "# save the model to disk\n",
    "\n",
    "joblib.dump(rf_grid_search2, filename2)\n",
    "\"\"\""
   ]
  },
  {
   "cell_type": "code",
   "execution_count": null,
   "id": "fe3de237",
   "metadata": {},
   "outputs": [],
   "source": [
    "# some time later...\n",
    "\n",
    "# load the model from disk\n",
    "loaded_model2 = joblib.load(filename2)"
   ]
  },
  {
   "cell_type": "code",
   "execution_count": null,
   "id": "425772e1",
   "metadata": {},
   "outputs": [],
   "source": [
    "forest_accuracy=loaded_model2.best_score_ \n",
    "best_params=loaded_model2.best_params_"
   ]
  },
  {
   "cell_type": "code",
   "execution_count": null,
   "id": "7223f29c",
   "metadata": {},
   "outputs": [],
   "source": [
    "print(f\"Testing Accuracy: {forest_accuracy:.2%}\")\n",
    "print(\"\")\n",
    "print(f\"Best Parameters:{best_params}\")"
   ]
  },
  {
   "cell_type": "code",
   "execution_count": null,
   "id": "17f04f16",
   "metadata": {},
   "outputs": [],
   "source": [
    "for_CV2 = RandomForestClassifier(random_state=19,class_weight='balanced',criterion='gini', max_depth= None, \n",
    "                                 min_samples_leaf= 5, min_samples_split= 3, n_estimators=30)"
   ]
  },
  {
   "cell_type": "code",
   "execution_count": null,
   "id": "72a02a4a",
   "metadata": {},
   "outputs": [],
   "source": [
    "for_CV2.fit(X_train, y_train)"
   ]
  },
  {
   "cell_type": "code",
   "execution_count": null,
   "id": "93295648",
   "metadata": {},
   "outputs": [],
   "source": [
    "preds_forCV2=for_CV2.predict(X_train)"
   ]
  },
  {
   "cell_type": "code",
   "execution_count": null,
   "id": "af33b614",
   "metadata": {},
   "outputs": [],
   "source": [
    "print(f'{Fore.RED}Results for the Random Forest model with best parameters after Second GridSeachCV')\n",
    "model_results(for_CV2)"
   ]
  },
  {
   "cell_type": "code",
   "execution_count": null,
   "id": "fdb78201",
   "metadata": {},
   "outputs": [],
   "source": [
    "compare_roc(for_CV2)"
   ]
  },
  {
   "cell_type": "code",
   "execution_count": null,
   "id": "2addce90",
   "metadata": {},
   "outputs": [],
   "source": [
    "plot_roc([logreg, forest, for_CV1, for_CV2])"
   ]
  },
  {
   "cell_type": "code",
   "execution_count": null,
   "id": "63b02908",
   "metadata": {},
   "outputs": [],
   "source": [
    "rf_param_grid3 = { 'n_estimators':[10, 15],\n",
    "                 'criterion': ['entropy'],\n",
    "                 'max_depth': [None,3,6],\n",
    "                 'min_samples_split':[1,3,5],\n",
    "                 'min_samples_leaf':[6, 10, 20]\n",
    "    \n",
    "}"
   ]
  },
  {
   "cell_type": "code",
   "execution_count": null,
   "id": "e3d26346",
   "metadata": {},
   "outputs": [],
   "source": [
    "\"\"\"Code with which we ran the third gridsearch\n",
    "rf_grid_search3 = GridSearchCV(forest_bal, rf_param_grid,cv=3)\n",
    "rf_grid_search3.fit(X_train, y_train)\"\"\""
   ]
  },
  {
   "cell_type": "code",
   "execution_count": null,
   "id": "e21e21d0",
   "metadata": {},
   "outputs": [],
   "source": [
    "filename3 = 'CVforest3.pkl'"
   ]
  },
  {
   "cell_type": "code",
   "execution_count": null,
   "id": "5a451519",
   "metadata": {},
   "outputs": [],
   "source": [
    "\"\"\"Code with which we saved the third gridserch\n",
    "joblib.dump(rf_grid_search3, filename3)\n",
    "\"\"\""
   ]
  },
  {
   "cell_type": "code",
   "execution_count": null,
   "id": "631db7e3",
   "metadata": {},
   "outputs": [],
   "source": [
    "# some time later...\n",
    "\n",
    "# load the model from disk\n",
    "loaded_model3 = joblib.load(filename3)"
   ]
  },
  {
   "cell_type": "code",
   "execution_count": null,
   "id": "97bc09a6",
   "metadata": {},
   "outputs": [],
   "source": [
    "forest_accuracy=loaded_model3.best_score_ \n",
    "best_params=loaded_model3.best_params_\n",
    "print(f\"Testing Accuracy: {forest_accuracy:.2%}\")\n",
    "print(\"\")\n",
    "print(f\"Best Parameters:{best_params}\")"
   ]
  },
  {
   "cell_type": "code",
   "execution_count": null,
   "id": "e88b0835",
   "metadata": {},
   "outputs": [],
   "source": [
    "for_CV3 = RandomForestClassifier(random_state=19,class_weight='balanced',criterion='entropy', max_depth= 6,\n",
    "                                 min_samples_leaf= 6, min_samples_split=5, n_estimators= 10)"
   ]
  },
  {
   "cell_type": "code",
   "execution_count": null,
   "id": "6486f438",
   "metadata": {},
   "outputs": [],
   "source": [
    "for_CV3.fit(X_train, y_train)\n"
   ]
  },
  {
   "cell_type": "code",
   "execution_count": null,
   "id": "706395ef",
   "metadata": {},
   "outputs": [],
   "source": [
    "preds_forCV3=for_CV3.predict(X_train)"
   ]
  },
  {
   "cell_type": "code",
   "execution_count": null,
   "id": "878100ef",
   "metadata": {},
   "outputs": [],
   "source": [
    "print(f'{Fore.RED}Results for the Random Forest model with best parameters after Third GridSeachCV')\n",
    "model_results(for_CV3)"
   ]
  },
  {
   "cell_type": "code",
   "execution_count": null,
   "id": "0fd713a2",
   "metadata": {},
   "outputs": [],
   "source": [
    "compare_roc(for_CV3)"
   ]
  },
  {
   "cell_type": "code",
   "execution_count": null,
   "id": "25896cf4",
   "metadata": {},
   "outputs": [],
   "source": [
    "plot_roc([logreg,forest, for_CV1, for_CV2, for_CV3])"
   ]
  },
  {
   "cell_type": "code",
   "execution_count": null,
   "id": "a7345b77",
   "metadata": {},
   "outputs": [],
   "source": [
    "cross_val_score(model, X_train, y_train, cv=5)"
   ]
  },
  {
   "cell_type": "markdown",
   "id": "3eef72e4",
   "metadata": {},
   "source": [
    "### Gradient Boosting"
   ]
  },
  {
   "cell_type": "code",
   "execution_count": null,
   "id": "ae39c3a2",
   "metadata": {},
   "outputs": [],
   "source": [
    "gbc = GradientBoostingClassifier(random_state=42)\n",
    "\n",
    "gbc.fit(X_train, y_train)"
   ]
  },
  {
   "cell_type": "code",
   "execution_count": null,
   "id": "30e3ce9a",
   "metadata": {},
   "outputs": [],
   "source": [
    "gbc.score(X_test, y_test)"
   ]
  },
  {
   "cell_type": "code",
   "execution_count": null,
   "id": "83b0509f",
   "metadata": {},
   "outputs": [],
   "source": [
    "recall_score(y_test, gbc.predict(X_test))"
   ]
  },
  {
   "cell_type": "code",
   "execution_count": null,
   "id": "1f0113f9",
   "metadata": {},
   "outputs": [],
   "source": [
    "model_results(gbc)"
   ]
  },
  {
   "cell_type": "code",
   "execution_count": null,
   "id": "4846a5ef",
   "metadata": {},
   "outputs": [],
   "source": [
    "cross_val_score(gbc, X_train, y_train, cv=5)"
   ]
  },
  {
   "cell_type": "code",
   "execution_count": null,
   "id": "9bb5eacc",
   "metadata": {},
   "outputs": [],
   "source": [
    "compare_roc(gbc)"
   ]
  },
  {
   "cell_type": "code",
   "execution_count": null,
   "id": "efda4b9c",
   "metadata": {},
   "outputs": [],
   "source": [
    "plot_roc([logreg,forest,for_CV2, gbc])"
   ]
  },
  {
   "cell_type": "code",
   "execution_count": null,
   "id": "7a55576a",
   "metadata": {},
   "outputs": [],
   "source": []
  },
  {
   "cell_type": "markdown",
   "id": "78ccc95c",
   "metadata": {},
   "source": [
    "# To draw some conclusions:\n",
    "Now in order to draw some conclusions let us look at the results of the different models together and we will plot the ROC curve for all the different models we saw.\n",
    "<br>Once we can identify the best model we can see what the most important features were for that model."
   ]
  },
  {
   "cell_type": "code",
   "execution_count": null,
   "id": "d88b5331",
   "metadata": {},
   "outputs": [],
   "source": [
    "models=[ logreg, DT_bal, forest_bal, for_CV2, gbc]"
   ]
  },
  {
   "cell_type": "code",
   "execution_count": null,
   "id": "7d06264d",
   "metadata": {},
   "outputs": [],
   "source": [
    "recalls=[]\n",
    "F1s=[]\n",
    "roc_aucs=[]\n",
    "for i in (models):\n",
    "    preds=i.predict(X_test)\n",
    "    recalls.append(recall_score(y_test, preds))\n",
    "    F1s.append(f1_score(y_test, preds))\n",
    "    yhat_ts = model.predict_proba(X_test)\n",
    "    yhat_ts = yhat_ts[:, 1]\n",
    "    fpr, tpr, thresholds = roc_curve(y_test, yhat_ts)\n",
    "    roc_score_test = roc_auc_score(y_test, yhat_ts)"
   ]
  },
  {
   "cell_type": "code",
   "execution_count": null,
   "id": "a83f45e1",
   "metadata": {},
   "outputs": [],
   "source": [
    "### SORT THIS DF BY SOMETHING\n",
    "\n",
    "results=pd.DataFrame([])\n",
    "results['model']=models\n",
    "results['recall']=recalls\n",
    "results['F1']=F1s\n",
    "results['AUC']=roc_aucs\n",
    "results"
   ]
  },
  {
   "cell_type": "code",
   "execution_count": null,
   "id": "15e0e08b",
   "metadata": {},
   "outputs": [],
   "source": [
    "### Here I would compare just the 2/3 best confusion matrices\n",
    "#for i in (models):\n",
    "#    preds=i.predict(X_train)\n",
    "#    print(f\"{Fore.BLUE} Model {Style.RESET_ALL}\", i)\n",
    "#    plot_matrix(y_train, preds)"
   ]
  },
  {
   "cell_type": "code",
   "execution_count": null,
   "id": "7764c0d4",
   "metadata": {},
   "outputs": [],
   "source": [
    "models_fi=[logreg, DT1, DT_bal, forest, forest_bal,for_CV1, for_CV2, for_CV3, xgb_model]"
   ]
  },
  {
   "cell_type": "code",
   "execution_count": null,
   "id": "47304dd5",
   "metadata": {},
   "outputs": [],
   "source": [
    "models_b=[forest_bal, for_CV2, xgb_model]"
   ]
  },
  {
   "cell_type": "code",
   "execution_count": null,
   "id": "d9222f9d",
   "metadata": {},
   "outputs": [],
   "source": [
    "##Here if I want I could create a df with all the feature importances. But maybe not necessary.\n",
    "# Feature Importance\n",
    "feat=[]\n",
    "imp=[]\n",
    "mod=[]\n",
    "for i in models_b:\n",
    "    feature_used = df.columns\n",
    "    for fi, feature in zip(i.feature_importances_, feature_used):\n",
    "        imp.append(fi)\n",
    "        feat.append(feature)"
   ]
  },
  {
   "cell_type": "code",
   "execution_count": null,
   "id": "df2dfcdd",
   "metadata": {},
   "outputs": [],
   "source": [
    "feat_imp=pd.DataFrame([])\n",
    "feat_imp['model']=mod\n",
    "feat_imp['features']=feat\n",
    "feat_imp['importance']=imp\n",
    "\n",
    "feat_imp.head()"
   ]
  },
  {
   "cell_type": "code",
   "execution_count": null,
   "id": "cafdd8c5",
   "metadata": {},
   "outputs": [],
   "source": [
    "feat_imp['model'][0:13]='Forest Balanced'\n",
    "feat_imp['model'][13:26]='Forest CV2'\n",
    "feat_imp['model'][26:]='XGB'"
   ]
  },
  {
   "cell_type": "code",
   "execution_count": null,
   "id": "5af0aa11",
   "metadata": {},
   "outputs": [],
   "source": [
    "plt.style.use('seaborn-poster')\n",
    "#plt.figure(figsize=(30,15))\n",
    "#features = sns.load_dataset(\"feat_imp\")\n",
    "\n",
    "# Draw a nested barplot by species and sex\n",
    "g = sns.catplot(\n",
    "    data=feat_imp, kind=\"bar\",\n",
    "    x=\"features\", y=\"importance\", hue=\"model\",aspect=20/15\n",
    "#    errorbar=\"sd\", palette=\"dark\", alpha=.6, height=6\n",
    ")\n",
    "g.set_axis_labels(\"\", \"Feature Importance\")\n",
    "g.fig.set_figwidth(20)\n",
    "g.fig.set_figheight(10)\n",
    "g.set_xticklabels(labels=feat, rotation=90);"
   ]
  },
  {
   "cell_type": "markdown",
   "id": "e5d659cb",
   "metadata": {},
   "source": [
    "From what we can observe the five most important features in our selection overall for the models are:\n",
    "    Pneumonia, Age, Diabetes, Renal Chronic, Hypertension and Sex?\n",
    "    IDK I have to study this."
   ]
  },
  {
   "cell_type": "markdown",
   "id": "179ca5c0",
   "metadata": {},
   "source": [
    "I should take the best model,\n",
    "look at the list of Most Relevant Features,\n",
    "and then study them.\n",
    "For age, the only numeric one, I can divide it in bins and then plot for each bin the number of patients hospitalized.\n",
    "To get a sense of what patients are more at risk.\n",
    "For the other factors just say Drs can take care of those factors more, CDC could start campaigns and study more in depth people with those diseases."
   ]
  },
  {
   "cell_type": "code",
   "execution_count": null,
   "id": "f0217df9",
   "metadata": {},
   "outputs": [],
   "source": []
  },
  {
   "cell_type": "code",
   "execution_count": null,
   "id": "fcd17f39",
   "metadata": {},
   "outputs": [],
   "source": []
  },
  {
   "cell_type": "code",
   "execution_count": null,
   "id": "3417dacf",
   "metadata": {},
   "outputs": [],
   "source": []
  },
  {
   "cell_type": "code",
   "execution_count": null,
   "id": "ad944360",
   "metadata": {},
   "outputs": [],
   "source": []
  }
 ],
 "metadata": {
  "kernelspec": {
   "display_name": "Python [conda env:learn-env] *",
   "language": "python",
   "name": "conda-env-learn-env-py"
  },
  "language_info": {
   "codemirror_mode": {
    "name": "ipython",
    "version": 3
   },
   "file_extension": ".py",
   "mimetype": "text/x-python",
   "name": "python",
   "nbconvert_exporter": "python",
   "pygments_lexer": "ipython3",
   "version": "3.6.6"
  }
 },
 "nbformat": 4,
 "nbformat_minor": 5
}
