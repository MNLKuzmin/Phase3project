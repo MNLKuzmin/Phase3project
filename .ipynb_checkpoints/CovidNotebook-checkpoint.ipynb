{
 "cells": [
  {
   "cell_type": "markdown",
   "id": "c451cf76",
   "metadata": {},
   "source": [
    "# Phase 3 project"
   ]
  },
  {
   "cell_type": "markdown",
   "id": "99189be2",
   "metadata": {},
   "source": [
    "## Covid Dataset"
   ]
  },
  {
   "cell_type": "code",
   "execution_count": 122,
   "id": "f0f3d22c",
   "metadata": {},
   "outputs": [],
   "source": [
    "import pandas as pd\n",
    "import numpy as np\n",
    "import seaborn as sns\n",
    "import matplotlib.pyplot as plt\n",
    "import joblib\n",
    "import xgboost as xgb\n",
    "\n",
    "from sklearn.model_selection import train_test_split, cross_val_score\n",
    "from sklearn.model_selection import StratifiedKFold, GridSearchCV\n",
    "from sklearn.preprocessing import MinMaxScaler\n",
    "from sklearn.neighbors import KNeighborsClassifier\n",
    "from sklearn.metrics import precision_score, recall_score, accuracy_score, f1_score\n",
    "from sklearn.metrics import roc_curve, auc, plot_roc_curve, roc_auc_score\n",
    "from sklearn.metrics import confusion_matrix, plot_confusion_matrix, classification_report\n",
    "\n",
    "from sklearn.linear_model import LogisticRegression\n",
    "from sklearn import tree\n",
    "from sklearn.tree import DecisionTreeClassifier, plot_tree\n",
    "from sklearn.ensemble import BaggingClassifier, RandomForestClassifier\n",
    "\n",
    "from colorama import Fore\n",
    "from colorama import Style"
   ]
  },
  {
   "cell_type": "code",
   "execution_count": 2,
   "id": "393ae6c1",
   "metadata": {},
   "outputs": [],
   "source": [
    "df_covid=pd.read_csv('Covid Data.csv')"
   ]
  },
  {
   "cell_type": "code",
   "execution_count": 3,
   "id": "4a2c8975",
   "metadata": {},
   "outputs": [
    {
     "data": {
      "text/html": [
       "<div>\n",
       "<style scoped>\n",
       "    .dataframe tbody tr th:only-of-type {\n",
       "        vertical-align: middle;\n",
       "    }\n",
       "\n",
       "    .dataframe tbody tr th {\n",
       "        vertical-align: top;\n",
       "    }\n",
       "\n",
       "    .dataframe thead th {\n",
       "        text-align: right;\n",
       "    }\n",
       "</style>\n",
       "<table border=\"1\" class=\"dataframe\">\n",
       "  <thead>\n",
       "    <tr style=\"text-align: right;\">\n",
       "      <th></th>\n",
       "      <th>USMER</th>\n",
       "      <th>MEDICAL_UNIT</th>\n",
       "      <th>SEX</th>\n",
       "      <th>PATIENT_TYPE</th>\n",
       "      <th>DATE_DIED</th>\n",
       "      <th>INTUBED</th>\n",
       "      <th>PNEUMONIA</th>\n",
       "      <th>AGE</th>\n",
       "      <th>PREGNANT</th>\n",
       "      <th>DIABETES</th>\n",
       "      <th>...</th>\n",
       "      <th>ASTHMA</th>\n",
       "      <th>INMSUPR</th>\n",
       "      <th>HIPERTENSION</th>\n",
       "      <th>OTHER_DISEASE</th>\n",
       "      <th>CARDIOVASCULAR</th>\n",
       "      <th>OBESITY</th>\n",
       "      <th>RENAL_CHRONIC</th>\n",
       "      <th>TOBACCO</th>\n",
       "      <th>CLASIFFICATION_FINAL</th>\n",
       "      <th>ICU</th>\n",
       "    </tr>\n",
       "  </thead>\n",
       "  <tbody>\n",
       "    <tr>\n",
       "      <th>0</th>\n",
       "      <td>2</td>\n",
       "      <td>1</td>\n",
       "      <td>1</td>\n",
       "      <td>1</td>\n",
       "      <td>03/05/2020</td>\n",
       "      <td>97</td>\n",
       "      <td>1</td>\n",
       "      <td>65</td>\n",
       "      <td>2</td>\n",
       "      <td>2</td>\n",
       "      <td>...</td>\n",
       "      <td>2</td>\n",
       "      <td>2</td>\n",
       "      <td>1</td>\n",
       "      <td>2</td>\n",
       "      <td>2</td>\n",
       "      <td>2</td>\n",
       "      <td>2</td>\n",
       "      <td>2</td>\n",
       "      <td>3</td>\n",
       "      <td>97</td>\n",
       "    </tr>\n",
       "    <tr>\n",
       "      <th>1</th>\n",
       "      <td>2</td>\n",
       "      <td>1</td>\n",
       "      <td>2</td>\n",
       "      <td>1</td>\n",
       "      <td>03/06/2020</td>\n",
       "      <td>97</td>\n",
       "      <td>1</td>\n",
       "      <td>72</td>\n",
       "      <td>97</td>\n",
       "      <td>2</td>\n",
       "      <td>...</td>\n",
       "      <td>2</td>\n",
       "      <td>2</td>\n",
       "      <td>1</td>\n",
       "      <td>2</td>\n",
       "      <td>2</td>\n",
       "      <td>1</td>\n",
       "      <td>1</td>\n",
       "      <td>2</td>\n",
       "      <td>5</td>\n",
       "      <td>97</td>\n",
       "    </tr>\n",
       "    <tr>\n",
       "      <th>2</th>\n",
       "      <td>2</td>\n",
       "      <td>1</td>\n",
       "      <td>2</td>\n",
       "      <td>2</td>\n",
       "      <td>09/06/2020</td>\n",
       "      <td>1</td>\n",
       "      <td>2</td>\n",
       "      <td>55</td>\n",
       "      <td>97</td>\n",
       "      <td>1</td>\n",
       "      <td>...</td>\n",
       "      <td>2</td>\n",
       "      <td>2</td>\n",
       "      <td>2</td>\n",
       "      <td>2</td>\n",
       "      <td>2</td>\n",
       "      <td>2</td>\n",
       "      <td>2</td>\n",
       "      <td>2</td>\n",
       "      <td>3</td>\n",
       "      <td>2</td>\n",
       "    </tr>\n",
       "    <tr>\n",
       "      <th>3</th>\n",
       "      <td>2</td>\n",
       "      <td>1</td>\n",
       "      <td>1</td>\n",
       "      <td>1</td>\n",
       "      <td>12/06/2020</td>\n",
       "      <td>97</td>\n",
       "      <td>2</td>\n",
       "      <td>53</td>\n",
       "      <td>2</td>\n",
       "      <td>2</td>\n",
       "      <td>...</td>\n",
       "      <td>2</td>\n",
       "      <td>2</td>\n",
       "      <td>2</td>\n",
       "      <td>2</td>\n",
       "      <td>2</td>\n",
       "      <td>2</td>\n",
       "      <td>2</td>\n",
       "      <td>2</td>\n",
       "      <td>7</td>\n",
       "      <td>97</td>\n",
       "    </tr>\n",
       "    <tr>\n",
       "      <th>4</th>\n",
       "      <td>2</td>\n",
       "      <td>1</td>\n",
       "      <td>2</td>\n",
       "      <td>1</td>\n",
       "      <td>21/06/2020</td>\n",
       "      <td>97</td>\n",
       "      <td>2</td>\n",
       "      <td>68</td>\n",
       "      <td>97</td>\n",
       "      <td>1</td>\n",
       "      <td>...</td>\n",
       "      <td>2</td>\n",
       "      <td>2</td>\n",
       "      <td>1</td>\n",
       "      <td>2</td>\n",
       "      <td>2</td>\n",
       "      <td>2</td>\n",
       "      <td>2</td>\n",
       "      <td>2</td>\n",
       "      <td>3</td>\n",
       "      <td>97</td>\n",
       "    </tr>\n",
       "    <tr>\n",
       "      <th>...</th>\n",
       "      <td>...</td>\n",
       "      <td>...</td>\n",
       "      <td>...</td>\n",
       "      <td>...</td>\n",
       "      <td>...</td>\n",
       "      <td>...</td>\n",
       "      <td>...</td>\n",
       "      <td>...</td>\n",
       "      <td>...</td>\n",
       "      <td>...</td>\n",
       "      <td>...</td>\n",
       "      <td>...</td>\n",
       "      <td>...</td>\n",
       "      <td>...</td>\n",
       "      <td>...</td>\n",
       "      <td>...</td>\n",
       "      <td>...</td>\n",
       "      <td>...</td>\n",
       "      <td>...</td>\n",
       "      <td>...</td>\n",
       "      <td>...</td>\n",
       "    </tr>\n",
       "    <tr>\n",
       "      <th>1048570</th>\n",
       "      <td>2</td>\n",
       "      <td>13</td>\n",
       "      <td>2</td>\n",
       "      <td>1</td>\n",
       "      <td>9999-99-99</td>\n",
       "      <td>97</td>\n",
       "      <td>2</td>\n",
       "      <td>40</td>\n",
       "      <td>97</td>\n",
       "      <td>2</td>\n",
       "      <td>...</td>\n",
       "      <td>2</td>\n",
       "      <td>2</td>\n",
       "      <td>2</td>\n",
       "      <td>2</td>\n",
       "      <td>2</td>\n",
       "      <td>2</td>\n",
       "      <td>2</td>\n",
       "      <td>2</td>\n",
       "      <td>7</td>\n",
       "      <td>97</td>\n",
       "    </tr>\n",
       "    <tr>\n",
       "      <th>1048571</th>\n",
       "      <td>1</td>\n",
       "      <td>13</td>\n",
       "      <td>2</td>\n",
       "      <td>2</td>\n",
       "      <td>9999-99-99</td>\n",
       "      <td>2</td>\n",
       "      <td>2</td>\n",
       "      <td>51</td>\n",
       "      <td>97</td>\n",
       "      <td>2</td>\n",
       "      <td>...</td>\n",
       "      <td>2</td>\n",
       "      <td>2</td>\n",
       "      <td>1</td>\n",
       "      <td>2</td>\n",
       "      <td>2</td>\n",
       "      <td>2</td>\n",
       "      <td>2</td>\n",
       "      <td>2</td>\n",
       "      <td>7</td>\n",
       "      <td>2</td>\n",
       "    </tr>\n",
       "    <tr>\n",
       "      <th>1048572</th>\n",
       "      <td>2</td>\n",
       "      <td>13</td>\n",
       "      <td>2</td>\n",
       "      <td>1</td>\n",
       "      <td>9999-99-99</td>\n",
       "      <td>97</td>\n",
       "      <td>2</td>\n",
       "      <td>55</td>\n",
       "      <td>97</td>\n",
       "      <td>2</td>\n",
       "      <td>...</td>\n",
       "      <td>2</td>\n",
       "      <td>2</td>\n",
       "      <td>2</td>\n",
       "      <td>2</td>\n",
       "      <td>2</td>\n",
       "      <td>2</td>\n",
       "      <td>2</td>\n",
       "      <td>2</td>\n",
       "      <td>7</td>\n",
       "      <td>97</td>\n",
       "    </tr>\n",
       "    <tr>\n",
       "      <th>1048573</th>\n",
       "      <td>2</td>\n",
       "      <td>13</td>\n",
       "      <td>2</td>\n",
       "      <td>1</td>\n",
       "      <td>9999-99-99</td>\n",
       "      <td>97</td>\n",
       "      <td>2</td>\n",
       "      <td>28</td>\n",
       "      <td>97</td>\n",
       "      <td>2</td>\n",
       "      <td>...</td>\n",
       "      <td>2</td>\n",
       "      <td>2</td>\n",
       "      <td>2</td>\n",
       "      <td>2</td>\n",
       "      <td>2</td>\n",
       "      <td>2</td>\n",
       "      <td>2</td>\n",
       "      <td>2</td>\n",
       "      <td>7</td>\n",
       "      <td>97</td>\n",
       "    </tr>\n",
       "    <tr>\n",
       "      <th>1048574</th>\n",
       "      <td>2</td>\n",
       "      <td>13</td>\n",
       "      <td>2</td>\n",
       "      <td>1</td>\n",
       "      <td>9999-99-99</td>\n",
       "      <td>97</td>\n",
       "      <td>2</td>\n",
       "      <td>52</td>\n",
       "      <td>97</td>\n",
       "      <td>2</td>\n",
       "      <td>...</td>\n",
       "      <td>2</td>\n",
       "      <td>2</td>\n",
       "      <td>2</td>\n",
       "      <td>2</td>\n",
       "      <td>2</td>\n",
       "      <td>2</td>\n",
       "      <td>2</td>\n",
       "      <td>2</td>\n",
       "      <td>7</td>\n",
       "      <td>97</td>\n",
       "    </tr>\n",
       "  </tbody>\n",
       "</table>\n",
       "<p>1048575 rows × 21 columns</p>\n",
       "</div>"
      ],
      "text/plain": [
       "         USMER  MEDICAL_UNIT  SEX  PATIENT_TYPE   DATE_DIED  INTUBED  \\\n",
       "0            2             1    1             1  03/05/2020       97   \n",
       "1            2             1    2             1  03/06/2020       97   \n",
       "2            2             1    2             2  09/06/2020        1   \n",
       "3            2             1    1             1  12/06/2020       97   \n",
       "4            2             1    2             1  21/06/2020       97   \n",
       "...        ...           ...  ...           ...         ...      ...   \n",
       "1048570      2            13    2             1  9999-99-99       97   \n",
       "1048571      1            13    2             2  9999-99-99        2   \n",
       "1048572      2            13    2             1  9999-99-99       97   \n",
       "1048573      2            13    2             1  9999-99-99       97   \n",
       "1048574      2            13    2             1  9999-99-99       97   \n",
       "\n",
       "         PNEUMONIA  AGE  PREGNANT  DIABETES  ...  ASTHMA  INMSUPR  \\\n",
       "0                1   65         2         2  ...       2        2   \n",
       "1                1   72        97         2  ...       2        2   \n",
       "2                2   55        97         1  ...       2        2   \n",
       "3                2   53         2         2  ...       2        2   \n",
       "4                2   68        97         1  ...       2        2   \n",
       "...            ...  ...       ...       ...  ...     ...      ...   \n",
       "1048570          2   40        97         2  ...       2        2   \n",
       "1048571          2   51        97         2  ...       2        2   \n",
       "1048572          2   55        97         2  ...       2        2   \n",
       "1048573          2   28        97         2  ...       2        2   \n",
       "1048574          2   52        97         2  ...       2        2   \n",
       "\n",
       "         HIPERTENSION  OTHER_DISEASE  CARDIOVASCULAR  OBESITY  RENAL_CHRONIC  \\\n",
       "0                   1              2               2        2              2   \n",
       "1                   1              2               2        1              1   \n",
       "2                   2              2               2        2              2   \n",
       "3                   2              2               2        2              2   \n",
       "4                   1              2               2        2              2   \n",
       "...               ...            ...             ...      ...            ...   \n",
       "1048570             2              2               2        2              2   \n",
       "1048571             1              2               2        2              2   \n",
       "1048572             2              2               2        2              2   \n",
       "1048573             2              2               2        2              2   \n",
       "1048574             2              2               2        2              2   \n",
       "\n",
       "         TOBACCO  CLASIFFICATION_FINAL  ICU  \n",
       "0              2                     3   97  \n",
       "1              2                     5   97  \n",
       "2              2                     3    2  \n",
       "3              2                     7   97  \n",
       "4              2                     3   97  \n",
       "...          ...                   ...  ...  \n",
       "1048570        2                     7   97  \n",
       "1048571        2                     7    2  \n",
       "1048572        2                     7   97  \n",
       "1048573        2                     7   97  \n",
       "1048574        2                     7   97  \n",
       "\n",
       "[1048575 rows x 21 columns]"
      ]
     },
     "execution_count": 3,
     "metadata": {},
     "output_type": "execute_result"
    }
   ],
   "source": [
    "df_covid"
   ]
  },
  {
   "cell_type": "markdown",
   "id": "6123a7a1",
   "metadata": {},
   "source": [
    "### Copying description from Kaggle\n",
    "\n",
    "About Dataset\n",
    "Context\n",
    "Coronavirus disease (COVID-19) is an infectious disease caused by a newly discovered coronavirus. Most people infected with COVID-19 virus will experience mild to moderate respiratory illness and recover without requiring special treatment. Older people, and those with underlying medical problems like cardiovascular disease, diabetes, chronic respiratory disease, and cancer are more likely to develop serious illness.\n",
    "During the entire course of the pandemic, one of the main problems that healthcare providers have faced is the shortage of medical resources and a proper plan to efficiently distribute them. In these tough times, being able to predict what kind of resource an individual might require at the time of being tested positive or even before that will be of immense help to the authorities as they would be able to procure and arrange for the resources necessary to save the life of that patient.\n",
    "\n",
    "The main goal of this project is to build a machine learning model that, given a Covid-19 patient's current symptom, status, and medical history, will predict whether the patient is in high risk or not.\n",
    "\n",
    "### content\n",
    "The dataset was provided by the Mexican government (link). This dataset contains an enormous number of anonymized patient-related information including pre-conditions. The raw dataset consists of 21 unique features and 1,048,576 unique patients. In the Boolean features, 1 means \"yes\" and 2 means \"no\". values as 97 and 99 are missing data.\n",
    "\n",
    "* sex: 1 for female and 2 for male.\n",
    "* age: of the patient.\n",
    "* classification: covid test findings. Values 1-3 mean that the patient was diagnosed with covid in different degrees. 4 or higher means that the patient is not a carrier of covid or that the test is inconclusive.\n",
    "* patient type: type of care the patient received in the unit. 1 for returned home and 2 for hospitalization.\n",
    "* pneumonia: whether the patient already have air sacs inflammation or not.\n",
    "* pregnancy: whether the patient is pregnant or not.\n",
    "* diabetes: whether the patient has diabetes or not.\n",
    "* copd: Indicates whether the patient has Chronic obstructive pulmonary disease or not.\n",
    "* asthma: whether the patient has asthma or not.\n",
    "* inmsupr: whether the patient is immunosuppressed or not.\n",
    "* hypertension: whether the patient has hypertension or not.\n",
    "* cardiovascular: whether the patient has heart or blood vessels related disease.\n",
    "* renal chronic: whether the patient has chronic renal disease or not.\n",
    "* other disease: whether the patient has other disease or not.\n",
    "* obesity: whether the patient is obese or not.\n",
    "* tobacco: whether the patient is a tobacco user.\n",
    "* usmr: Indicates whether the patient treated medical units of the first, second or third level.\n",
    "* medical unit: type of institution of the National Health System that provided the care.\n",
    "* intubed: whether the patient was connected to the ventilator.\n",
    "* icu: Indicates whether the patient had been admitted to an Intensive Care Unit.\n",
    "* date died: If the patient died indicate the date of death, and 9999-99-99 otherwise."
   ]
  },
  {
   "cell_type": "markdown",
   "id": "597b444e",
   "metadata": {},
   "source": [
    "I need to decide which one should be the target variable. The possible ones are:\n",
    "'classification', 'patient type', 'usmr', 'medical unit', 'icu', 'date died'"
   ]
  },
  {
   "cell_type": "code",
   "execution_count": 4,
   "id": "c2103d27",
   "metadata": {},
   "outputs": [
    {
     "data": {
      "text/plain": [
       "Index(['USMER', 'MEDICAL_UNIT', 'SEX', 'PATIENT_TYPE', 'DATE_DIED', 'INTUBED',\n",
       "       'PNEUMONIA', 'AGE', 'PREGNANT', 'DIABETES', 'COPD', 'ASTHMA', 'INMSUPR',\n",
       "       'HIPERTENSION', 'OTHER_DISEASE', 'CARDIOVASCULAR', 'OBESITY',\n",
       "       'RENAL_CHRONIC', 'TOBACCO', 'CLASIFFICATION_FINAL', 'ICU'],\n",
       "      dtype='object')"
      ]
     },
     "execution_count": 4,
     "metadata": {},
     "output_type": "execute_result"
    }
   ],
   "source": [
    "df_covid.columns"
   ]
  },
  {
   "cell_type": "code",
   "execution_count": 5,
   "id": "d3ccaf8c",
   "metadata": {},
   "outputs": [
    {
     "data": {
      "text/plain": [
       "<bound method IndexOpsMixin.value_counts of 0          2\n",
       "1          2\n",
       "2          2\n",
       "3          2\n",
       "4          2\n",
       "          ..\n",
       "1048570    2\n",
       "1048571    1\n",
       "1048572    2\n",
       "1048573    2\n",
       "1048574    2\n",
       "Name: USMER, Length: 1048575, dtype: int64>"
      ]
     },
     "execution_count": 5,
     "metadata": {},
     "output_type": "execute_result"
    }
   ],
   "source": [
    "df_covid['USMER'].value_counts"
   ]
  },
  {
   "cell_type": "code",
   "execution_count": 6,
   "id": "c73bcc15",
   "metadata": {},
   "outputs": [
    {
     "data": {
      "text/plain": [
       "2    0.632194\n",
       "1    0.367806\n",
       "Name: USMER, dtype: float64"
      ]
     },
     "execution_count": 6,
     "metadata": {},
     "output_type": "execute_result"
    }
   ],
   "source": [
    "df_covid['USMER'].value_counts(normalize=True)"
   ]
  },
  {
   "cell_type": "code",
   "execution_count": 7,
   "id": "01650b62",
   "metadata": {},
   "outputs": [
    {
     "data": {
      "text/plain": [
       "7    0.476122\n",
       "3    0.363853\n",
       "6    0.122197\n",
       "5    0.024882\n",
       "1    0.008203\n",
       "4    0.002977\n",
       "2    0.001765\n",
       "Name: CLASIFFICATION_FINAL, dtype: float64"
      ]
     },
     "execution_count": 7,
     "metadata": {},
     "output_type": "execute_result"
    }
   ],
   "source": [
    "df_covid['CLASIFFICATION_FINAL'].value_counts(normalize=True)"
   ]
  },
  {
   "cell_type": "markdown",
   "id": "a81a962a",
   "metadata": {},
   "source": [
    "I would need to do a groupby here because values 1-3 mean they had covid, 4 and up no covid.\n",
    "I think whichever target variable I choose I have to remove all the other info we have about the patient having covid."
   ]
  },
  {
   "cell_type": "code",
   "execution_count": 8,
   "id": "1677f3f3",
   "metadata": {},
   "outputs": [
    {
     "data": {
      "text/plain": [
       "1    0.809235\n",
       "2    0.190765\n",
       "Name: PATIENT_TYPE, dtype: float64"
      ]
     },
     "execution_count": 8,
     "metadata": {},
     "output_type": "execute_result"
    }
   ],
   "source": [
    "df_covid['PATIENT_TYPE'].value_counts(normalize=True)"
   ]
  },
  {
   "cell_type": "markdown",
   "id": "10d5cc2a",
   "metadata": {},
   "source": [
    "This could be good but it is imbalanced. But maybe even like this it is ok."
   ]
  },
  {
   "cell_type": "code",
   "execution_count": 9,
   "id": "0b635a26",
   "metadata": {},
   "outputs": [
    {
     "data": {
      "text/plain": [
       "12    0.575061\n",
       "4     0.299840\n",
       "6     0.038704\n",
       "9     0.036350\n",
       "3     0.018287\n",
       "8     0.009917\n",
       "10    0.007508\n",
       "5     0.006908\n",
       "11    0.005319\n",
       "13    0.000950\n",
       "7     0.000850\n",
       "2     0.000161\n",
       "1     0.000144\n",
       "Name: MEDICAL_UNIT, dtype: float64"
      ]
     },
     "execution_count": 9,
     "metadata": {},
     "output_type": "execute_result"
    }
   ],
   "source": [
    "df_covid['MEDICAL_UNIT'].value_counts(normalize=True)"
   ]
  },
  {
   "cell_type": "code",
   "execution_count": 10,
   "id": "7d19ac8d",
   "metadata": {},
   "outputs": [],
   "source": [
    "# Not very informative"
   ]
  },
  {
   "cell_type": "code",
   "execution_count": 11,
   "id": "30a29e92",
   "metadata": {},
   "outputs": [
    {
     "data": {
      "text/plain": [
       "97    0.809235\n",
       "2     0.167546\n",
       "1     0.016077\n",
       "99    0.007141\n",
       "Name: ICU, dtype: float64"
      ]
     },
     "execution_count": 11,
     "metadata": {},
     "output_type": "execute_result"
    }
   ],
   "source": [
    "df_covid['ICU'].value_counts(normalize=True)"
   ]
  },
  {
   "cell_type": "code",
   "execution_count": 12,
   "id": "a2a9f02e",
   "metadata": {},
   "outputs": [],
   "source": [
    "# Mostly missing values"
   ]
  },
  {
   "cell_type": "code",
   "execution_count": 13,
   "id": "0a6b9cba",
   "metadata": {},
   "outputs": [
    {
     "data": {
      "text/plain": [
       "9999-99-99    9.266223e-01\n",
       "06/07/2020    9.536752e-04\n",
       "07/07/2020    9.498605e-04\n",
       "13/07/2020    9.441385e-04\n",
       "16/06/2020    9.336480e-04\n",
       "                  ...     \n",
       "27/03/2021    9.536752e-07\n",
       "17/10/2020    9.536752e-07\n",
       "13/10/2020    9.536752e-07\n",
       "16/12/2020    9.536752e-07\n",
       "11/02/2021    9.536752e-07\n",
       "Name: DATE_DIED, Length: 401, dtype: float64"
      ]
     },
     "execution_count": 13,
     "metadata": {},
     "output_type": "execute_result"
    }
   ],
   "source": [
    "df_covid['DATE_DIED'].value_counts(normalize=True)"
   ]
  },
  {
   "cell_type": "code",
   "execution_count": 14,
   "id": "5eb872c7",
   "metadata": {},
   "outputs": [],
   "source": [
    "# Mostly missing values"
   ]
  },
  {
   "cell_type": "markdown",
   "id": "5e6df2fc",
   "metadata": {},
   "source": [
    "Stays standing 'classification', 'patient type'"
   ]
  },
  {
   "cell_type": "markdown",
   "id": "77bb317c",
   "metadata": {},
   "source": [
    "To make the decision between these two variables we did some research to gain some domain knowledge and spoke directly to some first responders during the covid 19 pandemic, that suggested that the information about whether or not a patient needed to be hospitalized was more valuable than the results of the covid test.\n",
    "This is the case since some patients might have tested positive for covid 19, but because of mild symptoms and overall good health were sent back home to be treated, and what actually really put a strain on health structures was the number of people in need to be hospitalized. Because of this we are going to use 'patient type' as our target for this study.\n",
    "We are also going to drop all the other variables related to hospitalization since those contain knowledge about the hospitalization of the patient, while what we are trying to predict is the amout of people that would need to be hospitalized, based on previous knowledge so this is not a type of information we would have, if we wanted to use the model again on other data."
   ]
  },
  {
   "cell_type": "markdown",
   "id": "2f06ed47",
   "metadata": {},
   "source": [
    "So target should be patient type and all the other hospital related variables should be dropped."
   ]
  },
  {
   "cell_type": "code",
   "execution_count": 15,
   "id": "0fff17f2",
   "metadata": {},
   "outputs": [
    {
     "data": {
      "text/html": [
       "<div>\n",
       "<style scoped>\n",
       "    .dataframe tbody tr th:only-of-type {\n",
       "        vertical-align: middle;\n",
       "    }\n",
       "\n",
       "    .dataframe tbody tr th {\n",
       "        vertical-align: top;\n",
       "    }\n",
       "\n",
       "    .dataframe thead th {\n",
       "        text-align: right;\n",
       "    }\n",
       "</style>\n",
       "<table border=\"1\" class=\"dataframe\">\n",
       "  <thead>\n",
       "    <tr style=\"text-align: right;\">\n",
       "      <th></th>\n",
       "      <th>USMER</th>\n",
       "      <th>MEDICAL_UNIT</th>\n",
       "      <th>SEX</th>\n",
       "      <th>PATIENT_TYPE</th>\n",
       "      <th>DATE_DIED</th>\n",
       "      <th>INTUBED</th>\n",
       "      <th>PNEUMONIA</th>\n",
       "      <th>AGE</th>\n",
       "      <th>PREGNANT</th>\n",
       "      <th>DIABETES</th>\n",
       "      <th>...</th>\n",
       "      <th>ASTHMA</th>\n",
       "      <th>INMSUPR</th>\n",
       "      <th>HIPERTENSION</th>\n",
       "      <th>OTHER_DISEASE</th>\n",
       "      <th>CARDIOVASCULAR</th>\n",
       "      <th>OBESITY</th>\n",
       "      <th>RENAL_CHRONIC</th>\n",
       "      <th>TOBACCO</th>\n",
       "      <th>CLASIFFICATION_FINAL</th>\n",
       "      <th>ICU</th>\n",
       "    </tr>\n",
       "  </thead>\n",
       "  <tbody>\n",
       "    <tr>\n",
       "      <th>0</th>\n",
       "      <td>2</td>\n",
       "      <td>1</td>\n",
       "      <td>1</td>\n",
       "      <td>1</td>\n",
       "      <td>03/05/2020</td>\n",
       "      <td>97</td>\n",
       "      <td>1</td>\n",
       "      <td>65</td>\n",
       "      <td>2</td>\n",
       "      <td>2</td>\n",
       "      <td>...</td>\n",
       "      <td>2</td>\n",
       "      <td>2</td>\n",
       "      <td>1</td>\n",
       "      <td>2</td>\n",
       "      <td>2</td>\n",
       "      <td>2</td>\n",
       "      <td>2</td>\n",
       "      <td>2</td>\n",
       "      <td>3</td>\n",
       "      <td>97</td>\n",
       "    </tr>\n",
       "    <tr>\n",
       "      <th>1</th>\n",
       "      <td>2</td>\n",
       "      <td>1</td>\n",
       "      <td>2</td>\n",
       "      <td>1</td>\n",
       "      <td>03/06/2020</td>\n",
       "      <td>97</td>\n",
       "      <td>1</td>\n",
       "      <td>72</td>\n",
       "      <td>97</td>\n",
       "      <td>2</td>\n",
       "      <td>...</td>\n",
       "      <td>2</td>\n",
       "      <td>2</td>\n",
       "      <td>1</td>\n",
       "      <td>2</td>\n",
       "      <td>2</td>\n",
       "      <td>1</td>\n",
       "      <td>1</td>\n",
       "      <td>2</td>\n",
       "      <td>5</td>\n",
       "      <td>97</td>\n",
       "    </tr>\n",
       "    <tr>\n",
       "      <th>2</th>\n",
       "      <td>2</td>\n",
       "      <td>1</td>\n",
       "      <td>2</td>\n",
       "      <td>2</td>\n",
       "      <td>09/06/2020</td>\n",
       "      <td>1</td>\n",
       "      <td>2</td>\n",
       "      <td>55</td>\n",
       "      <td>97</td>\n",
       "      <td>1</td>\n",
       "      <td>...</td>\n",
       "      <td>2</td>\n",
       "      <td>2</td>\n",
       "      <td>2</td>\n",
       "      <td>2</td>\n",
       "      <td>2</td>\n",
       "      <td>2</td>\n",
       "      <td>2</td>\n",
       "      <td>2</td>\n",
       "      <td>3</td>\n",
       "      <td>2</td>\n",
       "    </tr>\n",
       "    <tr>\n",
       "      <th>3</th>\n",
       "      <td>2</td>\n",
       "      <td>1</td>\n",
       "      <td>1</td>\n",
       "      <td>1</td>\n",
       "      <td>12/06/2020</td>\n",
       "      <td>97</td>\n",
       "      <td>2</td>\n",
       "      <td>53</td>\n",
       "      <td>2</td>\n",
       "      <td>2</td>\n",
       "      <td>...</td>\n",
       "      <td>2</td>\n",
       "      <td>2</td>\n",
       "      <td>2</td>\n",
       "      <td>2</td>\n",
       "      <td>2</td>\n",
       "      <td>2</td>\n",
       "      <td>2</td>\n",
       "      <td>2</td>\n",
       "      <td>7</td>\n",
       "      <td>97</td>\n",
       "    </tr>\n",
       "    <tr>\n",
       "      <th>4</th>\n",
       "      <td>2</td>\n",
       "      <td>1</td>\n",
       "      <td>2</td>\n",
       "      <td>1</td>\n",
       "      <td>21/06/2020</td>\n",
       "      <td>97</td>\n",
       "      <td>2</td>\n",
       "      <td>68</td>\n",
       "      <td>97</td>\n",
       "      <td>1</td>\n",
       "      <td>...</td>\n",
       "      <td>2</td>\n",
       "      <td>2</td>\n",
       "      <td>1</td>\n",
       "      <td>2</td>\n",
       "      <td>2</td>\n",
       "      <td>2</td>\n",
       "      <td>2</td>\n",
       "      <td>2</td>\n",
       "      <td>3</td>\n",
       "      <td>97</td>\n",
       "    </tr>\n",
       "    <tr>\n",
       "      <th>...</th>\n",
       "      <td>...</td>\n",
       "      <td>...</td>\n",
       "      <td>...</td>\n",
       "      <td>...</td>\n",
       "      <td>...</td>\n",
       "      <td>...</td>\n",
       "      <td>...</td>\n",
       "      <td>...</td>\n",
       "      <td>...</td>\n",
       "      <td>...</td>\n",
       "      <td>...</td>\n",
       "      <td>...</td>\n",
       "      <td>...</td>\n",
       "      <td>...</td>\n",
       "      <td>...</td>\n",
       "      <td>...</td>\n",
       "      <td>...</td>\n",
       "      <td>...</td>\n",
       "      <td>...</td>\n",
       "      <td>...</td>\n",
       "      <td>...</td>\n",
       "    </tr>\n",
       "    <tr>\n",
       "      <th>1048570</th>\n",
       "      <td>2</td>\n",
       "      <td>13</td>\n",
       "      <td>2</td>\n",
       "      <td>1</td>\n",
       "      <td>9999-99-99</td>\n",
       "      <td>97</td>\n",
       "      <td>2</td>\n",
       "      <td>40</td>\n",
       "      <td>97</td>\n",
       "      <td>2</td>\n",
       "      <td>...</td>\n",
       "      <td>2</td>\n",
       "      <td>2</td>\n",
       "      <td>2</td>\n",
       "      <td>2</td>\n",
       "      <td>2</td>\n",
       "      <td>2</td>\n",
       "      <td>2</td>\n",
       "      <td>2</td>\n",
       "      <td>7</td>\n",
       "      <td>97</td>\n",
       "    </tr>\n",
       "    <tr>\n",
       "      <th>1048571</th>\n",
       "      <td>1</td>\n",
       "      <td>13</td>\n",
       "      <td>2</td>\n",
       "      <td>2</td>\n",
       "      <td>9999-99-99</td>\n",
       "      <td>2</td>\n",
       "      <td>2</td>\n",
       "      <td>51</td>\n",
       "      <td>97</td>\n",
       "      <td>2</td>\n",
       "      <td>...</td>\n",
       "      <td>2</td>\n",
       "      <td>2</td>\n",
       "      <td>1</td>\n",
       "      <td>2</td>\n",
       "      <td>2</td>\n",
       "      <td>2</td>\n",
       "      <td>2</td>\n",
       "      <td>2</td>\n",
       "      <td>7</td>\n",
       "      <td>2</td>\n",
       "    </tr>\n",
       "    <tr>\n",
       "      <th>1048572</th>\n",
       "      <td>2</td>\n",
       "      <td>13</td>\n",
       "      <td>2</td>\n",
       "      <td>1</td>\n",
       "      <td>9999-99-99</td>\n",
       "      <td>97</td>\n",
       "      <td>2</td>\n",
       "      <td>55</td>\n",
       "      <td>97</td>\n",
       "      <td>2</td>\n",
       "      <td>...</td>\n",
       "      <td>2</td>\n",
       "      <td>2</td>\n",
       "      <td>2</td>\n",
       "      <td>2</td>\n",
       "      <td>2</td>\n",
       "      <td>2</td>\n",
       "      <td>2</td>\n",
       "      <td>2</td>\n",
       "      <td>7</td>\n",
       "      <td>97</td>\n",
       "    </tr>\n",
       "    <tr>\n",
       "      <th>1048573</th>\n",
       "      <td>2</td>\n",
       "      <td>13</td>\n",
       "      <td>2</td>\n",
       "      <td>1</td>\n",
       "      <td>9999-99-99</td>\n",
       "      <td>97</td>\n",
       "      <td>2</td>\n",
       "      <td>28</td>\n",
       "      <td>97</td>\n",
       "      <td>2</td>\n",
       "      <td>...</td>\n",
       "      <td>2</td>\n",
       "      <td>2</td>\n",
       "      <td>2</td>\n",
       "      <td>2</td>\n",
       "      <td>2</td>\n",
       "      <td>2</td>\n",
       "      <td>2</td>\n",
       "      <td>2</td>\n",
       "      <td>7</td>\n",
       "      <td>97</td>\n",
       "    </tr>\n",
       "    <tr>\n",
       "      <th>1048574</th>\n",
       "      <td>2</td>\n",
       "      <td>13</td>\n",
       "      <td>2</td>\n",
       "      <td>1</td>\n",
       "      <td>9999-99-99</td>\n",
       "      <td>97</td>\n",
       "      <td>2</td>\n",
       "      <td>52</td>\n",
       "      <td>97</td>\n",
       "      <td>2</td>\n",
       "      <td>...</td>\n",
       "      <td>2</td>\n",
       "      <td>2</td>\n",
       "      <td>2</td>\n",
       "      <td>2</td>\n",
       "      <td>2</td>\n",
       "      <td>2</td>\n",
       "      <td>2</td>\n",
       "      <td>2</td>\n",
       "      <td>7</td>\n",
       "      <td>97</td>\n",
       "    </tr>\n",
       "  </tbody>\n",
       "</table>\n",
       "<p>1048575 rows × 21 columns</p>\n",
       "</div>"
      ],
      "text/plain": [
       "         USMER  MEDICAL_UNIT  SEX  PATIENT_TYPE   DATE_DIED  INTUBED  \\\n",
       "0            2             1    1             1  03/05/2020       97   \n",
       "1            2             1    2             1  03/06/2020       97   \n",
       "2            2             1    2             2  09/06/2020        1   \n",
       "3            2             1    1             1  12/06/2020       97   \n",
       "4            2             1    2             1  21/06/2020       97   \n",
       "...        ...           ...  ...           ...         ...      ...   \n",
       "1048570      2            13    2             1  9999-99-99       97   \n",
       "1048571      1            13    2             2  9999-99-99        2   \n",
       "1048572      2            13    2             1  9999-99-99       97   \n",
       "1048573      2            13    2             1  9999-99-99       97   \n",
       "1048574      2            13    2             1  9999-99-99       97   \n",
       "\n",
       "         PNEUMONIA  AGE  PREGNANT  DIABETES  ...  ASTHMA  INMSUPR  \\\n",
       "0                1   65         2         2  ...       2        2   \n",
       "1                1   72        97         2  ...       2        2   \n",
       "2                2   55        97         1  ...       2        2   \n",
       "3                2   53         2         2  ...       2        2   \n",
       "4                2   68        97         1  ...       2        2   \n",
       "...            ...  ...       ...       ...  ...     ...      ...   \n",
       "1048570          2   40        97         2  ...       2        2   \n",
       "1048571          2   51        97         2  ...       2        2   \n",
       "1048572          2   55        97         2  ...       2        2   \n",
       "1048573          2   28        97         2  ...       2        2   \n",
       "1048574          2   52        97         2  ...       2        2   \n",
       "\n",
       "         HIPERTENSION  OTHER_DISEASE  CARDIOVASCULAR  OBESITY  RENAL_CHRONIC  \\\n",
       "0                   1              2               2        2              2   \n",
       "1                   1              2               2        1              1   \n",
       "2                   2              2               2        2              2   \n",
       "3                   2              2               2        2              2   \n",
       "4                   1              2               2        2              2   \n",
       "...               ...            ...             ...      ...            ...   \n",
       "1048570             2              2               2        2              2   \n",
       "1048571             1              2               2        2              2   \n",
       "1048572             2              2               2        2              2   \n",
       "1048573             2              2               2        2              2   \n",
       "1048574             2              2               2        2              2   \n",
       "\n",
       "         TOBACCO  CLASIFFICATION_FINAL  ICU  \n",
       "0              2                     3   97  \n",
       "1              2                     5   97  \n",
       "2              2                     3    2  \n",
       "3              2                     7   97  \n",
       "4              2                     3   97  \n",
       "...          ...                   ...  ...  \n",
       "1048570        2                     7   97  \n",
       "1048571        2                     7    2  \n",
       "1048572        2                     7   97  \n",
       "1048573        2                     7   97  \n",
       "1048574        2                     7   97  \n",
       "\n",
       "[1048575 rows x 21 columns]"
      ]
     },
     "execution_count": 15,
     "metadata": {},
     "output_type": "execute_result"
    }
   ],
   "source": [
    "df_covid"
   ]
  },
  {
   "cell_type": "code",
   "execution_count": 16,
   "id": "1eb1fda9",
   "metadata": {},
   "outputs": [
    {
     "data": {
      "text/plain": [
       "Index(['USMER', 'MEDICAL_UNIT', 'SEX', 'PATIENT_TYPE', 'DATE_DIED', 'INTUBED',\n",
       "       'PNEUMONIA', 'AGE', 'PREGNANT', 'DIABETES', 'COPD', 'ASTHMA', 'INMSUPR',\n",
       "       'HIPERTENSION', 'OTHER_DISEASE', 'CARDIOVASCULAR', 'OBESITY',\n",
       "       'RENAL_CHRONIC', 'TOBACCO', 'CLASIFFICATION_FINAL', 'ICU'],\n",
       "      dtype='object')"
      ]
     },
     "execution_count": 16,
     "metadata": {},
     "output_type": "execute_result"
    }
   ],
   "source": [
    "df_covid.columns"
   ]
  },
  {
   "cell_type": "code",
   "execution_count": 17,
   "id": "fb271cea",
   "metadata": {},
   "outputs": [],
   "source": [
    "df=df_covid.drop(['USMER', 'MEDICAL_UNIT', 'INTUBED', 'CLASIFFICATION_FINAL', 'ICU', 'DATE_DIED'], axis=1)"
   ]
  },
  {
   "cell_type": "code",
   "execution_count": 18,
   "id": "5e7e89a0",
   "metadata": {},
   "outputs": [
    {
     "data": {
      "text/html": [
       "<div>\n",
       "<style scoped>\n",
       "    .dataframe tbody tr th:only-of-type {\n",
       "        vertical-align: middle;\n",
       "    }\n",
       "\n",
       "    .dataframe tbody tr th {\n",
       "        vertical-align: top;\n",
       "    }\n",
       "\n",
       "    .dataframe thead th {\n",
       "        text-align: right;\n",
       "    }\n",
       "</style>\n",
       "<table border=\"1\" class=\"dataframe\">\n",
       "  <thead>\n",
       "    <tr style=\"text-align: right;\">\n",
       "      <th></th>\n",
       "      <th>SEX</th>\n",
       "      <th>PATIENT_TYPE</th>\n",
       "      <th>PNEUMONIA</th>\n",
       "      <th>AGE</th>\n",
       "      <th>PREGNANT</th>\n",
       "      <th>DIABETES</th>\n",
       "      <th>COPD</th>\n",
       "      <th>ASTHMA</th>\n",
       "      <th>INMSUPR</th>\n",
       "      <th>HIPERTENSION</th>\n",
       "      <th>OTHER_DISEASE</th>\n",
       "      <th>CARDIOVASCULAR</th>\n",
       "      <th>OBESITY</th>\n",
       "      <th>RENAL_CHRONIC</th>\n",
       "      <th>TOBACCO</th>\n",
       "    </tr>\n",
       "  </thead>\n",
       "  <tbody>\n",
       "    <tr>\n",
       "      <th>0</th>\n",
       "      <td>1</td>\n",
       "      <td>1</td>\n",
       "      <td>1</td>\n",
       "      <td>65</td>\n",
       "      <td>2</td>\n",
       "      <td>2</td>\n",
       "      <td>2</td>\n",
       "      <td>2</td>\n",
       "      <td>2</td>\n",
       "      <td>1</td>\n",
       "      <td>2</td>\n",
       "      <td>2</td>\n",
       "      <td>2</td>\n",
       "      <td>2</td>\n",
       "      <td>2</td>\n",
       "    </tr>\n",
       "    <tr>\n",
       "      <th>1</th>\n",
       "      <td>2</td>\n",
       "      <td>1</td>\n",
       "      <td>1</td>\n",
       "      <td>72</td>\n",
       "      <td>97</td>\n",
       "      <td>2</td>\n",
       "      <td>2</td>\n",
       "      <td>2</td>\n",
       "      <td>2</td>\n",
       "      <td>1</td>\n",
       "      <td>2</td>\n",
       "      <td>2</td>\n",
       "      <td>1</td>\n",
       "      <td>1</td>\n",
       "      <td>2</td>\n",
       "    </tr>\n",
       "    <tr>\n",
       "      <th>2</th>\n",
       "      <td>2</td>\n",
       "      <td>2</td>\n",
       "      <td>2</td>\n",
       "      <td>55</td>\n",
       "      <td>97</td>\n",
       "      <td>1</td>\n",
       "      <td>2</td>\n",
       "      <td>2</td>\n",
       "      <td>2</td>\n",
       "      <td>2</td>\n",
       "      <td>2</td>\n",
       "      <td>2</td>\n",
       "      <td>2</td>\n",
       "      <td>2</td>\n",
       "      <td>2</td>\n",
       "    </tr>\n",
       "    <tr>\n",
       "      <th>3</th>\n",
       "      <td>1</td>\n",
       "      <td>1</td>\n",
       "      <td>2</td>\n",
       "      <td>53</td>\n",
       "      <td>2</td>\n",
       "      <td>2</td>\n",
       "      <td>2</td>\n",
       "      <td>2</td>\n",
       "      <td>2</td>\n",
       "      <td>2</td>\n",
       "      <td>2</td>\n",
       "      <td>2</td>\n",
       "      <td>2</td>\n",
       "      <td>2</td>\n",
       "      <td>2</td>\n",
       "    </tr>\n",
       "    <tr>\n",
       "      <th>4</th>\n",
       "      <td>2</td>\n",
       "      <td>1</td>\n",
       "      <td>2</td>\n",
       "      <td>68</td>\n",
       "      <td>97</td>\n",
       "      <td>1</td>\n",
       "      <td>2</td>\n",
       "      <td>2</td>\n",
       "      <td>2</td>\n",
       "      <td>1</td>\n",
       "      <td>2</td>\n",
       "      <td>2</td>\n",
       "      <td>2</td>\n",
       "      <td>2</td>\n",
       "      <td>2</td>\n",
       "    </tr>\n",
       "    <tr>\n",
       "      <th>...</th>\n",
       "      <td>...</td>\n",
       "      <td>...</td>\n",
       "      <td>...</td>\n",
       "      <td>...</td>\n",
       "      <td>...</td>\n",
       "      <td>...</td>\n",
       "      <td>...</td>\n",
       "      <td>...</td>\n",
       "      <td>...</td>\n",
       "      <td>...</td>\n",
       "      <td>...</td>\n",
       "      <td>...</td>\n",
       "      <td>...</td>\n",
       "      <td>...</td>\n",
       "      <td>...</td>\n",
       "    </tr>\n",
       "    <tr>\n",
       "      <th>1048570</th>\n",
       "      <td>2</td>\n",
       "      <td>1</td>\n",
       "      <td>2</td>\n",
       "      <td>40</td>\n",
       "      <td>97</td>\n",
       "      <td>2</td>\n",
       "      <td>2</td>\n",
       "      <td>2</td>\n",
       "      <td>2</td>\n",
       "      <td>2</td>\n",
       "      <td>2</td>\n",
       "      <td>2</td>\n",
       "      <td>2</td>\n",
       "      <td>2</td>\n",
       "      <td>2</td>\n",
       "    </tr>\n",
       "    <tr>\n",
       "      <th>1048571</th>\n",
       "      <td>2</td>\n",
       "      <td>2</td>\n",
       "      <td>2</td>\n",
       "      <td>51</td>\n",
       "      <td>97</td>\n",
       "      <td>2</td>\n",
       "      <td>2</td>\n",
       "      <td>2</td>\n",
       "      <td>2</td>\n",
       "      <td>1</td>\n",
       "      <td>2</td>\n",
       "      <td>2</td>\n",
       "      <td>2</td>\n",
       "      <td>2</td>\n",
       "      <td>2</td>\n",
       "    </tr>\n",
       "    <tr>\n",
       "      <th>1048572</th>\n",
       "      <td>2</td>\n",
       "      <td>1</td>\n",
       "      <td>2</td>\n",
       "      <td>55</td>\n",
       "      <td>97</td>\n",
       "      <td>2</td>\n",
       "      <td>2</td>\n",
       "      <td>2</td>\n",
       "      <td>2</td>\n",
       "      <td>2</td>\n",
       "      <td>2</td>\n",
       "      <td>2</td>\n",
       "      <td>2</td>\n",
       "      <td>2</td>\n",
       "      <td>2</td>\n",
       "    </tr>\n",
       "    <tr>\n",
       "      <th>1048573</th>\n",
       "      <td>2</td>\n",
       "      <td>1</td>\n",
       "      <td>2</td>\n",
       "      <td>28</td>\n",
       "      <td>97</td>\n",
       "      <td>2</td>\n",
       "      <td>2</td>\n",
       "      <td>2</td>\n",
       "      <td>2</td>\n",
       "      <td>2</td>\n",
       "      <td>2</td>\n",
       "      <td>2</td>\n",
       "      <td>2</td>\n",
       "      <td>2</td>\n",
       "      <td>2</td>\n",
       "    </tr>\n",
       "    <tr>\n",
       "      <th>1048574</th>\n",
       "      <td>2</td>\n",
       "      <td>1</td>\n",
       "      <td>2</td>\n",
       "      <td>52</td>\n",
       "      <td>97</td>\n",
       "      <td>2</td>\n",
       "      <td>2</td>\n",
       "      <td>2</td>\n",
       "      <td>2</td>\n",
       "      <td>2</td>\n",
       "      <td>2</td>\n",
       "      <td>2</td>\n",
       "      <td>2</td>\n",
       "      <td>2</td>\n",
       "      <td>2</td>\n",
       "    </tr>\n",
       "  </tbody>\n",
       "</table>\n",
       "<p>1048575 rows × 15 columns</p>\n",
       "</div>"
      ],
      "text/plain": [
       "         SEX  PATIENT_TYPE  PNEUMONIA  AGE  PREGNANT  DIABETES  COPD  ASTHMA  \\\n",
       "0          1             1          1   65         2         2     2       2   \n",
       "1          2             1          1   72        97         2     2       2   \n",
       "2          2             2          2   55        97         1     2       2   \n",
       "3          1             1          2   53         2         2     2       2   \n",
       "4          2             1          2   68        97         1     2       2   \n",
       "...      ...           ...        ...  ...       ...       ...   ...     ...   \n",
       "1048570    2             1          2   40        97         2     2       2   \n",
       "1048571    2             2          2   51        97         2     2       2   \n",
       "1048572    2             1          2   55        97         2     2       2   \n",
       "1048573    2             1          2   28        97         2     2       2   \n",
       "1048574    2             1          2   52        97         2     2       2   \n",
       "\n",
       "         INMSUPR  HIPERTENSION  OTHER_DISEASE  CARDIOVASCULAR  OBESITY  \\\n",
       "0              2             1              2               2        2   \n",
       "1              2             1              2               2        1   \n",
       "2              2             2              2               2        2   \n",
       "3              2             2              2               2        2   \n",
       "4              2             1              2               2        2   \n",
       "...          ...           ...            ...             ...      ...   \n",
       "1048570        2             2              2               2        2   \n",
       "1048571        2             1              2               2        2   \n",
       "1048572        2             2              2               2        2   \n",
       "1048573        2             2              2               2        2   \n",
       "1048574        2             2              2               2        2   \n",
       "\n",
       "         RENAL_CHRONIC  TOBACCO  \n",
       "0                    2        2  \n",
       "1                    1        2  \n",
       "2                    2        2  \n",
       "3                    2        2  \n",
       "4                    2        2  \n",
       "...                ...      ...  \n",
       "1048570              2        2  \n",
       "1048571              2        2  \n",
       "1048572              2        2  \n",
       "1048573              2        2  \n",
       "1048574              2        2  \n",
       "\n",
       "[1048575 rows x 15 columns]"
      ]
     },
     "execution_count": 18,
     "metadata": {},
     "output_type": "execute_result"
    }
   ],
   "source": [
    "df"
   ]
  },
  {
   "cell_type": "markdown",
   "id": "9079ec46",
   "metadata": {},
   "source": [
    "The missing values are catalogued as 97 or 99. So I have to look for these values to understand how many null values."
   ]
  },
  {
   "cell_type": "markdown",
   "id": "c69fd663",
   "metadata": {},
   "source": [
    "Will need to find a way to replace the missing values for pregnant."
   ]
  },
  {
   "cell_type": "code",
   "execution_count": 19,
   "id": "1f815f2a",
   "metadata": {},
   "outputs": [
    {
     "name": "stdout",
     "output_type": "stream",
     "text": [
      "1    525064\n",
      "2    523511\n",
      "Name: SEX, dtype: int64\n",
      "\n",
      "\n",
      "1    848544\n",
      "2    200031\n",
      "Name: PATIENT_TYPE, dtype: int64\n",
      "\n",
      "\n",
      "2     892534\n",
      "1     140038\n",
      "99     16003\n",
      "Name: PNEUMONIA, dtype: int64\n",
      "\n",
      "\n",
      "30     27010\n",
      "31     25927\n",
      "28     25313\n",
      "29     25134\n",
      "34     24872\n",
      "       ...  \n",
      "115        2\n",
      "114        2\n",
      "113        1\n",
      "111        1\n",
      "121        1\n",
      "Name: AGE, Length: 121, dtype: int64\n",
      "\n",
      "\n",
      "97    523511\n",
      "2     513179\n",
      "1       8131\n",
      "98      3754\n",
      "Name: PREGNANT, dtype: int64\n",
      "\n",
      "\n",
      "2     920248\n",
      "1     124989\n",
      "98      3338\n",
      "Name: DIABETES, dtype: int64\n",
      "\n",
      "\n",
      "2     1030510\n",
      "1       15062\n",
      "98       3003\n",
      "Name: COPD, dtype: int64\n",
      "\n",
      "\n",
      "2     1014024\n",
      "1       31572\n",
      "98       2979\n",
      "Name: ASTHMA, dtype: int64\n",
      "\n",
      "\n",
      "2     1031001\n",
      "1       14170\n",
      "98       3404\n",
      "Name: INMSUPR, dtype: int64\n",
      "\n",
      "\n",
      "2     882742\n",
      "1     162729\n",
      "98      3104\n",
      "Name: HIPERTENSION, dtype: int64\n",
      "\n",
      "\n",
      "2     1015490\n",
      "1       28040\n",
      "98       5045\n",
      "Name: OTHER_DISEASE, dtype: int64\n",
      "\n",
      "\n",
      "2     1024730\n",
      "1       20769\n",
      "98       3076\n",
      "Name: CARDIOVASCULAR, dtype: int64\n",
      "\n",
      "\n",
      "2     885727\n",
      "1     159816\n",
      "98      3032\n",
      "Name: OBESITY, dtype: int64\n",
      "\n",
      "\n",
      "2     1026665\n",
      "1       18904\n",
      "98       3006\n",
      "Name: RENAL_CHRONIC, dtype: int64\n",
      "\n",
      "\n",
      "2     960979\n",
      "1      84376\n",
      "98      3220\n",
      "Name: TOBACCO, dtype: int64\n",
      "\n",
      "\n"
     ]
    }
   ],
   "source": [
    "for i in df.columns:\n",
    "    print(df[i].value_counts())\n",
    "    print(\"\\n\")"
   ]
  },
  {
   "cell_type": "markdown",
   "id": "6acc97e2",
   "metadata": {},
   "source": [
    "97, 98 and 99 represent missing values for all the columns except 'AGE'.\n",
    "<br>For some categories the missing values are so little that it's worth just dropping them. For the two categories with the most missing values, 'PREGNANT' and 'PNEUMONIA' we will proceed to impute them."
   ]
  },
  {
   "cell_type": "markdown",
   "id": "d97c25ee",
   "metadata": {},
   "source": [
    "We will temporarily remove the 'age' column as in this one 97, 98 and 99 are actually real values and not missing values.\n",
    "<br> We will work on this column first to remove the outliers, then we will drop it from the dataset and reeinsert it once we dealt with the missing values for the other columns."
   ]
  },
  {
   "cell_type": "code",
   "execution_count": 20,
   "id": "d7189a51",
   "metadata": {},
   "outputs": [],
   "source": [
    "age=df['AGE']"
   ]
  },
  {
   "cell_type": "code",
   "execution_count": 21,
   "id": "8b353522",
   "metadata": {},
   "outputs": [
    {
     "data": {
      "image/png": "[encoded data removed]",
      "text/plain": [
       "<Figure size 432x288 with 1 Axes>"
      ]
     },
     "metadata": {
      "needs_background": "light"
     },
     "output_type": "display_data"
    }
   ],
   "source": [
    "plt.hist(age);"
   ]
  },
  {
   "cell_type": "markdown",
   "id": "13280afe",
   "metadata": {},
   "source": [
    "Even if we cannot be certain about this, since there is no information about this on the dataset, we can safely assume that values for age that are above 110 are probably typos or outliers. It might also be the way that it was inputed when the value of 'age' for that patient was missing: since there are no NaN values and yet, 97 98 and 99 which were used in the other columns to indicate missing values, clearly cannot be used in this one.\n",
    "So we will remove the columns that have the age value>110."
   ]
  },
  {
   "cell_type": "code",
   "execution_count": 22,
   "id": "165b6eee",
   "metadata": {},
   "outputs": [],
   "source": [
    "df.drop(df.loc[df['AGE']>110].index, inplace=True)"
   ]
  },
  {
   "cell_type": "code",
   "execution_count": 23,
   "id": "14799aba",
   "metadata": {},
   "outputs": [
    {
     "data": {
      "text/plain": [
       "30     27010\n",
       "31     25927\n",
       "28     25313\n",
       "29     25134\n",
       "34     24872\n",
       "       ...  \n",
       "105        7\n",
       "109        6\n",
       "110        6\n",
       "107        5\n",
       "106        4\n",
       "Name: AGE, Length: 111, dtype: int64"
      ]
     },
     "execution_count": 23,
     "metadata": {},
     "output_type": "execute_result"
    }
   ],
   "source": [
    "df['AGE'].value_counts()"
   ]
  },
  {
   "cell_type": "markdown",
   "id": "0328451b",
   "metadata": {},
   "source": [
    "Now that we have taken care of the outliers for this column in the Dataframe we can remove it to add it again once we finish the rest of the data processing."
   ]
  },
  {
   "cell_type": "code",
   "execution_count": 24,
   "id": "bd0fc168",
   "metadata": {},
   "outputs": [],
   "source": [
    "df.drop('AGE', axis=1, inplace=True)"
   ]
  },
  {
   "cell_type": "code",
   "execution_count": 25,
   "id": "ecf59915",
   "metadata": {},
   "outputs": [],
   "source": [
    "for i in df.columns:\n",
    "    df[i]=df[i].replace([97,98,99], np.NaN)"
   ]
  },
  {
   "cell_type": "code",
   "execution_count": 26,
   "id": "e43edd7d",
   "metadata": {},
   "outputs": [
    {
     "data": {
      "text/plain": [
       "SEX                    0\n",
       "PATIENT_TYPE           0\n",
       "PNEUMONIA          16003\n",
       "PREGNANT          527251\n",
       "DIABETES            3338\n",
       "COPD                3003\n",
       "ASTHMA              2979\n",
       "INMSUPR             3404\n",
       "HIPERTENSION        3104\n",
       "OTHER_DISEASE       5045\n",
       "CARDIOVASCULAR      3076\n",
       "OBESITY             3032\n",
       "RENAL_CHRONIC       3006\n",
       "TOBACCO             3219\n",
       "dtype: int64"
      ]
     },
     "execution_count": 26,
     "metadata": {},
     "output_type": "execute_result"
    }
   ],
   "source": [
    "df.isna().sum()"
   ]
  },
  {
   "cell_type": "code",
   "execution_count": 27,
   "id": "dcc476a2",
   "metadata": {},
   "outputs": [
    {
     "data": {
      "text/plain": [
       "'I could replace the missing values using percentages OR I could do it using KNN OR I could do it direclty in the decision tree/random forest.\\nFor now let me replace them in this easier percentage way, then if I have time later I will try the other two ways.'"
      ]
     },
     "execution_count": 27,
     "metadata": {},
     "output_type": "execute_result"
    }
   ],
   "source": [
    "\"\"\"I could replace the missing values using percentages OR I could do it using KNN OR I could do it direclty in the decision tree/random forest.\n",
    "For now let me replace them in this easier percentage way, then if I have time later I will try the other two ways.\"\"\""
   ]
  },
  {
   "cell_type": "markdown",
   "id": "bb2c080c",
   "metadata": {},
   "source": [
    "As we saw before most missing values are in the columns \"PREGNANT\" and \"PNEUMONIA\".\n",
    "<br>We want to replace them but not just with the mode, but keeping the same percentage of values from the original data.\n",
    "<br>We will use the percentages that we saw in the above value counts, to keep the data distributed as it was originally."
   ]
  },
  {
   "cell_type": "code",
   "execution_count": 28,
   "id": "158991c6",
   "metadata": {},
   "outputs": [],
   "source": [
    "df['PREGNANT'] =df['PREGNANT'].fillna(pd.Series(np.random.choice([1, 2], \n",
    "                                    p=[0.02,0.98],size=len(df))))"
   ]
  },
  {
   "cell_type": "code",
   "execution_count": 29,
   "id": "ecd973e2",
   "metadata": {},
   "outputs": [],
   "source": [
    "df['PNEUMONIA'] =df['PNEUMONIA'].fillna(pd.Series(np.random.choice([1, 2], \n",
    "                                    p=[0.14,0.86],size=len(df))))"
   ]
  },
  {
   "cell_type": "code",
   "execution_count": 30,
   "id": "b13eba15",
   "metadata": {},
   "outputs": [],
   "source": [
    "df=pd.concat([df, age], axis=1)"
   ]
  },
  {
   "cell_type": "code",
   "execution_count": 31,
   "id": "4d48be21",
   "metadata": {},
   "outputs": [],
   "source": [
    "df.dropna(inplace=True)"
   ]
  },
  {
   "cell_type": "code",
   "execution_count": 32,
   "id": "ce06faec",
   "metadata": {},
   "outputs": [
    {
     "data": {
      "text/plain": [
       "SEX               0\n",
       "PATIENT_TYPE      0\n",
       "PNEUMONIA         0\n",
       "PREGNANT          0\n",
       "DIABETES          0\n",
       "COPD              0\n",
       "ASTHMA            0\n",
       "INMSUPR           0\n",
       "HIPERTENSION      0\n",
       "OTHER_DISEASE     0\n",
       "CARDIOVASCULAR    0\n",
       "OBESITY           0\n",
       "RENAL_CHRONIC     0\n",
       "TOBACCO           0\n",
       "AGE               0\n",
       "dtype: int64"
      ]
     },
     "execution_count": 32,
     "metadata": {},
     "output_type": "execute_result"
    }
   ],
   "source": [
    "df.isna().sum()"
   ]
  },
  {
   "cell_type": "code",
   "execution_count": 33,
   "id": "8db366eb",
   "metadata": {},
   "outputs": [
    {
     "data": {
      "text/html": [
       "<div>\n",
       "<style scoped>\n",
       "    .dataframe tbody tr th:only-of-type {\n",
       "        vertical-align: middle;\n",
       "    }\n",
       "\n",
       "    .dataframe tbody tr th {\n",
       "        vertical-align: top;\n",
       "    }\n",
       "\n",
       "    .dataframe thead th {\n",
       "        text-align: right;\n",
       "    }\n",
       "</style>\n",
       "<table border=\"1\" class=\"dataframe\">\n",
       "  <thead>\n",
       "    <tr style=\"text-align: right;\">\n",
       "      <th></th>\n",
       "      <th>SEX</th>\n",
       "      <th>PATIENT_TYPE</th>\n",
       "      <th>PNEUMONIA</th>\n",
       "      <th>PREGNANT</th>\n",
       "      <th>DIABETES</th>\n",
       "      <th>COPD</th>\n",
       "      <th>ASTHMA</th>\n",
       "      <th>INMSUPR</th>\n",
       "      <th>HIPERTENSION</th>\n",
       "      <th>OTHER_DISEASE</th>\n",
       "      <th>CARDIOVASCULAR</th>\n",
       "      <th>OBESITY</th>\n",
       "      <th>RENAL_CHRONIC</th>\n",
       "      <th>TOBACCO</th>\n",
       "      <th>AGE</th>\n",
       "    </tr>\n",
       "  </thead>\n",
       "  <tbody>\n",
       "    <tr>\n",
       "      <th>0</th>\n",
       "      <td>1.0</td>\n",
       "      <td>1.0</td>\n",
       "      <td>1.0</td>\n",
       "      <td>2.0</td>\n",
       "      <td>2.0</td>\n",
       "      <td>2.0</td>\n",
       "      <td>2.0</td>\n",
       "      <td>2.0</td>\n",
       "      <td>1.0</td>\n",
       "      <td>2.0</td>\n",
       "      <td>2.0</td>\n",
       "      <td>2.0</td>\n",
       "      <td>2.0</td>\n",
       "      <td>2.0</td>\n",
       "      <td>65</td>\n",
       "    </tr>\n",
       "    <tr>\n",
       "      <th>1</th>\n",
       "      <td>2.0</td>\n",
       "      <td>1.0</td>\n",
       "      <td>1.0</td>\n",
       "      <td>2.0</td>\n",
       "      <td>2.0</td>\n",
       "      <td>2.0</td>\n",
       "      <td>2.0</td>\n",
       "      <td>2.0</td>\n",
       "      <td>1.0</td>\n",
       "      <td>2.0</td>\n",
       "      <td>2.0</td>\n",
       "      <td>1.0</td>\n",
       "      <td>1.0</td>\n",
       "      <td>2.0</td>\n",
       "      <td>72</td>\n",
       "    </tr>\n",
       "    <tr>\n",
       "      <th>2</th>\n",
       "      <td>2.0</td>\n",
       "      <td>2.0</td>\n",
       "      <td>2.0</td>\n",
       "      <td>2.0</td>\n",
       "      <td>1.0</td>\n",
       "      <td>2.0</td>\n",
       "      <td>2.0</td>\n",
       "      <td>2.0</td>\n",
       "      <td>2.0</td>\n",
       "      <td>2.0</td>\n",
       "      <td>2.0</td>\n",
       "      <td>2.0</td>\n",
       "      <td>2.0</td>\n",
       "      <td>2.0</td>\n",
       "      <td>55</td>\n",
       "    </tr>\n",
       "    <tr>\n",
       "      <th>3</th>\n",
       "      <td>1.0</td>\n",
       "      <td>1.0</td>\n",
       "      <td>2.0</td>\n",
       "      <td>2.0</td>\n",
       "      <td>2.0</td>\n",
       "      <td>2.0</td>\n",
       "      <td>2.0</td>\n",
       "      <td>2.0</td>\n",
       "      <td>2.0</td>\n",
       "      <td>2.0</td>\n",
       "      <td>2.0</td>\n",
       "      <td>2.0</td>\n",
       "      <td>2.0</td>\n",
       "      <td>2.0</td>\n",
       "      <td>53</td>\n",
       "    </tr>\n",
       "    <tr>\n",
       "      <th>4</th>\n",
       "      <td>2.0</td>\n",
       "      <td>1.0</td>\n",
       "      <td>2.0</td>\n",
       "      <td>2.0</td>\n",
       "      <td>1.0</td>\n",
       "      <td>2.0</td>\n",
       "      <td>2.0</td>\n",
       "      <td>2.0</td>\n",
       "      <td>1.0</td>\n",
       "      <td>2.0</td>\n",
       "      <td>2.0</td>\n",
       "      <td>2.0</td>\n",
       "      <td>2.0</td>\n",
       "      <td>2.0</td>\n",
       "      <td>68</td>\n",
       "    </tr>\n",
       "    <tr>\n",
       "      <th>...</th>\n",
       "      <td>...</td>\n",
       "      <td>...</td>\n",
       "      <td>...</td>\n",
       "      <td>...</td>\n",
       "      <td>...</td>\n",
       "      <td>...</td>\n",
       "      <td>...</td>\n",
       "      <td>...</td>\n",
       "      <td>...</td>\n",
       "      <td>...</td>\n",
       "      <td>...</td>\n",
       "      <td>...</td>\n",
       "      <td>...</td>\n",
       "      <td>...</td>\n",
       "      <td>...</td>\n",
       "    </tr>\n",
       "    <tr>\n",
       "      <th>1048563</th>\n",
       "      <td>1.0</td>\n",
       "      <td>1.0</td>\n",
       "      <td>2.0</td>\n",
       "      <td>2.0</td>\n",
       "      <td>2.0</td>\n",
       "      <td>2.0</td>\n",
       "      <td>2.0</td>\n",
       "      <td>2.0</td>\n",
       "      <td>2.0</td>\n",
       "      <td>2.0</td>\n",
       "      <td>2.0</td>\n",
       "      <td>2.0</td>\n",
       "      <td>2.0</td>\n",
       "      <td>2.0</td>\n",
       "      <td>46</td>\n",
       "    </tr>\n",
       "    <tr>\n",
       "      <th>1048564</th>\n",
       "      <td>1.0</td>\n",
       "      <td>1.0</td>\n",
       "      <td>2.0</td>\n",
       "      <td>2.0</td>\n",
       "      <td>2.0</td>\n",
       "      <td>2.0</td>\n",
       "      <td>2.0</td>\n",
       "      <td>2.0</td>\n",
       "      <td>2.0</td>\n",
       "      <td>2.0</td>\n",
       "      <td>2.0</td>\n",
       "      <td>2.0</td>\n",
       "      <td>2.0</td>\n",
       "      <td>1.0</td>\n",
       "      <td>30</td>\n",
       "    </tr>\n",
       "    <tr>\n",
       "      <th>1048565</th>\n",
       "      <td>1.0</td>\n",
       "      <td>1.0</td>\n",
       "      <td>2.0</td>\n",
       "      <td>2.0</td>\n",
       "      <td>2.0</td>\n",
       "      <td>2.0</td>\n",
       "      <td>2.0</td>\n",
       "      <td>2.0</td>\n",
       "      <td>2.0</td>\n",
       "      <td>2.0</td>\n",
       "      <td>2.0</td>\n",
       "      <td>2.0</td>\n",
       "      <td>2.0</td>\n",
       "      <td>2.0</td>\n",
       "      <td>39</td>\n",
       "    </tr>\n",
       "    <tr>\n",
       "      <th>1048567</th>\n",
       "      <td>1.0</td>\n",
       "      <td>2.0</td>\n",
       "      <td>2.0</td>\n",
       "      <td>2.0</td>\n",
       "      <td>1.0</td>\n",
       "      <td>2.0</td>\n",
       "      <td>2.0</td>\n",
       "      <td>2.0</td>\n",
       "      <td>2.0</td>\n",
       "      <td>2.0</td>\n",
       "      <td>2.0</td>\n",
       "      <td>1.0</td>\n",
       "      <td>2.0</td>\n",
       "      <td>2.0</td>\n",
       "      <td>23</td>\n",
       "    </tr>\n",
       "    <tr>\n",
       "      <th>1048569</th>\n",
       "      <td>1.0</td>\n",
       "      <td>2.0</td>\n",
       "      <td>2.0</td>\n",
       "      <td>2.0</td>\n",
       "      <td>1.0</td>\n",
       "      <td>2.0</td>\n",
       "      <td>2.0</td>\n",
       "      <td>2.0</td>\n",
       "      <td>2.0</td>\n",
       "      <td>2.0</td>\n",
       "      <td>2.0</td>\n",
       "      <td>2.0</td>\n",
       "      <td>2.0</td>\n",
       "      <td>2.0</td>\n",
       "      <td>56</td>\n",
       "    </tr>\n",
       "  </tbody>\n",
       "</table>\n",
       "<p>1040977 rows × 15 columns</p>\n",
       "</div>"
      ],
      "text/plain": [
       "         SEX  PATIENT_TYPE  PNEUMONIA  PREGNANT  DIABETES  COPD  ASTHMA  \\\n",
       "0        1.0           1.0        1.0       2.0       2.0   2.0     2.0   \n",
       "1        2.0           1.0        1.0       2.0       2.0   2.0     2.0   \n",
       "2        2.0           2.0        2.0       2.0       1.0   2.0     2.0   \n",
       "3        1.0           1.0        2.0       2.0       2.0   2.0     2.0   \n",
       "4        2.0           1.0        2.0       2.0       1.0   2.0     2.0   \n",
       "...      ...           ...        ...       ...       ...   ...     ...   \n",
       "1048563  1.0           1.0        2.0       2.0       2.0   2.0     2.0   \n",
       "1048564  1.0           1.0        2.0       2.0       2.0   2.0     2.0   \n",
       "1048565  1.0           1.0        2.0       2.0       2.0   2.0     2.0   \n",
       "1048567  1.0           2.0        2.0       2.0       1.0   2.0     2.0   \n",
       "1048569  1.0           2.0        2.0       2.0       1.0   2.0     2.0   \n",
       "\n",
       "         INMSUPR  HIPERTENSION  OTHER_DISEASE  CARDIOVASCULAR  OBESITY  \\\n",
       "0            2.0           1.0            2.0             2.0      2.0   \n",
       "1            2.0           1.0            2.0             2.0      1.0   \n",
       "2            2.0           2.0            2.0             2.0      2.0   \n",
       "3            2.0           2.0            2.0             2.0      2.0   \n",
       "4            2.0           1.0            2.0             2.0      2.0   \n",
       "...          ...           ...            ...             ...      ...   \n",
       "1048563      2.0           2.0            2.0             2.0      2.0   \n",
       "1048564      2.0           2.0            2.0             2.0      2.0   \n",
       "1048565      2.0           2.0            2.0             2.0      2.0   \n",
       "1048567      2.0           2.0            2.0             2.0      1.0   \n",
       "1048569      2.0           2.0            2.0             2.0      2.0   \n",
       "\n",
       "         RENAL_CHRONIC  TOBACCO  AGE  \n",
       "0                  2.0      2.0   65  \n",
       "1                  1.0      2.0   72  \n",
       "2                  2.0      2.0   55  \n",
       "3                  2.0      2.0   53  \n",
       "4                  2.0      2.0   68  \n",
       "...                ...      ...  ...  \n",
       "1048563            2.0      2.0   46  \n",
       "1048564            2.0      1.0   30  \n",
       "1048565            2.0      2.0   39  \n",
       "1048567            2.0      2.0   23  \n",
       "1048569            2.0      2.0   56  \n",
       "\n",
       "[1040977 rows x 15 columns]"
      ]
     },
     "execution_count": 33,
     "metadata": {},
     "output_type": "execute_result"
    }
   ],
   "source": [
    "df"
   ]
  },
  {
   "cell_type": "markdown",
   "id": "2a4b1f97",
   "metadata": {},
   "source": [
    "Now to follow the usual convention of one hot encoding I want to change the values 2 which means no into 0.\n",
    "<br>This is true for all the columns except our target, 'PATIENT_TYPE' where 1 means they returned home and 2 means they were hospitalized. I will do this separately, and then assign the column to y.\n",
    "For X I will do the necessary changes to df and then concat with 'AGE' that I dropped before.\n",
    "<br>For sex it is going to be 1 for female and 0 for male."
   ]
  },
  {
   "cell_type": "code",
   "execution_count": 34,
   "id": "f1e6d339",
   "metadata": {},
   "outputs": [],
   "source": [
    "y=df['PATIENT_TYPE']"
   ]
  },
  {
   "cell_type": "code",
   "execution_count": 35,
   "id": "a0ade7bd",
   "metadata": {},
   "outputs": [],
   "source": [
    "#I have to redifine age again because the old onw has some null values that I dropped.\n",
    "age=df['AGE']"
   ]
  },
  {
   "cell_type": "code",
   "execution_count": 36,
   "id": "8e17aae4",
   "metadata": {},
   "outputs": [],
   "source": [
    "df.drop(['PATIENT_TYPE','AGE'], axis=1, inplace=True)"
   ]
  },
  {
   "cell_type": "code",
   "execution_count": 37,
   "id": "5a7a73f2",
   "metadata": {},
   "outputs": [],
   "source": [
    "df=df.replace(2, 0)"
   ]
  },
  {
   "cell_type": "code",
   "execution_count": 38,
   "id": "8d59da04",
   "metadata": {},
   "outputs": [
    {
     "data": {
      "text/html": [
       "<div>\n",
       "<style scoped>\n",
       "    .dataframe tbody tr th:only-of-type {\n",
       "        vertical-align: middle;\n",
       "    }\n",
       "\n",
       "    .dataframe tbody tr th {\n",
       "        vertical-align: top;\n",
       "    }\n",
       "\n",
       "    .dataframe thead th {\n",
       "        text-align: right;\n",
       "    }\n",
       "</style>\n",
       "<table border=\"1\" class=\"dataframe\">\n",
       "  <thead>\n",
       "    <tr style=\"text-align: right;\">\n",
       "      <th></th>\n",
       "      <th>SEX</th>\n",
       "      <th>PNEUMONIA</th>\n",
       "      <th>PREGNANT</th>\n",
       "      <th>DIABETES</th>\n",
       "      <th>COPD</th>\n",
       "      <th>ASTHMA</th>\n",
       "      <th>INMSUPR</th>\n",
       "      <th>HIPERTENSION</th>\n",
       "      <th>OTHER_DISEASE</th>\n",
       "      <th>CARDIOVASCULAR</th>\n",
       "      <th>OBESITY</th>\n",
       "      <th>RENAL_CHRONIC</th>\n",
       "      <th>TOBACCO</th>\n",
       "    </tr>\n",
       "  </thead>\n",
       "  <tbody>\n",
       "    <tr>\n",
       "      <th>0</th>\n",
       "      <td>1.0</td>\n",
       "      <td>1.0</td>\n",
       "      <td>0.0</td>\n",
       "      <td>0.0</td>\n",
       "      <td>0.0</td>\n",
       "      <td>0.0</td>\n",
       "      <td>0.0</td>\n",
       "      <td>1.0</td>\n",
       "      <td>0.0</td>\n",
       "      <td>0.0</td>\n",
       "      <td>0.0</td>\n",
       "      <td>0.0</td>\n",
       "      <td>0.0</td>\n",
       "    </tr>\n",
       "    <tr>\n",
       "      <th>1</th>\n",
       "      <td>0.0</td>\n",
       "      <td>1.0</td>\n",
       "      <td>0.0</td>\n",
       "      <td>0.0</td>\n",
       "      <td>0.0</td>\n",
       "      <td>0.0</td>\n",
       "      <td>0.0</td>\n",
       "      <td>1.0</td>\n",
       "      <td>0.0</td>\n",
       "      <td>0.0</td>\n",
       "      <td>1.0</td>\n",
       "      <td>1.0</td>\n",
       "      <td>0.0</td>\n",
       "    </tr>\n",
       "    <tr>\n",
       "      <th>2</th>\n",
       "      <td>0.0</td>\n",
       "      <td>0.0</td>\n",
       "      <td>0.0</td>\n",
       "      <td>1.0</td>\n",
       "      <td>0.0</td>\n",
       "      <td>0.0</td>\n",
       "      <td>0.0</td>\n",
       "      <td>0.0</td>\n",
       "      <td>0.0</td>\n",
       "      <td>0.0</td>\n",
       "      <td>0.0</td>\n",
       "      <td>0.0</td>\n",
       "      <td>0.0</td>\n",
       "    </tr>\n",
       "    <tr>\n",
       "      <th>3</th>\n",
       "      <td>1.0</td>\n",
       "      <td>0.0</td>\n",
       "      <td>0.0</td>\n",
       "      <td>0.0</td>\n",
       "      <td>0.0</td>\n",
       "      <td>0.0</td>\n",
       "      <td>0.0</td>\n",
       "      <td>0.0</td>\n",
       "      <td>0.0</td>\n",
       "      <td>0.0</td>\n",
       "      <td>0.0</td>\n",
       "      <td>0.0</td>\n",
       "      <td>0.0</td>\n",
       "    </tr>\n",
       "    <tr>\n",
       "      <th>4</th>\n",
       "      <td>0.0</td>\n",
       "      <td>0.0</td>\n",
       "      <td>0.0</td>\n",
       "      <td>1.0</td>\n",
       "      <td>0.0</td>\n",
       "      <td>0.0</td>\n",
       "      <td>0.0</td>\n",
       "      <td>1.0</td>\n",
       "      <td>0.0</td>\n",
       "      <td>0.0</td>\n",
       "      <td>0.0</td>\n",
       "      <td>0.0</td>\n",
       "      <td>0.0</td>\n",
       "    </tr>\n",
       "    <tr>\n",
       "      <th>...</th>\n",
       "      <td>...</td>\n",
       "      <td>...</td>\n",
       "      <td>...</td>\n",
       "      <td>...</td>\n",
       "      <td>...</td>\n",
       "      <td>...</td>\n",
       "      <td>...</td>\n",
       "      <td>...</td>\n",
       "      <td>...</td>\n",
       "      <td>...</td>\n",
       "      <td>...</td>\n",
       "      <td>...</td>\n",
       "      <td>...</td>\n",
       "    </tr>\n",
       "    <tr>\n",
       "      <th>1048563</th>\n",
       "      <td>1.0</td>\n",
       "      <td>0.0</td>\n",
       "      <td>0.0</td>\n",
       "      <td>0.0</td>\n",
       "      <td>0.0</td>\n",
       "      <td>0.0</td>\n",
       "      <td>0.0</td>\n",
       "      <td>0.0</td>\n",
       "      <td>0.0</td>\n",
       "      <td>0.0</td>\n",
       "      <td>0.0</td>\n",
       "      <td>0.0</td>\n",
       "      <td>0.0</td>\n",
       "    </tr>\n",
       "    <tr>\n",
       "      <th>1048564</th>\n",
       "      <td>1.0</td>\n",
       "      <td>0.0</td>\n",
       "      <td>0.0</td>\n",
       "      <td>0.0</td>\n",
       "      <td>0.0</td>\n",
       "      <td>0.0</td>\n",
       "      <td>0.0</td>\n",
       "      <td>0.0</td>\n",
       "      <td>0.0</td>\n",
       "      <td>0.0</td>\n",
       "      <td>0.0</td>\n",
       "      <td>0.0</td>\n",
       "      <td>1.0</td>\n",
       "    </tr>\n",
       "    <tr>\n",
       "      <th>1048565</th>\n",
       "      <td>1.0</td>\n",
       "      <td>0.0</td>\n",
       "      <td>0.0</td>\n",
       "      <td>0.0</td>\n",
       "      <td>0.0</td>\n",
       "      <td>0.0</td>\n",
       "      <td>0.0</td>\n",
       "      <td>0.0</td>\n",
       "      <td>0.0</td>\n",
       "      <td>0.0</td>\n",
       "      <td>0.0</td>\n",
       "      <td>0.0</td>\n",
       "      <td>0.0</td>\n",
       "    </tr>\n",
       "    <tr>\n",
       "      <th>1048567</th>\n",
       "      <td>1.0</td>\n",
       "      <td>0.0</td>\n",
       "      <td>0.0</td>\n",
       "      <td>1.0</td>\n",
       "      <td>0.0</td>\n",
       "      <td>0.0</td>\n",
       "      <td>0.0</td>\n",
       "      <td>0.0</td>\n",
       "      <td>0.0</td>\n",
       "      <td>0.0</td>\n",
       "      <td>1.0</td>\n",
       "      <td>0.0</td>\n",
       "      <td>0.0</td>\n",
       "    </tr>\n",
       "    <tr>\n",
       "      <th>1048569</th>\n",
       "      <td>1.0</td>\n",
       "      <td>0.0</td>\n",
       "      <td>0.0</td>\n",
       "      <td>1.0</td>\n",
       "      <td>0.0</td>\n",
       "      <td>0.0</td>\n",
       "      <td>0.0</td>\n",
       "      <td>0.0</td>\n",
       "      <td>0.0</td>\n",
       "      <td>0.0</td>\n",
       "      <td>0.0</td>\n",
       "      <td>0.0</td>\n",
       "      <td>0.0</td>\n",
       "    </tr>\n",
       "  </tbody>\n",
       "</table>\n",
       "<p>1040977 rows × 13 columns</p>\n",
       "</div>"
      ],
      "text/plain": [
       "         SEX  PNEUMONIA  PREGNANT  DIABETES  COPD  ASTHMA  INMSUPR  \\\n",
       "0        1.0        1.0       0.0       0.0   0.0     0.0      0.0   \n",
       "1        0.0        1.0       0.0       0.0   0.0     0.0      0.0   \n",
       "2        0.0        0.0       0.0       1.0   0.0     0.0      0.0   \n",
       "3        1.0        0.0       0.0       0.0   0.0     0.0      0.0   \n",
       "4        0.0        0.0       0.0       1.0   0.0     0.0      0.0   \n",
       "...      ...        ...       ...       ...   ...     ...      ...   \n",
       "1048563  1.0        0.0       0.0       0.0   0.0     0.0      0.0   \n",
       "1048564  1.0        0.0       0.0       0.0   0.0     0.0      0.0   \n",
       "1048565  1.0        0.0       0.0       0.0   0.0     0.0      0.0   \n",
       "1048567  1.0        0.0       0.0       1.0   0.0     0.0      0.0   \n",
       "1048569  1.0        0.0       0.0       1.0   0.0     0.0      0.0   \n",
       "\n",
       "         HIPERTENSION  OTHER_DISEASE  CARDIOVASCULAR  OBESITY  RENAL_CHRONIC  \\\n",
       "0                 1.0            0.0             0.0      0.0            0.0   \n",
       "1                 1.0            0.0             0.0      1.0            1.0   \n",
       "2                 0.0            0.0             0.0      0.0            0.0   \n",
       "3                 0.0            0.0             0.0      0.0            0.0   \n",
       "4                 1.0            0.0             0.0      0.0            0.0   \n",
       "...               ...            ...             ...      ...            ...   \n",
       "1048563           0.0            0.0             0.0      0.0            0.0   \n",
       "1048564           0.0            0.0             0.0      0.0            0.0   \n",
       "1048565           0.0            0.0             0.0      0.0            0.0   \n",
       "1048567           0.0            0.0             0.0      1.0            0.0   \n",
       "1048569           0.0            0.0             0.0      0.0            0.0   \n",
       "\n",
       "         TOBACCO  \n",
       "0            0.0  \n",
       "1            0.0  \n",
       "2            0.0  \n",
       "3            0.0  \n",
       "4            0.0  \n",
       "...          ...  \n",
       "1048563      0.0  \n",
       "1048564      1.0  \n",
       "1048565      0.0  \n",
       "1048567      0.0  \n",
       "1048569      0.0  \n",
       "\n",
       "[1040977 rows x 13 columns]"
      ]
     },
     "execution_count": 38,
     "metadata": {},
     "output_type": "execute_result"
    }
   ],
   "source": [
    "df"
   ]
  },
  {
   "cell_type": "code",
   "execution_count": 39,
   "id": "d92cb415",
   "metadata": {},
   "outputs": [
    {
     "name": "stdout",
     "output_type": "stream",
     "text": [
      "SEX \n",
      " 1.0    0.501233\n",
      "0.0    0.498767\n",
      "Name: SEX, dtype: float64\n",
      "PNEUMONIA \n",
      " 0.0    0.865646\n",
      "1.0    0.134354\n",
      "Name: PNEUMONIA, dtype: float64\n",
      "PREGNANT \n",
      " 0.0    0.982173\n",
      "1.0    0.017827\n",
      "Name: PREGNANT, dtype: float64\n",
      "DIABETES \n",
      " 0.0    0.880901\n",
      "1.0    0.119099\n",
      "Name: DIABETES, dtype: float64\n",
      "COPD \n",
      " 0.0    0.985698\n",
      "1.0    0.014302\n",
      "Name: COPD, dtype: float64\n",
      "ASTHMA \n",
      " 0.0    0.969851\n",
      "1.0    0.030149\n",
      "Name: ASTHMA, dtype: float64\n",
      "INMSUPR \n",
      " 0.0    0.986561\n",
      "1.0    0.013439\n",
      "Name: INMSUPR, dtype: float64\n",
      "HIPERTENSION \n",
      " 0.0    0.844847\n",
      "1.0    0.155153\n",
      "Name: HIPERTENSION, dtype: float64\n",
      "OTHER_DISEASE \n",
      " 0.0    0.973249\n",
      "1.0    0.026751\n",
      "Name: OTHER_DISEASE, dtype: float64\n",
      "CARDIOVASCULAR \n",
      " 0.0    0.980277\n",
      "1.0    0.019723\n",
      "Name: CARDIOVASCULAR, dtype: float64\n",
      "OBESITY \n",
      " 0.0    0.847611\n",
      "1.0    0.152389\n",
      "Name: OBESITY, dtype: float64\n",
      "RENAL_CHRONIC \n",
      " 0.0    0.982012\n",
      "1.0    0.017988\n",
      "Name: RENAL_CHRONIC, dtype: float64\n",
      "TOBACCO \n",
      " 0.0    0.919502\n",
      "1.0    0.080498\n",
      "Name: TOBACCO, dtype: float64\n"
     ]
    }
   ],
   "source": [
    "for i in df.columns:\n",
    "    print(i,'\\n', df[i].value_counts(normalize=True))"
   ]
  },
  {
   "cell_type": "markdown",
   "id": "39164159",
   "metadata": {},
   "source": [
    "Changing to zero and 1 for the target:"
   ]
  },
  {
   "cell_type": "code",
   "execution_count": 40,
   "id": "71a107e1",
   "metadata": {},
   "outputs": [
    {
     "data": {
      "text/plain": [
       "0          0.0\n",
       "1          0.0\n",
       "2          1.0\n",
       "3          0.0\n",
       "4          0.0\n",
       "          ... \n",
       "1048563    0.0\n",
       "1048564    0.0\n",
       "1048565    0.0\n",
       "1048567    1.0\n",
       "1048569    1.0\n",
       "Name: PATIENT_TYPE, Length: 1040977, dtype: float64"
      ]
     },
     "execution_count": 40,
     "metadata": {},
     "output_type": "execute_result"
    }
   ],
   "source": [
    "y=y.replace(1,0)\n",
    "y=y.replace(2, 1)\n",
    "y"
   ]
  },
  {
   "cell_type": "code",
   "execution_count": 41,
   "id": "caba494c",
   "metadata": {},
   "outputs": [
    {
     "data": {
      "text/plain": [
       "0.0    844030\n",
       "1.0    196947\n",
       "Name: PATIENT_TYPE, dtype: int64"
      ]
     },
     "execution_count": 41,
     "metadata": {},
     "output_type": "execute_result"
    }
   ],
   "source": [
    "y.value_counts()"
   ]
  },
  {
   "cell_type": "code",
   "execution_count": 42,
   "id": "5fa6da52",
   "metadata": {},
   "outputs": [],
   "source": [
    "X=pd.concat([df,age], axis=1)"
   ]
  },
  {
   "cell_type": "code",
   "execution_count": 43,
   "id": "30940f3a",
   "metadata": {},
   "outputs": [
    {
     "data": {
      "text/html": [
       "<div>\n",
       "<style scoped>\n",
       "    .dataframe tbody tr th:only-of-type {\n",
       "        vertical-align: middle;\n",
       "    }\n",
       "\n",
       "    .dataframe tbody tr th {\n",
       "        vertical-align: top;\n",
       "    }\n",
       "\n",
       "    .dataframe thead th {\n",
       "        text-align: right;\n",
       "    }\n",
       "</style>\n",
       "<table border=\"1\" class=\"dataframe\">\n",
       "  <thead>\n",
       "    <tr style=\"text-align: right;\">\n",
       "      <th></th>\n",
       "      <th>SEX</th>\n",
       "      <th>PNEUMONIA</th>\n",
       "      <th>PREGNANT</th>\n",
       "      <th>DIABETES</th>\n",
       "      <th>COPD</th>\n",
       "      <th>ASTHMA</th>\n",
       "      <th>INMSUPR</th>\n",
       "      <th>HIPERTENSION</th>\n",
       "      <th>OTHER_DISEASE</th>\n",
       "      <th>CARDIOVASCULAR</th>\n",
       "      <th>OBESITY</th>\n",
       "      <th>RENAL_CHRONIC</th>\n",
       "      <th>TOBACCO</th>\n",
       "      <th>AGE</th>\n",
       "    </tr>\n",
       "  </thead>\n",
       "  <tbody>\n",
       "    <tr>\n",
       "      <th>0</th>\n",
       "      <td>1.0</td>\n",
       "      <td>1.0</td>\n",
       "      <td>0.0</td>\n",
       "      <td>0.0</td>\n",
       "      <td>0.0</td>\n",
       "      <td>0.0</td>\n",
       "      <td>0.0</td>\n",
       "      <td>1.0</td>\n",
       "      <td>0.0</td>\n",
       "      <td>0.0</td>\n",
       "      <td>0.0</td>\n",
       "      <td>0.0</td>\n",
       "      <td>0.0</td>\n",
       "      <td>65</td>\n",
       "    </tr>\n",
       "    <tr>\n",
       "      <th>1</th>\n",
       "      <td>0.0</td>\n",
       "      <td>1.0</td>\n",
       "      <td>0.0</td>\n",
       "      <td>0.0</td>\n",
       "      <td>0.0</td>\n",
       "      <td>0.0</td>\n",
       "      <td>0.0</td>\n",
       "      <td>1.0</td>\n",
       "      <td>0.0</td>\n",
       "      <td>0.0</td>\n",
       "      <td>1.0</td>\n",
       "      <td>1.0</td>\n",
       "      <td>0.0</td>\n",
       "      <td>72</td>\n",
       "    </tr>\n",
       "    <tr>\n",
       "      <th>2</th>\n",
       "      <td>0.0</td>\n",
       "      <td>0.0</td>\n",
       "      <td>0.0</td>\n",
       "      <td>1.0</td>\n",
       "      <td>0.0</td>\n",
       "      <td>0.0</td>\n",
       "      <td>0.0</td>\n",
       "      <td>0.0</td>\n",
       "      <td>0.0</td>\n",
       "      <td>0.0</td>\n",
       "      <td>0.0</td>\n",
       "      <td>0.0</td>\n",
       "      <td>0.0</td>\n",
       "      <td>55</td>\n",
       "    </tr>\n",
       "    <tr>\n",
       "      <th>3</th>\n",
       "      <td>1.0</td>\n",
       "      <td>0.0</td>\n",
       "      <td>0.0</td>\n",
       "      <td>0.0</td>\n",
       "      <td>0.0</td>\n",
       "      <td>0.0</td>\n",
       "      <td>0.0</td>\n",
       "      <td>0.0</td>\n",
       "      <td>0.0</td>\n",
       "      <td>0.0</td>\n",
       "      <td>0.0</td>\n",
       "      <td>0.0</td>\n",
       "      <td>0.0</td>\n",
       "      <td>53</td>\n",
       "    </tr>\n",
       "    <tr>\n",
       "      <th>4</th>\n",
       "      <td>0.0</td>\n",
       "      <td>0.0</td>\n",
       "      <td>0.0</td>\n",
       "      <td>1.0</td>\n",
       "      <td>0.0</td>\n",
       "      <td>0.0</td>\n",
       "      <td>0.0</td>\n",
       "      <td>1.0</td>\n",
       "      <td>0.0</td>\n",
       "      <td>0.0</td>\n",
       "      <td>0.0</td>\n",
       "      <td>0.0</td>\n",
       "      <td>0.0</td>\n",
       "      <td>68</td>\n",
       "    </tr>\n",
       "    <tr>\n",
       "      <th>...</th>\n",
       "      <td>...</td>\n",
       "      <td>...</td>\n",
       "      <td>...</td>\n",
       "      <td>...</td>\n",
       "      <td>...</td>\n",
       "      <td>...</td>\n",
       "      <td>...</td>\n",
       "      <td>...</td>\n",
       "      <td>...</td>\n",
       "      <td>...</td>\n",
       "      <td>...</td>\n",
       "      <td>...</td>\n",
       "      <td>...</td>\n",
       "      <td>...</td>\n",
       "    </tr>\n",
       "    <tr>\n",
       "      <th>1048563</th>\n",
       "      <td>1.0</td>\n",
       "      <td>0.0</td>\n",
       "      <td>0.0</td>\n",
       "      <td>0.0</td>\n",
       "      <td>0.0</td>\n",
       "      <td>0.0</td>\n",
       "      <td>0.0</td>\n",
       "      <td>0.0</td>\n",
       "      <td>0.0</td>\n",
       "      <td>0.0</td>\n",
       "      <td>0.0</td>\n",
       "      <td>0.0</td>\n",
       "      <td>0.0</td>\n",
       "      <td>46</td>\n",
       "    </tr>\n",
       "    <tr>\n",
       "      <th>1048564</th>\n",
       "      <td>1.0</td>\n",
       "      <td>0.0</td>\n",
       "      <td>0.0</td>\n",
       "      <td>0.0</td>\n",
       "      <td>0.0</td>\n",
       "      <td>0.0</td>\n",
       "      <td>0.0</td>\n",
       "      <td>0.0</td>\n",
       "      <td>0.0</td>\n",
       "      <td>0.0</td>\n",
       "      <td>0.0</td>\n",
       "      <td>0.0</td>\n",
       "      <td>1.0</td>\n",
       "      <td>30</td>\n",
       "    </tr>\n",
       "    <tr>\n",
       "      <th>1048565</th>\n",
       "      <td>1.0</td>\n",
       "      <td>0.0</td>\n",
       "      <td>0.0</td>\n",
       "      <td>0.0</td>\n",
       "      <td>0.0</td>\n",
       "      <td>0.0</td>\n",
       "      <td>0.0</td>\n",
       "      <td>0.0</td>\n",
       "      <td>0.0</td>\n",
       "      <td>0.0</td>\n",
       "      <td>0.0</td>\n",
       "      <td>0.0</td>\n",
       "      <td>0.0</td>\n",
       "      <td>39</td>\n",
       "    </tr>\n",
       "    <tr>\n",
       "      <th>1048567</th>\n",
       "      <td>1.0</td>\n",
       "      <td>0.0</td>\n",
       "      <td>0.0</td>\n",
       "      <td>1.0</td>\n",
       "      <td>0.0</td>\n",
       "      <td>0.0</td>\n",
       "      <td>0.0</td>\n",
       "      <td>0.0</td>\n",
       "      <td>0.0</td>\n",
       "      <td>0.0</td>\n",
       "      <td>1.0</td>\n",
       "      <td>0.0</td>\n",
       "      <td>0.0</td>\n",
       "      <td>23</td>\n",
       "    </tr>\n",
       "    <tr>\n",
       "      <th>1048569</th>\n",
       "      <td>1.0</td>\n",
       "      <td>0.0</td>\n",
       "      <td>0.0</td>\n",
       "      <td>1.0</td>\n",
       "      <td>0.0</td>\n",
       "      <td>0.0</td>\n",
       "      <td>0.0</td>\n",
       "      <td>0.0</td>\n",
       "      <td>0.0</td>\n",
       "      <td>0.0</td>\n",
       "      <td>0.0</td>\n",
       "      <td>0.0</td>\n",
       "      <td>0.0</td>\n",
       "      <td>56</td>\n",
       "    </tr>\n",
       "  </tbody>\n",
       "</table>\n",
       "<p>1040977 rows × 14 columns</p>\n",
       "</div>"
      ],
      "text/plain": [
       "         SEX  PNEUMONIA  PREGNANT  DIABETES  COPD  ASTHMA  INMSUPR  \\\n",
       "0        1.0        1.0       0.0       0.0   0.0     0.0      0.0   \n",
       "1        0.0        1.0       0.0       0.0   0.0     0.0      0.0   \n",
       "2        0.0        0.0       0.0       1.0   0.0     0.0      0.0   \n",
       "3        1.0        0.0       0.0       0.0   0.0     0.0      0.0   \n",
       "4        0.0        0.0       0.0       1.0   0.0     0.0      0.0   \n",
       "...      ...        ...       ...       ...   ...     ...      ...   \n",
       "1048563  1.0        0.0       0.0       0.0   0.0     0.0      0.0   \n",
       "1048564  1.0        0.0       0.0       0.0   0.0     0.0      0.0   \n",
       "1048565  1.0        0.0       0.0       0.0   0.0     0.0      0.0   \n",
       "1048567  1.0        0.0       0.0       1.0   0.0     0.0      0.0   \n",
       "1048569  1.0        0.0       0.0       1.0   0.0     0.0      0.0   \n",
       "\n",
       "         HIPERTENSION  OTHER_DISEASE  CARDIOVASCULAR  OBESITY  RENAL_CHRONIC  \\\n",
       "0                 1.0            0.0             0.0      0.0            0.0   \n",
       "1                 1.0            0.0             0.0      1.0            1.0   \n",
       "2                 0.0            0.0             0.0      0.0            0.0   \n",
       "3                 0.0            0.0             0.0      0.0            0.0   \n",
       "4                 1.0            0.0             0.0      0.0            0.0   \n",
       "...               ...            ...             ...      ...            ...   \n",
       "1048563           0.0            0.0             0.0      0.0            0.0   \n",
       "1048564           0.0            0.0             0.0      0.0            0.0   \n",
       "1048565           0.0            0.0             0.0      0.0            0.0   \n",
       "1048567           0.0            0.0             0.0      1.0            0.0   \n",
       "1048569           0.0            0.0             0.0      0.0            0.0   \n",
       "\n",
       "         TOBACCO  AGE  \n",
       "0            0.0   65  \n",
       "1            0.0   72  \n",
       "2            0.0   55  \n",
       "3            0.0   53  \n",
       "4            0.0   68  \n",
       "...          ...  ...  \n",
       "1048563      0.0   46  \n",
       "1048564      1.0   30  \n",
       "1048565      0.0   39  \n",
       "1048567      0.0   23  \n",
       "1048569      0.0   56  \n",
       "\n",
       "[1040977 rows x 14 columns]"
      ]
     },
     "execution_count": 43,
     "metadata": {},
     "output_type": "execute_result"
    }
   ],
   "source": [
    "X"
   ]
  },
  {
   "cell_type": "markdown",
   "id": "6e73c620",
   "metadata": {},
   "source": [
    "At this point I took care of the missing values and I don't need to do one hot encoding.\n",
    "<br>I have my X and y, I can divide in train and test and start trying some models.\n",
    "<br>But if I want to use KNN first (and I do) I have to scale first, specifically age needs to be scaled."
   ]
  },
  {
   "cell_type": "code",
   "execution_count": 44,
   "id": "a0f27776",
   "metadata": {},
   "outputs": [
    {
     "data": {
      "text/plain": [
       "'Another thing I could try later to improve the model is instead of scaling the age to divide it into bins. Like 10 years for each bin and one hot encode that.'"
      ]
     },
     "execution_count": 44,
     "metadata": {},
     "output_type": "execute_result"
    }
   ],
   "source": [
    "\"\"\"Another thing I could try later to improve the model is instead of scaling the age to divide it into bins. Like 10 years for each bin and one hot encode that.\"\"\""
   ]
  },
  {
   "cell_type": "code",
   "execution_count": 45,
   "id": "4fc3b911",
   "metadata": {},
   "outputs": [],
   "source": [
    "# Split the data\n",
    "X_train, X_test, y_train, y_test = train_test_split(X,y,random_state=42)"
   ]
  },
  {
   "cell_type": "code",
   "execution_count": 46,
   "id": "43c649ca",
   "metadata": {},
   "outputs": [
    {
     "data": {
      "text/html": [
       "<div>\n",
       "<style scoped>\n",
       "    .dataframe tbody tr th:only-of-type {\n",
       "        vertical-align: middle;\n",
       "    }\n",
       "\n",
       "    .dataframe tbody tr th {\n",
       "        vertical-align: top;\n",
       "    }\n",
       "\n",
       "    .dataframe thead th {\n",
       "        text-align: right;\n",
       "    }\n",
       "</style>\n",
       "<table border=\"1\" class=\"dataframe\">\n",
       "  <thead>\n",
       "    <tr style=\"text-align: right;\">\n",
       "      <th></th>\n",
       "      <th>SEX</th>\n",
       "      <th>PNEUMONIA</th>\n",
       "      <th>PREGNANT</th>\n",
       "      <th>DIABETES</th>\n",
       "      <th>COPD</th>\n",
       "      <th>ASTHMA</th>\n",
       "      <th>INMSUPR</th>\n",
       "      <th>HIPERTENSION</th>\n",
       "      <th>OTHER_DISEASE</th>\n",
       "      <th>CARDIOVASCULAR</th>\n",
       "      <th>OBESITY</th>\n",
       "      <th>RENAL_CHRONIC</th>\n",
       "      <th>TOBACCO</th>\n",
       "      <th>AGE</th>\n",
       "    </tr>\n",
       "  </thead>\n",
       "  <tbody>\n",
       "    <tr>\n",
       "      <th>0</th>\n",
       "      <td>0.0</td>\n",
       "      <td>0.0</td>\n",
       "      <td>0.0</td>\n",
       "      <td>0.0</td>\n",
       "      <td>0.0</td>\n",
       "      <td>0.0</td>\n",
       "      <td>0.0</td>\n",
       "      <td>0.0</td>\n",
       "      <td>0.0</td>\n",
       "      <td>0.0</td>\n",
       "      <td>0.0</td>\n",
       "      <td>0.0</td>\n",
       "      <td>0.0</td>\n",
       "      <td>0.327273</td>\n",
       "    </tr>\n",
       "    <tr>\n",
       "      <th>1</th>\n",
       "      <td>1.0</td>\n",
       "      <td>0.0</td>\n",
       "      <td>0.0</td>\n",
       "      <td>0.0</td>\n",
       "      <td>0.0</td>\n",
       "      <td>0.0</td>\n",
       "      <td>0.0</td>\n",
       "      <td>0.0</td>\n",
       "      <td>0.0</td>\n",
       "      <td>0.0</td>\n",
       "      <td>0.0</td>\n",
       "      <td>0.0</td>\n",
       "      <td>0.0</td>\n",
       "      <td>0.672727</td>\n",
       "    </tr>\n",
       "    <tr>\n",
       "      <th>2</th>\n",
       "      <td>1.0</td>\n",
       "      <td>0.0</td>\n",
       "      <td>0.0</td>\n",
       "      <td>0.0</td>\n",
       "      <td>0.0</td>\n",
       "      <td>0.0</td>\n",
       "      <td>0.0</td>\n",
       "      <td>0.0</td>\n",
       "      <td>0.0</td>\n",
       "      <td>0.0</td>\n",
       "      <td>0.0</td>\n",
       "      <td>0.0</td>\n",
       "      <td>0.0</td>\n",
       "      <td>0.345455</td>\n",
       "    </tr>\n",
       "    <tr>\n",
       "      <th>3</th>\n",
       "      <td>1.0</td>\n",
       "      <td>1.0</td>\n",
       "      <td>0.0</td>\n",
       "      <td>0.0</td>\n",
       "      <td>0.0</td>\n",
       "      <td>0.0</td>\n",
       "      <td>0.0</td>\n",
       "      <td>0.0</td>\n",
       "      <td>0.0</td>\n",
       "      <td>0.0</td>\n",
       "      <td>0.0</td>\n",
       "      <td>0.0</td>\n",
       "      <td>0.0</td>\n",
       "      <td>0.481818</td>\n",
       "    </tr>\n",
       "    <tr>\n",
       "      <th>4</th>\n",
       "      <td>0.0</td>\n",
       "      <td>0.0</td>\n",
       "      <td>0.0</td>\n",
       "      <td>0.0</td>\n",
       "      <td>0.0</td>\n",
       "      <td>0.0</td>\n",
       "      <td>0.0</td>\n",
       "      <td>0.0</td>\n",
       "      <td>0.0</td>\n",
       "      <td>0.0</td>\n",
       "      <td>1.0</td>\n",
       "      <td>0.0</td>\n",
       "      <td>0.0</td>\n",
       "      <td>0.400000</td>\n",
       "    </tr>\n",
       "  </tbody>\n",
       "</table>\n",
       "</div>"
      ],
      "text/plain": [
       "   SEX  PNEUMONIA  PREGNANT  DIABETES  COPD  ASTHMA  INMSUPR  HIPERTENSION  \\\n",
       "0  0.0        0.0       0.0       0.0   0.0     0.0      0.0           0.0   \n",
       "1  1.0        0.0       0.0       0.0   0.0     0.0      0.0           0.0   \n",
       "2  1.0        0.0       0.0       0.0   0.0     0.0      0.0           0.0   \n",
       "3  1.0        1.0       0.0       0.0   0.0     0.0      0.0           0.0   \n",
       "4  0.0        0.0       0.0       0.0   0.0     0.0      0.0           0.0   \n",
       "\n",
       "   OTHER_DISEASE  CARDIOVASCULAR  OBESITY  RENAL_CHRONIC  TOBACCO       AGE  \n",
       "0            0.0             0.0      0.0            0.0      0.0  0.327273  \n",
       "1            0.0             0.0      0.0            0.0      0.0  0.672727  \n",
       "2            0.0             0.0      0.0            0.0      0.0  0.345455  \n",
       "3            0.0             0.0      0.0            0.0      0.0  0.481818  \n",
       "4            0.0             0.0      1.0            0.0      0.0  0.400000  "
      ]
     },
     "execution_count": 46,
     "metadata": {},
     "output_type": "execute_result"
    }
   ],
   "source": [
    "# Instantiate StandardScaler\n",
    "scaler = MinMaxScaler()\n",
    "# Transform the training and test sets\n",
    "scaled_data_train = scaler.fit_transform(X_train)\n",
    "X_test = scaler.transform(X_test)\n",
    "\n",
    "# Convert into a DataFrame\n",
    "X_train = pd.DataFrame(scaled_data_train, columns=X.columns)\n",
    "X_train.head()"
   ]
  },
  {
   "cell_type": "code",
   "execution_count": 47,
   "id": "00c20ea3",
   "metadata": {},
   "outputs": [],
   "source": [
    "#Create the tree\n",
    "clf = DecisionTreeClassifier(criterion='entropy')"
   ]
  },
  {
   "cell_type": "code",
   "execution_count": 48,
   "id": "4cf90eb5",
   "metadata": {},
   "outputs": [
    {
     "data": {
      "text/plain": [
       "DecisionTreeClassifier(criterion='entropy')"
      ]
     },
     "execution_count": 48,
     "metadata": {},
     "output_type": "execute_result"
    }
   ],
   "source": [
    "# fit the tree\n",
    "clf.fit(X_train, y_train)"
   ]
  },
  {
   "cell_type": "code",
   "execution_count": 49,
   "id": "92cc8d74",
   "metadata": {},
   "outputs": [
    {
     "data": {
      "text/plain": [
       "\"# plot the tree\\nfig, axes = plt.subplots()#nrows = 1,ncols = 1, figsize = (3,3), dpi=300)\\ntree.plot_tree(clf,\\n               feature_names = X_train.columns, \\n               class_names=np.unique(y).astype('str'),\\n               filled = True)\\nplt.show()\""
      ]
     },
     "execution_count": 49,
     "metadata": {},
     "output_type": "execute_result"
    }
   ],
   "source": [
    "\"\"\"# plot the tree\n",
    "fig, axes = plt.subplots()#nrows = 1,ncols = 1, figsize = (3,3), dpi=300)\n",
    "tree.plot_tree(clf,\n",
    "               feature_names = X_train.columns, \n",
    "               class_names=np.unique(y).astype('str'),\n",
    "               filled = True)\n",
    "plt.show()\"\"\""
   ]
  },
  {
   "cell_type": "code",
   "execution_count": 50,
   "id": "1f0cfe26",
   "metadata": {},
   "outputs": [],
   "source": [
    "def print_metrics(labels, preds):\n",
    "    print(\"Precision Score: {}\".format(precision_score(labels, preds)))\n",
    "    print(\"Recall Score: {}\".format(recall_score(labels, preds)))\n",
    "    print(\"Accuracy Score: {}\".format(accuracy_score(labels, preds)))\n",
    "    print(\"F1 Score: {}\".format(f1_score(labels, preds)))"
   ]
  },
  {
   "cell_type": "code",
   "execution_count": 51,
   "id": "d8431389",
   "metadata": {},
   "outputs": [
    {
     "name": "stdout",
     "output_type": "stream",
     "text": [
      "For the train with decision tree:\n",
      "\n",
      "Precision Score: 0.8422649232106636\n",
      "Recall Score: 0.6293720015968928\n",
      "Accuracy Score: 0.9075316497850735\n",
      "F1 Score: 0.720419488883467\n"
     ]
    }
   ],
   "source": [
    "# Evaluate the tree\n",
    "print(\"For the train with decision tree:\\n\")\n",
    "y_preds_train = clf.predict(X_train)\n",
    "print_metrics(y_train, y_preds_train)"
   ]
  },
  {
   "cell_type": "code",
   "execution_count": 52,
   "id": "dedd0814",
   "metadata": {},
   "outputs": [
    {
     "data": {
      "image/png": "[encoded data removed]",
      "text/plain": [
       "<Figure size 432x360 with 2 Axes>"
      ]
     },
     "metadata": {
      "needs_background": "light"
     },
     "output_type": "display_data"
    }
   ],
   "source": [
    "cm = confusion_matrix(y_train, y_preds_train)\n",
    "# Normalize\n",
    "cmn = cm.astype('float') / cm.sum(axis=1)[:, np.newaxis]\n",
    "fig, ax = plt.subplots(figsize=(6,5))\n",
    "sns.heatmap(cmn, annot=True, fmt='.2f', cmap=\"OrRd\")\n",
    "plt.ylabel('Actual')\n",
    "plt.xlabel('Predicted')\n",
    "plt.show(block=False)"
   ]
  },
  {
   "cell_type": "code",
   "execution_count": 53,
   "id": "c5906b2e",
   "metadata": {},
   "outputs": [],
   "source": [
    "def plot_feature_importances(model):\n",
    "    n_features = X_train.shape[1]\n",
    "    plt.figure(figsize=(8,8))\n",
    "    #not sure why when I add np.sort in front of model feature it changes\n",
    "    plt.barh(range(n_features), (model.feature_importances_), align='center') \n",
    "    plt.yticks(np.arange(n_features), X_train.columns.values) \n",
    "    plt.xlabel('Feature importance')\n",
    "    plt.ylabel('Feature')"
   ]
  },
  {
   "cell_type": "code",
   "execution_count": 54,
   "id": "4d56b439",
   "metadata": {},
   "outputs": [
    {
     "data": {
      "image/png": "[encoded data removed]",
      "text/plain": [
       "<Figure size 576x576 with 1 Axes>"
      ]
     },
     "metadata": {
      "needs_background": "light"
     },
     "output_type": "display_data"
    }
   ],
   "source": [
    "plot_feature_importances(clf)"
   ]
  },
  {
   "cell_type": "code",
   "execution_count": 55,
   "id": "455f2620",
   "metadata": {},
   "outputs": [],
   "source": [
    "def model_results(model):\n",
    "    with plt.style.context('seaborn-talk'):\n",
    "        y_preds_train=model.predict(X_train)\n",
    "        cm = confusion_matrix(y_train, y_preds_train)\n",
    "        # Normalize\n",
    "        cmn = cm.astype('float') / cm.sum(axis=1)[:, np.newaxis]\n",
    "        fig, ax = plt.subplots(figsize=(6,5))\n",
    "        sns.heatmap(cmn, annot=True, fmt='.2f', cmap=\"OrRd\")\n",
    "        plt.ylabel('Actual')\n",
    "        plt.xlabel('Predicted')\n",
    "        plt.show(block=False)\n",
    "        fig, (ax1, ax2) = plt.subplots(ncols=2, figsize=(15, 5))\n",
    "        # Create Confusion Matrix for the test set\n",
    "#        plot_confusion_matrix(model, X_train, y_train, normalize = 'true', ax=ax1,  cmap = 'Greens')\n",
    "#        ax1.grid(False)\n",
    "#        ax1.set_title(\"Train Confusion Matrix\")\n",
    "        # Create Roc curve for the test and train for TP and FP rates\n",
    "        plot_roc_curve(model, X_train, y_train, ax=ax2, color='green', name ='Train ROC curve')\n",
    "#        plot_roc_curve(model, X_test, y_test, ax=ax2, color = ‘blue’, name ='Test ROC curve' )\n",
    "        ax2.plot([0, 1], [0, 1], color='black', lw=2, linestyle='-')\n",
    "        ax2.set_xlabel('False Positive Rate')\n",
    "        ax2.set_ylabel('True Positive Rate')\n",
    "        ax2.set_title('Receiver Operating Characteristic (ROC) Curve')\n",
    "        plt.show()\n",
    "        #Create a classification report\n",
    "        y_pred = model.predict(X_train)\n",
    "#        print(classification_report(y_train, y_pred))\n",
    "        ######***NEW LINE*** Print CV ROC_AUC score, and roc_auc score for test/train\n",
    "#Print CV ROC_AUC score\n",
    "        plot_feature_importances(model)\n",
    "#        roc_score_train_cv = cross_val_score(estimator=model, X=X_train,  y=y_train,\n",
    "#                                        cv=StratifiedKFold(shuffle=True), scoring='roc_auc').mean()\n",
    "#        print(f\"Mean Cross Validated Roc_Auc Score: {roc_score_train_cv :.0%}\")\n",
    "        #print roc_auc for test and train\n",
    "        roc_score_train = roc_auc_score(y_train, model.predict_proba(X_train)[:, 1])\n",
    "        print(f\"Train Roc_Auc Score: {roc_score_train :.0%}\")\n",
    "#        roc_score_test = roc_auc_score(y_test, model.predict_proba(X_test)[:, 1])\n",
    "#        print(f”Test Roc_Auc Score: {roc_score_test :.0%}“)\n",
    "        accuracy_train = model.score(X_train, y_train)\n",
    "#        accuracy_test = model.score(X_test, y_test)\n",
    "        print(f\"Train Accuracy Score: {accuracy_train :.0%}\")\n",
    "#        print(f”Test Accuracy Score: {accuracy_test :.0%}“)"
   ]
  },
  {
   "cell_type": "code",
   "execution_count": 56,
   "id": "36a64cf7",
   "metadata": {},
   "outputs": [
    {
     "data": {
      "image/png": "[encoded data removed]",
      "text/plain": [
       "<Figure size 432x360 with 2 Axes>"
      ]
     },
     "metadata": {
      "needs_background": "light"
     },
     "output_type": "display_data"
    },
    {
     "data": {
      "image/png": "[encoded data removed]",
      "text/plain": [
       "<Figure size 1080x360 with 2 Axes>"
      ]
     },
     "metadata": {
      "needs_background": "light"
     },
     "output_type": "display_data"
    },
    {
     "name": "stdout",
     "output_type": "stream",
     "text": [
      "Train Roc_Auc Score: 90%\n",
      "Train Accuracy Score: 91%\n"
     ]
    },
    {
     "data": {
      "image/png": "[encoded data removed]",
      "text/plain": [
       "<Figure size 576x576 with 1 Axes>"
      ]
     },
     "metadata": {
      "needs_background": "light"
     },
     "output_type": "display_data"
    }
   ],
   "source": [
    "model_results(clf)"
   ]
  },
  {
   "cell_type": "markdown",
   "id": "7b47f19e",
   "metadata": {},
   "source": [
    "### Feature importance (maybe better to do it later with most accurate model)"
   ]
  },
  {
   "cell_type": "code",
   "execution_count": 57,
   "id": "1ca31ab8",
   "metadata": {},
   "outputs": [
    {
     "name": "stdout",
     "output_type": "stream",
     "text": [
      "0.010603457298203443 SEX\n",
      "0.7087823461920206 PNEUMONIA\n",
      "0.005925463294658871 PREGNANT\n",
      "0.022949408111153008 DIABETES\n",
      "0.004890184407469163 COPD\n",
      "0.005779644624014825 ASTHMA\n",
      "0.010685609151425973 INMSUPR\n",
      "0.008599404037325183 HIPERTENSION\n",
      "0.009945809124147671 OTHER_DISEASE\n",
      "0.006786102557735893 CARDIOVASCULAR\n",
      "0.008692885162590352 OBESITY\n",
      "0.012057100756873617 RENAL_CHRONIC\n",
      "0.007790381024854664 TOBACCO\n"
     ]
    }
   ],
   "source": [
    "# Feature Importance\n",
    "feature_used = df.columns\n",
    "for fi, feature in zip(clf.feature_importances_, feature_used):\n",
    "    print(fi, feature)"
   ]
  },
  {
   "cell_type": "code",
   "execution_count": 58,
   "id": "b7bbab11",
   "metadata": {},
   "outputs": [
    {
     "name": "stdout",
     "output_type": "stream",
     "text": [
      "Decision Tree has 38351 nodes with a maximum depth of 28.\n",
      "Model Accuracy for train data: 0.9075316497850735\n"
     ]
    }
   ],
   "source": [
    "print(f'Decision Tree has {clf.tree_.node_count} nodes with a maximum depth of {clf.tree_.max_depth}.')\n",
    "\n",
    "print(f'Model Accuracy for train data: {clf.score(X_train, y_train)}')"
   ]
  },
  {
   "cell_type": "markdown",
   "id": "dd698117",
   "metadata": {},
   "source": [
    "This is not so bad as a result. But given our situation I would actually like to have a higher recall than accuracy. With a high recall it means I am getting more false positives because I am decreasing the thershold, but that is what I want most times in 'medical situations', because I would rather have a false positive than a false negative."
   ]
  },
  {
   "cell_type": "markdown",
   "id": "cd486326",
   "metadata": {},
   "source": [
    "### Class Imbalance\n",
    "<br> One thing we have not considered yet is the fact that the classes of our target (patients sent home vs. patients hospitalized) are not balanced. They are not present equally in our dataset but around 80% of the patients were sent home and only 20% were hospitalized, as we saw from the split of the data for that column.\n",
    "<br> This means that a very basic model that simply predicts all the patients to be sent home would have an 80% accuracy, that's the baseline.\n",
    "<br> We have a way to counteract this problem by balancing the classes with a decision tree and that is what we are going to do."
   ]
  },
  {
   "cell_type": "code",
   "execution_count": 59,
   "id": "918c5769",
   "metadata": {},
   "outputs": [],
   "source": [
    "clf_bal = DecisionTreeClassifier(criterion='entropy', class_weight='balanced')"
   ]
  },
  {
   "cell_type": "code",
   "execution_count": 60,
   "id": "2ec5eb5d",
   "metadata": {},
   "outputs": [
    {
     "data": {
      "text/plain": [
       "DecisionTreeClassifier(class_weight='balanced', criterion='entropy')"
      ]
     },
     "execution_count": 60,
     "metadata": {},
     "output_type": "execute_result"
    }
   ],
   "source": [
    "clf_bal.fit(X_train, y_train)"
   ]
  },
  {
   "cell_type": "code",
   "execution_count": 61,
   "id": "cb767290",
   "metadata": {},
   "outputs": [
    {
     "name": "stdout",
     "output_type": "stream",
     "text": [
      "Results with Decision Tree considering class imbalance:\n",
      "\n",
      "Precision Score: 0.6332093146862439\n",
      "Recall Score: 0.7738772693132684\n",
      "Accuracy Score: 0.872341597372722\n",
      "F1 Score: 0.696511928868318\n"
     ]
    }
   ],
   "source": [
    "# Evaluate the tree\n",
    "print(\"Results with Decision Tree considering class imbalance:\\n\")\n",
    "ypreds_train_bal = clf_bal.predict(X_train)\n",
    "print_metrics(y_train, ypreds_train_bal)"
   ]
  },
  {
   "cell_type": "code",
   "execution_count": 62,
   "id": "622f9f57",
   "metadata": {},
   "outputs": [
    {
     "data": {
      "image/png": "[encoded data removed]",
      "text/plain": [
       "<Figure size 432x360 with 2 Axes>"
      ]
     },
     "metadata": {
      "needs_background": "light"
     },
     "output_type": "display_data"
    }
   ],
   "source": [
    "cm = confusion_matrix(y_train, ypreds_train_bal)\n",
    "# Normalize\n",
    "cmn = cm.astype('float') / cm.sum(axis=1)[:, np.newaxis]\n",
    "fig, ax = plt.subplots(figsize=(6,5))\n",
    "sns.heatmap(cmn, annot=True, fmt='.2f', cmap='viridis_r')\n",
    "plt.ylabel('Actual')\n",
    "plt.xlabel('Predicted')\n",
    "plt.show(block=False)"
   ]
  },
  {
   "cell_type": "code",
   "execution_count": 63,
   "id": "cc628751",
   "metadata": {},
   "outputs": [
    {
     "data": {
      "image/png": "[encoded data removed]",
      "text/plain": [
       "<Figure size 576x576 with 1 Axes>"
      ]
     },
     "metadata": {
      "needs_background": "light"
     },
     "output_type": "display_data"
    }
   ],
   "source": [
    "plot_feature_importances(clf_bal)"
   ]
  },
  {
   "cell_type": "markdown",
   "id": "2901a97d",
   "metadata": {},
   "source": [
    "As we can see from the confusion matrix we started to have more False Positives and the predictions of the majority class (0, people returned home) has decreased. This reflects also in the accuracy score and F1 score.\n",
    "<br> But on the bright side the predictions for the minority class (1, hospitalized) have improved, with less false negatives and a recall that went from 0.63 to 0.77.\n",
    "<br> This is a matter of choice for the stakeholder, which model to use. The Decision tree without class imbalance leads to an overall more precise model: less falses overall, negative and positive, more patients categorized correctly.\n",
    "<br> On the other hand the model that accounts for class imbalance makes more mistakes, has lower accurcay precision and F1 score, but it has overall less false negatives.\n",
    "<br>Given the specific problem we would recommend staying on the safer side, trying to minimize the false negatives then the false positives, because it would be less of a loss to be prepared for one extra patient that doesn't ultimately need to be hospitalized, rather then not being ready with the equippment for one that actually needs to be."
   ]
  },
  {
   "cell_type": "code",
   "execution_count": 64,
   "id": "aa818bba",
   "metadata": {},
   "outputs": [
    {
     "data": {
      "image/png": "[encoded data removed]",
      "text/plain": [
       "<Figure size 432x360 with 2 Axes>"
      ]
     },
     "metadata": {
      "needs_background": "light"
     },
     "output_type": "display_data"
    },
    {
     "data": {
      "image/png": "[encoded data removed]",
      "text/plain": [
       "<Figure size 1080x360 with 2 Axes>"
      ]
     },
     "metadata": {
      "needs_background": "light"
     },
     "output_type": "display_data"
    },
    {
     "name": "stdout",
     "output_type": "stream",
     "text": [
      "Train Roc_Auc Score: 90%\n",
      "Train Accuracy Score: 87%\n"
     ]
    },
    {
     "data": {
      "image/png": "[encoded data removed]",
      "text/plain": [
       "<Figure size 576x576 with 1 Axes>"
      ]
     },
     "metadata": {
      "needs_background": "light"
     },
     "output_type": "display_data"
    }
   ],
   "source": [
    "model_results(clf_bal)"
   ]
  },
  {
   "cell_type": "markdown",
   "id": "0fb0b312",
   "metadata": {},
   "source": [
    "### GridSearchCV for Decision Tree:"
   ]
  },
  {
   "cell_type": "code",
   "execution_count": 126,
   "id": "d9a75cfd",
   "metadata": {},
   "outputs": [
    {
     "data": {
      "text/plain": [
       "{'criterion': 'gini', 'max_depth': 1, 'min_samples_split': 0.1}"
      ]
     },
     "execution_count": 126,
     "metadata": {},
     "output_type": "execute_result"
    }
   ],
   "source": [
    "param_grid = {\n",
    "    'criterion': ['gini', 'entropy'],\n",
    "    'max_depth': [1, 5, 10, 50],\n",
    "    'min_samples_split': [0.1, 0.2, 0.5, 0.75]\n",
    "}\n",
    "\n",
    "gs_tree = GridSearchCV(clf_bal, param_grid, cv=3)\n",
    "gs_tree.fit(X_train, y_train)\n",
    "\n",
    "gs_tree.best_params_"
   ]
  },
  {
   "cell_type": "code",
   "execution_count": 128,
   "id": "a8acbd10",
   "metadata": {},
   "outputs": [],
   "source": [
    "best_tree=DecisionTreeClassifier(criterion='gini', class_weight='balanced', max_depth=1, min_samples_split=0.1)"
   ]
  },
  {
   "cell_type": "code",
   "execution_count": 129,
   "id": "0e4cd1b5",
   "metadata": {},
   "outputs": [
    {
     "data": {
      "text/plain": [
       "DecisionTreeClassifier(class_weight='balanced', max_depth=1,\n",
       "                       min_samples_split=0.1)"
      ]
     },
     "execution_count": 129,
     "metadata": {},
     "output_type": "execute_result"
    }
   ],
   "source": [
    "best_tree.fit(X_train, y_train)"
   ]
  },
  {
   "cell_type": "code",
   "execution_count": 132,
   "id": "a0f94e50",
   "metadata": {},
   "outputs": [
    {
     "name": "stdout",
     "output_type": "stream",
     "text": [
      "Results with Decision Tree considering class imbalance:\n",
      "\n",
      "Precision Score: 0.8250963964392821\n",
      "Recall Score: 0.5864115246943236\n",
      "Accuracy Score: 0.8981801693795054\n",
      "F1 Score: 0.6855732491634431\n"
     ]
    }
   ],
   "source": [
    "print(\"Results with Decision Tree considering class imbalance:\\n\")\n",
    "ypreds_best = best_tree.predict(X_train)\n",
    "print_metrics(y_train, ypreds_best)"
   ]
  },
  {
   "cell_type": "code",
   "execution_count": 133,
   "id": "857a6f15",
   "metadata": {},
   "outputs": [
    {
     "data": {
      "image/png": "[encoded data removed]",
      "text/plain": [
       "<Figure size 432x360 with 2 Axes>"
      ]
     },
     "metadata": {},
     "output_type": "display_data"
    }
   ],
   "source": [
    "cm = confusion_matrix(y_train, ypreds_best)\n",
    "# Normalize\n",
    "cmn = cm.astype('float') / cm.sum(axis=1)[:, np.newaxis]\n",
    "fig, ax = plt.subplots(figsize=(6,5))\n",
    "sns.heatmap(cmn, annot=True, fmt='.2f', cmap='viridis_r')\n",
    "plt.ylabel('Actual')\n",
    "plt.xlabel('Predicted')\n",
    "plt.show(block=False)"
   ]
  },
  {
   "cell_type": "markdown",
   "id": "d36f521b",
   "metadata": {},
   "source": [
    "### Logistic Regression\n",
    "<br> Another simple model that we can try is Logistic Regression. I works similarly to Linear Regression but it can make predictions on categorical data, splitting continuous intervals into beams."
   ]
  },
  {
   "cell_type": "code",
   "execution_count": 65,
   "id": "669ea759",
   "metadata": {},
   "outputs": [
    {
     "data": {
      "text/plain": [
       "LogisticRegression(max_iter=500)"
      ]
     },
     "execution_count": 65,
     "metadata": {},
     "output_type": "execute_result"
    }
   ],
   "source": [
    "logreg = LogisticRegression(max_iter=500)\n",
    "logreg.fit(X_train,y_train)"
   ]
  },
  {
   "cell_type": "markdown",
   "id": "cd599c91",
   "metadata": {},
   "source": [
    "Making predictions using the Train."
   ]
  },
  {
   "cell_type": "code",
   "execution_count": 66,
   "id": "14ad94a4",
   "metadata": {},
   "outputs": [],
   "source": [
    "y_preds_train_log = logreg.predict(X_train)"
   ]
  },
  {
   "cell_type": "code",
   "execution_count": 67,
   "id": "7a77ae2b",
   "metadata": {},
   "outputs": [
    {
     "name": "stdout",
     "output_type": "stream",
     "text": [
      "Results for Logistic Regression:\n",
      "\n",
      "Precision Score: 0.8138651735225635\n",
      "Recall Score: 0.5960131811323053\n",
      "Accuracy Score: 0.8977254678942326\n",
      "F1 Score: 0.688108118664922\n"
     ]
    }
   ],
   "source": [
    "print(\"Results for Logistic Regression:\\n\")\n",
    "\n",
    "print_metrics(y_train, y_preds_train_log)"
   ]
  },
  {
   "cell_type": "code",
   "execution_count": 68,
   "id": "10426513",
   "metadata": {},
   "outputs": [
    {
     "data": {
      "image/png": "[encoded data removed]",
      "text/plain": [
       "<Figure size 432x360 with 2 Axes>"
      ]
     },
     "metadata": {
      "needs_background": "light"
     },
     "output_type": "display_data"
    }
   ],
   "source": [
    "cm = confusion_matrix(y_train, y_preds_train_log)\n",
    "# Normalize\n",
    "cmn = cm.astype('float') / cm.sum(axis=1)[:, np.newaxis]\n",
    "fig, ax = plt.subplots(figsize=(6,5))\n",
    "sns.heatmap(cmn, annot=True, fmt='.2f', cmap='BuPu')\n",
    "plt.ylabel('Actual')\n",
    "plt.xlabel('Predicted')\n",
    "plt.show(block=False)"
   ]
  },
  {
   "cell_type": "markdown",
   "id": "55f31733",
   "metadata": {},
   "source": [
    "The decision tree model performed better than the Logistic Regression model for every metric. So we are going to stick to that and actually use an ensemble of trees to predict our results even more accurately. To train the model on different trees what we used is a Random Forest."
   ]
  },
  {
   "cell_type": "code",
   "execution_count": 69,
   "id": "3876cbe8",
   "metadata": {},
   "outputs": [],
   "source": [
    "#model_results(logreg)"
   ]
  },
  {
   "cell_type": "markdown",
   "id": "02ba26a0",
   "metadata": {},
   "source": [
    "### Random Forest"
   ]
  },
  {
   "cell_type": "code",
   "execution_count": 70,
   "id": "2cfd6992",
   "metadata": {},
   "outputs": [
    {
     "data": {
      "text/plain": [
       "RandomForestClassifier(random_state=19)"
      ]
     },
     "execution_count": 70,
     "metadata": {},
     "output_type": "execute_result"
    }
   ],
   "source": [
    "# Instantiate and fit a RandomForestClassifier\n",
    "forest = RandomForestClassifier(random_state=19)\n",
    "forest.fit(X_train, y_train)"
   ]
  },
  {
   "cell_type": "code",
   "execution_count": 71,
   "id": "44108bd5",
   "metadata": {},
   "outputs": [
    {
     "data": {
      "text/plain": [
       "0.9075278072373106"
      ]
     },
     "execution_count": 71,
     "metadata": {},
     "output_type": "execute_result"
    }
   ],
   "source": [
    "# Training accuracy score\n",
    "forest.score(X_train, y_train)"
   ]
  },
  {
   "cell_type": "code",
   "execution_count": 72,
   "id": "6f0b7d8f",
   "metadata": {},
   "outputs": [],
   "source": [
    "ypreds_train_for=forest.predict(X_train)"
   ]
  },
  {
   "cell_type": "code",
   "execution_count": 73,
   "id": "9dd49941",
   "metadata": {},
   "outputs": [
    {
     "name": "stdout",
     "output_type": "stream",
     "text": [
      "Random Forest Vanilla Results:\n",
      "Precision Score: 0.8345000929277553\n",
      "Recall Score: 0.6380195822365973\n",
      "Accuracy Score: 0.9075278072373106\n",
      "F1 Score: 0.7231514928406537\n"
     ]
    }
   ],
   "source": [
    "print(\"Random Forest Vanilla Results:\")\n",
    "print_metrics(y_train, ypreds_train_for)"
   ]
  },
  {
   "cell_type": "code",
   "execution_count": 74,
   "id": "d73bed2f",
   "metadata": {},
   "outputs": [
    {
     "data": {
      "image/png": "[encoded data removed]",
      "text/plain": [
       "<Figure size 432x360 with 2 Axes>"
      ]
     },
     "metadata": {
      "needs_background": "light"
     },
     "output_type": "display_data"
    }
   ],
   "source": [
    "cm = confusion_matrix(y_train, ypreds_train_for)\n",
    "# Normalize\n",
    "cmn = cm.astype('float') / cm.sum(axis=1)[:, np.newaxis]\n",
    "fig, ax = plt.subplots(figsize=(6,5))\n",
    "sns.heatmap(cmn, annot=True, fmt='.2f', cmap='crest')\n",
    "plt.ylabel('Actual')\n",
    "plt.xlabel('Predicted')\n",
    "plt.show(block=False)"
   ]
  },
  {
   "cell_type": "code",
   "execution_count": 75,
   "id": "8966ee49",
   "metadata": {},
   "outputs": [],
   "source": [
    "# This should be the accuracy\n",
    "#mean_rf_cv_score = np.mean(cross_val_score(forest, X_train, y_train, cv=3))"
   ]
  },
  {
   "cell_type": "code",
   "execution_count": 76,
   "id": "fe91d7da",
   "metadata": {},
   "outputs": [],
   "source": [
    "#mean_rf_cv_score"
   ]
  },
  {
   "cell_type": "code",
   "execution_count": 77,
   "id": "48b9700f",
   "metadata": {},
   "outputs": [
    {
     "data": {
      "image/png": "[encoded data removed]",
      "text/plain": [
       "<Figure size 576x576 with 1 Axes>"
      ]
     },
     "metadata": {
      "needs_background": "light"
     },
     "output_type": "display_data"
    }
   ],
   "source": [
    "plot_feature_importances(forest)"
   ]
  },
  {
   "cell_type": "code",
   "execution_count": 78,
   "id": "b80d170a",
   "metadata": {},
   "outputs": [
    {
     "data": {
      "image/png": "[encoded data removed]",
      "text/plain": [
       "<Figure size 432x360 with 2 Axes>"
      ]
     },
     "metadata": {
      "needs_background": "light"
     },
     "output_type": "display_data"
    },
    {
     "data": {
      "image/png": "[encoded data removed]",
      "text/plain": [
       "<Figure size 1080x360 with 2 Axes>"
      ]
     },
     "metadata": {
      "needs_background": "light"
     },
     "output_type": "display_data"
    },
    {
     "name": "stdout",
     "output_type": "stream",
     "text": [
      "Train Roc_Auc Score: 90%\n",
      "Train Accuracy Score: 91%\n"
     ]
    },
    {
     "data": {
      "image/png": "[encoded data removed]",
      "text/plain": [
       "<Figure size 576x576 with 1 Axes>"
      ]
     },
     "metadata": {
      "needs_background": "light"
     },
     "output_type": "display_data"
    }
   ],
   "source": [
    "model_results(forest)"
   ]
  },
  {
   "cell_type": "markdown",
   "id": "b1ba0b8e",
   "metadata": {},
   "source": [
    "### GridSearchCV:"
   ]
  },
  {
   "cell_type": "code",
   "execution_count": 79,
   "id": "11ccfd97",
   "metadata": {},
   "outputs": [],
   "source": [
    "# create the grid with parameters:\n",
    "\n",
    "rf_param_grid = { 'n_estimators':[10,30,100],\n",
    "                 'criterion': ['gini', 'entropy'],\n",
    "                 'max_depth': [None, 2,6,10],\n",
    "                 'min_samples_split':[5, 10],\n",
    "                 'min_samples_leaf':[3, 6]\n",
    "    \n",
    "}"
   ]
  },
  {
   "cell_type": "code",
   "execution_count": 80,
   "id": "8bd5c0b0",
   "metadata": {},
   "outputs": [
    {
     "data": {
      "text/plain": [
       "'rf_grid_search = GridSearchCV(forest, rf_param_grid,cv=3)\\nrf_grid_search.fit(X_train, y_train)\\n'"
      ]
     },
     "execution_count": 80,
     "metadata": {},
     "output_type": "execute_result"
    }
   ],
   "source": [
    "\"\"\"rf_grid_search = GridSearchCV(forest, rf_param_grid,cv=3)\n",
    "rf_grid_search.fit(X_train, y_train)\n",
    "\"\"\""
   ]
  },
  {
   "cell_type": "markdown",
   "id": "27a48d0c",
   "metadata": {},
   "source": [
    "Since the model took a very long time to fit I am going to pickle it, to save it for a later rerun without it having to fit again."
   ]
  },
  {
   "cell_type": "code",
   "execution_count": 81,
   "id": "2872274d",
   "metadata": {},
   "outputs": [],
   "source": [
    "filename = 'CVforest_model.pkl'"
   ]
  },
  {
   "cell_type": "code",
   "execution_count": 82,
   "id": "39459fec",
   "metadata": {},
   "outputs": [
    {
     "data": {
      "text/plain": [
       "' code with which I saved the model\\n# save the model to disk\\n\\njoblib.dump(rf_grid_search, filename)\\n\\n'"
      ]
     },
     "execution_count": 82,
     "metadata": {},
     "output_type": "execute_result"
    }
   ],
   "source": [
    "\"\"\" code with which I saved the model\n",
    "# save the model to disk\n",
    "\n",
    "joblib.dump(rf_grid_search, filename)\n",
    "\n",
    "\"\"\""
   ]
  },
  {
   "cell_type": "code",
   "execution_count": 83,
   "id": "cac1592d",
   "metadata": {},
   "outputs": [],
   "source": [
    "# some time later...\n",
    "\n",
    "# load the model from disk\n",
    "loaded_model = joblib.load(filename)"
   ]
  },
  {
   "cell_type": "code",
   "execution_count": 84,
   "id": "9e3c2473",
   "metadata": {},
   "outputs": [],
   "source": [
    "forest_accuracy=loaded_model.best_score_ \n",
    "best_params=loaded_model.best_params_"
   ]
  },
  {
   "cell_type": "code",
   "execution_count": 85,
   "id": "bd95debd",
   "metadata": {},
   "outputs": [
    {
     "name": "stdout",
     "output_type": "stream",
     "text": [
      "Testing Accuracy: 89.98%\n",
      "\n",
      "Best Parameters:{'criterion': 'gini', 'max_depth': None, 'min_samples_leaf': 6, 'min_samples_split': 5, 'n_estimators': 30}\n"
     ]
    }
   ],
   "source": [
    "print(f\"Testing Accuracy: {forest_accuracy:.2%}\")\n",
    "print(\"\")\n",
    "print(f\"Best Parameters:{best_params}\")"
   ]
  },
  {
   "cell_type": "markdown",
   "id": "fceee89f",
   "metadata": {},
   "source": [
    "### Best Forest"
   ]
  },
  {
   "cell_type": "markdown",
   "id": "9e7994e2",
   "metadata": {},
   "source": [
    "Then I will run a forest with those best parameters we just found:"
   ]
  },
  {
   "cell_type": "code",
   "execution_count": 86,
   "id": "40caecb4",
   "metadata": {},
   "outputs": [
    {
     "data": {
      "text/plain": [
       "RandomForestClassifier(min_samples_leaf=6, min_samples_split=5, n_estimators=30,\n",
       "                       random_state=19)"
      ]
     },
     "execution_count": 86,
     "metadata": {},
     "output_type": "execute_result"
    }
   ],
   "source": [
    "best_forest = RandomForestClassifier(n_estimators= 30 , criterion= 'gini', max_depth= None, \n",
    "                                     min_samples_split=5, min_samples_leaf=6, random_state=19)\n",
    "best_forest.fit(X_train, y_train)"
   ]
  },
  {
   "cell_type": "code",
   "execution_count": 87,
   "id": "2a05afc0",
   "metadata": {},
   "outputs": [],
   "source": [
    "ypreds_train_bestfor = best_forest.predict(X_train)"
   ]
  },
  {
   "cell_type": "code",
   "execution_count": 88,
   "id": "5adc29f1",
   "metadata": {},
   "outputs": [
    {
     "name": "stdout",
     "output_type": "stream",
     "text": [
      "Results for best Random Forest:\n",
      "\n",
      "Precision Score: 0.8231366880477008\n",
      "Recall Score: 0.6165156610527313\n",
      "Accuracy Score: 0.9023339635111665\n",
      "F1 Score: 0.7049988973873884\n"
     ]
    }
   ],
   "source": [
    "print(\"Results for best Random Forest:\\n\")\n",
    "\n",
    "print_metrics(y_train, ypreds_train_bestfor)"
   ]
  },
  {
   "cell_type": "code",
   "execution_count": 89,
   "id": "82b821b5",
   "metadata": {},
   "outputs": [
    {
     "data": {
      "image/png": "[encoded data removed]",
      "text/plain": [
       "<Figure size 432x360 with 2 Axes>"
      ]
     },
     "metadata": {
      "needs_background": "light"
     },
     "output_type": "display_data"
    }
   ],
   "source": [
    "cm = confusion_matrix(y_train, ypreds_train_bestfor)\n",
    "# Normalize\n",
    "cmn = cm.astype('float') / cm.sum(axis=1)[:, np.newaxis]\n",
    "fig, ax = plt.subplots(figsize=(6,5))\n",
    "sns.heatmap(cmn, annot=True, fmt='.2f', cmap='inferno')\n",
    "plt.ylabel('Actual')\n",
    "plt.xlabel('Predicted')\n",
    "plt.show(block=False)"
   ]
  },
  {
   "cell_type": "code",
   "execution_count": 90,
   "id": "864c0d31",
   "metadata": {},
   "outputs": [
    {
     "data": {
      "image/png": "[encoded data removed]",
      "text/plain": [
       "<Figure size 432x360 with 2 Axes>"
      ]
     },
     "metadata": {
      "needs_background": "light"
     },
     "output_type": "display_data"
    },
    {
     "data": {
      "image/png": "[encoded data removed]",
      "text/plain": [
       "<Figure size 1080x360 with 2 Axes>"
      ]
     },
     "metadata": {
      "needs_background": "light"
     },
     "output_type": "display_data"
    },
    {
     "name": "stdout",
     "output_type": "stream",
     "text": [
      "Train Roc_Auc Score: 90%\n",
      "Train Accuracy Score: 90%\n"
     ]
    },
    {
     "data": {
      "image/png": "[encoded data removed]",
      "text/plain": [
       "<Figure size 576x576 with 1 Axes>"
      ]
     },
     "metadata": {
      "needs_background": "light"
     },
     "output_type": "display_data"
    }
   ],
   "source": [
    "model_results(best_forest)"
   ]
  },
  {
   "cell_type": "markdown",
   "id": "7b281923",
   "metadata": {},
   "source": [
    "### Including class imbalance:\n",
    "Now we will also use the balancing of the classes since we saw before that helped improving the recall rate:"
   ]
  },
  {
   "cell_type": "code",
   "execution_count": 91,
   "id": "74386d25",
   "metadata": {},
   "outputs": [
    {
     "data": {
      "text/plain": [
       "RandomForestClassifier(class_weight='balanced', min_samples_leaf=6,\n",
       "                       min_samples_split=5, n_estimators=30, random_state=19)"
      ]
     },
     "execution_count": 91,
     "metadata": {},
     "output_type": "execute_result"
    }
   ],
   "source": [
    "best_forest_bal = RandomForestClassifier(n_estimators= 30 , criterion= 'gini', max_depth= None, \n",
    "                                     min_samples_split= 5, min_samples_leaf=6, \n",
    "                                     class_weight='balanced',random_state=19,)\n",
    "best_forest_bal.fit(X_train, y_train)"
   ]
  },
  {
   "cell_type": "code",
   "execution_count": 92,
   "id": "55964c58",
   "metadata": {},
   "outputs": [],
   "source": [
    "ypreds_train_bestfor_bal = best_forest_bal.predict(X_train)"
   ]
  },
  {
   "cell_type": "code",
   "execution_count": 93,
   "id": "516a710f",
   "metadata": {},
   "outputs": [
    {
     "name": "stdout",
     "output_type": "stream",
     "text": [
      "Results for best Random Forest Balanced:\n",
      "\n",
      "Precision Score: 0.6174708963594585\n",
      "Recall Score: 0.7673273021307693\n",
      "Accuracy Score: 0.8659732148803942\n",
      "F1 Score: 0.6842907184084045\n"
     ]
    }
   ],
   "source": [
    "print(\"Results for best Random Forest Balanced:\\n\")\n",
    "\n",
    "print_metrics(y_train, ypreds_train_bestfor_bal)"
   ]
  },
  {
   "cell_type": "code",
   "execution_count": 94,
   "id": "e8536dd2",
   "metadata": {},
   "outputs": [
    {
     "data": {
      "image/png": "[encoded data removed]",
      "text/plain": [
       "<Figure size 432x360 with 2 Axes>"
      ]
     },
     "metadata": {
      "needs_background": "light"
     },
     "output_type": "display_data"
    }
   ],
   "source": [
    "cm = confusion_matrix(y_train, ypreds_train_bestfor)\n",
    "# Normalize\n",
    "cmn = cm.astype('float') / cm.sum(axis=1)[:, np.newaxis]\n",
    "fig, ax = plt.subplots(figsize=(6,5))\n",
    "sns.heatmap(cmn, annot=True, fmt='.2f', cmap='Oranges')\n",
    "plt.ylabel('Actual')\n",
    "plt.xlabel('Predicted')\n",
    "plt.show(block=False)"
   ]
  },
  {
   "cell_type": "code",
   "execution_count": 95,
   "id": "174a78ea",
   "metadata": {},
   "outputs": [
    {
     "data": {
      "image/png": "[encoded data removed]",
      "text/plain": [
       "<Figure size 432x360 with 2 Axes>"
      ]
     },
     "metadata": {
      "needs_background": "light"
     },
     "output_type": "display_data"
    },
    {
     "data": {
      "image/png": "[encoded data removed]",
      "text/plain": [
       "<Figure size 1080x360 with 2 Axes>"
      ]
     },
     "metadata": {
      "needs_background": "light"
     },
     "output_type": "display_data"
    },
    {
     "name": "stdout",
     "output_type": "stream",
     "text": [
      "Train Roc_Auc Score: 90%\n",
      "Train Accuracy Score: 87%\n"
     ]
    },
    {
     "data": {
      "image/png": "[encoded data removed]",
      "text/plain": [
       "<Figure size 576x576 with 1 Axes>"
      ]
     },
     "metadata": {
      "needs_background": "light"
     },
     "output_type": "display_data"
    }
   ],
   "source": [
    "model_results(best_forest_bal)"
   ]
  },
  {
   "cell_type": "markdown",
   "id": "5cd35e92",
   "metadata": {},
   "source": [
    "### XGBooster"
   ]
  },
  {
   "cell_type": "code",
   "execution_count": 96,
   "id": "0c45e5ce",
   "metadata": {},
   "outputs": [],
   "source": [
    "# Instantiate XGBClassifier\n",
    "xgb_model = xgb.XGBClassifier()\n",
    "\n",
    "# Fit XGBClassifier\n",
    "xgb_model.fit(X_train, y_train)\n",
    "\n",
    "# Predict on training and test sets\n",
    "training_preds = xgb_model.predict(X_train)\n",
    "#test_preds = clf.predict(X_test)\n",
    "\n",
    "# Accuracy of training and test sets\n",
    "#training_accuracy = accuracy_score(y_train, training_preds)\n",
    "#test_accuracy = accuracy_score(y_test, test_preds)\n",
    "\n",
    "#print('Training Accuracy: {:.4}%'.format(training_accuracy * 100))\n",
    "#print('Validation Accuracy: {:.4}%'.format(test_accuracy * 100))"
   ]
  },
  {
   "cell_type": "code",
   "execution_count": 97,
   "id": "22ca3da4",
   "metadata": {},
   "outputs": [
    {
     "name": "stdout",
     "output_type": "stream",
     "text": [
      "Results for best Random Forest with XGBoost:\n",
      "\n",
      "Precision Score: 0.8209292498759898\n",
      "Recall Score: 0.6047081272371724\n",
      "Accuracy Score: 0.9002051920505372\n",
      "F1 Score: 0.6964219615116365\n"
     ]
    }
   ],
   "source": [
    "print(\"Results for best Random Forest with XGBoost:\\n\")\n",
    "\n",
    "print_metrics(y_train, training_preds)"
   ]
  },
  {
   "cell_type": "code",
   "execution_count": 98,
   "id": "bc34ff08",
   "metadata": {},
   "outputs": [
    {
     "data": {
      "image/png": "[encoded data removed]",
      "text/plain": [
       "<Figure size 432x360 with 2 Axes>"
      ]
     },
     "metadata": {
      "needs_background": "light"
     },
     "output_type": "display_data"
    }
   ],
   "source": [
    "cm = confusion_matrix(y_train, ypreds_train_bestfor)\n",
    "# Normalize\n",
    "cmn = cm.astype('float') / cm.sum(axis=1)[:, np.newaxis]\n",
    "fig, ax = plt.subplots(figsize=(6,5))\n",
    "sns.heatmap(cmn, annot=True, fmt='.2f', cmap='coolwarm')\n",
    "plt.ylabel('Actual')\n",
    "plt.xlabel('Predicted')\n",
    "plt.show(block=False)"
   ]
  },
  {
   "cell_type": "code",
   "execution_count": 99,
   "id": "4b6def14",
   "metadata": {},
   "outputs": [
    {
     "data": {
      "image/png": "[encoded data removed]",
      "text/plain": [
       "<Figure size 432x360 with 2 Axes>"
      ]
     },
     "metadata": {
      "needs_background": "light"
     },
     "output_type": "display_data"
    },
    {
     "data": {
      "image/png": "[encoded data removed]",
      "text/plain": [
       "<Figure size 1080x360 with 2 Axes>"
      ]
     },
     "metadata": {
      "needs_background": "light"
     },
     "output_type": "display_data"
    },
    {
     "name": "stdout",
     "output_type": "stream",
     "text": [
      "Train Roc_Auc Score: 89%\n",
      "Train Accuracy Score: 90%\n"
     ]
    },
    {
     "data": {
      "image/png": "[encoded data removed]",
      "text/plain": [
       "<Figure size 576x576 with 1 Axes>"
      ]
     },
     "metadata": {
      "needs_background": "light"
     },
     "output_type": "display_data"
    }
   ],
   "source": [
    "model_results(xgb_model)"
   ]
  },
  {
   "cell_type": "markdown",
   "id": "708616b7",
   "metadata": {},
   "source": [
    "# To draw some conclusions:\n",
    "Now in order to draw some conclusions let us look at the results of the different models together and we will plot the ROC curve for all the different models we saw.\n",
    "<br>Once we can identify the best model we can see what the most important features were for that model."
   ]
  },
  {
   "cell_type": "code",
   "execution_count": 100,
   "id": "7a714d0e",
   "metadata": {},
   "outputs": [],
   "source": [
    "models=[clf, clf_bal, logreg, forest, best_forest, best_forest_bal, xgb_model]"
   ]
  },
  {
   "cell_type": "code",
   "execution_count": 101,
   "id": "aadf1b7e",
   "metadata": {},
   "outputs": [
    {
     "name": "stdout",
     "output_type": "stream",
     "text": [
      "AUC for DecisionTreeClassifier(criterion='entropy'): 0.9025591038922813\n",
      "-------------------------------------------------------------------------------------\n",
      "AUC for DecisionTreeClassifier(class_weight='balanced', criterion='entropy'): 0.9025591038922812\n",
      "-------------------------------------------------------------------------------------\n",
      "AUC for LogisticRegression(max_iter=500): 0.8681532258564154\n",
      "-------------------------------------------------------------------------------------\n",
      "AUC for RandomForestClassifier(random_state=19): 0.9007169800608739\n",
      "-------------------------------------------------------------------------------------\n",
      "AUC for RandomForestClassifier(min_samples_leaf=6, min_samples_split=5, n_estimators=30,\n",
      "                       random_state=19): 0.8952278084620023\n",
      "-------------------------------------------------------------------------------------\n",
      "AUC for RandomForestClassifier(class_weight='balanced', min_samples_leaf=6,\n",
      "                       min_samples_split=5, n_estimators=30, random_state=19): 0.8953708032331934\n",
      "-------------------------------------------------------------------------------------\n",
      "AUC for XGBClassifier(): 0.8907083976854084\n",
      "-------------------------------------------------------------------------------------\n"
     ]
    },
    {
     "data": {
      "image/png": "[encoded data removed]",
      "text/plain": [
       "<Figure size 720x576 with 1 Axes>"
      ]
     },
     "metadata": {
      "needs_background": "light"
     },
     "output_type": "display_data"
    }
   ],
   "source": [
    "\n",
    "colors = sns.color_palette('Set1')\n",
    "\n",
    "plt.figure(figsize=(10,8))\n",
    "\n",
    "for i in (models):\n",
    "    \n",
    "    yhat = i.predict_proba(X_train)\n",
    "    yhat = yhat[:, 1]\n",
    "    #fpr, tpr, thresholds= roc_curve(y_train, yhat)\n",
    "    fpr, tpr, thresholds = roc_curve(y_train, yhat)\n",
    "    #plot_roc_curve(clf, y_test, yhat)\n",
    "    # plot the roc curve for the model\n",
    "#    plt.plot([0,1], [0,1], linestyle='--', label='No Skill')\n",
    "    plt.plot(fpr, tpr, label=i)\n",
    "# axis labels\n",
    "    plt.xlabel('False Positive Rate')\n",
    "    plt.ylabel('True Positive Rate')\n",
    "    plt.legend()\n",
    "# show the plot\n",
    "    # Fit a model\n",
    "    # Predict\n",
    "#    y_hat_train = i.predict(X_train)\n",
    "\n",
    "#    y_score = i.fit(X_train, y_train).decision_function(X_test)\n",
    "\n",
    "#    fpr, tpr, thresholds = roc_curve(y_test, y_score)\n",
    "    \n",
    "    print('AUC for {}: {}'.format(i, auc(fpr, tpr)))\n",
    "    print('-------------------------------------------------------------------------------------')\n",
    "    lw = 2\n",
    "#    plt.plot(fpr, tpr,\n",
    "#             lw=lw, label='ROC curve {}'.format(i))\n",
    "\n",
    "plt.plot([0, 1], [0, 1], color='navy', lw=lw, linestyle='--', label='No Skill')\n",
    "plt.xlim([0.0, 1.0])\n",
    "plt.ylim([0.0, 1.05])\n",
    "\n",
    "plt.yticks([i/20.0 for i in range(21)])\n",
    "plt.xticks([i/20.0 for i in range(21)])\n",
    "plt.xlabel('False Positive Rate')\n",
    "plt.ylabel('True Positive Rate')\n",
    "plt.title('Receiver operating characteristic (ROC) Curve')\n",
    "plt.legend(loc='lower right')\n",
    "plt.show()"
   ]
  },
  {
   "cell_type": "code",
   "execution_count": 114,
   "id": "3a2abf00",
   "metadata": {},
   "outputs": [],
   "source": [
    "models_fi=[clf, clf_bal, forest, best_forest, best_forest_bal, xgb_model]"
   ]
  },
  {
   "cell_type": "code",
   "execution_count": 120,
   "id": "570f16aa",
   "metadata": {},
   "outputs": [
    {
     "data": {
      "image/png": "[encoded data removed]",
      "text/plain": [
       "<Figure size 1080x720 with 6 Axes>"
      ]
     },
     "metadata": {},
     "output_type": "display_data"
    }
   ],
   "source": [
    "fig, axes = plt.subplots(nrows=2, ncols=3, figsize=(15,10))\n",
    "for i in models_fi:\n",
    "#    preds=i.predict(X_train)\n",
    "#    predictions.append(preds)\n",
    "#    cm = confusion_matrix(y_train, preds)\n",
    "#    cmn = cm.astype('float') / cm.sum(axis=1)[:, np.newaxis]\n",
    "\n",
    "#    sns.heatmap(cmn, annot=True, fmt='.2f', cmap='BuPu')\n",
    "#    plt.ylabel('Actual')\n",
    "#    plt.xlabel('Predicted')\n",
    " #   plt.show(block=False)    \n",
    "#for cls, ax in zip(classifiers, axes.flatten()):\n",
    "    plot_confusion_matrix(i, X_train, y_train, \n",
    "                          ax=ax, \n",
    "                          cmap='Blues')\n",
    "#                          display_labels=i.target_names)\n",
    "#    ax.title.set_text(type(cls).__name__)\n",
    "plt.tight_layout()  \n",
    "plt.show()"
   ]
  },
  {
   "cell_type": "code",
   "execution_count": null,
   "id": "06f1423c",
   "metadata": {},
   "outputs": [],
   "source": []
  },
  {
   "cell_type": "code",
   "execution_count": null,
   "id": "108286d2",
   "metadata": {},
   "outputs": [],
   "source": []
  },
  {
   "cell_type": "code",
   "execution_count": 123,
   "id": "8453e0b1",
   "metadata": {},
   "outputs": [
    {
     "name": "stdout",
     "output_type": "stream",
     "text": [
      "\u001b[34m Model \u001b[0m DecisionTreeClassifier(criterion='entropy')\n",
      "Precision Score: 0.8209292498759898\n",
      "Recall Score: 0.6047081272371724\n",
      "Accuracy Score: 0.9002051920505372\n",
      "F1 Score: 0.6964219615116365\n",
      "-------------------------------------------------------------------------------------\n",
      "\u001b[34m Model \u001b[0m DecisionTreeClassifier(class_weight='balanced', criterion='entropy')\n",
      "Precision Score: 0.8209292498759898\n",
      "Recall Score: 0.6047081272371724\n",
      "Accuracy Score: 0.9002051920505372\n",
      "F1 Score: 0.6964219615116365\n",
      "-------------------------------------------------------------------------------------\n",
      "\u001b[34m Model \u001b[0m RandomForestClassifier(random_state=19)\n",
      "Precision Score: 0.8209292498759898\n",
      "Recall Score: 0.6047081272371724\n",
      "Accuracy Score: 0.9002051920505372\n",
      "F1 Score: 0.6964219615116365\n",
      "-------------------------------------------------------------------------------------\n",
      "\u001b[34m Model \u001b[0m RandomForestClassifier(min_samples_leaf=6, min_samples_split=5, n_estimators=30,\n",
      "                       random_state=19)\n",
      "Precision Score: 0.8209292498759898\n",
      "Recall Score: 0.6047081272371724\n",
      "Accuracy Score: 0.9002051920505372\n",
      "F1 Score: 0.6964219615116365\n",
      "-------------------------------------------------------------------------------------\n",
      "\u001b[34m Model \u001b[0m RandomForestClassifier(class_weight='balanced', min_samples_leaf=6,\n",
      "                       min_samples_split=5, n_estimators=30, random_state=19)\n",
      "Precision Score: 0.8209292498759898\n",
      "Recall Score: 0.6047081272371724\n",
      "Accuracy Score: 0.9002051920505372\n",
      "F1 Score: 0.6964219615116365\n",
      "-------------------------------------------------------------------------------------\n",
      "\u001b[34m Model \u001b[0m XGBClassifier()\n",
      "Precision Score: 0.8209292498759898\n",
      "Recall Score: 0.6047081272371724\n",
      "Accuracy Score: 0.9002051920505372\n",
      "F1 Score: 0.6964219615116365\n",
      "-------------------------------------------------------------------------------------\n"
     ]
    }
   ],
   "source": [
    "for i in (models_fi):\n",
    "    print(f\"{Fore.BLUE} Model {Style.RESET_ALL}\", i)\n",
    "    print_metrics(y_train, preds)\n",
    "    print('-------------------------------------------------------------------------------------')"
   ]
  },
  {
   "cell_type": "code",
   "execution_count": 113,
   "id": "f17154e9",
   "metadata": {},
   "outputs": [
    {
     "name": "stdout",
     "output_type": "stream",
     "text": [
      "DecisionTreeClassifier(criterion='entropy')\n",
      "Precision Score: 0.8422649232106636\n",
      "Recall Score: 0.6293720015968928\n",
      "Accuracy Score: 0.9075316497850735\n",
      "F1 Score: 0.720419488883467\n"
     ]
    },
    {
     "data": {
      "image/png": "[encoded data removed]",
      "text/plain": [
       "<Figure size 1080x360 with 4 Axes>"
      ]
     },
     "metadata": {},
     "output_type": "display_data"
    },
    {
     "name": "stdout",
     "output_type": "stream",
     "text": [
      "DecisionTreeClassifier(class_weight='balanced', criterion='entropy')\n",
      "Precision Score: 0.6332093146862439\n",
      "Recall Score: 0.7738772693132684\n",
      "Accuracy Score: 0.872341597372722\n",
      "F1 Score: 0.696511928868318\n"
     ]
    },
    {
     "data": {
      "image/png": "[encoded data removed]",
      "text/plain": [
       "<Figure size 432x288 with 2 Axes>"
      ]
     },
     "metadata": {},
     "output_type": "display_data"
    },
    {
     "ename": "KeyboardInterrupt",
     "evalue": "",
     "output_type": "error",
     "traceback": [
      "\u001b[0;31m---------------------------------------------------------------------------\u001b[0m",
      "\u001b[0;31mKeyboardInterrupt\u001b[0m                         Traceback (most recent call last)",
      "\u001b[0;32m<ipython-input-113-90e103e37c15>\u001b[0m in \u001b[0;36m<module>\u001b[0;34m()\u001b[0m\n\u001b[1;32m      3\u001b[0m     \u001b[0mfig\u001b[0m \u001b[0;34m=\u001b[0m \u001b[0mplt\u001b[0m\u001b[0;34m.\u001b[0m\u001b[0msubplots\u001b[0m\u001b[0;34m(\u001b[0m\u001b[0mncols\u001b[0m\u001b[0;34m=\u001b[0m\u001b[0;36m3\u001b[0m\u001b[0;34m,\u001b[0m \u001b[0mfigsize\u001b[0m\u001b[0;34m=\u001b[0m\u001b[0;34m(\u001b[0m\u001b[0;36m15\u001b[0m\u001b[0;34m,\u001b[0m \u001b[0;36m5\u001b[0m\u001b[0;34m)\u001b[0m\u001b[0;34m)\u001b[0m\u001b[0;34m\u001b[0m\u001b[0m\n\u001b[1;32m      4\u001b[0m \u001b[0;32mfor\u001b[0m \u001b[0mi\u001b[0m \u001b[0;32min\u001b[0m \u001b[0mmodels_fi\u001b[0m\u001b[0;34m:\u001b[0m\u001b[0;34m\u001b[0m\u001b[0m\n\u001b[0;32m----> 5\u001b[0;31m     \u001b[0mpreds\u001b[0m\u001b[0;34m=\u001b[0m\u001b[0mi\u001b[0m\u001b[0;34m.\u001b[0m\u001b[0mpredict\u001b[0m\u001b[0;34m(\u001b[0m\u001b[0mX_train\u001b[0m\u001b[0;34m)\u001b[0m\u001b[0;34m\u001b[0m\u001b[0m\n\u001b[0m\u001b[1;32m      6\u001b[0m     \u001b[0mpredictions\u001b[0m\u001b[0;34m.\u001b[0m\u001b[0mappend\u001b[0m\u001b[0;34m(\u001b[0m\u001b[0mpreds\u001b[0m\u001b[0;34m)\u001b[0m\u001b[0;34m\u001b[0m\u001b[0m\n\u001b[1;32m      7\u001b[0m \u001b[0;34m\u001b[0m\u001b[0m\n",
      "\u001b[0;32m~/opt/anaconda3/envs/learn-env/lib/python3.6/site-packages/sklearn/ensemble/_forest.py\u001b[0m in \u001b[0;36mpredict\u001b[0;34m(self, X)\u001b[0m\n\u001b[1;32m    628\u001b[0m             \u001b[0mThe\u001b[0m \u001b[0mpredicted\u001b[0m \u001b[0mclasses\u001b[0m\u001b[0;34m.\u001b[0m\u001b[0;34m\u001b[0m\u001b[0m\n\u001b[1;32m    629\u001b[0m         \"\"\"\n\u001b[0;32m--> 630\u001b[0;31m         \u001b[0mproba\u001b[0m \u001b[0;34m=\u001b[0m \u001b[0mself\u001b[0m\u001b[0;34m.\u001b[0m\u001b[0mpredict_proba\u001b[0m\u001b[0;34m(\u001b[0m\u001b[0mX\u001b[0m\u001b[0;34m)\u001b[0m\u001b[0;34m\u001b[0m\u001b[0m\n\u001b[0m\u001b[1;32m    631\u001b[0m \u001b[0;34m\u001b[0m\u001b[0m\n\u001b[1;32m    632\u001b[0m         \u001b[0;32mif\u001b[0m \u001b[0mself\u001b[0m\u001b[0;34m.\u001b[0m\u001b[0mn_outputs_\u001b[0m \u001b[0;34m==\u001b[0m \u001b[0;36m1\u001b[0m\u001b[0;34m:\u001b[0m\u001b[0;34m\u001b[0m\u001b[0m\n",
      "\u001b[0;32m~/opt/anaconda3/envs/learn-env/lib/python3.6/site-packages/sklearn/ensemble/_forest.py\u001b[0m in \u001b[0;36mpredict_proba\u001b[0;34m(self, X)\u001b[0m\n\u001b[1;32m    685\u001b[0m             delayed(_accumulate_prediction)(e.predict_proba, X, all_proba,\n\u001b[1;32m    686\u001b[0m                                             lock)\n\u001b[0;32m--> 687\u001b[0;31m             for e in self.estimators_)\n\u001b[0m\u001b[1;32m    688\u001b[0m \u001b[0;34m\u001b[0m\u001b[0m\n\u001b[1;32m    689\u001b[0m         \u001b[0;32mfor\u001b[0m \u001b[0mproba\u001b[0m \u001b[0;32min\u001b[0m \u001b[0mall_proba\u001b[0m\u001b[0;34m:\u001b[0m\u001b[0;34m\u001b[0m\u001b[0m\n",
      "\u001b[0;32m~/opt/anaconda3/envs/learn-env/lib/python3.6/site-packages/joblib/parallel.py\u001b[0m in \u001b[0;36m__call__\u001b[0;34m(self, iterable)\u001b[0m\n\u001b[1;32m    922\u001b[0m                 \u001b[0mself\u001b[0m\u001b[0;34m.\u001b[0m\u001b[0m_iterating\u001b[0m \u001b[0;34m=\u001b[0m \u001b[0mself\u001b[0m\u001b[0;34m.\u001b[0m\u001b[0m_original_iterator\u001b[0m \u001b[0;32mis\u001b[0m \u001b[0;32mnot\u001b[0m \u001b[0;32mNone\u001b[0m\u001b[0;34m\u001b[0m\u001b[0m\n\u001b[1;32m    923\u001b[0m \u001b[0;34m\u001b[0m\u001b[0m\n\u001b[0;32m--> 924\u001b[0;31m             \u001b[0;32mwhile\u001b[0m \u001b[0mself\u001b[0m\u001b[0;34m.\u001b[0m\u001b[0mdispatch_one_batch\u001b[0m\u001b[0;34m(\u001b[0m\u001b[0miterator\u001b[0m\u001b[0;34m)\u001b[0m\u001b[0;34m:\u001b[0m\u001b[0;34m\u001b[0m\u001b[0m\n\u001b[0m\u001b[1;32m    925\u001b[0m                 \u001b[0;32mpass\u001b[0m\u001b[0;34m\u001b[0m\u001b[0m\n\u001b[1;32m    926\u001b[0m \u001b[0;34m\u001b[0m\u001b[0m\n",
      "\u001b[0;32m~/opt/anaconda3/envs/learn-env/lib/python3.6/site-packages/joblib/parallel.py\u001b[0m in \u001b[0;36mdispatch_one_batch\u001b[0;34m(self, iterator)\u001b[0m\n\u001b[1;32m    757\u001b[0m                 \u001b[0;32mreturn\u001b[0m \u001b[0;32mFalse\u001b[0m\u001b[0;34m\u001b[0m\u001b[0m\n\u001b[1;32m    758\u001b[0m             \u001b[0;32melse\u001b[0m\u001b[0;34m:\u001b[0m\u001b[0;34m\u001b[0m\u001b[0m\n\u001b[0;32m--> 759\u001b[0;31m                 \u001b[0mself\u001b[0m\u001b[0;34m.\u001b[0m\u001b[0m_dispatch\u001b[0m\u001b[0;34m(\u001b[0m\u001b[0mtasks\u001b[0m\u001b[0;34m)\u001b[0m\u001b[0;34m\u001b[0m\u001b[0m\n\u001b[0m\u001b[1;32m    760\u001b[0m                 \u001b[0;32mreturn\u001b[0m \u001b[0;32mTrue\u001b[0m\u001b[0;34m\u001b[0m\u001b[0m\n\u001b[1;32m    761\u001b[0m \u001b[0;34m\u001b[0m\u001b[0m\n",
      "\u001b[0;32m~/opt/anaconda3/envs/learn-env/lib/python3.6/site-packages/joblib/parallel.py\u001b[0m in \u001b[0;36m_dispatch\u001b[0;34m(self, batch)\u001b[0m\n\u001b[1;32m    714\u001b[0m         \u001b[0;32mwith\u001b[0m \u001b[0mself\u001b[0m\u001b[0;34m.\u001b[0m\u001b[0m_lock\u001b[0m\u001b[0;34m:\u001b[0m\u001b[0;34m\u001b[0m\u001b[0m\n\u001b[1;32m    715\u001b[0m             \u001b[0mjob_idx\u001b[0m \u001b[0;34m=\u001b[0m \u001b[0mlen\u001b[0m\u001b[0;34m(\u001b[0m\u001b[0mself\u001b[0m\u001b[0;34m.\u001b[0m\u001b[0m_jobs\u001b[0m\u001b[0;34m)\u001b[0m\u001b[0;34m\u001b[0m\u001b[0m\n\u001b[0;32m--> 716\u001b[0;31m             \u001b[0mjob\u001b[0m \u001b[0;34m=\u001b[0m \u001b[0mself\u001b[0m\u001b[0;34m.\u001b[0m\u001b[0m_backend\u001b[0m\u001b[0;34m.\u001b[0m\u001b[0mapply_async\u001b[0m\u001b[0;34m(\u001b[0m\u001b[0mbatch\u001b[0m\u001b[0;34m,\u001b[0m \u001b[0mcallback\u001b[0m\u001b[0;34m=\u001b[0m\u001b[0mcb\u001b[0m\u001b[0;34m)\u001b[0m\u001b[0;34m\u001b[0m\u001b[0m\n\u001b[0m\u001b[1;32m    717\u001b[0m             \u001b[0;31m# A job can complete so quickly than its callback is\u001b[0m\u001b[0;34m\u001b[0m\u001b[0;34m\u001b[0m\u001b[0m\n\u001b[1;32m    718\u001b[0m             \u001b[0;31m# called before we get here, causing self._jobs to\u001b[0m\u001b[0;34m\u001b[0m\u001b[0;34m\u001b[0m\u001b[0m\n",
      "\u001b[0;32m~/opt/anaconda3/envs/learn-env/lib/python3.6/site-packages/joblib/_parallel_backends.py\u001b[0m in \u001b[0;36mapply_async\u001b[0;34m(self, func, callback)\u001b[0m\n\u001b[1;32m    180\u001b[0m     \u001b[0;32mdef\u001b[0m \u001b[0mapply_async\u001b[0m\u001b[0;34m(\u001b[0m\u001b[0mself\u001b[0m\u001b[0;34m,\u001b[0m \u001b[0mfunc\u001b[0m\u001b[0;34m,\u001b[0m \u001b[0mcallback\u001b[0m\u001b[0;34m=\u001b[0m\u001b[0;32mNone\u001b[0m\u001b[0;34m)\u001b[0m\u001b[0;34m:\u001b[0m\u001b[0;34m\u001b[0m\u001b[0m\n\u001b[1;32m    181\u001b[0m         \u001b[0;34m\"\"\"Schedule a func to be run\"\"\"\u001b[0m\u001b[0;34m\u001b[0m\u001b[0m\n\u001b[0;32m--> 182\u001b[0;31m         \u001b[0mresult\u001b[0m \u001b[0;34m=\u001b[0m \u001b[0mImmediateResult\u001b[0m\u001b[0;34m(\u001b[0m\u001b[0mfunc\u001b[0m\u001b[0;34m)\u001b[0m\u001b[0;34m\u001b[0m\u001b[0m\n\u001b[0m\u001b[1;32m    183\u001b[0m         \u001b[0;32mif\u001b[0m \u001b[0mcallback\u001b[0m\u001b[0;34m:\u001b[0m\u001b[0;34m\u001b[0m\u001b[0m\n\u001b[1;32m    184\u001b[0m             \u001b[0mcallback\u001b[0m\u001b[0;34m(\u001b[0m\u001b[0mresult\u001b[0m\u001b[0;34m)\u001b[0m\u001b[0;34m\u001b[0m\u001b[0m\n",
      "\u001b[0;32m~/opt/anaconda3/envs/learn-env/lib/python3.6/site-packages/joblib/_parallel_backends.py\u001b[0m in \u001b[0;36m__init__\u001b[0;34m(self, batch)\u001b[0m\n\u001b[1;32m    547\u001b[0m         \u001b[0;31m# Don't delay the application, to avoid keeping the input\u001b[0m\u001b[0;34m\u001b[0m\u001b[0;34m\u001b[0m\u001b[0m\n\u001b[1;32m    548\u001b[0m         \u001b[0;31m# arguments in memory\u001b[0m\u001b[0;34m\u001b[0m\u001b[0;34m\u001b[0m\u001b[0m\n\u001b[0;32m--> 549\u001b[0;31m         \u001b[0mself\u001b[0m\u001b[0;34m.\u001b[0m\u001b[0mresults\u001b[0m \u001b[0;34m=\u001b[0m \u001b[0mbatch\u001b[0m\u001b[0;34m(\u001b[0m\u001b[0;34m)\u001b[0m\u001b[0;34m\u001b[0m\u001b[0m\n\u001b[0m\u001b[1;32m    550\u001b[0m \u001b[0;34m\u001b[0m\u001b[0m\n\u001b[1;32m    551\u001b[0m     \u001b[0;32mdef\u001b[0m \u001b[0mget\u001b[0m\u001b[0;34m(\u001b[0m\u001b[0mself\u001b[0m\u001b[0;34m)\u001b[0m\u001b[0;34m:\u001b[0m\u001b[0;34m\u001b[0m\u001b[0m\n",
      "\u001b[0;32m~/opt/anaconda3/envs/learn-env/lib/python3.6/site-packages/joblib/parallel.py\u001b[0m in \u001b[0;36m__call__\u001b[0;34m(self)\u001b[0m\n\u001b[1;32m    223\u001b[0m         \u001b[0;32mwith\u001b[0m \u001b[0mparallel_backend\u001b[0m\u001b[0;34m(\u001b[0m\u001b[0mself\u001b[0m\u001b[0;34m.\u001b[0m\u001b[0m_backend\u001b[0m\u001b[0;34m,\u001b[0m \u001b[0mn_jobs\u001b[0m\u001b[0;34m=\u001b[0m\u001b[0mself\u001b[0m\u001b[0;34m.\u001b[0m\u001b[0m_n_jobs\u001b[0m\u001b[0;34m)\u001b[0m\u001b[0;34m:\u001b[0m\u001b[0;34m\u001b[0m\u001b[0m\n\u001b[1;32m    224\u001b[0m             return [func(*args, **kwargs)\n\u001b[0;32m--> 225\u001b[0;31m                     for func, args, kwargs in self.items]\n\u001b[0m\u001b[1;32m    226\u001b[0m \u001b[0;34m\u001b[0m\u001b[0m\n\u001b[1;32m    227\u001b[0m     \u001b[0;32mdef\u001b[0m \u001b[0m__len__\u001b[0m\u001b[0;34m(\u001b[0m\u001b[0mself\u001b[0m\u001b[0;34m)\u001b[0m\u001b[0;34m:\u001b[0m\u001b[0;34m\u001b[0m\u001b[0m\n",
      "\u001b[0;32m~/opt/anaconda3/envs/learn-env/lib/python3.6/site-packages/joblib/parallel.py\u001b[0m in \u001b[0;36m<listcomp>\u001b[0;34m(.0)\u001b[0m\n\u001b[1;32m    223\u001b[0m         \u001b[0;32mwith\u001b[0m \u001b[0mparallel_backend\u001b[0m\u001b[0;34m(\u001b[0m\u001b[0mself\u001b[0m\u001b[0;34m.\u001b[0m\u001b[0m_backend\u001b[0m\u001b[0;34m,\u001b[0m \u001b[0mn_jobs\u001b[0m\u001b[0;34m=\u001b[0m\u001b[0mself\u001b[0m\u001b[0;34m.\u001b[0m\u001b[0m_n_jobs\u001b[0m\u001b[0;34m)\u001b[0m\u001b[0;34m:\u001b[0m\u001b[0;34m\u001b[0m\u001b[0m\n\u001b[1;32m    224\u001b[0m             return [func(*args, **kwargs)\n\u001b[0;32m--> 225\u001b[0;31m                     for func, args, kwargs in self.items]\n\u001b[0m\u001b[1;32m    226\u001b[0m \u001b[0;34m\u001b[0m\u001b[0m\n\u001b[1;32m    227\u001b[0m     \u001b[0;32mdef\u001b[0m \u001b[0m__len__\u001b[0m\u001b[0;34m(\u001b[0m\u001b[0mself\u001b[0m\u001b[0;34m)\u001b[0m\u001b[0;34m:\u001b[0m\u001b[0;34m\u001b[0m\u001b[0m\n",
      "\u001b[0;32m~/opt/anaconda3/envs/learn-env/lib/python3.6/site-packages/sklearn/utils/fixes.py\u001b[0m in \u001b[0;36m__call__\u001b[0;34m(self, *args, **kwargs)\u001b[0m\n\u001b[1;32m    220\u001b[0m     \u001b[0;32mdef\u001b[0m \u001b[0m__call__\u001b[0m\u001b[0;34m(\u001b[0m\u001b[0mself\u001b[0m\u001b[0;34m,\u001b[0m \u001b[0;34m*\u001b[0m\u001b[0margs\u001b[0m\u001b[0;34m,\u001b[0m \u001b[0;34m**\u001b[0m\u001b[0mkwargs\u001b[0m\u001b[0;34m)\u001b[0m\u001b[0;34m:\u001b[0m\u001b[0;34m\u001b[0m\u001b[0m\n\u001b[1;32m    221\u001b[0m         \u001b[0;32mwith\u001b[0m \u001b[0mconfig_context\u001b[0m\u001b[0;34m(\u001b[0m\u001b[0;34m**\u001b[0m\u001b[0mself\u001b[0m\u001b[0;34m.\u001b[0m\u001b[0mconfig\u001b[0m\u001b[0;34m)\u001b[0m\u001b[0;34m:\u001b[0m\u001b[0;34m\u001b[0m\u001b[0m\n\u001b[0;32m--> 222\u001b[0;31m             \u001b[0;32mreturn\u001b[0m \u001b[0mself\u001b[0m\u001b[0;34m.\u001b[0m\u001b[0mfunction\u001b[0m\u001b[0;34m(\u001b[0m\u001b[0;34m*\u001b[0m\u001b[0margs\u001b[0m\u001b[0;34m,\u001b[0m \u001b[0;34m**\u001b[0m\u001b[0mkwargs\u001b[0m\u001b[0;34m)\u001b[0m\u001b[0;34m\u001b[0m\u001b[0m\n\u001b[0m",
      "\u001b[0;32m~/opt/anaconda3/envs/learn-env/lib/python3.6/site-packages/sklearn/ensemble/_forest.py\u001b[0m in \u001b[0;36m_accumulate_prediction\u001b[0;34m(predict, X, out, lock)\u001b[0m\n\u001b[1;32m    465\u001b[0m     \u001b[0mcomplains\u001b[0m \u001b[0mthat\u001b[0m \u001b[0mit\u001b[0m \u001b[0mcannot\u001b[0m \u001b[0mpickle\u001b[0m \u001b[0mit\u001b[0m \u001b[0mwhen\u001b[0m \u001b[0mplaced\u001b[0m \u001b[0mthere\u001b[0m\u001b[0;34m.\u001b[0m\u001b[0;34m\u001b[0m\u001b[0m\n\u001b[1;32m    466\u001b[0m     \"\"\"\n\u001b[0;32m--> 467\u001b[0;31m     \u001b[0mprediction\u001b[0m \u001b[0;34m=\u001b[0m \u001b[0mpredict\u001b[0m\u001b[0;34m(\u001b[0m\u001b[0mX\u001b[0m\u001b[0;34m,\u001b[0m \u001b[0mcheck_input\u001b[0m\u001b[0;34m=\u001b[0m\u001b[0;32mFalse\u001b[0m\u001b[0;34m)\u001b[0m\u001b[0;34m\u001b[0m\u001b[0m\n\u001b[0m\u001b[1;32m    468\u001b[0m     \u001b[0;32mwith\u001b[0m \u001b[0mlock\u001b[0m\u001b[0;34m:\u001b[0m\u001b[0;34m\u001b[0m\u001b[0m\n\u001b[1;32m    469\u001b[0m         \u001b[0;32mif\u001b[0m \u001b[0mlen\u001b[0m\u001b[0;34m(\u001b[0m\u001b[0mout\u001b[0m\u001b[0;34m)\u001b[0m \u001b[0;34m==\u001b[0m \u001b[0;36m1\u001b[0m\u001b[0;34m:\u001b[0m\u001b[0;34m\u001b[0m\u001b[0m\n",
      "\u001b[0;32m~/opt/anaconda3/envs/learn-env/lib/python3.6/site-packages/sklearn/tree/_classes.py\u001b[0m in \u001b[0;36mpredict_proba\u001b[0;34m(self, X, check_input)\u001b[0m\n\u001b[1;32m    934\u001b[0m         \u001b[0mcheck_is_fitted\u001b[0m\u001b[0;34m(\u001b[0m\u001b[0mself\u001b[0m\u001b[0;34m)\u001b[0m\u001b[0;34m\u001b[0m\u001b[0m\n\u001b[1;32m    935\u001b[0m         \u001b[0mX\u001b[0m \u001b[0;34m=\u001b[0m \u001b[0mself\u001b[0m\u001b[0;34m.\u001b[0m\u001b[0m_validate_X_predict\u001b[0m\u001b[0;34m(\u001b[0m\u001b[0mX\u001b[0m\u001b[0;34m,\u001b[0m \u001b[0mcheck_input\u001b[0m\u001b[0;34m)\u001b[0m\u001b[0;34m\u001b[0m\u001b[0m\n\u001b[0;32m--> 936\u001b[0;31m         \u001b[0mproba\u001b[0m \u001b[0;34m=\u001b[0m \u001b[0mself\u001b[0m\u001b[0;34m.\u001b[0m\u001b[0mtree_\u001b[0m\u001b[0;34m.\u001b[0m\u001b[0mpredict\u001b[0m\u001b[0;34m(\u001b[0m\u001b[0mX\u001b[0m\u001b[0;34m)\u001b[0m\u001b[0;34m\u001b[0m\u001b[0m\n\u001b[0m\u001b[1;32m    937\u001b[0m \u001b[0;34m\u001b[0m\u001b[0m\n\u001b[1;32m    938\u001b[0m         \u001b[0;32mif\u001b[0m \u001b[0mself\u001b[0m\u001b[0;34m.\u001b[0m\u001b[0mn_outputs_\u001b[0m \u001b[0;34m==\u001b[0m \u001b[0;36m1\u001b[0m\u001b[0;34m:\u001b[0m\u001b[0;34m\u001b[0m\u001b[0m\n",
      "\u001b[0;31mKeyboardInterrupt\u001b[0m: "
     ]
    }
   ],
   "source": [
    "predictions=[]\n",
    "with plt.style.context('seaborn-talk'):\n",
    "    fig = plt.subplots(ncols=3, figsize=(15, 5))\n",
    "for i in models_fi:\n",
    "    preds=i.predict(X_train)\n",
    "    predictions.append(preds)\n",
    "\n",
    "    print(i)\n",
    "    print_metrics(y_train, preds)\n",
    "    cm = confusion_matrix(y_train, preds)\n",
    "    cmn = cm.astype('float') / cm.sum(axis=1)[:, np.newaxis]\n",
    "\n",
    "    sns.heatmap(cmn, annot=True, fmt='.2f', cmap='BuPu')\n",
    "    plt.ylabel('Actual')\n",
    "    plt.xlabel('Predicted')\n",
    "    plt.show(block=False)"
   ]
  },
  {
   "cell_type": "code",
   "execution_count": 103,
   "id": "7c55d760",
   "metadata": {},
   "outputs": [],
   "source": [
    "models_fi=[clf, clf_bal, forest, best_forest, best_forest_bal, xgb_model]"
   ]
  },
  {
   "cell_type": "code",
   "execution_count": 104,
   "id": "308b8efe",
   "metadata": {},
   "outputs": [
    {
     "ename": "AttributeError",
     "evalue": "'bool' object has no attribute 'all'",
     "output_type": "error",
     "traceback": [
      "\u001b[0;31m---------------------------------------------------------------------------\u001b[0m",
      "\u001b[0;31mAttributeError\u001b[0m                            Traceback (most recent call last)",
      "\u001b[0;32m<ipython-input-104-9ae8939a90c5>\u001b[0m in \u001b[0;36m<module>\u001b[0;34m()\u001b[0m\n\u001b[1;32m      7\u001b[0m \u001b[0;32mfor\u001b[0m \u001b[0mi\u001b[0m \u001b[0;32min\u001b[0m \u001b[0;34m(\u001b[0m\u001b[0mmodels_fi\u001b[0m\u001b[0;34m)\u001b[0m\u001b[0;34m:\u001b[0m\u001b[0;34m\u001b[0m\u001b[0m\n\u001b[1;32m      8\u001b[0m     \u001b[0mn_features\u001b[0m \u001b[0;34m=\u001b[0m \u001b[0mX_train\u001b[0m\u001b[0;34m.\u001b[0m\u001b[0mshape\u001b[0m\u001b[0;34m[\u001b[0m\u001b[0;36m1\u001b[0m\u001b[0;34m]\u001b[0m\u001b[0;34m\u001b[0m\u001b[0m\n\u001b[0;32m----> 9\u001b[0;31m     \u001b[0msns\u001b[0m\u001b[0;34m.\u001b[0m\u001b[0mbarplot\u001b[0m\u001b[0;34m(\u001b[0m\u001b[0mx\u001b[0m\u001b[0;34m=\u001b[0m\u001b[0mrange\u001b[0m\u001b[0;34m(\u001b[0m\u001b[0mn_features\u001b[0m\u001b[0;34m)\u001b[0m\u001b[0;34m,\u001b[0m \u001b[0my\u001b[0m\u001b[0;34m=\u001b[0m\u001b[0;34m(\u001b[0m\u001b[0mi\u001b[0m\u001b[0;34m.\u001b[0m\u001b[0mfeature_importances_\u001b[0m\u001b[0;34m)\u001b[0m\u001b[0;34m,\u001b[0m \u001b[0mdata\u001b[0m\u001b[0;34m=\u001b[0m\u001b[0mdf\u001b[0m\u001b[0;34m)\u001b[0m\u001b[0;34m\u001b[0m\u001b[0m\n\u001b[0m\u001b[1;32m     10\u001b[0m     \u001b[0msns\u001b[0m\u001b[0;34m.\u001b[0m\u001b[0myticks\u001b[0m\u001b[0;34m(\u001b[0m\u001b[0mnp\u001b[0m\u001b[0;34m.\u001b[0m\u001b[0marange\u001b[0m\u001b[0;34m(\u001b[0m\u001b[0mn_features\u001b[0m\u001b[0;34m)\u001b[0m\u001b[0;34m,\u001b[0m \u001b[0mX_train\u001b[0m\u001b[0;34m.\u001b[0m\u001b[0mcolumns\u001b[0m\u001b[0;34m.\u001b[0m\u001b[0mvalues\u001b[0m\u001b[0;34m)\u001b[0m\u001b[0;34m\u001b[0m\u001b[0m\n\u001b[1;32m     11\u001b[0m \u001b[0;31m#sns.barplot(x=\"total\", y=\"abbrev\", data=crashes,\u001b[0m\u001b[0;34m\u001b[0m\u001b[0;34m\u001b[0m\u001b[0m\n",
      "\u001b[0;32m~/opt/anaconda3/envs/learn-env/lib/python3.6/site-packages/seaborn/_decorators.py\u001b[0m in \u001b[0;36minner_f\u001b[0;34m(*args, **kwargs)\u001b[0m\n\u001b[1;32m     44\u001b[0m             )\n\u001b[1;32m     45\u001b[0m         \u001b[0mkwargs\u001b[0m\u001b[0;34m.\u001b[0m\u001b[0mupdate\u001b[0m\u001b[0;34m(\u001b[0m\u001b[0;34m{\u001b[0m\u001b[0mk\u001b[0m\u001b[0;34m:\u001b[0m \u001b[0marg\u001b[0m \u001b[0;32mfor\u001b[0m \u001b[0mk\u001b[0m\u001b[0;34m,\u001b[0m \u001b[0marg\u001b[0m \u001b[0;32min\u001b[0m \u001b[0mzip\u001b[0m\u001b[0;34m(\u001b[0m\u001b[0msig\u001b[0m\u001b[0;34m.\u001b[0m\u001b[0mparameters\u001b[0m\u001b[0;34m,\u001b[0m \u001b[0margs\u001b[0m\u001b[0;34m)\u001b[0m\u001b[0;34m}\u001b[0m\u001b[0;34m)\u001b[0m\u001b[0;34m\u001b[0m\u001b[0m\n\u001b[0;32m---> 46\u001b[0;31m         \u001b[0;32mreturn\u001b[0m \u001b[0mf\u001b[0m\u001b[0;34m(\u001b[0m\u001b[0;34m**\u001b[0m\u001b[0mkwargs\u001b[0m\u001b[0;34m)\u001b[0m\u001b[0;34m\u001b[0m\u001b[0m\n\u001b[0m\u001b[1;32m     47\u001b[0m     \u001b[0;32mreturn\u001b[0m \u001b[0minner_f\u001b[0m\u001b[0;34m\u001b[0m\u001b[0m\n\u001b[1;32m     48\u001b[0m \u001b[0;34m\u001b[0m\u001b[0m\n",
      "\u001b[0;32m~/opt/anaconda3/envs/learn-env/lib/python3.6/site-packages/seaborn/categorical.py\u001b[0m in \u001b[0;36mbarplot\u001b[0;34m(x, y, hue, data, order, hue_order, estimator, ci, n_boot, units, seed, orient, color, palette, saturation, errcolor, errwidth, capsize, dodge, ax, **kwargs)\u001b[0m\n\u001b[1;32m   3183\u001b[0m                           \u001b[0mestimator\u001b[0m\u001b[0;34m,\u001b[0m \u001b[0mci\u001b[0m\u001b[0;34m,\u001b[0m \u001b[0mn_boot\u001b[0m\u001b[0;34m,\u001b[0m \u001b[0munits\u001b[0m\u001b[0;34m,\u001b[0m \u001b[0mseed\u001b[0m\u001b[0;34m,\u001b[0m\u001b[0;34m\u001b[0m\u001b[0m\n\u001b[1;32m   3184\u001b[0m                           \u001b[0morient\u001b[0m\u001b[0;34m,\u001b[0m \u001b[0mcolor\u001b[0m\u001b[0;34m,\u001b[0m \u001b[0mpalette\u001b[0m\u001b[0;34m,\u001b[0m \u001b[0msaturation\u001b[0m\u001b[0;34m,\u001b[0m\u001b[0;34m\u001b[0m\u001b[0m\n\u001b[0;32m-> 3185\u001b[0;31m                           errcolor, errwidth, capsize, dodge)\n\u001b[0m\u001b[1;32m   3186\u001b[0m \u001b[0;34m\u001b[0m\u001b[0m\n\u001b[1;32m   3187\u001b[0m     \u001b[0;32mif\u001b[0m \u001b[0max\u001b[0m \u001b[0;32mis\u001b[0m \u001b[0;32mNone\u001b[0m\u001b[0;34m:\u001b[0m\u001b[0;34m\u001b[0m\u001b[0m\n",
      "\u001b[0;32m~/opt/anaconda3/envs/learn-env/lib/python3.6/site-packages/seaborn/categorical.py\u001b[0m in \u001b[0;36m__init__\u001b[0;34m(self, x, y, hue, data, order, hue_order, estimator, ci, n_boot, units, seed, orient, color, palette, saturation, errcolor, errwidth, capsize, dodge)\u001b[0m\n\u001b[1;32m   1583\u001b[0m         \u001b[0;34m\"\"\"Initialize the plotter.\"\"\"\u001b[0m\u001b[0;34m\u001b[0m\u001b[0m\n\u001b[1;32m   1584\u001b[0m         self.establish_variables(x, y, hue, data, orient,\n\u001b[0;32m-> 1585\u001b[0;31m                                  order, hue_order, units)\n\u001b[0m\u001b[1;32m   1586\u001b[0m         \u001b[0mself\u001b[0m\u001b[0;34m.\u001b[0m\u001b[0mestablish_colors\u001b[0m\u001b[0;34m(\u001b[0m\u001b[0mcolor\u001b[0m\u001b[0;34m,\u001b[0m \u001b[0mpalette\u001b[0m\u001b[0;34m,\u001b[0m \u001b[0msaturation\u001b[0m\u001b[0;34m)\u001b[0m\u001b[0;34m\u001b[0m\u001b[0m\n\u001b[1;32m   1587\u001b[0m         \u001b[0mself\u001b[0m\u001b[0;34m.\u001b[0m\u001b[0mestimate_statistic\u001b[0m\u001b[0;34m(\u001b[0m\u001b[0mestimator\u001b[0m\u001b[0;34m,\u001b[0m \u001b[0mci\u001b[0m\u001b[0;34m,\u001b[0m \u001b[0mn_boot\u001b[0m\u001b[0;34m,\u001b[0m \u001b[0mseed\u001b[0m\u001b[0;34m)\u001b[0m\u001b[0;34m\u001b[0m\u001b[0m\n",
      "\u001b[0;32m~/opt/anaconda3/envs/learn-env/lib/python3.6/site-packages/seaborn/categorical.py\u001b[0m in \u001b[0;36mestablish_variables\u001b[0;34m(self, x, y, hue, data, orient, order, hue_order, units)\u001b[0m\n\u001b[1;32m    155\u001b[0m             \u001b[0;31m# Figure out the plotting orientation\u001b[0m\u001b[0;34m\u001b[0m\u001b[0;34m\u001b[0m\u001b[0m\n\u001b[1;32m    156\u001b[0m             orient = infer_orient(\n\u001b[0;32m--> 157\u001b[0;31m                 \u001b[0mx\u001b[0m\u001b[0;34m,\u001b[0m \u001b[0my\u001b[0m\u001b[0;34m,\u001b[0m \u001b[0morient\u001b[0m\u001b[0;34m,\u001b[0m \u001b[0mrequire_numeric\u001b[0m\u001b[0;34m=\u001b[0m\u001b[0mself\u001b[0m\u001b[0;34m.\u001b[0m\u001b[0mrequire_numeric\u001b[0m\u001b[0;34m\u001b[0m\u001b[0m\n\u001b[0m\u001b[1;32m    158\u001b[0m             )\n\u001b[1;32m    159\u001b[0m \u001b[0;34m\u001b[0m\u001b[0m\n",
      "\u001b[0;32m~/opt/anaconda3/envs/learn-env/lib/python3.6/site-packages/seaborn/_core.py\u001b[0m in \u001b[0;36minfer_orient\u001b[0;34m(x, y, orient, require_numeric)\u001b[0m\n\u001b[1;32m   1309\u001b[0m     \"\"\"\n\u001b[1;32m   1310\u001b[0m \u001b[0;34m\u001b[0m\u001b[0m\n\u001b[0;32m-> 1311\u001b[0;31m     \u001b[0mx_type\u001b[0m \u001b[0;34m=\u001b[0m \u001b[0;32mNone\u001b[0m \u001b[0;32mif\u001b[0m \u001b[0mx\u001b[0m \u001b[0;32mis\u001b[0m \u001b[0;32mNone\u001b[0m \u001b[0;32melse\u001b[0m \u001b[0mvariable_type\u001b[0m\u001b[0;34m(\u001b[0m\u001b[0mx\u001b[0m\u001b[0;34m)\u001b[0m\u001b[0;34m\u001b[0m\u001b[0m\n\u001b[0m\u001b[1;32m   1312\u001b[0m     \u001b[0my_type\u001b[0m \u001b[0;34m=\u001b[0m \u001b[0;32mNone\u001b[0m \u001b[0;32mif\u001b[0m \u001b[0my\u001b[0m \u001b[0;32mis\u001b[0m \u001b[0;32mNone\u001b[0m \u001b[0;32melse\u001b[0m \u001b[0mvariable_type\u001b[0m\u001b[0;34m(\u001b[0m\u001b[0my\u001b[0m\u001b[0;34m)\u001b[0m\u001b[0;34m\u001b[0m\u001b[0m\n\u001b[1;32m   1313\u001b[0m \u001b[0;34m\u001b[0m\u001b[0m\n",
      "\u001b[0;32m~/opt/anaconda3/envs/learn-env/lib/python3.6/site-packages/seaborn/_core.py\u001b[0m in \u001b[0;36mvariable_type\u001b[0;34m(vector, boolean_type)\u001b[0m\n\u001b[1;32m   1227\u001b[0m \u001b[0;34m\u001b[0m\u001b[0m\n\u001b[1;32m   1228\u001b[0m     \u001b[0;31m# Special-case all-na data, which is always \"numeric\"\u001b[0m\u001b[0;34m\u001b[0m\u001b[0;34m\u001b[0m\u001b[0m\n\u001b[0;32m-> 1229\u001b[0;31m     \u001b[0;32mif\u001b[0m \u001b[0mpd\u001b[0m\u001b[0;34m.\u001b[0m\u001b[0misna\u001b[0m\u001b[0;34m(\u001b[0m\u001b[0mvector\u001b[0m\u001b[0;34m)\u001b[0m\u001b[0;34m.\u001b[0m\u001b[0mall\u001b[0m\u001b[0;34m(\u001b[0m\u001b[0;34m)\u001b[0m\u001b[0;34m:\u001b[0m\u001b[0;34m\u001b[0m\u001b[0m\n\u001b[0m\u001b[1;32m   1230\u001b[0m         \u001b[0;32mreturn\u001b[0m \u001b[0;34m\"numeric\"\u001b[0m\u001b[0;34m\u001b[0m\u001b[0m\n\u001b[1;32m   1231\u001b[0m \u001b[0;34m\u001b[0m\u001b[0m\n",
      "\u001b[0;31mAttributeError\u001b[0m: 'bool' object has no attribute 'all'"
     ]
    },
    {
     "data": {
      "image/png": "[encoded data removed]",
      "text/plain": [
       "<Figure size 864x1080 with 1 Axes>"
      ]
     },
     "metadata": {},
     "output_type": "display_data"
    }
   ],
   "source": [
    "import seaborn as sns\n",
    "import matplotlib.pyplot as plt\n",
    "sns.set_theme(style=\"whitegrid\")\n",
    "\n",
    "# Initialize the matplotlib figure\n",
    "f, ax = plt.subplots(figsize=(12, 15))\n",
    "for i in (models_fi):\n",
    "    n_features = X_train.shape[1]\n",
    "    sns.barplot(x=range(n_features), y=(i.feature_importances_), data=df)\n",
    "    sns.yticks(np.arange(n_features), X_train.columns.values)\n",
    "#sns.barplot(x=\"total\", y=\"abbrev\", data=crashes,\n",
    "#            label=\"Total\", color=\"b\")\n",
    "\n",
    "# Plot the crashes where alcohol was involved\n",
    "#sns.set_color_codes(\"muted\")\n",
    "#sns.barplot(x=\"alcohol\", y=\"abbrev\", data=crashes,\n",
    "#            label=\"Alcohol-involved\", color=\"b\")\n",
    "\n",
    "# Add a legend and informative axis label\n",
    "ax.legend (loc=\"lower right\", frameon=True)\n",
    "ax.set(ylabel=\"features\", xlabel=\"Feature Importance\")"
   ]
  },
  {
   "cell_type": "code",
   "execution_count": null,
   "id": "e5050dd4",
   "metadata": {},
   "outputs": [],
   "source": [
    "g = sns.catplot(\n",
    "    data=penguins, kind=\"bar\",\n",
    "    x=\"species\", y=\"body_mass_g\", hue=\"sex\",\n",
    "    errorbar=\"sd\", palette=\"dark\", alpha=.6, height=6\n",
    ")\n",
    "g.despine(left=True)\n",
    "g.set_axis_labels(\"\", \"Body mass (g)\")\n",
    "g.legend.set_title(\"\")"
   ]
  },
  {
   "cell_type": "code",
   "execution_count": null,
   "id": "4bf747f9",
   "metadata": {},
   "outputs": [],
   "source": [
    "    n_features = X_train.shape[1]\n",
    "    plt.figure(figsize=(8,8))\n",
    "    #not sure why when I add np.sort in front of model feature it changes\n",
    "    plt.barh(range(n_features), (model.feature_importances_), align='center') \n",
    "    plt.yticks(np.arange(n_features), X_train.columns.values) \n",
    "    plt.xlabel('Feature importance')\n",
    "    plt.ylabel('Feature')"
   ]
  },
  {
   "cell_type": "code",
   "execution_count": null,
   "id": "d16222ad",
   "metadata": {},
   "outputs": [],
   "source": [
    "\"\"\"for j in (predictions):\n",
    "    cm = confusion_matrix(y_train,j)\n",
    "# Normalize\n",
    "    cmn = cm.astype('float') / cm.sum(axis=1)[:, np.newaxis]\n",
    "    fig, ax = plt.subplots(figsize=(6,5))\n",
    "    sns.heatmap(cmn, annot=True, fmt='.2f', cmap='coolwarm')\n",
    "    plt.ylabel('Actual')\n",
    "    plt.xlabel('Predicted')\n",
    "plt.show(block=False)\"\"\""
   ]
  },
  {
   "cell_type": "code",
   "execution_count": null,
   "id": "1bf39496",
   "metadata": {},
   "outputs": [],
   "source": []
  },
  {
   "cell_type": "code",
   "execution_count": null,
   "id": "c90ea90d",
   "metadata": {},
   "outputs": [],
   "source": []
  },
  {
   "cell_type": "code",
   "execution_count": null,
   "id": "2cd52618",
   "metadata": {},
   "outputs": [],
   "source": []
  },
  {
   "cell_type": "code",
   "execution_count": null,
   "id": "9775d3b3",
   "metadata": {},
   "outputs": [],
   "source": []
  },
  {
   "cell_type": "code",
   "execution_count": null,
   "id": "6a12df6b",
   "metadata": {},
   "outputs": [],
   "source": []
  },
  {
   "cell_type": "code",
   "execution_count": null,
   "id": "7e2c12e9",
   "metadata": {},
   "outputs": [],
   "source": []
  },
  {
   "cell_type": "markdown",
   "id": "99298def",
   "metadata": {},
   "source": [
    "### Threshold Chapter (we will see if it makes sense to include it)"
   ]
  },
  {
   "cell_type": "markdown",
   "id": "a1079b0f",
   "metadata": {},
   "source": [
    "Now I have to figure out how to decrease this famous threshold in decision trees."
   ]
  },
  {
   "cell_type": "markdown",
   "id": "94934775",
   "metadata": {},
   "source": [
    "First ROC curve"
   ]
  },
  {
   "cell_type": "code",
   "execution_count": null,
   "id": "2b2a8310",
   "metadata": {},
   "outputs": [],
   "source": [
    "yhat = clf.predict_proba(X_test)\n",
    "yhat = yhat[:, 1]\n",
    "#fpr, tpr, thresholds= roc_curve(y_train, yhat)\n",
    "fpr, tpr, thresholds = roc_curve(y_test, yhat)\n",
    "#plot_roc_curve(clf, y_test, yhat)\n",
    "# plot the roc curve for the model\n",
    "plt.plot([0,1], [0,1], linestyle='--', label='No Skill')\n",
    "plt.plot(fpr, tpr, marker='.', label='Logistic')\n",
    "# axis labels\n",
    "plt.xlabel('False Positive Rate')\n",
    "plt.ylabel('True Positive Rate')\n",
    "plt.legend()\n",
    "# show the plot\n",
    "plt.show()"
   ]
  },
  {
   "cell_type": "code",
   "execution_count": null,
   "id": "8a3064cd",
   "metadata": {},
   "outputs": [],
   "source": [
    "...\n",
    "# calculate the g-mean for each threshold\n",
    "gmeans = np.sqrt(tpr * (1-fpr))"
   ]
  },
  {
   "cell_type": "code",
   "execution_count": null,
   "id": "6e12aa1e",
   "metadata": {},
   "outputs": [],
   "source": [
    "# locate the index of the largest g-mean\n",
    "ix = np.argmax(gmeans)\n",
    "print('Best Threshold=%f, G-Mean=%.3f' % (thresholds[ix], gmeans[ix]))"
   ]
  },
  {
   "cell_type": "code",
   "execution_count": null,
   "id": "59b21676",
   "metadata": {},
   "outputs": [],
   "source": [
    "# roc curve for logistic regression model with optimal threshold\n",
    "from numpy import sqrt\n",
    "from numpy import argmax\n",
    "from sklearn.datasets import make_classification\n",
    "from sklearn.linear_model import LogisticRegression\n",
    "from sklearn.model_selection import train_test_split\n",
    "from sklearn.metrics import roc_curve\n",
    "from matplotlib import pyplot\n",
    "\n",
    "# predict probabilities\n",
    "yhat = clf.predict_proba(X_test)\n",
    "# keep probabilities for the positive outcome only\n",
    "yhat = yhat[:, 1]\n",
    "# calculate roc curves\n",
    "fpr, tpr, thresholds = roc_curve(y_test, yhat)\n",
    "# calculate the g-mean for each threshold\n",
    "gmeans = np.sqrt(tpr * (1-fpr))\n",
    "# locate the index of the largest g-mean\n",
    "ix = np.argmax(gmeans)\n",
    "print('Best Threshold=%f, G-Mean=%.3f' % (thresholds[ix], gmeans[ix]))\n",
    "# plot the roc curve for the model\n",
    "pyplot.plot([0,1], [0,1], linestyle='--', label='No Skill')\n",
    "pyplot.plot(fpr, tpr, label='DecisionTree')\n",
    "pyplot.scatter(fpr[ix], tpr[ix], marker='o', color='black', label='Best')\n",
    "# axis labels\n",
    "pyplot.xlabel('False Positive Rate')\n",
    "pyplot.ylabel('True Positive Rate')\n",
    "pyplot.legend()\n",
    "# show the plot\n",
    "pyplot.show()"
   ]
  },
  {
   "cell_type": "markdown",
   "id": "5f71abc3",
   "metadata": {},
   "source": [
    "### Precision-Recall Curve"
   ]
  },
  {
   "cell_type": "code",
   "execution_count": null,
   "id": "b380d0d2",
   "metadata": {},
   "outputs": [],
   "source": [
    "from sklearn.metrics import precision_recall_curve\n",
    "# predict probabilities\n",
    "yhat = clf.predict_proba(X_test)\n",
    "# keep probabilities for the positive outcome only\n",
    "yhat = yhat[:, 1]\n",
    "# calculate roc curves\n",
    "precision, recall, thresholds = precision_recall_curve(y_test, yhat)\n",
    "# convert to f score\n",
    "fscore = (2 * precision * recall) / (precision + recall)\n",
    "# locate the index of the largest f score\n",
    "ix = argmax(fscore)\n",
    "print('Best Threshold=%f, F-Score=%.3f' % (thresholds[ix], fscore[ix]))\n",
    "# plot the roc curve for the model\n",
    "no_skill = len(y_test[y_test==1]) / len(y_test)\n",
    "pyplot.plot([0,1], [no_skill,no_skill], linestyle='--', label='No Skill')\n",
    "pyplot.plot(recall, precision, label='Tree')\n",
    "pyplot.scatter(recall[ix], precision[ix], marker='o', color='black', label='Best')\n",
    "# axis labels\n",
    "pyplot.xlabel('Recall')\n",
    "pyplot.ylabel('Precision')\n",
    "pyplot.legend()\n",
    "# show the plot\n",
    "pyplot.show()"
   ]
  },
  {
   "cell_type": "code",
   "execution_count": null,
   "id": "de4ad507",
   "metadata": {},
   "outputs": [],
   "source": [
    "...\n",
    "# define thresholds\n",
    "thresholds = np.arange(0, 1, 0.001)"
   ]
  },
  {
   "cell_type": "code",
   "execution_count": null,
   "id": "7329ca45",
   "metadata": {},
   "outputs": [],
   "source": [
    "# apply threshold to positive probabilities to create labels\n",
    "def to_labels(pos_probs, threshold):\n",
    "     return (pos_probs >= threshold).astype('int')"
   ]
  },
  {
   "cell_type": "code",
   "execution_count": null,
   "id": "34c6613a",
   "metadata": {},
   "outputs": [],
   "source": [
    "...\n",
    "# evaluate each threshold\n",
    "yhat = clf.predict_proba(X_test)\n",
    "probs = yhat[:, 1]\n",
    "scores = [f1_score(y_test, to_labels(probs, t)) for t in thresholds]"
   ]
  },
  {
   "cell_type": "code",
   "execution_count": null,
   "id": "9e519a3b",
   "metadata": {},
   "outputs": [],
   "source": [
    "...\n",
    "# get best threshold\n",
    "ix = argmax(scores)\n",
    "print('Threshold=%.3f, F-Score=%.5f' % (thresholds[ix], scores[ix]))"
   ]
  },
  {
   "cell_type": "code",
   "execution_count": null,
   "id": "efc507b3",
   "metadata": {},
   "outputs": [],
   "source": []
  },
  {
   "cell_type": "code",
   "execution_count": null,
   "id": "676c097a",
   "metadata": {},
   "outputs": [],
   "source": [
    "precision_, recall_, proba = precision_recall_curve(y_test, yhat[:, -1])"
   ]
  },
  {
   "cell_type": "code",
   "execution_count": null,
   "id": "0972986d",
   "metadata": {},
   "outputs": [],
   "source": [
    "from sklearn.metrics import accuracy_score, precision_score, recall_score, f1_score, roc_auc_score, precision_recall_curve, plot_precision_recall_curve\n",
    "disp = plot_precision_recall_curve(clf, X_test, y_test)\n",
    "disp.ax_.set_title('Precision-Recall curve')"
   ]
  },
  {
   "cell_type": "code",
   "execution_count": null,
   "id": "e0fd0b95",
   "metadata": {},
   "outputs": [],
   "source": [
    "optimal_proba_cutoff = sorted(list(zip(np.abs(precision_ - recall_), proba)), key=lambda i: i[0], reverse=False)[0][1]\n",
    "roc_predictions = [1 if i >= optimal_proba_cutoff else 0 for i in yhat[:, -1]]"
   ]
  },
  {
   "cell_type": "code",
   "execution_count": null,
   "id": "5a95cfbc",
   "metadata": {},
   "outputs": [],
   "source": [
    "recall_score(y_test, roc_predictions)"
   ]
  },
  {
   "cell_type": "code",
   "execution_count": null,
   "id": "16c2a2de",
   "metadata": {},
   "outputs": [],
   "source": [
    "f1_score(y_test, roc_predictions)"
   ]
  },
  {
   "cell_type": "code",
   "execution_count": null,
   "id": "ab33525f",
   "metadata": {},
   "outputs": [],
   "source": [
    "precision_score(y_test, roc_predictions)"
   ]
  },
  {
   "cell_type": "code",
   "execution_count": null,
   "id": "4e737397",
   "metadata": {},
   "outputs": [],
   "source": [
    "accuracy_score(y_test, roc_predictions)"
   ]
  },
  {
   "cell_type": "code",
   "execution_count": null,
   "id": "922c6221",
   "metadata": {},
   "outputs": [],
   "source": [
    "print(\"Accuracy Score Before and After Thresholding: {}, {}\".format(accuracy_score(y_test, yhat), accuracy_score(y_test, roc_predictions)))\n",
    "print(\"Precision Score Before and After Thresholding: {}, {}\".format(precision_score(y_test, yhat), precision_score(y_test, roc_predictions)))\n",
    "print(\"Recall Score Before and After Thresholding: {}, {}\".format(recall_score(y_test, yhat), recall_score(y_test, roc_predictions)))\n",
    "print(\"F1 Score Before and After Thresholding: {}, {}\".format(f1_score(y_test, yhat), f1_score(y_test, roc_predictions)))"
   ]
  },
  {
   "cell_type": "code",
   "execution_count": null,
   "id": "4d975e52",
   "metadata": {},
   "outputs": [],
   "source": [
    "recall_score(y_test, yhat[:, -1])"
   ]
  },
  {
   "cell_type": "code",
   "execution_count": null,
   "id": "6267ce0b",
   "metadata": {},
   "outputs": [],
   "source": [
    "print_metrics(y_test, yhat[:, -1])"
   ]
  },
  {
   "cell_type": "markdown",
   "id": "d6d72e4b",
   "metadata": {},
   "source": [
    "### Code from Eva model Results"
   ]
  },
  {
   "cell_type": "code",
   "execution_count": null,
   "id": "8d3781d0",
   "metadata": {},
   "outputs": [],
   "source": [
    "def model_results(model):\n",
    "    with plt.style.context('seaborn-talk'):\n",
    "        fig, (ax1, ax2) = plt.subplots(ncols=2, figsize=(15, 5))\n",
    "        # Create Confusion Matrix for the test set\n",
    "        plot_confusion_matrix(model, X_train, y_train, normalize = 'true', ax=ax1,  cmap = 'Greens')\n",
    "        ax1.grid(False)\n",
    "        ax1.set_title(\"Train Confusion Matrix\")\n",
    "        # Create Roc curve for the test and train for TP and FP rates\n",
    "        plot_roc_curve(model, X_train, y_train, ax=ax2, color='green', name ='Train ROC curve')\n",
    "#        plot_roc_curve(model, X_test, y_test, ax=ax2, color = ‘blue’, name ='Test ROC curve' )\n",
    "        ax2.plot([0, 1], [0, 1], color='black', lw=2, linestyle='-')\n",
    "        ax2.set_xlabel('False Positive Rate')\n",
    "        ax2.set_ylabel('True Positive Rate')\n",
    "        ax2.set_title('Receiver Operating Characteristic (ROC) Curve')\n",
    "        plt.show()\n",
    "        #Create a classification report\n",
    "        y_pred = model.predict(X_train)\n",
    "        print(classification_report(y_train, y_pred))\n",
    "        ######***NEW LINE*** Print CV ROC_AUC score, and roc_auc score for test/train\n",
    "        #Print CV ROC_AUC score\n",
    "        roc_score_train_cv = cross_val_score(estimator=model, X=X_train,  y=y_train,\n",
    "                                        cv=StratifiedKFold(shuffle=True), scoring='roc_auc').mean()\n",
    "        print(f\"Mean Cross Validated Roc_Auc Score: {roc_score_train_cv :.0%}\")\n",
    "        #print roc_auc for test and train\n",
    "        roc_score_train = roc_auc_score(y_train, model.predict_proba(X_train)[:, 1])\n",
    "        print(f\"Train Roc_Auc Score: {roc_score_train :.0%}\")\n",
    "#        roc_score_test = roc_auc_score(y_test, model.predict_proba(X_test)[:, 1])\n",
    "#        print(f”Test Roc_Auc Score: {roc_score_test :.0%}“)\n",
    "        accuracy_train = model.score(X_train, y_train)\n",
    "#        accuracy_test = model.score(X_test, y_test)\n",
    "        print(f\"Train Accuracy Score: {accuracy_train :.0%}\")\n",
    "#        print(f”Test Accuracy Score: {accuracy_test :.0%}“)"
   ]
  },
  {
   "cell_type": "code",
   "execution_count": null,
   "id": "df6600ec",
   "metadata": {},
   "outputs": [],
   "source": []
  },
  {
   "cell_type": "code",
   "execution_count": null,
   "id": "2875852f",
   "metadata": {},
   "outputs": [],
   "source": []
  },
  {
   "cell_type": "code",
   "execution_count": null,
   "id": "07b9fdf4",
   "metadata": {},
   "outputs": [],
   "source": []
  },
  {
   "cell_type": "code",
   "execution_count": null,
   "id": "855003bb",
   "metadata": {},
   "outputs": [],
   "source": []
  },
  {
   "cell_type": "code",
   "execution_count": null,
   "id": "e5b135ef",
   "metadata": {},
   "outputs": [],
   "source": []
  },
  {
   "cell_type": "code",
   "execution_count": null,
   "id": "901d2c8a",
   "metadata": {},
   "outputs": [],
   "source": []
  }
 ],
 "metadata": {
  "kernelspec": {
   "display_name": "Python [conda env:learn-env] *",
   "language": "python",
   "name": "conda-env-learn-env-py"
  },
  "language_info": {
   "codemirror_mode": {
    "name": "ipython",
    "version": 3
   },
   "file_extension": ".py",
   "mimetype": "text/x-python",
   "name": "python",
   "nbconvert_exporter": "python",
   "pygments_lexer": "ipython3",
   "version": "3.6.6"
  }
 },
 "nbformat": 4,
 "nbformat_minor": 5
}
