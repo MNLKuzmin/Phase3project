{
 "cells": [
  {
   "cell_type": "markdown",
   "id": "07087e5e",
   "metadata": {},
   "source": [
    "# Phase 3 project"
   ]
  },
  {
   "cell_type": "markdown",
   "id": "17ba5675",
   "metadata": {},
   "source": [
    "## Covid Dataset"
   ]
  },
  {
   "cell_type": "code",
   "execution_count": 1,
   "id": "e5408d7b",
   "metadata": {},
   "outputs": [],
   "source": [
    "import pandas as pd\n",
    "import numpy as np\n",
    "import seaborn as sns\n",
    "import matplotlib.pyplot as plt\n",
    "import joblib\n",
    "import xgboost as xgb\n",
    "\n",
    "from sklearn.model_selection import train_test_split, cross_val_score\n",
    "from sklearn.model_selection import StratifiedKFold, GridSearchCV\n",
    "from sklearn.preprocessing import MinMaxScaler\n",
    "from sklearn.neighbors import KNeighborsClassifier\n",
    "from sklearn.metrics import precision_score, recall_score, accuracy_score, f1_score\n",
    "from sklearn.metrics import roc_curve, auc, plot_roc_curve, classification_report\n",
    "from sklearn.metrics import confusion_matrix, plot_confusion_matrix, roc_auc_score\n",
    "\n",
    "from sklearn.linear_model import LogisticRegression\n",
    "from sklearn import tree\n",
    "from sklearn.tree import DecisionTreeClassifier, plot_tree\n",
    "from sklearn.ensemble import BaggingClassifier, RandomForestClassifier"
   ]
  },
  {
   "cell_type": "code",
   "execution_count": 2,
   "id": "e673a592",
   "metadata": {},
   "outputs": [],
   "source": [
    "df_covid=pd.read_csv('Covid Data.csv')"
   ]
  },
  {
   "cell_type": "code",
   "execution_count": 3,
   "id": "07cc7d51",
   "metadata": {},
   "outputs": [
    {
     "data": {
      "text/html": [
       "<div>\n",
       "<style scoped>\n",
       "    .dataframe tbody tr th:only-of-type {\n",
       "        vertical-align: middle;\n",
       "    }\n",
       "\n",
       "    .dataframe tbody tr th {\n",
       "        vertical-align: top;\n",
       "    }\n",
       "\n",
       "    .dataframe thead th {\n",
       "        text-align: right;\n",
       "    }\n",
       "</style>\n",
       "<table border=\"1\" class=\"dataframe\">\n",
       "  <thead>\n",
       "    <tr style=\"text-align: right;\">\n",
       "      <th></th>\n",
       "      <th>USMER</th>\n",
       "      <th>MEDICAL_UNIT</th>\n",
       "      <th>SEX</th>\n",
       "      <th>PATIENT_TYPE</th>\n",
       "      <th>DATE_DIED</th>\n",
       "      <th>INTUBED</th>\n",
       "      <th>PNEUMONIA</th>\n",
       "      <th>AGE</th>\n",
       "      <th>PREGNANT</th>\n",
       "      <th>DIABETES</th>\n",
       "      <th>...</th>\n",
       "      <th>ASTHMA</th>\n",
       "      <th>INMSUPR</th>\n",
       "      <th>HIPERTENSION</th>\n",
       "      <th>OTHER_DISEASE</th>\n",
       "      <th>CARDIOVASCULAR</th>\n",
       "      <th>OBESITY</th>\n",
       "      <th>RENAL_CHRONIC</th>\n",
       "      <th>TOBACCO</th>\n",
       "      <th>CLASIFFICATION_FINAL</th>\n",
       "      <th>ICU</th>\n",
       "    </tr>\n",
       "  </thead>\n",
       "  <tbody>\n",
       "    <tr>\n",
       "      <th>0</th>\n",
       "      <td>2</td>\n",
       "      <td>1</td>\n",
       "      <td>1</td>\n",
       "      <td>1</td>\n",
       "      <td>03/05/2020</td>\n",
       "      <td>97</td>\n",
       "      <td>1</td>\n",
       "      <td>65</td>\n",
       "      <td>2</td>\n",
       "      <td>2</td>\n",
       "      <td>...</td>\n",
       "      <td>2</td>\n",
       "      <td>2</td>\n",
       "      <td>1</td>\n",
       "      <td>2</td>\n",
       "      <td>2</td>\n",
       "      <td>2</td>\n",
       "      <td>2</td>\n",
       "      <td>2</td>\n",
       "      <td>3</td>\n",
       "      <td>97</td>\n",
       "    </tr>\n",
       "    <tr>\n",
       "      <th>1</th>\n",
       "      <td>2</td>\n",
       "      <td>1</td>\n",
       "      <td>2</td>\n",
       "      <td>1</td>\n",
       "      <td>03/06/2020</td>\n",
       "      <td>97</td>\n",
       "      <td>1</td>\n",
       "      <td>72</td>\n",
       "      <td>97</td>\n",
       "      <td>2</td>\n",
       "      <td>...</td>\n",
       "      <td>2</td>\n",
       "      <td>2</td>\n",
       "      <td>1</td>\n",
       "      <td>2</td>\n",
       "      <td>2</td>\n",
       "      <td>1</td>\n",
       "      <td>1</td>\n",
       "      <td>2</td>\n",
       "      <td>5</td>\n",
       "      <td>97</td>\n",
       "    </tr>\n",
       "    <tr>\n",
       "      <th>2</th>\n",
       "      <td>2</td>\n",
       "      <td>1</td>\n",
       "      <td>2</td>\n",
       "      <td>2</td>\n",
       "      <td>09/06/2020</td>\n",
       "      <td>1</td>\n",
       "      <td>2</td>\n",
       "      <td>55</td>\n",
       "      <td>97</td>\n",
       "      <td>1</td>\n",
       "      <td>...</td>\n",
       "      <td>2</td>\n",
       "      <td>2</td>\n",
       "      <td>2</td>\n",
       "      <td>2</td>\n",
       "      <td>2</td>\n",
       "      <td>2</td>\n",
       "      <td>2</td>\n",
       "      <td>2</td>\n",
       "      <td>3</td>\n",
       "      <td>2</td>\n",
       "    </tr>\n",
       "    <tr>\n",
       "      <th>3</th>\n",
       "      <td>2</td>\n",
       "      <td>1</td>\n",
       "      <td>1</td>\n",
       "      <td>1</td>\n",
       "      <td>12/06/2020</td>\n",
       "      <td>97</td>\n",
       "      <td>2</td>\n",
       "      <td>53</td>\n",
       "      <td>2</td>\n",
       "      <td>2</td>\n",
       "      <td>...</td>\n",
       "      <td>2</td>\n",
       "      <td>2</td>\n",
       "      <td>2</td>\n",
       "      <td>2</td>\n",
       "      <td>2</td>\n",
       "      <td>2</td>\n",
       "      <td>2</td>\n",
       "      <td>2</td>\n",
       "      <td>7</td>\n",
       "      <td>97</td>\n",
       "    </tr>\n",
       "    <tr>\n",
       "      <th>4</th>\n",
       "      <td>2</td>\n",
       "      <td>1</td>\n",
       "      <td>2</td>\n",
       "      <td>1</td>\n",
       "      <td>21/06/2020</td>\n",
       "      <td>97</td>\n",
       "      <td>2</td>\n",
       "      <td>68</td>\n",
       "      <td>97</td>\n",
       "      <td>1</td>\n",
       "      <td>...</td>\n",
       "      <td>2</td>\n",
       "      <td>2</td>\n",
       "      <td>1</td>\n",
       "      <td>2</td>\n",
       "      <td>2</td>\n",
       "      <td>2</td>\n",
       "      <td>2</td>\n",
       "      <td>2</td>\n",
       "      <td>3</td>\n",
       "      <td>97</td>\n",
       "    </tr>\n",
       "    <tr>\n",
       "      <th>...</th>\n",
       "      <td>...</td>\n",
       "      <td>...</td>\n",
       "      <td>...</td>\n",
       "      <td>...</td>\n",
       "      <td>...</td>\n",
       "      <td>...</td>\n",
       "      <td>...</td>\n",
       "      <td>...</td>\n",
       "      <td>...</td>\n",
       "      <td>...</td>\n",
       "      <td>...</td>\n",
       "      <td>...</td>\n",
       "      <td>...</td>\n",
       "      <td>...</td>\n",
       "      <td>...</td>\n",
       "      <td>...</td>\n",
       "      <td>...</td>\n",
       "      <td>...</td>\n",
       "      <td>...</td>\n",
       "      <td>...</td>\n",
       "      <td>...</td>\n",
       "    </tr>\n",
       "    <tr>\n",
       "      <th>1048570</th>\n",
       "      <td>2</td>\n",
       "      <td>13</td>\n",
       "      <td>2</td>\n",
       "      <td>1</td>\n",
       "      <td>9999-99-99</td>\n",
       "      <td>97</td>\n",
       "      <td>2</td>\n",
       "      <td>40</td>\n",
       "      <td>97</td>\n",
       "      <td>2</td>\n",
       "      <td>...</td>\n",
       "      <td>2</td>\n",
       "      <td>2</td>\n",
       "      <td>2</td>\n",
       "      <td>2</td>\n",
       "      <td>2</td>\n",
       "      <td>2</td>\n",
       "      <td>2</td>\n",
       "      <td>2</td>\n",
       "      <td>7</td>\n",
       "      <td>97</td>\n",
       "    </tr>\n",
       "    <tr>\n",
       "      <th>1048571</th>\n",
       "      <td>1</td>\n",
       "      <td>13</td>\n",
       "      <td>2</td>\n",
       "      <td>2</td>\n",
       "      <td>9999-99-99</td>\n",
       "      <td>2</td>\n",
       "      <td>2</td>\n",
       "      <td>51</td>\n",
       "      <td>97</td>\n",
       "      <td>2</td>\n",
       "      <td>...</td>\n",
       "      <td>2</td>\n",
       "      <td>2</td>\n",
       "      <td>1</td>\n",
       "      <td>2</td>\n",
       "      <td>2</td>\n",
       "      <td>2</td>\n",
       "      <td>2</td>\n",
       "      <td>2</td>\n",
       "      <td>7</td>\n",
       "      <td>2</td>\n",
       "    </tr>\n",
       "    <tr>\n",
       "      <th>1048572</th>\n",
       "      <td>2</td>\n",
       "      <td>13</td>\n",
       "      <td>2</td>\n",
       "      <td>1</td>\n",
       "      <td>9999-99-99</td>\n",
       "      <td>97</td>\n",
       "      <td>2</td>\n",
       "      <td>55</td>\n",
       "      <td>97</td>\n",
       "      <td>2</td>\n",
       "      <td>...</td>\n",
       "      <td>2</td>\n",
       "      <td>2</td>\n",
       "      <td>2</td>\n",
       "      <td>2</td>\n",
       "      <td>2</td>\n",
       "      <td>2</td>\n",
       "      <td>2</td>\n",
       "      <td>2</td>\n",
       "      <td>7</td>\n",
       "      <td>97</td>\n",
       "    </tr>\n",
       "    <tr>\n",
       "      <th>1048573</th>\n",
       "      <td>2</td>\n",
       "      <td>13</td>\n",
       "      <td>2</td>\n",
       "      <td>1</td>\n",
       "      <td>9999-99-99</td>\n",
       "      <td>97</td>\n",
       "      <td>2</td>\n",
       "      <td>28</td>\n",
       "      <td>97</td>\n",
       "      <td>2</td>\n",
       "      <td>...</td>\n",
       "      <td>2</td>\n",
       "      <td>2</td>\n",
       "      <td>2</td>\n",
       "      <td>2</td>\n",
       "      <td>2</td>\n",
       "      <td>2</td>\n",
       "      <td>2</td>\n",
       "      <td>2</td>\n",
       "      <td>7</td>\n",
       "      <td>97</td>\n",
       "    </tr>\n",
       "    <tr>\n",
       "      <th>1048574</th>\n",
       "      <td>2</td>\n",
       "      <td>13</td>\n",
       "      <td>2</td>\n",
       "      <td>1</td>\n",
       "      <td>9999-99-99</td>\n",
       "      <td>97</td>\n",
       "      <td>2</td>\n",
       "      <td>52</td>\n",
       "      <td>97</td>\n",
       "      <td>2</td>\n",
       "      <td>...</td>\n",
       "      <td>2</td>\n",
       "      <td>2</td>\n",
       "      <td>2</td>\n",
       "      <td>2</td>\n",
       "      <td>2</td>\n",
       "      <td>2</td>\n",
       "      <td>2</td>\n",
       "      <td>2</td>\n",
       "      <td>7</td>\n",
       "      <td>97</td>\n",
       "    </tr>\n",
       "  </tbody>\n",
       "</table>\n",
       "<p>1048575 rows × 21 columns</p>\n",
       "</div>"
      ],
      "text/plain": [
       "         USMER  MEDICAL_UNIT  SEX  PATIENT_TYPE   DATE_DIED  INTUBED  \\\n",
       "0            2             1    1             1  03/05/2020       97   \n",
       "1            2             1    2             1  03/06/2020       97   \n",
       "2            2             1    2             2  09/06/2020        1   \n",
       "3            2             1    1             1  12/06/2020       97   \n",
       "4            2             1    2             1  21/06/2020       97   \n",
       "...        ...           ...  ...           ...         ...      ...   \n",
       "1048570      2            13    2             1  9999-99-99       97   \n",
       "1048571      1            13    2             2  9999-99-99        2   \n",
       "1048572      2            13    2             1  9999-99-99       97   \n",
       "1048573      2            13    2             1  9999-99-99       97   \n",
       "1048574      2            13    2             1  9999-99-99       97   \n",
       "\n",
       "         PNEUMONIA  AGE  PREGNANT  DIABETES  ...  ASTHMA  INMSUPR  \\\n",
       "0                1   65         2         2  ...       2        2   \n",
       "1                1   72        97         2  ...       2        2   \n",
       "2                2   55        97         1  ...       2        2   \n",
       "3                2   53         2         2  ...       2        2   \n",
       "4                2   68        97         1  ...       2        2   \n",
       "...            ...  ...       ...       ...  ...     ...      ...   \n",
       "1048570          2   40        97         2  ...       2        2   \n",
       "1048571          2   51        97         2  ...       2        2   \n",
       "1048572          2   55        97         2  ...       2        2   \n",
       "1048573          2   28        97         2  ...       2        2   \n",
       "1048574          2   52        97         2  ...       2        2   \n",
       "\n",
       "         HIPERTENSION  OTHER_DISEASE  CARDIOVASCULAR  OBESITY  RENAL_CHRONIC  \\\n",
       "0                   1              2               2        2              2   \n",
       "1                   1              2               2        1              1   \n",
       "2                   2              2               2        2              2   \n",
       "3                   2              2               2        2              2   \n",
       "4                   1              2               2        2              2   \n",
       "...               ...            ...             ...      ...            ...   \n",
       "1048570             2              2               2        2              2   \n",
       "1048571             1              2               2        2              2   \n",
       "1048572             2              2               2        2              2   \n",
       "1048573             2              2               2        2              2   \n",
       "1048574             2              2               2        2              2   \n",
       "\n",
       "         TOBACCO  CLASIFFICATION_FINAL  ICU  \n",
       "0              2                     3   97  \n",
       "1              2                     5   97  \n",
       "2              2                     3    2  \n",
       "3              2                     7   97  \n",
       "4              2                     3   97  \n",
       "...          ...                   ...  ...  \n",
       "1048570        2                     7   97  \n",
       "1048571        2                     7    2  \n",
       "1048572        2                     7   97  \n",
       "1048573        2                     7   97  \n",
       "1048574        2                     7   97  \n",
       "\n",
       "[1048575 rows x 21 columns]"
      ]
     },
     "execution_count": 3,
     "metadata": {},
     "output_type": "execute_result"
    }
   ],
   "source": [
    "df_covid"
   ]
  },
  {
   "cell_type": "markdown",
   "id": "80a8b170",
   "metadata": {},
   "source": [
    "### Copying description from Kaggle\n",
    "\n",
    "About Dataset\n",
    "Context\n",
    "Coronavirus disease (COVID-19) is an infectious disease caused by a newly discovered coronavirus. Most people infected with COVID-19 virus will experience mild to moderate respiratory illness and recover without requiring special treatment. Older people, and those with underlying medical problems like cardiovascular disease, diabetes, chronic respiratory disease, and cancer are more likely to develop serious illness.\n",
    "During the entire course of the pandemic, one of the main problems that healthcare providers have faced is the shortage of medical resources and a proper plan to efficiently distribute them. In these tough times, being able to predict what kind of resource an individual might require at the time of being tested positive or even before that will be of immense help to the authorities as they would be able to procure and arrange for the resources necessary to save the life of that patient.\n",
    "\n",
    "The main goal of this project is to build a machine learning model that, given a Covid-19 patient's current symptom, status, and medical history, will predict whether the patient is in high risk or not.\n",
    "\n",
    "### content\n",
    "The dataset was provided by the Mexican government (link). This dataset contains an enormous number of anonymized patient-related information including pre-conditions. The raw dataset consists of 21 unique features and 1,048,576 unique patients. In the Boolean features, 1 means \"yes\" and 2 means \"no\". values as 97 and 99 are missing data.\n",
    "\n",
    "* sex: 1 for female and 2 for male.\n",
    "* age: of the patient.\n",
    "* classification: covid test findings. Values 1-3 mean that the patient was diagnosed with covid in different degrees. 4 or higher means that the patient is not a carrier of covid or that the test is inconclusive.\n",
    "* patient type: type of care the patient received in the unit. 1 for returned home and 2 for hospitalization.\n",
    "* pneumonia: whether the patient already have air sacs inflammation or not.\n",
    "* pregnancy: whether the patient is pregnant or not.\n",
    "* diabetes: whether the patient has diabetes or not.\n",
    "* copd: Indicates whether the patient has Chronic obstructive pulmonary disease or not.\n",
    "* asthma: whether the patient has asthma or not.\n",
    "* inmsupr: whether the patient is immunosuppressed or not.\n",
    "* hypertension: whether the patient has hypertension or not.\n",
    "* cardiovascular: whether the patient has heart or blood vessels related disease.\n",
    "* renal chronic: whether the patient has chronic renal disease or not.\n",
    "* other disease: whether the patient has other disease or not.\n",
    "* obesity: whether the patient is obese or not.\n",
    "* tobacco: whether the patient is a tobacco user.\n",
    "* usmr: Indicates whether the patient treated medical units of the first, second or third level.\n",
    "* medical unit: type of institution of the National Health System that provided the care.\n",
    "* intubed: whether the patient was connected to the ventilator.\n",
    "* icu: Indicates whether the patient had been admitted to an Intensive Care Unit.\n",
    "* date died: If the patient died indicate the date of death, and 9999-99-99 otherwise."
   ]
  },
  {
   "cell_type": "markdown",
   "id": "cf218d24",
   "metadata": {},
   "source": [
    "I need to decide which one should be the target variable. The possible ones are:\n",
    "'classification', 'patient type', 'usmr', 'medical unit', 'icu', 'date died'"
   ]
  },
  {
   "cell_type": "code",
   "execution_count": 4,
   "id": "f183690c",
   "metadata": {},
   "outputs": [
    {
     "data": {
      "text/plain": [
       "Index(['USMER', 'MEDICAL_UNIT', 'SEX', 'PATIENT_TYPE', 'DATE_DIED', 'INTUBED',\n",
       "       'PNEUMONIA', 'AGE', 'PREGNANT', 'DIABETES', 'COPD', 'ASTHMA', 'INMSUPR',\n",
       "       'HIPERTENSION', 'OTHER_DISEASE', 'CARDIOVASCULAR', 'OBESITY',\n",
       "       'RENAL_CHRONIC', 'TOBACCO', 'CLASIFFICATION_FINAL', 'ICU'],\n",
       "      dtype='object')"
      ]
     },
     "execution_count": 4,
     "metadata": {},
     "output_type": "execute_result"
    }
   ],
   "source": [
    "df_covid.columns"
   ]
  },
  {
   "cell_type": "code",
   "execution_count": 5,
   "id": "e8fa1041",
   "metadata": {},
   "outputs": [
    {
     "data": {
      "text/plain": [
       "<bound method IndexOpsMixin.value_counts of 0          2\n",
       "1          2\n",
       "2          2\n",
       "3          2\n",
       "4          2\n",
       "          ..\n",
       "1048570    2\n",
       "1048571    1\n",
       "1048572    2\n",
       "1048573    2\n",
       "1048574    2\n",
       "Name: USMER, Length: 1048575, dtype: int64>"
      ]
     },
     "execution_count": 5,
     "metadata": {},
     "output_type": "execute_result"
    }
   ],
   "source": [
    "df_covid['USMER'].value_counts"
   ]
  },
  {
   "cell_type": "code",
   "execution_count": 6,
   "id": "fd871e23",
   "metadata": {},
   "outputs": [
    {
     "data": {
      "text/plain": [
       "2    0.632194\n",
       "1    0.367806\n",
       "Name: USMER, dtype: float64"
      ]
     },
     "execution_count": 6,
     "metadata": {},
     "output_type": "execute_result"
    }
   ],
   "source": [
    "df_covid['USMER'].value_counts(normalize=True)"
   ]
  },
  {
   "cell_type": "code",
   "execution_count": 7,
   "id": "45990f7d",
   "metadata": {},
   "outputs": [
    {
     "data": {
      "text/plain": [
       "7    0.476122\n",
       "3    0.363853\n",
       "6    0.122197\n",
       "5    0.024882\n",
       "1    0.008203\n",
       "4    0.002977\n",
       "2    0.001765\n",
       "Name: CLASIFFICATION_FINAL, dtype: float64"
      ]
     },
     "execution_count": 7,
     "metadata": {},
     "output_type": "execute_result"
    }
   ],
   "source": [
    "df_covid['CLASIFFICATION_FINAL'].value_counts(normalize=True)"
   ]
  },
  {
   "cell_type": "markdown",
   "id": "e87d126d",
   "metadata": {},
   "source": [
    "I would need to do a groupby here because values 1-3 mean they had covid, 4 and up no covid.\n",
    "I think whichever target variable I choose I have to remove all the other info we have about the patient having covid."
   ]
  },
  {
   "cell_type": "code",
   "execution_count": 8,
   "id": "c9310fd5",
   "metadata": {},
   "outputs": [
    {
     "data": {
      "text/plain": [
       "1    0.809235\n",
       "2    0.190765\n",
       "Name: PATIENT_TYPE, dtype: float64"
      ]
     },
     "execution_count": 8,
     "metadata": {},
     "output_type": "execute_result"
    }
   ],
   "source": [
    "df_covid['PATIENT_TYPE'].value_counts(normalize=True)"
   ]
  },
  {
   "cell_type": "markdown",
   "id": "cc0c403d",
   "metadata": {},
   "source": [
    "This could be good but it is imbalanced. But maybe even like this it is ok."
   ]
  },
  {
   "cell_type": "code",
   "execution_count": 9,
   "id": "5b6d48c1",
   "metadata": {},
   "outputs": [
    {
     "data": {
      "text/plain": [
       "12    0.575061\n",
       "4     0.299840\n",
       "6     0.038704\n",
       "9     0.036350\n",
       "3     0.018287\n",
       "8     0.009917\n",
       "10    0.007508\n",
       "5     0.006908\n",
       "11    0.005319\n",
       "13    0.000950\n",
       "7     0.000850\n",
       "2     0.000161\n",
       "1     0.000144\n",
       "Name: MEDICAL_UNIT, dtype: float64"
      ]
     },
     "execution_count": 9,
     "metadata": {},
     "output_type": "execute_result"
    }
   ],
   "source": [
    "df_covid['MEDICAL_UNIT'].value_counts(normalize=True)"
   ]
  },
  {
   "cell_type": "code",
   "execution_count": 10,
   "id": "b228df21",
   "metadata": {},
   "outputs": [],
   "source": [
    "# Not very informative"
   ]
  },
  {
   "cell_type": "code",
   "execution_count": 11,
   "id": "00f7a90b",
   "metadata": {},
   "outputs": [
    {
     "data": {
      "text/plain": [
       "97    0.809235\n",
       "2     0.167546\n",
       "1     0.016077\n",
       "99    0.007141\n",
       "Name: ICU, dtype: float64"
      ]
     },
     "execution_count": 11,
     "metadata": {},
     "output_type": "execute_result"
    }
   ],
   "source": [
    "df_covid['ICU'].value_counts(normalize=True)"
   ]
  },
  {
   "cell_type": "code",
   "execution_count": 12,
   "id": "e2205f9b",
   "metadata": {},
   "outputs": [],
   "source": [
    "# Mostly missing values"
   ]
  },
  {
   "cell_type": "code",
   "execution_count": 13,
   "id": "584ddeb0",
   "metadata": {},
   "outputs": [
    {
     "data": {
      "text/plain": [
       "9999-99-99    9.266223e-01\n",
       "06/07/2020    9.536752e-04\n",
       "07/07/2020    9.498605e-04\n",
       "13/07/2020    9.441385e-04\n",
       "16/06/2020    9.336480e-04\n",
       "                  ...     \n",
       "07/03/2021    9.536752e-07\n",
       "01/01/2021    9.536752e-07\n",
       "19/01/2021    9.536752e-07\n",
       "23/02/2021    9.536752e-07\n",
       "24/11/2020    9.536752e-07\n",
       "Name: DATE_DIED, Length: 401, dtype: float64"
      ]
     },
     "execution_count": 13,
     "metadata": {},
     "output_type": "execute_result"
    }
   ],
   "source": [
    "df_covid['DATE_DIED'].value_counts(normalize=True)"
   ]
  },
  {
   "cell_type": "code",
   "execution_count": 14,
   "id": "c4b01941",
   "metadata": {},
   "outputs": [],
   "source": [
    "# Mostly missing values"
   ]
  },
  {
   "cell_type": "markdown",
   "id": "cbc02643",
   "metadata": {},
   "source": [
    "Stays standing 'classification', 'patient type'"
   ]
  },
  {
   "cell_type": "markdown",
   "id": "3c6e6de1",
   "metadata": {},
   "source": [
    "To make the decision between these two variables we did some research to gain some domain knowledge and spoke directly to some first responders during the covid 19 pandemic, that suggested that the information about whether or not a patient needed to be hospitalized was more valuable than the results of the covid test.\n",
    "This is the case since some patients might have tested positive for covid 19, but because of mild symptoms and overall good health were sent back home to be treated, and what actually really put a strain on health structures was the number of people in need to be hospitalized. Because of this we are going to use 'patient type' as our target for this study.\n",
    "We are also going to drop all the other variables related to hospitalization since those contain knowledge about the hospitalization of the patient, while what we are trying to predict is the amout of people that would need to be hospitalized, based on previous knowledge so this is not a type of information we would have, if we wanted to use the model again on other data."
   ]
  },
  {
   "cell_type": "markdown",
   "id": "bd39e471",
   "metadata": {},
   "source": [
    "So target should be patient type and all the other hospital related variables should be dropped."
   ]
  },
  {
   "cell_type": "code",
   "execution_count": 15,
   "id": "287cf846",
   "metadata": {},
   "outputs": [
    {
     "data": {
      "text/html": [
       "<div>\n",
       "<style scoped>\n",
       "    .dataframe tbody tr th:only-of-type {\n",
       "        vertical-align: middle;\n",
       "    }\n",
       "\n",
       "    .dataframe tbody tr th {\n",
       "        vertical-align: top;\n",
       "    }\n",
       "\n",
       "    .dataframe thead th {\n",
       "        text-align: right;\n",
       "    }\n",
       "</style>\n",
       "<table border=\"1\" class=\"dataframe\">\n",
       "  <thead>\n",
       "    <tr style=\"text-align: right;\">\n",
       "      <th></th>\n",
       "      <th>USMER</th>\n",
       "      <th>MEDICAL_UNIT</th>\n",
       "      <th>SEX</th>\n",
       "      <th>PATIENT_TYPE</th>\n",
       "      <th>DATE_DIED</th>\n",
       "      <th>INTUBED</th>\n",
       "      <th>PNEUMONIA</th>\n",
       "      <th>AGE</th>\n",
       "      <th>PREGNANT</th>\n",
       "      <th>DIABETES</th>\n",
       "      <th>...</th>\n",
       "      <th>ASTHMA</th>\n",
       "      <th>INMSUPR</th>\n",
       "      <th>HIPERTENSION</th>\n",
       "      <th>OTHER_DISEASE</th>\n",
       "      <th>CARDIOVASCULAR</th>\n",
       "      <th>OBESITY</th>\n",
       "      <th>RENAL_CHRONIC</th>\n",
       "      <th>TOBACCO</th>\n",
       "      <th>CLASIFFICATION_FINAL</th>\n",
       "      <th>ICU</th>\n",
       "    </tr>\n",
       "  </thead>\n",
       "  <tbody>\n",
       "    <tr>\n",
       "      <th>0</th>\n",
       "      <td>2</td>\n",
       "      <td>1</td>\n",
       "      <td>1</td>\n",
       "      <td>1</td>\n",
       "      <td>03/05/2020</td>\n",
       "      <td>97</td>\n",
       "      <td>1</td>\n",
       "      <td>65</td>\n",
       "      <td>2</td>\n",
       "      <td>2</td>\n",
       "      <td>...</td>\n",
       "      <td>2</td>\n",
       "      <td>2</td>\n",
       "      <td>1</td>\n",
       "      <td>2</td>\n",
       "      <td>2</td>\n",
       "      <td>2</td>\n",
       "      <td>2</td>\n",
       "      <td>2</td>\n",
       "      <td>3</td>\n",
       "      <td>97</td>\n",
       "    </tr>\n",
       "    <tr>\n",
       "      <th>1</th>\n",
       "      <td>2</td>\n",
       "      <td>1</td>\n",
       "      <td>2</td>\n",
       "      <td>1</td>\n",
       "      <td>03/06/2020</td>\n",
       "      <td>97</td>\n",
       "      <td>1</td>\n",
       "      <td>72</td>\n",
       "      <td>97</td>\n",
       "      <td>2</td>\n",
       "      <td>...</td>\n",
       "      <td>2</td>\n",
       "      <td>2</td>\n",
       "      <td>1</td>\n",
       "      <td>2</td>\n",
       "      <td>2</td>\n",
       "      <td>1</td>\n",
       "      <td>1</td>\n",
       "      <td>2</td>\n",
       "      <td>5</td>\n",
       "      <td>97</td>\n",
       "    </tr>\n",
       "    <tr>\n",
       "      <th>2</th>\n",
       "      <td>2</td>\n",
       "      <td>1</td>\n",
       "      <td>2</td>\n",
       "      <td>2</td>\n",
       "      <td>09/06/2020</td>\n",
       "      <td>1</td>\n",
       "      <td>2</td>\n",
       "      <td>55</td>\n",
       "      <td>97</td>\n",
       "      <td>1</td>\n",
       "      <td>...</td>\n",
       "      <td>2</td>\n",
       "      <td>2</td>\n",
       "      <td>2</td>\n",
       "      <td>2</td>\n",
       "      <td>2</td>\n",
       "      <td>2</td>\n",
       "      <td>2</td>\n",
       "      <td>2</td>\n",
       "      <td>3</td>\n",
       "      <td>2</td>\n",
       "    </tr>\n",
       "    <tr>\n",
       "      <th>3</th>\n",
       "      <td>2</td>\n",
       "      <td>1</td>\n",
       "      <td>1</td>\n",
       "      <td>1</td>\n",
       "      <td>12/06/2020</td>\n",
       "      <td>97</td>\n",
       "      <td>2</td>\n",
       "      <td>53</td>\n",
       "      <td>2</td>\n",
       "      <td>2</td>\n",
       "      <td>...</td>\n",
       "      <td>2</td>\n",
       "      <td>2</td>\n",
       "      <td>2</td>\n",
       "      <td>2</td>\n",
       "      <td>2</td>\n",
       "      <td>2</td>\n",
       "      <td>2</td>\n",
       "      <td>2</td>\n",
       "      <td>7</td>\n",
       "      <td>97</td>\n",
       "    </tr>\n",
       "    <tr>\n",
       "      <th>4</th>\n",
       "      <td>2</td>\n",
       "      <td>1</td>\n",
       "      <td>2</td>\n",
       "      <td>1</td>\n",
       "      <td>21/06/2020</td>\n",
       "      <td>97</td>\n",
       "      <td>2</td>\n",
       "      <td>68</td>\n",
       "      <td>97</td>\n",
       "      <td>1</td>\n",
       "      <td>...</td>\n",
       "      <td>2</td>\n",
       "      <td>2</td>\n",
       "      <td>1</td>\n",
       "      <td>2</td>\n",
       "      <td>2</td>\n",
       "      <td>2</td>\n",
       "      <td>2</td>\n",
       "      <td>2</td>\n",
       "      <td>3</td>\n",
       "      <td>97</td>\n",
       "    </tr>\n",
       "    <tr>\n",
       "      <th>...</th>\n",
       "      <td>...</td>\n",
       "      <td>...</td>\n",
       "      <td>...</td>\n",
       "      <td>...</td>\n",
       "      <td>...</td>\n",
       "      <td>...</td>\n",
       "      <td>...</td>\n",
       "      <td>...</td>\n",
       "      <td>...</td>\n",
       "      <td>...</td>\n",
       "      <td>...</td>\n",
       "      <td>...</td>\n",
       "      <td>...</td>\n",
       "      <td>...</td>\n",
       "      <td>...</td>\n",
       "      <td>...</td>\n",
       "      <td>...</td>\n",
       "      <td>...</td>\n",
       "      <td>...</td>\n",
       "      <td>...</td>\n",
       "      <td>...</td>\n",
       "    </tr>\n",
       "    <tr>\n",
       "      <th>1048570</th>\n",
       "      <td>2</td>\n",
       "      <td>13</td>\n",
       "      <td>2</td>\n",
       "      <td>1</td>\n",
       "      <td>9999-99-99</td>\n",
       "      <td>97</td>\n",
       "      <td>2</td>\n",
       "      <td>40</td>\n",
       "      <td>97</td>\n",
       "      <td>2</td>\n",
       "      <td>...</td>\n",
       "      <td>2</td>\n",
       "      <td>2</td>\n",
       "      <td>2</td>\n",
       "      <td>2</td>\n",
       "      <td>2</td>\n",
       "      <td>2</td>\n",
       "      <td>2</td>\n",
       "      <td>2</td>\n",
       "      <td>7</td>\n",
       "      <td>97</td>\n",
       "    </tr>\n",
       "    <tr>\n",
       "      <th>1048571</th>\n",
       "      <td>1</td>\n",
       "      <td>13</td>\n",
       "      <td>2</td>\n",
       "      <td>2</td>\n",
       "      <td>9999-99-99</td>\n",
       "      <td>2</td>\n",
       "      <td>2</td>\n",
       "      <td>51</td>\n",
       "      <td>97</td>\n",
       "      <td>2</td>\n",
       "      <td>...</td>\n",
       "      <td>2</td>\n",
       "      <td>2</td>\n",
       "      <td>1</td>\n",
       "      <td>2</td>\n",
       "      <td>2</td>\n",
       "      <td>2</td>\n",
       "      <td>2</td>\n",
       "      <td>2</td>\n",
       "      <td>7</td>\n",
       "      <td>2</td>\n",
       "    </tr>\n",
       "    <tr>\n",
       "      <th>1048572</th>\n",
       "      <td>2</td>\n",
       "      <td>13</td>\n",
       "      <td>2</td>\n",
       "      <td>1</td>\n",
       "      <td>9999-99-99</td>\n",
       "      <td>97</td>\n",
       "      <td>2</td>\n",
       "      <td>55</td>\n",
       "      <td>97</td>\n",
       "      <td>2</td>\n",
       "      <td>...</td>\n",
       "      <td>2</td>\n",
       "      <td>2</td>\n",
       "      <td>2</td>\n",
       "      <td>2</td>\n",
       "      <td>2</td>\n",
       "      <td>2</td>\n",
       "      <td>2</td>\n",
       "      <td>2</td>\n",
       "      <td>7</td>\n",
       "      <td>97</td>\n",
       "    </tr>\n",
       "    <tr>\n",
       "      <th>1048573</th>\n",
       "      <td>2</td>\n",
       "      <td>13</td>\n",
       "      <td>2</td>\n",
       "      <td>1</td>\n",
       "      <td>9999-99-99</td>\n",
       "      <td>97</td>\n",
       "      <td>2</td>\n",
       "      <td>28</td>\n",
       "      <td>97</td>\n",
       "      <td>2</td>\n",
       "      <td>...</td>\n",
       "      <td>2</td>\n",
       "      <td>2</td>\n",
       "      <td>2</td>\n",
       "      <td>2</td>\n",
       "      <td>2</td>\n",
       "      <td>2</td>\n",
       "      <td>2</td>\n",
       "      <td>2</td>\n",
       "      <td>7</td>\n",
       "      <td>97</td>\n",
       "    </tr>\n",
       "    <tr>\n",
       "      <th>1048574</th>\n",
       "      <td>2</td>\n",
       "      <td>13</td>\n",
       "      <td>2</td>\n",
       "      <td>1</td>\n",
       "      <td>9999-99-99</td>\n",
       "      <td>97</td>\n",
       "      <td>2</td>\n",
       "      <td>52</td>\n",
       "      <td>97</td>\n",
       "      <td>2</td>\n",
       "      <td>...</td>\n",
       "      <td>2</td>\n",
       "      <td>2</td>\n",
       "      <td>2</td>\n",
       "      <td>2</td>\n",
       "      <td>2</td>\n",
       "      <td>2</td>\n",
       "      <td>2</td>\n",
       "      <td>2</td>\n",
       "      <td>7</td>\n",
       "      <td>97</td>\n",
       "    </tr>\n",
       "  </tbody>\n",
       "</table>\n",
       "<p>1048575 rows × 21 columns</p>\n",
       "</div>"
      ],
      "text/plain": [
       "         USMER  MEDICAL_UNIT  SEX  PATIENT_TYPE   DATE_DIED  INTUBED  \\\n",
       "0            2             1    1             1  03/05/2020       97   \n",
       "1            2             1    2             1  03/06/2020       97   \n",
       "2            2             1    2             2  09/06/2020        1   \n",
       "3            2             1    1             1  12/06/2020       97   \n",
       "4            2             1    2             1  21/06/2020       97   \n",
       "...        ...           ...  ...           ...         ...      ...   \n",
       "1048570      2            13    2             1  9999-99-99       97   \n",
       "1048571      1            13    2             2  9999-99-99        2   \n",
       "1048572      2            13    2             1  9999-99-99       97   \n",
       "1048573      2            13    2             1  9999-99-99       97   \n",
       "1048574      2            13    2             1  9999-99-99       97   \n",
       "\n",
       "         PNEUMONIA  AGE  PREGNANT  DIABETES  ...  ASTHMA  INMSUPR  \\\n",
       "0                1   65         2         2  ...       2        2   \n",
       "1                1   72        97         2  ...       2        2   \n",
       "2                2   55        97         1  ...       2        2   \n",
       "3                2   53         2         2  ...       2        2   \n",
       "4                2   68        97         1  ...       2        2   \n",
       "...            ...  ...       ...       ...  ...     ...      ...   \n",
       "1048570          2   40        97         2  ...       2        2   \n",
       "1048571          2   51        97         2  ...       2        2   \n",
       "1048572          2   55        97         2  ...       2        2   \n",
       "1048573          2   28        97         2  ...       2        2   \n",
       "1048574          2   52        97         2  ...       2        2   \n",
       "\n",
       "         HIPERTENSION  OTHER_DISEASE  CARDIOVASCULAR  OBESITY  RENAL_CHRONIC  \\\n",
       "0                   1              2               2        2              2   \n",
       "1                   1              2               2        1              1   \n",
       "2                   2              2               2        2              2   \n",
       "3                   2              2               2        2              2   \n",
       "4                   1              2               2        2              2   \n",
       "...               ...            ...             ...      ...            ...   \n",
       "1048570             2              2               2        2              2   \n",
       "1048571             1              2               2        2              2   \n",
       "1048572             2              2               2        2              2   \n",
       "1048573             2              2               2        2              2   \n",
       "1048574             2              2               2        2              2   \n",
       "\n",
       "         TOBACCO  CLASIFFICATION_FINAL  ICU  \n",
       "0              2                     3   97  \n",
       "1              2                     5   97  \n",
       "2              2                     3    2  \n",
       "3              2                     7   97  \n",
       "4              2                     3   97  \n",
       "...          ...                   ...  ...  \n",
       "1048570        2                     7   97  \n",
       "1048571        2                     7    2  \n",
       "1048572        2                     7   97  \n",
       "1048573        2                     7   97  \n",
       "1048574        2                     7   97  \n",
       "\n",
       "[1048575 rows x 21 columns]"
      ]
     },
     "execution_count": 15,
     "metadata": {},
     "output_type": "execute_result"
    }
   ],
   "source": [
    "df_covid"
   ]
  },
  {
   "cell_type": "code",
   "execution_count": 16,
   "id": "b8538a92",
   "metadata": {},
   "outputs": [
    {
     "data": {
      "text/plain": [
       "Index(['USMER', 'MEDICAL_UNIT', 'SEX', 'PATIENT_TYPE', 'DATE_DIED', 'INTUBED',\n",
       "       'PNEUMONIA', 'AGE', 'PREGNANT', 'DIABETES', 'COPD', 'ASTHMA', 'INMSUPR',\n",
       "       'HIPERTENSION', 'OTHER_DISEASE', 'CARDIOVASCULAR', 'OBESITY',\n",
       "       'RENAL_CHRONIC', 'TOBACCO', 'CLASIFFICATION_FINAL', 'ICU'],\n",
       "      dtype='object')"
      ]
     },
     "execution_count": 16,
     "metadata": {},
     "output_type": "execute_result"
    }
   ],
   "source": [
    "df_covid.columns"
   ]
  },
  {
   "cell_type": "code",
   "execution_count": 17,
   "id": "1db1c5bb",
   "metadata": {},
   "outputs": [],
   "source": [
    "df=df_covid.drop(['USMER', 'MEDICAL_UNIT', 'INTUBED', 'CLASIFFICATION_FINAL', 'ICU', 'DATE_DIED'], axis=1)"
   ]
  },
  {
   "cell_type": "code",
   "execution_count": 18,
   "id": "56170fc6",
   "metadata": {},
   "outputs": [
    {
     "data": {
      "text/html": [
       "<div>\n",
       "<style scoped>\n",
       "    .dataframe tbody tr th:only-of-type {\n",
       "        vertical-align: middle;\n",
       "    }\n",
       "\n",
       "    .dataframe tbody tr th {\n",
       "        vertical-align: top;\n",
       "    }\n",
       "\n",
       "    .dataframe thead th {\n",
       "        text-align: right;\n",
       "    }\n",
       "</style>\n",
       "<table border=\"1\" class=\"dataframe\">\n",
       "  <thead>\n",
       "    <tr style=\"text-align: right;\">\n",
       "      <th></th>\n",
       "      <th>SEX</th>\n",
       "      <th>PATIENT_TYPE</th>\n",
       "      <th>PNEUMONIA</th>\n",
       "      <th>AGE</th>\n",
       "      <th>PREGNANT</th>\n",
       "      <th>DIABETES</th>\n",
       "      <th>COPD</th>\n",
       "      <th>ASTHMA</th>\n",
       "      <th>INMSUPR</th>\n",
       "      <th>HIPERTENSION</th>\n",
       "      <th>OTHER_DISEASE</th>\n",
       "      <th>CARDIOVASCULAR</th>\n",
       "      <th>OBESITY</th>\n",
       "      <th>RENAL_CHRONIC</th>\n",
       "      <th>TOBACCO</th>\n",
       "    </tr>\n",
       "  </thead>\n",
       "  <tbody>\n",
       "    <tr>\n",
       "      <th>0</th>\n",
       "      <td>1</td>\n",
       "      <td>1</td>\n",
       "      <td>1</td>\n",
       "      <td>65</td>\n",
       "      <td>2</td>\n",
       "      <td>2</td>\n",
       "      <td>2</td>\n",
       "      <td>2</td>\n",
       "      <td>2</td>\n",
       "      <td>1</td>\n",
       "      <td>2</td>\n",
       "      <td>2</td>\n",
       "      <td>2</td>\n",
       "      <td>2</td>\n",
       "      <td>2</td>\n",
       "    </tr>\n",
       "    <tr>\n",
       "      <th>1</th>\n",
       "      <td>2</td>\n",
       "      <td>1</td>\n",
       "      <td>1</td>\n",
       "      <td>72</td>\n",
       "      <td>97</td>\n",
       "      <td>2</td>\n",
       "      <td>2</td>\n",
       "      <td>2</td>\n",
       "      <td>2</td>\n",
       "      <td>1</td>\n",
       "      <td>2</td>\n",
       "      <td>2</td>\n",
       "      <td>1</td>\n",
       "      <td>1</td>\n",
       "      <td>2</td>\n",
       "    </tr>\n",
       "    <tr>\n",
       "      <th>2</th>\n",
       "      <td>2</td>\n",
       "      <td>2</td>\n",
       "      <td>2</td>\n",
       "      <td>55</td>\n",
       "      <td>97</td>\n",
       "      <td>1</td>\n",
       "      <td>2</td>\n",
       "      <td>2</td>\n",
       "      <td>2</td>\n",
       "      <td>2</td>\n",
       "      <td>2</td>\n",
       "      <td>2</td>\n",
       "      <td>2</td>\n",
       "      <td>2</td>\n",
       "      <td>2</td>\n",
       "    </tr>\n",
       "    <tr>\n",
       "      <th>3</th>\n",
       "      <td>1</td>\n",
       "      <td>1</td>\n",
       "      <td>2</td>\n",
       "      <td>53</td>\n",
       "      <td>2</td>\n",
       "      <td>2</td>\n",
       "      <td>2</td>\n",
       "      <td>2</td>\n",
       "      <td>2</td>\n",
       "      <td>2</td>\n",
       "      <td>2</td>\n",
       "      <td>2</td>\n",
       "      <td>2</td>\n",
       "      <td>2</td>\n",
       "      <td>2</td>\n",
       "    </tr>\n",
       "    <tr>\n",
       "      <th>4</th>\n",
       "      <td>2</td>\n",
       "      <td>1</td>\n",
       "      <td>2</td>\n",
       "      <td>68</td>\n",
       "      <td>97</td>\n",
       "      <td>1</td>\n",
       "      <td>2</td>\n",
       "      <td>2</td>\n",
       "      <td>2</td>\n",
       "      <td>1</td>\n",
       "      <td>2</td>\n",
       "      <td>2</td>\n",
       "      <td>2</td>\n",
       "      <td>2</td>\n",
       "      <td>2</td>\n",
       "    </tr>\n",
       "    <tr>\n",
       "      <th>...</th>\n",
       "      <td>...</td>\n",
       "      <td>...</td>\n",
       "      <td>...</td>\n",
       "      <td>...</td>\n",
       "      <td>...</td>\n",
       "      <td>...</td>\n",
       "      <td>...</td>\n",
       "      <td>...</td>\n",
       "      <td>...</td>\n",
       "      <td>...</td>\n",
       "      <td>...</td>\n",
       "      <td>...</td>\n",
       "      <td>...</td>\n",
       "      <td>...</td>\n",
       "      <td>...</td>\n",
       "    </tr>\n",
       "    <tr>\n",
       "      <th>1048570</th>\n",
       "      <td>2</td>\n",
       "      <td>1</td>\n",
       "      <td>2</td>\n",
       "      <td>40</td>\n",
       "      <td>97</td>\n",
       "      <td>2</td>\n",
       "      <td>2</td>\n",
       "      <td>2</td>\n",
       "      <td>2</td>\n",
       "      <td>2</td>\n",
       "      <td>2</td>\n",
       "      <td>2</td>\n",
       "      <td>2</td>\n",
       "      <td>2</td>\n",
       "      <td>2</td>\n",
       "    </tr>\n",
       "    <tr>\n",
       "      <th>1048571</th>\n",
       "      <td>2</td>\n",
       "      <td>2</td>\n",
       "      <td>2</td>\n",
       "      <td>51</td>\n",
       "      <td>97</td>\n",
       "      <td>2</td>\n",
       "      <td>2</td>\n",
       "      <td>2</td>\n",
       "      <td>2</td>\n",
       "      <td>1</td>\n",
       "      <td>2</td>\n",
       "      <td>2</td>\n",
       "      <td>2</td>\n",
       "      <td>2</td>\n",
       "      <td>2</td>\n",
       "    </tr>\n",
       "    <tr>\n",
       "      <th>1048572</th>\n",
       "      <td>2</td>\n",
       "      <td>1</td>\n",
       "      <td>2</td>\n",
       "      <td>55</td>\n",
       "      <td>97</td>\n",
       "      <td>2</td>\n",
       "      <td>2</td>\n",
       "      <td>2</td>\n",
       "      <td>2</td>\n",
       "      <td>2</td>\n",
       "      <td>2</td>\n",
       "      <td>2</td>\n",
       "      <td>2</td>\n",
       "      <td>2</td>\n",
       "      <td>2</td>\n",
       "    </tr>\n",
       "    <tr>\n",
       "      <th>1048573</th>\n",
       "      <td>2</td>\n",
       "      <td>1</td>\n",
       "      <td>2</td>\n",
       "      <td>28</td>\n",
       "      <td>97</td>\n",
       "      <td>2</td>\n",
       "      <td>2</td>\n",
       "      <td>2</td>\n",
       "      <td>2</td>\n",
       "      <td>2</td>\n",
       "      <td>2</td>\n",
       "      <td>2</td>\n",
       "      <td>2</td>\n",
       "      <td>2</td>\n",
       "      <td>2</td>\n",
       "    </tr>\n",
       "    <tr>\n",
       "      <th>1048574</th>\n",
       "      <td>2</td>\n",
       "      <td>1</td>\n",
       "      <td>2</td>\n",
       "      <td>52</td>\n",
       "      <td>97</td>\n",
       "      <td>2</td>\n",
       "      <td>2</td>\n",
       "      <td>2</td>\n",
       "      <td>2</td>\n",
       "      <td>2</td>\n",
       "      <td>2</td>\n",
       "      <td>2</td>\n",
       "      <td>2</td>\n",
       "      <td>2</td>\n",
       "      <td>2</td>\n",
       "    </tr>\n",
       "  </tbody>\n",
       "</table>\n",
       "<p>1048575 rows × 15 columns</p>\n",
       "</div>"
      ],
      "text/plain": [
       "         SEX  PATIENT_TYPE  PNEUMONIA  AGE  PREGNANT  DIABETES  COPD  ASTHMA  \\\n",
       "0          1             1          1   65         2         2     2       2   \n",
       "1          2             1          1   72        97         2     2       2   \n",
       "2          2             2          2   55        97         1     2       2   \n",
       "3          1             1          2   53         2         2     2       2   \n",
       "4          2             1          2   68        97         1     2       2   \n",
       "...      ...           ...        ...  ...       ...       ...   ...     ...   \n",
       "1048570    2             1          2   40        97         2     2       2   \n",
       "1048571    2             2          2   51        97         2     2       2   \n",
       "1048572    2             1          2   55        97         2     2       2   \n",
       "1048573    2             1          2   28        97         2     2       2   \n",
       "1048574    2             1          2   52        97         2     2       2   \n",
       "\n",
       "         INMSUPR  HIPERTENSION  OTHER_DISEASE  CARDIOVASCULAR  OBESITY  \\\n",
       "0              2             1              2               2        2   \n",
       "1              2             1              2               2        1   \n",
       "2              2             2              2               2        2   \n",
       "3              2             2              2               2        2   \n",
       "4              2             1              2               2        2   \n",
       "...          ...           ...            ...             ...      ...   \n",
       "1048570        2             2              2               2        2   \n",
       "1048571        2             1              2               2        2   \n",
       "1048572        2             2              2               2        2   \n",
       "1048573        2             2              2               2        2   \n",
       "1048574        2             2              2               2        2   \n",
       "\n",
       "         RENAL_CHRONIC  TOBACCO  \n",
       "0                    2        2  \n",
       "1                    1        2  \n",
       "2                    2        2  \n",
       "3                    2        2  \n",
       "4                    2        2  \n",
       "...                ...      ...  \n",
       "1048570              2        2  \n",
       "1048571              2        2  \n",
       "1048572              2        2  \n",
       "1048573              2        2  \n",
       "1048574              2        2  \n",
       "\n",
       "[1048575 rows x 15 columns]"
      ]
     },
     "execution_count": 18,
     "metadata": {},
     "output_type": "execute_result"
    }
   ],
   "source": [
    "df"
   ]
  },
  {
   "cell_type": "markdown",
   "id": "195029cb",
   "metadata": {},
   "source": [
    "The missing values are catalogued as 97 or 99. So I have to look for these values to understand how many null values."
   ]
  },
  {
   "cell_type": "code",
   "execution_count": 19,
   "id": "68d647db",
   "metadata": {},
   "outputs": [
    {
     "data": {
      "text/plain": [
       "1    0.500741\n",
       "2    0.499259\n",
       "Name: SEX, dtype: float64"
      ]
     },
     "execution_count": 19,
     "metadata": {},
     "output_type": "execute_result"
    }
   ],
   "source": [
    "df['SEX'].value_counts(normalize=True)"
   ]
  },
  {
   "cell_type": "code",
   "execution_count": 20,
   "id": "ec0d7774",
   "metadata": {},
   "outputs": [
    {
     "data": {
      "text/plain": [
       "97    0.499259\n",
       "2     0.489406\n",
       "1     0.007754\n",
       "98    0.003580\n",
       "Name: PREGNANT, dtype: float64"
      ]
     },
     "execution_count": 20,
     "metadata": {},
     "output_type": "execute_result"
    }
   ],
   "source": [
    "df['PREGNANT'].value_counts(normalize=True)"
   ]
  },
  {
   "cell_type": "markdown",
   "id": "b804fa20",
   "metadata": {},
   "source": [
    "Will need to find a way to replace the missing values for pregnant."
   ]
  },
  {
   "cell_type": "code",
   "execution_count": 21,
   "id": "f6f11d48",
   "metadata": {},
   "outputs": [
    {
     "name": "stdout",
     "output_type": "stream",
     "text": [
      "SEX \n",
      " 1    0.500741\n",
      "2    0.499259\n",
      "Name: SEX, dtype: float64\n",
      "PATIENT_TYPE \n",
      " 1    0.809235\n",
      "2    0.190765\n",
      "Name: PATIENT_TYPE, dtype: float64\n",
      "PNEUMONIA \n",
      " 2     0.851188\n",
      "1     0.133551\n",
      "99    0.015262\n",
      "Name: PNEUMONIA, dtype: float64\n",
      "AGE \n",
      " 30     2.575877e-02\n",
      "31     2.472594e-02\n",
      "28     2.414038e-02\n",
      "29     2.396967e-02\n",
      "34     2.371981e-02\n",
      "           ...     \n",
      "115    1.907350e-06\n",
      "114    1.907350e-06\n",
      "113    9.536752e-07\n",
      "111    9.536752e-07\n",
      "121    9.536752e-07\n",
      "Name: AGE, Length: 121, dtype: float64\n",
      "PREGNANT \n",
      " 97    0.499259\n",
      "2     0.489406\n",
      "1     0.007754\n",
      "98    0.003580\n",
      "Name: PREGNANT, dtype: float64\n",
      "DIABETES \n",
      " 2     0.877618\n",
      "1     0.119199\n",
      "98    0.003183\n",
      "Name: DIABETES, dtype: float64\n",
      "COPD \n",
      " 2     0.982772\n",
      "1     0.014364\n",
      "98    0.002864\n",
      "Name: COPD, dtype: float64\n",
      "ASTHMA \n",
      " 2     0.967050\n",
      "1     0.030109\n",
      "98    0.002841\n",
      "Name: ASTHMA, dtype: float64\n",
      "INMSUPR \n",
      " 2     0.983240\n",
      "1     0.013514\n",
      "98    0.003246\n",
      "Name: INMSUPR, dtype: float64\n",
      "HIPERTENSION \n",
      " 2     0.841849\n",
      "1     0.155191\n",
      "98    0.002960\n",
      "Name: HIPERTENSION, dtype: float64\n",
      "OTHER_DISEASE \n",
      " 2     0.968448\n",
      "1     0.026741\n",
      "98    0.004811\n",
      "Name: OTHER_DISEASE, dtype: float64\n",
      "CARDIOVASCULAR \n",
      " 2     0.977260\n",
      "1     0.019807\n",
      "98    0.002934\n",
      "Name: CARDIOVASCULAR, dtype: float64\n",
      "OBESITY \n",
      " 2     0.844696\n",
      "1     0.152413\n",
      "98    0.002892\n",
      "Name: OBESITY, dtype: float64\n",
      "RENAL_CHRONIC \n",
      " 2     0.979105\n",
      "1     0.018028\n",
      "98    0.002867\n",
      "Name: RENAL_CHRONIC, dtype: float64\n",
      "TOBACCO \n",
      " 2     0.916462\n",
      "1     0.080467\n",
      "98    0.003071\n",
      "Name: TOBACCO, dtype: float64\n"
     ]
    }
   ],
   "source": [
    "for i in df.columns:\n",
    "    print(i,'\\n', df[i].value_counts(normalize=True))"
   ]
  },
  {
   "cell_type": "markdown",
   "id": "6932615c",
   "metadata": {},
   "source": [
    "97, 98 and 99 represent missing values for all the columns except 'AGE'.\n",
    "<br>For some categories the missing values are so little that it's worth just dropping them. For the two categories with the most missing values, 'PREGNANT' and 'PNEUMONIA' I will proceed to impute them.\n",
    "<br>I want to replace them but since most values are categorical I want to replace them not just with the mode but keeping the same percentage of values from the original data.\n",
    "<br>We will use the percentages that we see in the above value counts."
   ]
  },
  {
   "cell_type": "code",
   "execution_count": 22,
   "id": "bb5da922",
   "metadata": {},
   "outputs": [],
   "source": [
    "age=df['AGE']"
   ]
  },
  {
   "cell_type": "code",
   "execution_count": 23,
   "id": "2075f03b",
   "metadata": {},
   "outputs": [],
   "source": [
    "df.drop('AGE', axis=1, inplace=True)"
   ]
  },
  {
   "cell_type": "code",
   "execution_count": 24,
   "id": "23bc2ed2",
   "metadata": {},
   "outputs": [],
   "source": [
    "for i in df.columns:\n",
    "    df[i]=df[i].replace([97,98,99], np.NaN)"
   ]
  },
  {
   "cell_type": "code",
   "execution_count": 25,
   "id": "a972059e",
   "metadata": {},
   "outputs": [
    {
     "data": {
      "text/plain": [
       "SEX                    0\n",
       "PATIENT_TYPE           0\n",
       "PNEUMONIA          16003\n",
       "PREGNANT          527265\n",
       "DIABETES            3338\n",
       "COPD                3003\n",
       "ASTHMA              2979\n",
       "INMSUPR             3404\n",
       "HIPERTENSION        3104\n",
       "OTHER_DISEASE       5045\n",
       "CARDIOVASCULAR      3076\n",
       "OBESITY             3032\n",
       "RENAL_CHRONIC       3006\n",
       "TOBACCO             3220\n",
       "dtype: int64"
      ]
     },
     "execution_count": 25,
     "metadata": {},
     "output_type": "execute_result"
    }
   ],
   "source": [
    "df.isna().sum()"
   ]
  },
  {
   "cell_type": "code",
   "execution_count": 26,
   "id": "e3111702",
   "metadata": {},
   "outputs": [
    {
     "data": {
      "text/plain": [
       "'I could replace the missing values using percentages OR I could do it using KNN OR I could do it direclty in the decision tree/random forest.\\nFor now let me replace them in this easier percentage way, then if I have time later I will try the other two ways.'"
      ]
     },
     "execution_count": 26,
     "metadata": {},
     "output_type": "execute_result"
    }
   ],
   "source": [
    "\"\"\"I could replace the missing values using percentages OR I could do it using KNN OR I could do it direclty in the decision tree/random forest.\n",
    "For now let me replace them in this easier percentage way, then if I have time later I will try the other two ways.\"\"\""
   ]
  },
  {
   "cell_type": "code",
   "execution_count": 27,
   "id": "dbae14d4",
   "metadata": {},
   "outputs": [],
   "source": [
    "df['PREGNANT'] =df['PREGNANT'].fillna(pd.Series(np.random.choice([1, 2], \n",
    "                                    p=[0.02,0.98],size=len(df))))"
   ]
  },
  {
   "cell_type": "code",
   "execution_count": 28,
   "id": "df2f0a8c",
   "metadata": {},
   "outputs": [],
   "source": [
    "df['PNEUMONIA'] =df['PNEUMONIA'].fillna(pd.Series(np.random.choice([1, 2], \n",
    "                                    p=[0.14,0.86],size=len(df))))"
   ]
  },
  {
   "cell_type": "code",
   "execution_count": 29,
   "id": "07dccc81",
   "metadata": {},
   "outputs": [],
   "source": [
    "df=pd.concat([df, age], axis=1)"
   ]
  },
  {
   "cell_type": "code",
   "execution_count": 30,
   "id": "597af6a6",
   "metadata": {},
   "outputs": [],
   "source": [
    "df.dropna(inplace=True)"
   ]
  },
  {
   "cell_type": "code",
   "execution_count": 31,
   "id": "6a522dc7",
   "metadata": {},
   "outputs": [
    {
     "data": {
      "text/plain": [
       "SEX               0\n",
       "PATIENT_TYPE      0\n",
       "PNEUMONIA         0\n",
       "PREGNANT          0\n",
       "DIABETES          0\n",
       "COPD              0\n",
       "ASTHMA            0\n",
       "INMSUPR           0\n",
       "HIPERTENSION      0\n",
       "OTHER_DISEASE     0\n",
       "CARDIOVASCULAR    0\n",
       "OBESITY           0\n",
       "RENAL_CHRONIC     0\n",
       "TOBACCO           0\n",
       "AGE               0\n",
       "dtype: int64"
      ]
     },
     "execution_count": 31,
     "metadata": {},
     "output_type": "execute_result"
    }
   ],
   "source": [
    "df.isna().sum()"
   ]
  },
  {
   "cell_type": "code",
   "execution_count": 32,
   "id": "8ef3262b",
   "metadata": {},
   "outputs": [
    {
     "data": {
      "text/html": [
       "<div>\n",
       "<style scoped>\n",
       "    .dataframe tbody tr th:only-of-type {\n",
       "        vertical-align: middle;\n",
       "    }\n",
       "\n",
       "    .dataframe tbody tr th {\n",
       "        vertical-align: top;\n",
       "    }\n",
       "\n",
       "    .dataframe thead th {\n",
       "        text-align: right;\n",
       "    }\n",
       "</style>\n",
       "<table border=\"1\" class=\"dataframe\">\n",
       "  <thead>\n",
       "    <tr style=\"text-align: right;\">\n",
       "      <th></th>\n",
       "      <th>SEX</th>\n",
       "      <th>PATIENT_TYPE</th>\n",
       "      <th>PNEUMONIA</th>\n",
       "      <th>PREGNANT</th>\n",
       "      <th>DIABETES</th>\n",
       "      <th>COPD</th>\n",
       "      <th>ASTHMA</th>\n",
       "      <th>INMSUPR</th>\n",
       "      <th>HIPERTENSION</th>\n",
       "      <th>OTHER_DISEASE</th>\n",
       "      <th>CARDIOVASCULAR</th>\n",
       "      <th>OBESITY</th>\n",
       "      <th>RENAL_CHRONIC</th>\n",
       "      <th>TOBACCO</th>\n",
       "      <th>AGE</th>\n",
       "    </tr>\n",
       "  </thead>\n",
       "  <tbody>\n",
       "    <tr>\n",
       "      <th>0</th>\n",
       "      <td>1</td>\n",
       "      <td>1</td>\n",
       "      <td>1.0</td>\n",
       "      <td>2.0</td>\n",
       "      <td>2.0</td>\n",
       "      <td>2.0</td>\n",
       "      <td>2.0</td>\n",
       "      <td>2.0</td>\n",
       "      <td>1.0</td>\n",
       "      <td>2.0</td>\n",
       "      <td>2.0</td>\n",
       "      <td>2.0</td>\n",
       "      <td>2.0</td>\n",
       "      <td>2.0</td>\n",
       "      <td>65</td>\n",
       "    </tr>\n",
       "    <tr>\n",
       "      <th>1</th>\n",
       "      <td>2</td>\n",
       "      <td>1</td>\n",
       "      <td>1.0</td>\n",
       "      <td>2.0</td>\n",
       "      <td>2.0</td>\n",
       "      <td>2.0</td>\n",
       "      <td>2.0</td>\n",
       "      <td>2.0</td>\n",
       "      <td>1.0</td>\n",
       "      <td>2.0</td>\n",
       "      <td>2.0</td>\n",
       "      <td>1.0</td>\n",
       "      <td>1.0</td>\n",
       "      <td>2.0</td>\n",
       "      <td>72</td>\n",
       "    </tr>\n",
       "    <tr>\n",
       "      <th>2</th>\n",
       "      <td>2</td>\n",
       "      <td>2</td>\n",
       "      <td>2.0</td>\n",
       "      <td>2.0</td>\n",
       "      <td>1.0</td>\n",
       "      <td>2.0</td>\n",
       "      <td>2.0</td>\n",
       "      <td>2.0</td>\n",
       "      <td>2.0</td>\n",
       "      <td>2.0</td>\n",
       "      <td>2.0</td>\n",
       "      <td>2.0</td>\n",
       "      <td>2.0</td>\n",
       "      <td>2.0</td>\n",
       "      <td>55</td>\n",
       "    </tr>\n",
       "    <tr>\n",
       "      <th>3</th>\n",
       "      <td>1</td>\n",
       "      <td>1</td>\n",
       "      <td>2.0</td>\n",
       "      <td>2.0</td>\n",
       "      <td>2.0</td>\n",
       "      <td>2.0</td>\n",
       "      <td>2.0</td>\n",
       "      <td>2.0</td>\n",
       "      <td>2.0</td>\n",
       "      <td>2.0</td>\n",
       "      <td>2.0</td>\n",
       "      <td>2.0</td>\n",
       "      <td>2.0</td>\n",
       "      <td>2.0</td>\n",
       "      <td>53</td>\n",
       "    </tr>\n",
       "    <tr>\n",
       "      <th>4</th>\n",
       "      <td>2</td>\n",
       "      <td>1</td>\n",
       "      <td>2.0</td>\n",
       "      <td>2.0</td>\n",
       "      <td>1.0</td>\n",
       "      <td>2.0</td>\n",
       "      <td>2.0</td>\n",
       "      <td>2.0</td>\n",
       "      <td>1.0</td>\n",
       "      <td>2.0</td>\n",
       "      <td>2.0</td>\n",
       "      <td>2.0</td>\n",
       "      <td>2.0</td>\n",
       "      <td>2.0</td>\n",
       "      <td>68</td>\n",
       "    </tr>\n",
       "    <tr>\n",
       "      <th>...</th>\n",
       "      <td>...</td>\n",
       "      <td>...</td>\n",
       "      <td>...</td>\n",
       "      <td>...</td>\n",
       "      <td>...</td>\n",
       "      <td>...</td>\n",
       "      <td>...</td>\n",
       "      <td>...</td>\n",
       "      <td>...</td>\n",
       "      <td>...</td>\n",
       "      <td>...</td>\n",
       "      <td>...</td>\n",
       "      <td>...</td>\n",
       "      <td>...</td>\n",
       "      <td>...</td>\n",
       "    </tr>\n",
       "    <tr>\n",
       "      <th>1048570</th>\n",
       "      <td>2</td>\n",
       "      <td>1</td>\n",
       "      <td>2.0</td>\n",
       "      <td>2.0</td>\n",
       "      <td>2.0</td>\n",
       "      <td>2.0</td>\n",
       "      <td>2.0</td>\n",
       "      <td>2.0</td>\n",
       "      <td>2.0</td>\n",
       "      <td>2.0</td>\n",
       "      <td>2.0</td>\n",
       "      <td>2.0</td>\n",
       "      <td>2.0</td>\n",
       "      <td>2.0</td>\n",
       "      <td>40</td>\n",
       "    </tr>\n",
       "    <tr>\n",
       "      <th>1048571</th>\n",
       "      <td>2</td>\n",
       "      <td>2</td>\n",
       "      <td>2.0</td>\n",
       "      <td>2.0</td>\n",
       "      <td>2.0</td>\n",
       "      <td>2.0</td>\n",
       "      <td>2.0</td>\n",
       "      <td>2.0</td>\n",
       "      <td>1.0</td>\n",
       "      <td>2.0</td>\n",
       "      <td>2.0</td>\n",
       "      <td>2.0</td>\n",
       "      <td>2.0</td>\n",
       "      <td>2.0</td>\n",
       "      <td>51</td>\n",
       "    </tr>\n",
       "    <tr>\n",
       "      <th>1048572</th>\n",
       "      <td>2</td>\n",
       "      <td>1</td>\n",
       "      <td>2.0</td>\n",
       "      <td>2.0</td>\n",
       "      <td>2.0</td>\n",
       "      <td>2.0</td>\n",
       "      <td>2.0</td>\n",
       "      <td>2.0</td>\n",
       "      <td>2.0</td>\n",
       "      <td>2.0</td>\n",
       "      <td>2.0</td>\n",
       "      <td>2.0</td>\n",
       "      <td>2.0</td>\n",
       "      <td>2.0</td>\n",
       "      <td>55</td>\n",
       "    </tr>\n",
       "    <tr>\n",
       "      <th>1048573</th>\n",
       "      <td>2</td>\n",
       "      <td>1</td>\n",
       "      <td>2.0</td>\n",
       "      <td>2.0</td>\n",
       "      <td>2.0</td>\n",
       "      <td>2.0</td>\n",
       "      <td>2.0</td>\n",
       "      <td>2.0</td>\n",
       "      <td>2.0</td>\n",
       "      <td>2.0</td>\n",
       "      <td>2.0</td>\n",
       "      <td>2.0</td>\n",
       "      <td>2.0</td>\n",
       "      <td>2.0</td>\n",
       "      <td>28</td>\n",
       "    </tr>\n",
       "    <tr>\n",
       "      <th>1048574</th>\n",
       "      <td>2</td>\n",
       "      <td>1</td>\n",
       "      <td>2.0</td>\n",
       "      <td>2.0</td>\n",
       "      <td>2.0</td>\n",
       "      <td>2.0</td>\n",
       "      <td>2.0</td>\n",
       "      <td>2.0</td>\n",
       "      <td>2.0</td>\n",
       "      <td>2.0</td>\n",
       "      <td>2.0</td>\n",
       "      <td>2.0</td>\n",
       "      <td>2.0</td>\n",
       "      <td>2.0</td>\n",
       "      <td>52</td>\n",
       "    </tr>\n",
       "  </tbody>\n",
       "</table>\n",
       "<p>1041013 rows × 15 columns</p>\n",
       "</div>"
      ],
      "text/plain": [
       "         SEX  PATIENT_TYPE  PNEUMONIA  PREGNANT  DIABETES  COPD  ASTHMA  \\\n",
       "0          1             1        1.0       2.0       2.0   2.0     2.0   \n",
       "1          2             1        1.0       2.0       2.0   2.0     2.0   \n",
       "2          2             2        2.0       2.0       1.0   2.0     2.0   \n",
       "3          1             1        2.0       2.0       2.0   2.0     2.0   \n",
       "4          2             1        2.0       2.0       1.0   2.0     2.0   \n",
       "...      ...           ...        ...       ...       ...   ...     ...   \n",
       "1048570    2             1        2.0       2.0       2.0   2.0     2.0   \n",
       "1048571    2             2        2.0       2.0       2.0   2.0     2.0   \n",
       "1048572    2             1        2.0       2.0       2.0   2.0     2.0   \n",
       "1048573    2             1        2.0       2.0       2.0   2.0     2.0   \n",
       "1048574    2             1        2.0       2.0       2.0   2.0     2.0   \n",
       "\n",
       "         INMSUPR  HIPERTENSION  OTHER_DISEASE  CARDIOVASCULAR  OBESITY  \\\n",
       "0            2.0           1.0            2.0             2.0      2.0   \n",
       "1            2.0           1.0            2.0             2.0      1.0   \n",
       "2            2.0           2.0            2.0             2.0      2.0   \n",
       "3            2.0           2.0            2.0             2.0      2.0   \n",
       "4            2.0           1.0            2.0             2.0      2.0   \n",
       "...          ...           ...            ...             ...      ...   \n",
       "1048570      2.0           2.0            2.0             2.0      2.0   \n",
       "1048571      2.0           1.0            2.0             2.0      2.0   \n",
       "1048572      2.0           2.0            2.0             2.0      2.0   \n",
       "1048573      2.0           2.0            2.0             2.0      2.0   \n",
       "1048574      2.0           2.0            2.0             2.0      2.0   \n",
       "\n",
       "         RENAL_CHRONIC  TOBACCO  AGE  \n",
       "0                  2.0      2.0   65  \n",
       "1                  1.0      2.0   72  \n",
       "2                  2.0      2.0   55  \n",
       "3                  2.0      2.0   53  \n",
       "4                  2.0      2.0   68  \n",
       "...                ...      ...  ...  \n",
       "1048570            2.0      2.0   40  \n",
       "1048571            2.0      2.0   51  \n",
       "1048572            2.0      2.0   55  \n",
       "1048573            2.0      2.0   28  \n",
       "1048574            2.0      2.0   52  \n",
       "\n",
       "[1041013 rows x 15 columns]"
      ]
     },
     "execution_count": 32,
     "metadata": {},
     "output_type": "execute_result"
    }
   ],
   "source": [
    "df"
   ]
  },
  {
   "cell_type": "markdown",
   "id": "5e44204c",
   "metadata": {},
   "source": [
    "Now to follow the usual convention of one hot encoding I want to change the values 2 which means no into 0.\n",
    "<br>This is true for all the columns except our target, 'PATIENT_TYPE' where 1 means they returned home and 2 means they were hospitalized. I will do this separately, and then assign the column to y.\n",
    "For X I will do the necessary changes to df and then concat with 'AGE' that I dropped before.\n",
    "<br>For sex it is going to be 1 for female and 0 for male."
   ]
  },
  {
   "cell_type": "code",
   "execution_count": 33,
   "id": "bafdf685",
   "metadata": {},
   "outputs": [],
   "source": [
    "y=df['PATIENT_TYPE']"
   ]
  },
  {
   "cell_type": "code",
   "execution_count": 34,
   "id": "c493143b",
   "metadata": {},
   "outputs": [],
   "source": [
    "#I have to redifine age again because the old onw has some null values that I dropped.\n",
    "age=df['AGE']"
   ]
  },
  {
   "cell_type": "code",
   "execution_count": 35,
   "id": "abafdd16",
   "metadata": {},
   "outputs": [],
   "source": [
    "df.drop(['PATIENT_TYPE','AGE'], axis=1, inplace=True)"
   ]
  },
  {
   "cell_type": "code",
   "execution_count": 36,
   "id": "c29c1f62",
   "metadata": {},
   "outputs": [],
   "source": [
    "df=df.replace(2, 0)"
   ]
  },
  {
   "cell_type": "code",
   "execution_count": 37,
   "id": "a23c3b19",
   "metadata": {},
   "outputs": [
    {
     "data": {
      "text/html": [
       "<div>\n",
       "<style scoped>\n",
       "    .dataframe tbody tr th:only-of-type {\n",
       "        vertical-align: middle;\n",
       "    }\n",
       "\n",
       "    .dataframe tbody tr th {\n",
       "        vertical-align: top;\n",
       "    }\n",
       "\n",
       "    .dataframe thead th {\n",
       "        text-align: right;\n",
       "    }\n",
       "</style>\n",
       "<table border=\"1\" class=\"dataframe\">\n",
       "  <thead>\n",
       "    <tr style=\"text-align: right;\">\n",
       "      <th></th>\n",
       "      <th>SEX</th>\n",
       "      <th>PNEUMONIA</th>\n",
       "      <th>PREGNANT</th>\n",
       "      <th>DIABETES</th>\n",
       "      <th>COPD</th>\n",
       "      <th>ASTHMA</th>\n",
       "      <th>INMSUPR</th>\n",
       "      <th>HIPERTENSION</th>\n",
       "      <th>OTHER_DISEASE</th>\n",
       "      <th>CARDIOVASCULAR</th>\n",
       "      <th>OBESITY</th>\n",
       "      <th>RENAL_CHRONIC</th>\n",
       "      <th>TOBACCO</th>\n",
       "    </tr>\n",
       "  </thead>\n",
       "  <tbody>\n",
       "    <tr>\n",
       "      <th>0</th>\n",
       "      <td>1</td>\n",
       "      <td>1.0</td>\n",
       "      <td>0.0</td>\n",
       "      <td>0.0</td>\n",
       "      <td>0.0</td>\n",
       "      <td>0.0</td>\n",
       "      <td>0.0</td>\n",
       "      <td>1.0</td>\n",
       "      <td>0.0</td>\n",
       "      <td>0.0</td>\n",
       "      <td>0.0</td>\n",
       "      <td>0.0</td>\n",
       "      <td>0.0</td>\n",
       "    </tr>\n",
       "    <tr>\n",
       "      <th>1</th>\n",
       "      <td>0</td>\n",
       "      <td>1.0</td>\n",
       "      <td>0.0</td>\n",
       "      <td>0.0</td>\n",
       "      <td>0.0</td>\n",
       "      <td>0.0</td>\n",
       "      <td>0.0</td>\n",
       "      <td>1.0</td>\n",
       "      <td>0.0</td>\n",
       "      <td>0.0</td>\n",
       "      <td>1.0</td>\n",
       "      <td>1.0</td>\n",
       "      <td>0.0</td>\n",
       "    </tr>\n",
       "    <tr>\n",
       "      <th>2</th>\n",
       "      <td>0</td>\n",
       "      <td>0.0</td>\n",
       "      <td>0.0</td>\n",
       "      <td>1.0</td>\n",
       "      <td>0.0</td>\n",
       "      <td>0.0</td>\n",
       "      <td>0.0</td>\n",
       "      <td>0.0</td>\n",
       "      <td>0.0</td>\n",
       "      <td>0.0</td>\n",
       "      <td>0.0</td>\n",
       "      <td>0.0</td>\n",
       "      <td>0.0</td>\n",
       "    </tr>\n",
       "    <tr>\n",
       "      <th>3</th>\n",
       "      <td>1</td>\n",
       "      <td>0.0</td>\n",
       "      <td>0.0</td>\n",
       "      <td>0.0</td>\n",
       "      <td>0.0</td>\n",
       "      <td>0.0</td>\n",
       "      <td>0.0</td>\n",
       "      <td>0.0</td>\n",
       "      <td>0.0</td>\n",
       "      <td>0.0</td>\n",
       "      <td>0.0</td>\n",
       "      <td>0.0</td>\n",
       "      <td>0.0</td>\n",
       "    </tr>\n",
       "    <tr>\n",
       "      <th>4</th>\n",
       "      <td>0</td>\n",
       "      <td>0.0</td>\n",
       "      <td>0.0</td>\n",
       "      <td>1.0</td>\n",
       "      <td>0.0</td>\n",
       "      <td>0.0</td>\n",
       "      <td>0.0</td>\n",
       "      <td>1.0</td>\n",
       "      <td>0.0</td>\n",
       "      <td>0.0</td>\n",
       "      <td>0.0</td>\n",
       "      <td>0.0</td>\n",
       "      <td>0.0</td>\n",
       "    </tr>\n",
       "    <tr>\n",
       "      <th>...</th>\n",
       "      <td>...</td>\n",
       "      <td>...</td>\n",
       "      <td>...</td>\n",
       "      <td>...</td>\n",
       "      <td>...</td>\n",
       "      <td>...</td>\n",
       "      <td>...</td>\n",
       "      <td>...</td>\n",
       "      <td>...</td>\n",
       "      <td>...</td>\n",
       "      <td>...</td>\n",
       "      <td>...</td>\n",
       "      <td>...</td>\n",
       "    </tr>\n",
       "    <tr>\n",
       "      <th>1048570</th>\n",
       "      <td>0</td>\n",
       "      <td>0.0</td>\n",
       "      <td>0.0</td>\n",
       "      <td>0.0</td>\n",
       "      <td>0.0</td>\n",
       "      <td>0.0</td>\n",
       "      <td>0.0</td>\n",
       "      <td>0.0</td>\n",
       "      <td>0.0</td>\n",
       "      <td>0.0</td>\n",
       "      <td>0.0</td>\n",
       "      <td>0.0</td>\n",
       "      <td>0.0</td>\n",
       "    </tr>\n",
       "    <tr>\n",
       "      <th>1048571</th>\n",
       "      <td>0</td>\n",
       "      <td>0.0</td>\n",
       "      <td>0.0</td>\n",
       "      <td>0.0</td>\n",
       "      <td>0.0</td>\n",
       "      <td>0.0</td>\n",
       "      <td>0.0</td>\n",
       "      <td>1.0</td>\n",
       "      <td>0.0</td>\n",
       "      <td>0.0</td>\n",
       "      <td>0.0</td>\n",
       "      <td>0.0</td>\n",
       "      <td>0.0</td>\n",
       "    </tr>\n",
       "    <tr>\n",
       "      <th>1048572</th>\n",
       "      <td>0</td>\n",
       "      <td>0.0</td>\n",
       "      <td>0.0</td>\n",
       "      <td>0.0</td>\n",
       "      <td>0.0</td>\n",
       "      <td>0.0</td>\n",
       "      <td>0.0</td>\n",
       "      <td>0.0</td>\n",
       "      <td>0.0</td>\n",
       "      <td>0.0</td>\n",
       "      <td>0.0</td>\n",
       "      <td>0.0</td>\n",
       "      <td>0.0</td>\n",
       "    </tr>\n",
       "    <tr>\n",
       "      <th>1048573</th>\n",
       "      <td>0</td>\n",
       "      <td>0.0</td>\n",
       "      <td>0.0</td>\n",
       "      <td>0.0</td>\n",
       "      <td>0.0</td>\n",
       "      <td>0.0</td>\n",
       "      <td>0.0</td>\n",
       "      <td>0.0</td>\n",
       "      <td>0.0</td>\n",
       "      <td>0.0</td>\n",
       "      <td>0.0</td>\n",
       "      <td>0.0</td>\n",
       "      <td>0.0</td>\n",
       "    </tr>\n",
       "    <tr>\n",
       "      <th>1048574</th>\n",
       "      <td>0</td>\n",
       "      <td>0.0</td>\n",
       "      <td>0.0</td>\n",
       "      <td>0.0</td>\n",
       "      <td>0.0</td>\n",
       "      <td>0.0</td>\n",
       "      <td>0.0</td>\n",
       "      <td>0.0</td>\n",
       "      <td>0.0</td>\n",
       "      <td>0.0</td>\n",
       "      <td>0.0</td>\n",
       "      <td>0.0</td>\n",
       "      <td>0.0</td>\n",
       "    </tr>\n",
       "  </tbody>\n",
       "</table>\n",
       "<p>1041013 rows × 13 columns</p>\n",
       "</div>"
      ],
      "text/plain": [
       "         SEX  PNEUMONIA  PREGNANT  DIABETES  COPD  ASTHMA  INMSUPR  \\\n",
       "0          1        1.0       0.0       0.0   0.0     0.0      0.0   \n",
       "1          0        1.0       0.0       0.0   0.0     0.0      0.0   \n",
       "2          0        0.0       0.0       1.0   0.0     0.0      0.0   \n",
       "3          1        0.0       0.0       0.0   0.0     0.0      0.0   \n",
       "4          0        0.0       0.0       1.0   0.0     0.0      0.0   \n",
       "...      ...        ...       ...       ...   ...     ...      ...   \n",
       "1048570    0        0.0       0.0       0.0   0.0     0.0      0.0   \n",
       "1048571    0        0.0       0.0       0.0   0.0     0.0      0.0   \n",
       "1048572    0        0.0       0.0       0.0   0.0     0.0      0.0   \n",
       "1048573    0        0.0       0.0       0.0   0.0     0.0      0.0   \n",
       "1048574    0        0.0       0.0       0.0   0.0     0.0      0.0   \n",
       "\n",
       "         HIPERTENSION  OTHER_DISEASE  CARDIOVASCULAR  OBESITY  RENAL_CHRONIC  \\\n",
       "0                 1.0            0.0             0.0      0.0            0.0   \n",
       "1                 1.0            0.0             0.0      1.0            1.0   \n",
       "2                 0.0            0.0             0.0      0.0            0.0   \n",
       "3                 0.0            0.0             0.0      0.0            0.0   \n",
       "4                 1.0            0.0             0.0      0.0            0.0   \n",
       "...               ...            ...             ...      ...            ...   \n",
       "1048570           0.0            0.0             0.0      0.0            0.0   \n",
       "1048571           1.0            0.0             0.0      0.0            0.0   \n",
       "1048572           0.0            0.0             0.0      0.0            0.0   \n",
       "1048573           0.0            0.0             0.0      0.0            0.0   \n",
       "1048574           0.0            0.0             0.0      0.0            0.0   \n",
       "\n",
       "         TOBACCO  \n",
       "0            0.0  \n",
       "1            0.0  \n",
       "2            0.0  \n",
       "3            0.0  \n",
       "4            0.0  \n",
       "...          ...  \n",
       "1048570      0.0  \n",
       "1048571      0.0  \n",
       "1048572      0.0  \n",
       "1048573      0.0  \n",
       "1048574      0.0  \n",
       "\n",
       "[1041013 rows x 13 columns]"
      ]
     },
     "execution_count": 37,
     "metadata": {},
     "output_type": "execute_result"
    }
   ],
   "source": [
    "df"
   ]
  },
  {
   "cell_type": "code",
   "execution_count": 38,
   "id": "a80b92eb",
   "metadata": {},
   "outputs": [
    {
     "name": "stdout",
     "output_type": "stream",
     "text": [
      "SEX \n",
      " 1    0.501223\n",
      "0    0.498777\n",
      "Name: SEX, dtype: float64\n",
      "PNEUMONIA \n",
      " 0.0    0.865723\n",
      "1.0    0.134277\n",
      "Name: PNEUMONIA, dtype: float64\n",
      "PREGNANT \n",
      " 0.0    0.982087\n",
      "1.0    0.017913\n",
      "Name: PREGNANT, dtype: float64\n",
      "DIABETES \n",
      " 0.0    0.880903\n",
      "1.0    0.119097\n",
      "Name: DIABETES, dtype: float64\n",
      "COPD \n",
      " 0.0    0.985699\n",
      "1.0    0.014301\n",
      "Name: COPD, dtype: float64\n",
      "ASTHMA \n",
      " 0.0    0.969851\n",
      "1.0    0.030149\n",
      "Name: ASTHMA, dtype: float64\n",
      "INMSUPR \n",
      " 0.0    0.98656\n",
      "1.0    0.01344\n",
      "Name: INMSUPR, dtype: float64\n",
      "HIPERTENSION \n",
      " 0.0    0.844846\n",
      "1.0    0.155154\n",
      "Name: HIPERTENSION, dtype: float64\n",
      "OTHER_DISEASE \n",
      " 0.0    0.973249\n",
      "1.0    0.026751\n",
      "Name: OTHER_DISEASE, dtype: float64\n",
      "CARDIOVASCULAR \n",
      " 0.0    0.980277\n",
      "1.0    0.019723\n",
      "Name: CARDIOVASCULAR, dtype: float64\n",
      "OBESITY \n",
      " 0.0    0.847613\n",
      "1.0    0.152387\n",
      "Name: OBESITY, dtype: float64\n",
      "RENAL_CHRONIC \n",
      " 0.0    0.982013\n",
      "1.0    0.017987\n",
      "Name: RENAL_CHRONIC, dtype: float64\n",
      "TOBACCO \n",
      " 0.0    0.919502\n",
      "1.0    0.080498\n",
      "Name: TOBACCO, dtype: float64\n"
     ]
    }
   ],
   "source": [
    "for i in df.columns:\n",
    "    print(i,'\\n', df[i].value_counts(normalize=True))"
   ]
  },
  {
   "cell_type": "markdown",
   "id": "499fc4ac",
   "metadata": {},
   "source": [
    "Changing to zero and 1 for the target:"
   ]
  },
  {
   "cell_type": "code",
   "execution_count": 39,
   "id": "676ca605",
   "metadata": {},
   "outputs": [
    {
     "data": {
      "text/plain": [
       "0          0\n",
       "1          0\n",
       "2          1\n",
       "3          0\n",
       "4          0\n",
       "          ..\n",
       "1048570    0\n",
       "1048571    1\n",
       "1048572    0\n",
       "1048573    0\n",
       "1048574    0\n",
       "Name: PATIENT_TYPE, Length: 1041013, dtype: int64"
      ]
     },
     "execution_count": 39,
     "metadata": {},
     "output_type": "execute_result"
    }
   ],
   "source": [
    "y=y.replace(1,0)\n",
    "y=y.replace(2, 1)\n",
    "y"
   ]
  },
  {
   "cell_type": "code",
   "execution_count": 40,
   "id": "8709dfbd",
   "metadata": {},
   "outputs": [
    {
     "data": {
      "text/plain": [
       "0    844063\n",
       "1    196950\n",
       "Name: PATIENT_TYPE, dtype: int64"
      ]
     },
     "execution_count": 40,
     "metadata": {},
     "output_type": "execute_result"
    }
   ],
   "source": [
    "y.value_counts()"
   ]
  },
  {
   "cell_type": "code",
   "execution_count": 41,
   "id": "08cfb22a",
   "metadata": {},
   "outputs": [],
   "source": [
    "X=pd.concat([df,age], axis=1)"
   ]
  },
  {
   "cell_type": "code",
   "execution_count": 42,
   "id": "d2f1001d",
   "metadata": {},
   "outputs": [
    {
     "data": {
      "text/html": [
       "<div>\n",
       "<style scoped>\n",
       "    .dataframe tbody tr th:only-of-type {\n",
       "        vertical-align: middle;\n",
       "    }\n",
       "\n",
       "    .dataframe tbody tr th {\n",
       "        vertical-align: top;\n",
       "    }\n",
       "\n",
       "    .dataframe thead th {\n",
       "        text-align: right;\n",
       "    }\n",
       "</style>\n",
       "<table border=\"1\" class=\"dataframe\">\n",
       "  <thead>\n",
       "    <tr style=\"text-align: right;\">\n",
       "      <th></th>\n",
       "      <th>SEX</th>\n",
       "      <th>PNEUMONIA</th>\n",
       "      <th>PREGNANT</th>\n",
       "      <th>DIABETES</th>\n",
       "      <th>COPD</th>\n",
       "      <th>ASTHMA</th>\n",
       "      <th>INMSUPR</th>\n",
       "      <th>HIPERTENSION</th>\n",
       "      <th>OTHER_DISEASE</th>\n",
       "      <th>CARDIOVASCULAR</th>\n",
       "      <th>OBESITY</th>\n",
       "      <th>RENAL_CHRONIC</th>\n",
       "      <th>TOBACCO</th>\n",
       "      <th>AGE</th>\n",
       "    </tr>\n",
       "  </thead>\n",
       "  <tbody>\n",
       "    <tr>\n",
       "      <th>0</th>\n",
       "      <td>1</td>\n",
       "      <td>1.0</td>\n",
       "      <td>0.0</td>\n",
       "      <td>0.0</td>\n",
       "      <td>0.0</td>\n",
       "      <td>0.0</td>\n",
       "      <td>0.0</td>\n",
       "      <td>1.0</td>\n",
       "      <td>0.0</td>\n",
       "      <td>0.0</td>\n",
       "      <td>0.0</td>\n",
       "      <td>0.0</td>\n",
       "      <td>0.0</td>\n",
       "      <td>65</td>\n",
       "    </tr>\n",
       "    <tr>\n",
       "      <th>1</th>\n",
       "      <td>0</td>\n",
       "      <td>1.0</td>\n",
       "      <td>0.0</td>\n",
       "      <td>0.0</td>\n",
       "      <td>0.0</td>\n",
       "      <td>0.0</td>\n",
       "      <td>0.0</td>\n",
       "      <td>1.0</td>\n",
       "      <td>0.0</td>\n",
       "      <td>0.0</td>\n",
       "      <td>1.0</td>\n",
       "      <td>1.0</td>\n",
       "      <td>0.0</td>\n",
       "      <td>72</td>\n",
       "    </tr>\n",
       "    <tr>\n",
       "      <th>2</th>\n",
       "      <td>0</td>\n",
       "      <td>0.0</td>\n",
       "      <td>0.0</td>\n",
       "      <td>1.0</td>\n",
       "      <td>0.0</td>\n",
       "      <td>0.0</td>\n",
       "      <td>0.0</td>\n",
       "      <td>0.0</td>\n",
       "      <td>0.0</td>\n",
       "      <td>0.0</td>\n",
       "      <td>0.0</td>\n",
       "      <td>0.0</td>\n",
       "      <td>0.0</td>\n",
       "      <td>55</td>\n",
       "    </tr>\n",
       "    <tr>\n",
       "      <th>3</th>\n",
       "      <td>1</td>\n",
       "      <td>0.0</td>\n",
       "      <td>0.0</td>\n",
       "      <td>0.0</td>\n",
       "      <td>0.0</td>\n",
       "      <td>0.0</td>\n",
       "      <td>0.0</td>\n",
       "      <td>0.0</td>\n",
       "      <td>0.0</td>\n",
       "      <td>0.0</td>\n",
       "      <td>0.0</td>\n",
       "      <td>0.0</td>\n",
       "      <td>0.0</td>\n",
       "      <td>53</td>\n",
       "    </tr>\n",
       "    <tr>\n",
       "      <th>4</th>\n",
       "      <td>0</td>\n",
       "      <td>0.0</td>\n",
       "      <td>0.0</td>\n",
       "      <td>1.0</td>\n",
       "      <td>0.0</td>\n",
       "      <td>0.0</td>\n",
       "      <td>0.0</td>\n",
       "      <td>1.0</td>\n",
       "      <td>0.0</td>\n",
       "      <td>0.0</td>\n",
       "      <td>0.0</td>\n",
       "      <td>0.0</td>\n",
       "      <td>0.0</td>\n",
       "      <td>68</td>\n",
       "    </tr>\n",
       "    <tr>\n",
       "      <th>...</th>\n",
       "      <td>...</td>\n",
       "      <td>...</td>\n",
       "      <td>...</td>\n",
       "      <td>...</td>\n",
       "      <td>...</td>\n",
       "      <td>...</td>\n",
       "      <td>...</td>\n",
       "      <td>...</td>\n",
       "      <td>...</td>\n",
       "      <td>...</td>\n",
       "      <td>...</td>\n",
       "      <td>...</td>\n",
       "      <td>...</td>\n",
       "      <td>...</td>\n",
       "    </tr>\n",
       "    <tr>\n",
       "      <th>1048570</th>\n",
       "      <td>0</td>\n",
       "      <td>0.0</td>\n",
       "      <td>0.0</td>\n",
       "      <td>0.0</td>\n",
       "      <td>0.0</td>\n",
       "      <td>0.0</td>\n",
       "      <td>0.0</td>\n",
       "      <td>0.0</td>\n",
       "      <td>0.0</td>\n",
       "      <td>0.0</td>\n",
       "      <td>0.0</td>\n",
       "      <td>0.0</td>\n",
       "      <td>0.0</td>\n",
       "      <td>40</td>\n",
       "    </tr>\n",
       "    <tr>\n",
       "      <th>1048571</th>\n",
       "      <td>0</td>\n",
       "      <td>0.0</td>\n",
       "      <td>0.0</td>\n",
       "      <td>0.0</td>\n",
       "      <td>0.0</td>\n",
       "      <td>0.0</td>\n",
       "      <td>0.0</td>\n",
       "      <td>1.0</td>\n",
       "      <td>0.0</td>\n",
       "      <td>0.0</td>\n",
       "      <td>0.0</td>\n",
       "      <td>0.0</td>\n",
       "      <td>0.0</td>\n",
       "      <td>51</td>\n",
       "    </tr>\n",
       "    <tr>\n",
       "      <th>1048572</th>\n",
       "      <td>0</td>\n",
       "      <td>0.0</td>\n",
       "      <td>0.0</td>\n",
       "      <td>0.0</td>\n",
       "      <td>0.0</td>\n",
       "      <td>0.0</td>\n",
       "      <td>0.0</td>\n",
       "      <td>0.0</td>\n",
       "      <td>0.0</td>\n",
       "      <td>0.0</td>\n",
       "      <td>0.0</td>\n",
       "      <td>0.0</td>\n",
       "      <td>0.0</td>\n",
       "      <td>55</td>\n",
       "    </tr>\n",
       "    <tr>\n",
       "      <th>1048573</th>\n",
       "      <td>0</td>\n",
       "      <td>0.0</td>\n",
       "      <td>0.0</td>\n",
       "      <td>0.0</td>\n",
       "      <td>0.0</td>\n",
       "      <td>0.0</td>\n",
       "      <td>0.0</td>\n",
       "      <td>0.0</td>\n",
       "      <td>0.0</td>\n",
       "      <td>0.0</td>\n",
       "      <td>0.0</td>\n",
       "      <td>0.0</td>\n",
       "      <td>0.0</td>\n",
       "      <td>28</td>\n",
       "    </tr>\n",
       "    <tr>\n",
       "      <th>1048574</th>\n",
       "      <td>0</td>\n",
       "      <td>0.0</td>\n",
       "      <td>0.0</td>\n",
       "      <td>0.0</td>\n",
       "      <td>0.0</td>\n",
       "      <td>0.0</td>\n",
       "      <td>0.0</td>\n",
       "      <td>0.0</td>\n",
       "      <td>0.0</td>\n",
       "      <td>0.0</td>\n",
       "      <td>0.0</td>\n",
       "      <td>0.0</td>\n",
       "      <td>0.0</td>\n",
       "      <td>52</td>\n",
       "    </tr>\n",
       "  </tbody>\n",
       "</table>\n",
       "<p>1041013 rows × 14 columns</p>\n",
       "</div>"
      ],
      "text/plain": [
       "         SEX  PNEUMONIA  PREGNANT  DIABETES  COPD  ASTHMA  INMSUPR  \\\n",
       "0          1        1.0       0.0       0.0   0.0     0.0      0.0   \n",
       "1          0        1.0       0.0       0.0   0.0     0.0      0.0   \n",
       "2          0        0.0       0.0       1.0   0.0     0.0      0.0   \n",
       "3          1        0.0       0.0       0.0   0.0     0.0      0.0   \n",
       "4          0        0.0       0.0       1.0   0.0     0.0      0.0   \n",
       "...      ...        ...       ...       ...   ...     ...      ...   \n",
       "1048570    0        0.0       0.0       0.0   0.0     0.0      0.0   \n",
       "1048571    0        0.0       0.0       0.0   0.0     0.0      0.0   \n",
       "1048572    0        0.0       0.0       0.0   0.0     0.0      0.0   \n",
       "1048573    0        0.0       0.0       0.0   0.0     0.0      0.0   \n",
       "1048574    0        0.0       0.0       0.0   0.0     0.0      0.0   \n",
       "\n",
       "         HIPERTENSION  OTHER_DISEASE  CARDIOVASCULAR  OBESITY  RENAL_CHRONIC  \\\n",
       "0                 1.0            0.0             0.0      0.0            0.0   \n",
       "1                 1.0            0.0             0.0      1.0            1.0   \n",
       "2                 0.0            0.0             0.0      0.0            0.0   \n",
       "3                 0.0            0.0             0.0      0.0            0.0   \n",
       "4                 1.0            0.0             0.0      0.0            0.0   \n",
       "...               ...            ...             ...      ...            ...   \n",
       "1048570           0.0            0.0             0.0      0.0            0.0   \n",
       "1048571           1.0            0.0             0.0      0.0            0.0   \n",
       "1048572           0.0            0.0             0.0      0.0            0.0   \n",
       "1048573           0.0            0.0             0.0      0.0            0.0   \n",
       "1048574           0.0            0.0             0.0      0.0            0.0   \n",
       "\n",
       "         TOBACCO  AGE  \n",
       "0            0.0   65  \n",
       "1            0.0   72  \n",
       "2            0.0   55  \n",
       "3            0.0   53  \n",
       "4            0.0   68  \n",
       "...          ...  ...  \n",
       "1048570      0.0   40  \n",
       "1048571      0.0   51  \n",
       "1048572      0.0   55  \n",
       "1048573      0.0   28  \n",
       "1048574      0.0   52  \n",
       "\n",
       "[1041013 rows x 14 columns]"
      ]
     },
     "execution_count": 42,
     "metadata": {},
     "output_type": "execute_result"
    }
   ],
   "source": [
    "X"
   ]
  },
  {
   "cell_type": "markdown",
   "id": "c49ddc61",
   "metadata": {},
   "source": [
    "At this point I took care of the missing values and I don't need to do one hot encoding.\n",
    "<br>I have my X and y, I can divide in train and test and start trying some models.\n",
    "<br>But if I want to use KNN first (and I do) I have to scale first, specifically age needs to be scaled."
   ]
  },
  {
   "cell_type": "code",
   "execution_count": 43,
   "id": "44ae5b7b",
   "metadata": {},
   "outputs": [
    {
     "data": {
      "text/plain": [
       "'Another thing I could try later to improve the model is instead of scaling the age to divide it into bins. Like 10 years for each bin and one hot encode that.'"
      ]
     },
     "execution_count": 43,
     "metadata": {},
     "output_type": "execute_result"
    }
   ],
   "source": [
    "\"\"\"Another thing I could try later to improve the model is instead of scaling the age to divide it into bins. Like 10 years for each bin and one hot encode that.\"\"\""
   ]
  },
  {
   "cell_type": "code",
   "execution_count": 44,
   "id": "0e02eeb7",
   "metadata": {},
   "outputs": [],
   "source": [
    "# Split the data\n",
    "X_train, X_test, y_train, y_test = train_test_split(X,y,random_state=42)"
   ]
  },
  {
   "cell_type": "code",
   "execution_count": 45,
   "id": "43639298",
   "metadata": {},
   "outputs": [
    {
     "data": {
      "text/html": [
       "<div>\n",
       "<style scoped>\n",
       "    .dataframe tbody tr th:only-of-type {\n",
       "        vertical-align: middle;\n",
       "    }\n",
       "\n",
       "    .dataframe tbody tr th {\n",
       "        vertical-align: top;\n",
       "    }\n",
       "\n",
       "    .dataframe thead th {\n",
       "        text-align: right;\n",
       "    }\n",
       "</style>\n",
       "<table border=\"1\" class=\"dataframe\">\n",
       "  <thead>\n",
       "    <tr style=\"text-align: right;\">\n",
       "      <th></th>\n",
       "      <th>SEX</th>\n",
       "      <th>PNEUMONIA</th>\n",
       "      <th>PREGNANT</th>\n",
       "      <th>DIABETES</th>\n",
       "      <th>COPD</th>\n",
       "      <th>ASTHMA</th>\n",
       "      <th>INMSUPR</th>\n",
       "      <th>HIPERTENSION</th>\n",
       "      <th>OTHER_DISEASE</th>\n",
       "      <th>CARDIOVASCULAR</th>\n",
       "      <th>OBESITY</th>\n",
       "      <th>RENAL_CHRONIC</th>\n",
       "      <th>TOBACCO</th>\n",
       "      <th>AGE</th>\n",
       "    </tr>\n",
       "  </thead>\n",
       "  <tbody>\n",
       "    <tr>\n",
       "      <th>0</th>\n",
       "      <td>0.0</td>\n",
       "      <td>0.0</td>\n",
       "      <td>0.0</td>\n",
       "      <td>0.0</td>\n",
       "      <td>0.0</td>\n",
       "      <td>0.0</td>\n",
       "      <td>0.0</td>\n",
       "      <td>0.0</td>\n",
       "      <td>0.0</td>\n",
       "      <td>0.0</td>\n",
       "      <td>0.0</td>\n",
       "      <td>0.0</td>\n",
       "      <td>0.0</td>\n",
       "      <td>0.041667</td>\n",
       "    </tr>\n",
       "    <tr>\n",
       "      <th>1</th>\n",
       "      <td>1.0</td>\n",
       "      <td>0.0</td>\n",
       "      <td>0.0</td>\n",
       "      <td>0.0</td>\n",
       "      <td>0.0</td>\n",
       "      <td>0.0</td>\n",
       "      <td>0.0</td>\n",
       "      <td>0.0</td>\n",
       "      <td>0.0</td>\n",
       "      <td>0.0</td>\n",
       "      <td>0.0</td>\n",
       "      <td>0.0</td>\n",
       "      <td>0.0</td>\n",
       "      <td>0.241667</td>\n",
       "    </tr>\n",
       "    <tr>\n",
       "      <th>2</th>\n",
       "      <td>0.0</td>\n",
       "      <td>0.0</td>\n",
       "      <td>0.0</td>\n",
       "      <td>1.0</td>\n",
       "      <td>0.0</td>\n",
       "      <td>0.0</td>\n",
       "      <td>0.0</td>\n",
       "      <td>0.0</td>\n",
       "      <td>0.0</td>\n",
       "      <td>0.0</td>\n",
       "      <td>0.0</td>\n",
       "      <td>0.0</td>\n",
       "      <td>0.0</td>\n",
       "      <td>0.500000</td>\n",
       "    </tr>\n",
       "    <tr>\n",
       "      <th>3</th>\n",
       "      <td>0.0</td>\n",
       "      <td>0.0</td>\n",
       "      <td>0.0</td>\n",
       "      <td>0.0</td>\n",
       "      <td>0.0</td>\n",
       "      <td>0.0</td>\n",
       "      <td>0.0</td>\n",
       "      <td>0.0</td>\n",
       "      <td>0.0</td>\n",
       "      <td>0.0</td>\n",
       "      <td>0.0</td>\n",
       "      <td>0.0</td>\n",
       "      <td>0.0</td>\n",
       "      <td>0.258333</td>\n",
       "    </tr>\n",
       "    <tr>\n",
       "      <th>4</th>\n",
       "      <td>0.0</td>\n",
       "      <td>0.0</td>\n",
       "      <td>0.0</td>\n",
       "      <td>1.0</td>\n",
       "      <td>0.0</td>\n",
       "      <td>0.0</td>\n",
       "      <td>0.0</td>\n",
       "      <td>0.0</td>\n",
       "      <td>0.0</td>\n",
       "      <td>0.0</td>\n",
       "      <td>1.0</td>\n",
       "      <td>0.0</td>\n",
       "      <td>0.0</td>\n",
       "      <td>0.441667</td>\n",
       "    </tr>\n",
       "  </tbody>\n",
       "</table>\n",
       "</div>"
      ],
      "text/plain": [
       "   SEX  PNEUMONIA  PREGNANT  DIABETES  COPD  ASTHMA  INMSUPR  HIPERTENSION  \\\n",
       "0  0.0        0.0       0.0       0.0   0.0     0.0      0.0           0.0   \n",
       "1  1.0        0.0       0.0       0.0   0.0     0.0      0.0           0.0   \n",
       "2  0.0        0.0       0.0       1.0   0.0     0.0      0.0           0.0   \n",
       "3  0.0        0.0       0.0       0.0   0.0     0.0      0.0           0.0   \n",
       "4  0.0        0.0       0.0       1.0   0.0     0.0      0.0           0.0   \n",
       "\n",
       "   OTHER_DISEASE  CARDIOVASCULAR  OBESITY  RENAL_CHRONIC  TOBACCO       AGE  \n",
       "0            0.0             0.0      0.0            0.0      0.0  0.041667  \n",
       "1            0.0             0.0      0.0            0.0      0.0  0.241667  \n",
       "2            0.0             0.0      0.0            0.0      0.0  0.500000  \n",
       "3            0.0             0.0      0.0            0.0      0.0  0.258333  \n",
       "4            0.0             0.0      1.0            0.0      0.0  0.441667  "
      ]
     },
     "execution_count": 45,
     "metadata": {},
     "output_type": "execute_result"
    }
   ],
   "source": [
    "# Instantiate StandardScaler\n",
    "scaler = MinMaxScaler()\n",
    "# Transform the training and test sets\n",
    "scaled_data_train = scaler.fit_transform(X_train)\n",
    "X_test = scaler.transform(X_test)\n",
    "\n",
    "# Convert into a DataFrame\n",
    "X_train = pd.DataFrame(scaled_data_train, columns=X.columns)\n",
    "X_train.head()"
   ]
  },
  {
   "cell_type": "code",
   "execution_count": 46,
   "id": "e8f5f940",
   "metadata": {},
   "outputs": [],
   "source": [
    "#Create the tree\n",
    "clf = DecisionTreeClassifier(criterion='entropy')"
   ]
  },
  {
   "cell_type": "code",
   "execution_count": 47,
   "id": "affa9c57",
   "metadata": {},
   "outputs": [
    {
     "data": {
      "text/plain": [
       "DecisionTreeClassifier(criterion='entropy')"
      ]
     },
     "execution_count": 47,
     "metadata": {},
     "output_type": "execute_result"
    }
   ],
   "source": [
    "# fit the tree\n",
    "clf.fit(X_train, y_train)"
   ]
  },
  {
   "cell_type": "code",
   "execution_count": 48,
   "id": "9d78770f",
   "metadata": {},
   "outputs": [
    {
     "data": {
      "text/plain": [
       "\"# plot the tree\\nfig, axes = plt.subplots()#nrows = 1,ncols = 1, figsize = (3,3), dpi=300)\\ntree.plot_tree(clf,\\n               feature_names = X_train.columns, \\n               class_names=np.unique(y).astype('str'),\\n               filled = True)\\nplt.show()\""
      ]
     },
     "execution_count": 48,
     "metadata": {},
     "output_type": "execute_result"
    }
   ],
   "source": [
    "\"\"\"# plot the tree\n",
    "fig, axes = plt.subplots()#nrows = 1,ncols = 1, figsize = (3,3), dpi=300)\n",
    "tree.plot_tree(clf,\n",
    "               feature_names = X_train.columns, \n",
    "               class_names=np.unique(y).astype('str'),\n",
    "               filled = True)\n",
    "plt.show()\"\"\""
   ]
  },
  {
   "cell_type": "code",
   "execution_count": 49,
   "id": "e383cc7f",
   "metadata": {},
   "outputs": [],
   "source": [
    "def print_metrics(labels, preds):\n",
    "    print(\"Precision Score: {}\".format(precision_score(labels, preds)))\n",
    "    print(\"Recall Score: {}\".format(recall_score(labels, preds)))\n",
    "    print(\"Accuracy Score: {}\".format(accuracy_score(labels, preds)))\n",
    "    print(\"F1 Score: {}\".format(f1_score(labels, preds)))"
   ]
  },
  {
   "cell_type": "code",
   "execution_count": 50,
   "id": "b6f8f880",
   "metadata": {},
   "outputs": [
    {
     "name": "stdout",
     "output_type": "stream",
     "text": [
      "For the train with decision tree:\n",
      "\n",
      "Precision Score: 0.8406343933636027\n",
      "Recall Score: 0.6305298649947867\n",
      "Accuracy Score: 0.9074938617422278\n",
      "F1 Score: 0.7205790754446169\n"
     ]
    }
   ],
   "source": [
    "# Evaluate the tree\n",
    "print(\"For the train with decision tree:\\n\")\n",
    "y_preds_train = clf.predict(X_train)\n",
    "print_metrics(y_train, y_preds_train)"
   ]
  },
  {
   "cell_type": "code",
   "execution_count": 51,
   "id": "38ef5a3a",
   "metadata": {},
   "outputs": [
    {
     "data": {
      "image/png": "[encoded data removed]",
      "text/plain": [
       "<Figure size 432x360 with 2 Axes>"
      ]
     },
     "metadata": {
      "needs_background": "light"
     },
     "output_type": "display_data"
    }
   ],
   "source": [
    "cm = confusion_matrix(y_train, y_preds_train)\n",
    "# Normalize\n",
    "cmn = cm.astype('float') / cm.sum(axis=1)[:, np.newaxis]\n",
    "fig, ax = plt.subplots(figsize=(6,5))\n",
    "sns.heatmap(cmn, annot=True, fmt='.2f', cmap=\"OrRd\")\n",
    "plt.ylabel('Actual')\n",
    "plt.xlabel('Predicted')\n",
    "plt.show(block=False)"
   ]
  },
  {
   "cell_type": "code",
   "execution_count": 52,
   "id": "a4ce9c6c",
   "metadata": {},
   "outputs": [],
   "source": [
    "def plot_feature_importances(model):\n",
    "    n_features = X_train.shape[1]\n",
    "    plt.figure(figsize=(8,8))\n",
    "    #not sure why when I add np.sort in front of model feature it changes\n",
    "    plt.barh(range(n_features), (model.feature_importances_), align='center') \n",
    "    plt.yticks(np.arange(n_features), X_train.columns.values) \n",
    "    plt.xlabel('Feature importance')\n",
    "    plt.ylabel('Feature')"
   ]
  },
  {
   "cell_type": "code",
   "execution_count": 53,
   "id": "dc2b3bde",
   "metadata": {},
   "outputs": [
    {
     "data": {
      "image/png": "[encoded data removed]",
      "text/plain": [
       "<Figure size 576x576 with 1 Axes>"
      ]
     },
     "metadata": {
      "needs_background": "light"
     },
     "output_type": "display_data"
    }
   ],
   "source": [
    "plot_feature_importances(clf)"
   ]
  },
  {
   "cell_type": "code",
   "execution_count": 54,
   "id": "7a4ca607",
   "metadata": {},
   "outputs": [],
   "source": [
    "def model_results(model):\n",
    "    with plt.style.context('seaborn-talk'):\n",
    "        y_preds_train=model.predict(X_train)\n",
    "        cm = confusion_matrix(y_train, y_preds_train)\n",
    "        # Normalize\n",
    "        cmn = cm.astype('float') / cm.sum(axis=1)[:, np.newaxis]\n",
    "        fig, ax = plt.subplots(figsize=(6,5))\n",
    "        sns.heatmap(cmn, annot=True, fmt='.2f', cmap=\"OrRd\")\n",
    "        plt.ylabel('Actual')\n",
    "        plt.xlabel('Predicted')\n",
    "        plt.show(block=False)\n",
    "#        fig, (ax1, ax2) = plt.subplots(ncols=2, figsize=(15, 5))\n",
    "        # Create Confusion Matrix for the test set\n",
    "#        plot_confusion_matrix(model, X_train, y_train, normalize = 'true', ax=ax1,  cmap = 'Greens')\n",
    "#        ax1.grid(False)\n",
    "#        ax1.set_title(\"Train Confusion Matrix\")\n",
    "        # Create Roc curve for the test and train for TP and FP rates\n",
    "        plot_roc_curve(model, X_train, y_train, ax=ax2, color='green', name ='Train ROC curve')\n",
    "#        plot_roc_curve(model, X_test, y_test, ax=ax2, color = ‘blue’, name ='Test ROC curve' )\n",
    "        ax2.plot([0, 1], [0, 1], color='black', lw=2, linestyle='-')\n",
    "        ax2.set_xlabel('False Positive Rate')\n",
    "        ax2.set_ylabel('True Positive Rate')\n",
    "        ax2.set_title('Receiver Operating Characteristic (ROC) Curve')\n",
    "        plt.show()\n",
    "        #Create a classification report\n",
    "        y_pred = model.predict(X_train)\n",
    "#        print(classification_report(y_train, y_pred))\n",
    "        ######***NEW LINE*** Print CV ROC_AUC score, and roc_auc score for test/train\n",
    "#Print CV ROC_AUC score\n",
    "        plot_feature_importances(model)\n",
    "#        roc_score_train_cv = cross_val_score(estimator=model, X=X_train,  y=y_train,\n",
    "#                                        cv=StratifiedKFold(shuffle=True), scoring='roc_auc').mean()\n",
    "#        print(f\"Mean Cross Validated Roc_Auc Score: {roc_score_train_cv :.0%}\")\n",
    "        #print roc_auc for test and train\n",
    "        roc_score_train = roc_auc_score(y_train, model.predict_proba(X_train)[:, 1])\n",
    "        print(f\"Train Roc_Auc Score: {roc_score_train :.0%}\")\n",
    "#        roc_score_test = roc_auc_score(y_test, model.predict_proba(X_test)[:, 1])\n",
    "#        print(f”Test Roc_Auc Score: {roc_score_test :.0%}“)\n",
    "        accuracy_train = model.score(X_train, y_train)\n",
    "#        accuracy_test = model.score(X_test, y_test)\n",
    "        print(f\"Train Accuracy Score: {accuracy_train :.0%}\")\n",
    "#        print(f”Test Accuracy Score: {accuracy_test :.0%}“)"
   ]
  },
  {
   "cell_type": "code",
   "execution_count": 55,
   "id": "b69a721a",
   "metadata": {},
   "outputs": [
    {
     "data": {
      "image/png": "[encoded data removed]",
      "text/plain": [
       "<Figure size 1080x360 with 3 Axes>"
      ]
     },
     "metadata": {
      "needs_background": "light"
     },
     "output_type": "display_data"
    },
    {
     "name": "stdout",
     "output_type": "stream",
     "text": [
      "              precision    recall  f1-score   support\n",
      "\n",
      "           0       0.92      0.97      0.94    633061\n",
      "           1       0.84      0.63      0.72    147698\n",
      "\n",
      "    accuracy                           0.91    780759\n",
      "   macro avg       0.88      0.80      0.83    780759\n",
      "weighted avg       0.90      0.91      0.90    780759\n",
      "\n",
      "Mean Cross Validated Roc_Auc Score: 86%\n",
      "Train Roc_Auc Score: 90%\n",
      "Train Accuracy Score: 91%\n"
     ]
    }
   ],
   "source": [
    "model_results(clf)"
   ]
  },
  {
   "cell_type": "markdown",
   "id": "9385af22",
   "metadata": {},
   "source": [
    "### Feature importance (maybe better to do it later with most accurate model)"
   ]
  },
  {
   "cell_type": "code",
   "execution_count": 56,
   "id": "6eb8d47a",
   "metadata": {},
   "outputs": [
    {
     "name": "stdout",
     "output_type": "stream",
     "text": [
      "0.011277540055770505 SEX\n",
      "0.7087504737831678 PNEUMONIA\n",
      "0.005957323213471433 PREGNANT\n",
      "0.02304936514482095 DIABETES\n",
      "0.005390441329660921 COPD\n",
      "0.005757469709336477 ASTHMA\n",
      "0.010866778193424811 INMSUPR\n",
      "0.008051485763844467 HIPERTENSION\n",
      "0.009591882855266702 OTHER_DISEASE\n",
      "0.006268504433092827 CARDIOVASCULAR\n",
      "0.009219307484680155 OBESITY\n",
      "0.01196366162602208 RENAL_CHRONIC\n",
      "0.0073323667289133835 TOBACCO\n"
     ]
    }
   ],
   "source": [
    "# Feature Importance\n",
    "feature_used = df.columns\n",
    "for fi, feature in zip(clf.feature_importances_, feature_used):\n",
    "    print(fi, feature)"
   ]
  },
  {
   "cell_type": "code",
   "execution_count": 57,
   "id": "81fd8179",
   "metadata": {},
   "outputs": [
    {
     "name": "stdout",
     "output_type": "stream",
     "text": [
      "Decision Tree has 38289 nodes with a maximum depth of 32.\n",
      "Model Accuracy for train data: 0.9074938617422278\n"
     ]
    }
   ],
   "source": [
    "print(f'Decision Tree has {clf.tree_.node_count} nodes with a maximum depth of {clf.tree_.max_depth}.')\n",
    "\n",
    "print(f'Model Accuracy for train data: {clf.score(X_train, y_train)}')"
   ]
  },
  {
   "cell_type": "markdown",
   "id": "f95a080f",
   "metadata": {},
   "source": [
    "This is not so bad as a result. But given our situation I would actually like to have a higher recall than accuracy. With a high recall it means I am getting more false positives because I am decreasing the thershold, but that is what I want most times in 'medical situations', because I would rather have a false positive than a false negative."
   ]
  },
  {
   "cell_type": "markdown",
   "id": "203a0e1b",
   "metadata": {},
   "source": [
    "### Class Imbalance\n",
    "<br> One thing we have not considered yet is the fact that the classes of our target (patients sent home vs. patients hospitalized) are not balanced. They are not present equally in our dataset but around 80% of the patients were sent home and only 20% were hospitalized, as we saw from the split of the data for that column.\n",
    "<br> This means that a very basic model that simply predicts all the patients to be sent home would have an 80% accuracy, that's the baseline.\n",
    "<br> We have a way to counteract this problem by balancing the classes with a decision tree and that is what we are going to do."
   ]
  },
  {
   "cell_type": "code",
   "execution_count": 58,
   "id": "1d8782b2",
   "metadata": {},
   "outputs": [],
   "source": [
    "clf_bal = DecisionTreeClassifier(criterion='entropy', class_weight='balanced')"
   ]
  },
  {
   "cell_type": "code",
   "execution_count": 59,
   "id": "4343b693",
   "metadata": {},
   "outputs": [
    {
     "data": {
      "text/plain": [
       "DecisionTreeClassifier(class_weight='balanced', criterion='entropy')"
      ]
     },
     "execution_count": 59,
     "metadata": {},
     "output_type": "execute_result"
    }
   ],
   "source": [
    "clf_bal.fit(X_train, y_train)"
   ]
  },
  {
   "cell_type": "code",
   "execution_count": 60,
   "id": "9e88c26b",
   "metadata": {},
   "outputs": [
    {
     "name": "stdout",
     "output_type": "stream",
     "text": [
      "Results with Decision Tree considering class imbalance:\n",
      "\n",
      "Precision Score: 0.6338527816485036\n",
      "Recall Score: 0.773023331392436\n",
      "Accuracy Score: 0.8725893649640927\n",
      "F1 Score: 0.6965545641729581\n"
     ]
    }
   ],
   "source": [
    "# Evaluate the tree\n",
    "print(\"Results with Decision Tree considering class imbalance:\\n\")\n",
    "ypreds_train_bal = clf_bal.predict(X_train)\n",
    "print_metrics(y_train, ypreds_train_bal)"
   ]
  },
  {
   "cell_type": "code",
   "execution_count": 61,
   "id": "37193e44",
   "metadata": {},
   "outputs": [
    {
     "data": {
      "image/png": "[encoded data removed]",
      "text/plain": [
       "<Figure size 432x360 with 2 Axes>"
      ]
     },
     "metadata": {
      "needs_background": "light"
     },
     "output_type": "display_data"
    }
   ],
   "source": [
    "cm = confusion_matrix(y_train, ypreds_train_bal)\n",
    "# Normalize\n",
    "cmn = cm.astype('float') / cm.sum(axis=1)[:, np.newaxis]\n",
    "fig, ax = plt.subplots(figsize=(6,5))\n",
    "sns.heatmap(cmn, annot=True, fmt='.2f', cmap='viridis_r')\n",
    "plt.ylabel('Actual')\n",
    "plt.xlabel('Predicted')\n",
    "plt.show(block=False)"
   ]
  },
  {
   "cell_type": "code",
   "execution_count": 62,
   "id": "c153d8dc",
   "metadata": {},
   "outputs": [
    {
     "data": {
      "image/png": "[encoded data removed]",
      "text/plain": [
       "<Figure size 576x576 with 1 Axes>"
      ]
     },
     "metadata": {
      "needs_background": "light"
     },
     "output_type": "display_data"
    }
   ],
   "source": [
    "plot_feature_importances(clf_bal)"
   ]
  },
  {
   "cell_type": "markdown",
   "id": "26c208d0",
   "metadata": {},
   "source": [
    "As we can see from the confusion matrix we started to have more False Positives and the predictions of the majority class (0, people returned home) has decreased. This reflects also in the accuracy score and F1 score.\n",
    "<br> But on the bright side the predictions for the minority class (1, hospitalized) have improved, with less false negatives and a recall that went from 0.63 to 0.77.\n",
    "<br> This is a matter of choice for the stakeholder, which model to use. The Decision tree without class imbalance leads to an overall more precise model: less falses overall, negative and positive, more patients categorized correctly.\n",
    "<br> On the other hand the model that accounts for class imbalance makes more mistakes, has lower accurcay precision and F1 score, but it has overall less false negatives.\n",
    "<br>Given the specific problem we would recommend staying on the safer side, trying to minimize the false negatives then the false positives, because it would be less of a loss to be prepared for one extra patient that doesn't ultimately need to be hospitalized, rather then not being ready with the equippment for one that actually needs to be."
   ]
  },
  {
   "cell_type": "code",
   "execution_count": 63,
   "id": "259a0a86",
   "metadata": {},
   "outputs": [
    {
     "data": {
      "image/png": "[encoded data removed]",
      "text/plain": [
       "<Figure size 1080x360 with 3 Axes>"
      ]
     },
     "metadata": {
      "needs_background": "light"
     },
     "output_type": "display_data"
    },
    {
     "name": "stdout",
     "output_type": "stream",
     "text": [
      "              precision    recall  f1-score   support\n",
      "\n",
      "           0       0.94      0.90      0.92    633061\n",
      "           1       0.63      0.77      0.70    147698\n",
      "\n",
      "    accuracy                           0.87    780759\n",
      "   macro avg       0.79      0.83      0.81    780759\n",
      "weighted avg       0.89      0.87      0.88    780759\n",
      "\n",
      "Mean Cross Validated Roc_Auc Score: 86%\n",
      "Train Roc_Auc Score: 90%\n",
      "Train Accuracy Score: 87%\n"
     ]
    }
   ],
   "source": [
    "model_results(clf_bal)"
   ]
  },
  {
   "cell_type": "markdown",
   "id": "623a4a0e",
   "metadata": {},
   "source": [
    "### Logistic Regression\n",
    "<br> Another simple model that we can try is Logistic Regression. I works similarly to Linear Regression but it can make predictions on categorical data, splitting continuous intervals into beams."
   ]
  },
  {
   "cell_type": "code",
   "execution_count": 64,
   "id": "9cd6c258",
   "metadata": {},
   "outputs": [
    {
     "data": {
      "text/plain": [
       "LogisticRegression(max_iter=500)"
      ]
     },
     "execution_count": 64,
     "metadata": {},
     "output_type": "execute_result"
    }
   ],
   "source": [
    "logreg = LogisticRegression(max_iter=500)\n",
    "logreg.fit(X_train,y_train)"
   ]
  },
  {
   "cell_type": "markdown",
   "id": "891f92b0",
   "metadata": {},
   "source": [
    "Making predictions using the Train."
   ]
  },
  {
   "cell_type": "code",
   "execution_count": 65,
   "id": "b72ba116",
   "metadata": {},
   "outputs": [],
   "source": [
    "y_preds_train_log = logreg.predict(X_train)"
   ]
  },
  {
   "cell_type": "code",
   "execution_count": 66,
   "id": "d66953f6",
   "metadata": {},
   "outputs": [
    {
     "name": "stdout",
     "output_type": "stream",
     "text": [
      "Results for Logistic Regression:\n",
      "\n",
      "Precision Score: 0.8140786365951929\n",
      "Recall Score: 0.5950791479911711\n",
      "Accuracy Score: 0.8976905805760804\n",
      "F1 Score: 0.6875613600716568\n"
     ]
    }
   ],
   "source": [
    "print(\"Results for Logistic Regression:\\n\")\n",
    "\n",
    "print_metrics(y_train, y_preds_train_log)"
   ]
  },
  {
   "cell_type": "code",
   "execution_count": 67,
   "id": "c7f2ee8c",
   "metadata": {},
   "outputs": [
    {
     "data": {
      "image/png": "[encoded data removed]",
      "text/plain": [
       "<Figure size 432x360 with 2 Axes>"
      ]
     },
     "metadata": {
      "needs_background": "light"
     },
     "output_type": "display_data"
    }
   ],
   "source": [
    "cm = confusion_matrix(y_train, y_preds_train_log)\n",
    "# Normalize\n",
    "cmn = cm.astype('float') / cm.sum(axis=1)[:, np.newaxis]\n",
    "fig, ax = plt.subplots(figsize=(6,5))\n",
    "sns.heatmap(cmn, annot=True, fmt='.2f', cmap='BuPu')\n",
    "plt.ylabel('Actual')\n",
    "plt.xlabel('Predicted')\n",
    "plt.show(block=False)"
   ]
  },
  {
   "cell_type": "markdown",
   "id": "8953c9de",
   "metadata": {},
   "source": [
    "The decision tree model performed better than the Logistic Regression model for every metric. So we are going to stick to that and actually use an ensemble of trees to predict our results even more accurately. To train the model on different trees what we used is a Random Forest."
   ]
  },
  {
   "cell_type": "code",
   "execution_count": 68,
   "id": "570bd749",
   "metadata": {},
   "outputs": [
    {
     "data": {
      "image/png": "[encoded data removed]",
      "text/plain": [
       "<Figure size 1080x360 with 3 Axes>"
      ]
     },
     "metadata": {
      "needs_background": "light"
     },
     "output_type": "display_data"
    },
    {
     "name": "stdout",
     "output_type": "stream",
     "text": [
      "              precision    recall  f1-score   support\n",
      "\n",
      "           0       0.91      0.97      0.94    633061\n",
      "           1       0.81      0.60      0.69    147698\n",
      "\n",
      "    accuracy                           0.90    780759\n",
      "   macro avg       0.86      0.78      0.81    780759\n",
      "weighted avg       0.89      0.90      0.89    780759\n",
      "\n",
      "Mean Cross Validated Roc_Auc Score: 87%\n",
      "Train Roc_Auc Score: 87%\n",
      "Train Accuracy Score: 90%\n"
     ]
    }
   ],
   "source": [
    "model_results(logreg)"
   ]
  },
  {
   "cell_type": "markdown",
   "id": "ddbc26c6",
   "metadata": {},
   "source": [
    "### Random Forest"
   ]
  },
  {
   "cell_type": "code",
   "execution_count": 69,
   "id": "05cc2baf",
   "metadata": {},
   "outputs": [
    {
     "data": {
      "text/plain": [
       "RandomForestClassifier(random_state=19)"
      ]
     },
     "execution_count": 69,
     "metadata": {},
     "output_type": "execute_result"
    }
   ],
   "source": [
    "# Instantiate and fit a RandomForestClassifier\n",
    "forest = RandomForestClassifier(random_state=19)\n",
    "forest.fit(X_train, y_train)"
   ]
  },
  {
   "cell_type": "code",
   "execution_count": 70,
   "id": "f7581a46",
   "metadata": {},
   "outputs": [
    {
     "data": {
      "text/plain": [
       "0.9074925809372675"
      ]
     },
     "execution_count": 70,
     "metadata": {},
     "output_type": "execute_result"
    }
   ],
   "source": [
    "# Training accuracy score\n",
    "forest.score(X_train, y_train)"
   ]
  },
  {
   "cell_type": "code",
   "execution_count": 71,
   "id": "f3c52445",
   "metadata": {},
   "outputs": [],
   "source": [
    "ypreds_train_for=forest.predict(X_train)"
   ]
  },
  {
   "cell_type": "code",
   "execution_count": 72,
   "id": "7692e905",
   "metadata": {},
   "outputs": [
    {
     "name": "stdout",
     "output_type": "stream",
     "text": [
      "Random Forest Vanilla Results:\n",
      "Precision Score: 0.8340533267235579\n",
      "Recall Score: 0.6379097888935531\n",
      "Accuracy Score: 0.9074925809372675\n",
      "F1 Score: 0.7229131979344898\n"
     ]
    }
   ],
   "source": [
    "print(\"Random Forest Vanilla Results:\")\n",
    "print_metrics(y_train, ypreds_train_for)"
   ]
  },
  {
   "cell_type": "code",
   "execution_count": 73,
   "id": "67be5343",
   "metadata": {},
   "outputs": [
    {
     "data": {
      "image/png": "[encoded data removed]",
      "text/plain": [
       "<Figure size 432x360 with 2 Axes>"
      ]
     },
     "metadata": {
      "needs_background": "light"
     },
     "output_type": "display_data"
    }
   ],
   "source": [
    "cm = confusion_matrix(y_train, ypreds_train_for)\n",
    "# Normalise\n",
    "cmn = cm.astype('float') / cm.sum(axis=1)[:, np.newaxis]\n",
    "fig, ax = plt.subplots(figsize=(6,5))\n",
    "sns.heatmap(cmn, annot=True, fmt='.2f', cmap='crest')\n",
    "plt.ylabel('Actual')\n",
    "plt.xlabel('Predicted')\n",
    "plt.show(block=False)"
   ]
  },
  {
   "cell_type": "code",
   "execution_count": 74,
   "id": "eec62869",
   "metadata": {},
   "outputs": [],
   "source": [
    "# This should be the accuracy\n",
    "mean_rf_cv_score = np.mean(cross_val_score(forest, X_train, y_train, cv=3))"
   ]
  },
  {
   "cell_type": "code",
   "execution_count": 75,
   "id": "a2a8066d",
   "metadata": {},
   "outputs": [
    {
     "data": {
      "text/plain": [
       "0.89662623165407"
      ]
     },
     "execution_count": 75,
     "metadata": {},
     "output_type": "execute_result"
    }
   ],
   "source": [
    "mean_rf_cv_score"
   ]
  },
  {
   "cell_type": "code",
   "execution_count": 76,
   "id": "0dac1a31",
   "metadata": {},
   "outputs": [
    {
     "data": {
      "image/png": "[encoded data removed]",
      "text/plain": [
       "<Figure size 576x576 with 1 Axes>"
      ]
     },
     "metadata": {
      "needs_background": "light"
     },
     "output_type": "display_data"
    }
   ],
   "source": [
    "plot_feature_importances(forest)"
   ]
  },
  {
   "cell_type": "code",
   "execution_count": 77,
   "id": "02c3d969",
   "metadata": {},
   "outputs": [
    {
     "data": {
      "image/png": "[encoded data removed]",
      "text/plain": [
       "<Figure size 1080x360 with 3 Axes>"
      ]
     },
     "metadata": {
      "needs_background": "light"
     },
     "output_type": "display_data"
    },
    {
     "name": "stdout",
     "output_type": "stream",
     "text": [
      "              precision    recall  f1-score   support\n",
      "\n",
      "           0       0.92      0.97      0.94    633061\n",
      "           1       0.83      0.64      0.72    147698\n",
      "\n",
      "    accuracy                           0.91    780759\n",
      "   macro avg       0.88      0.80      0.83    780759\n",
      "weighted avg       0.90      0.91      0.90    780759\n",
      "\n",
      "Mean Cross Validated Roc_Auc Score: 88%\n",
      "Train Roc_Auc Score: 90%\n",
      "Train Accuracy Score: 91%\n"
     ]
    }
   ],
   "source": [
    "model_results(forest)"
   ]
  },
  {
   "cell_type": "markdown",
   "id": "e4a69f4d",
   "metadata": {},
   "source": [
    "### GridSearchCV:"
   ]
  },
  {
   "cell_type": "code",
   "execution_count": 78,
   "id": "378cda52",
   "metadata": {},
   "outputs": [],
   "source": [
    "# create the grid with parameters:\n",
    "\n",
    "rf_param_grid = { 'n_estimators':[10,30,100],\n",
    "                 'criterion': ['gini', 'entropy'],\n",
    "                 'max_depth': [None, 2,6,10],\n",
    "                 'min_samples_split':[5, 10],\n",
    "                 'min_samples_leaf':[3, 6]\n",
    "    \n",
    "}"
   ]
  },
  {
   "cell_type": "code",
   "execution_count": 79,
   "id": "6cf4d3f0",
   "metadata": {},
   "outputs": [
    {
     "data": {
      "text/plain": [
       "'rf_grid_search = GridSearchCV(forest, rf_param_grid,cv=3)\\nrf_grid_search.fit(X_train, y_train)\\n'"
      ]
     },
     "execution_count": 79,
     "metadata": {},
     "output_type": "execute_result"
    }
   ],
   "source": [
    "\"\"\"rf_grid_search = GridSearchCV(forest, rf_param_grid,cv=3)\n",
    "rf_grid_search.fit(X_train, y_train)\n",
    "\"\"\""
   ]
  },
  {
   "cell_type": "markdown",
   "id": "a7990207",
   "metadata": {},
   "source": [
    "Since the model took a very long time to fit I am going to pickle it, to save it for a later rerun without it having to fit again."
   ]
  },
  {
   "cell_type": "code",
   "execution_count": 80,
   "id": "f95554db",
   "metadata": {},
   "outputs": [],
   "source": [
    "filename = 'CVforest_model.pkl'"
   ]
  },
  {
   "cell_type": "code",
   "execution_count": 81,
   "id": "da75003e",
   "metadata": {},
   "outputs": [
    {
     "data": {
      "text/plain": [
       "' code with which I saved the model\\n# save the model to disk\\n\\njoblib.dump(rf_grid_search, filename)\\n\\n'"
      ]
     },
     "execution_count": 81,
     "metadata": {},
     "output_type": "execute_result"
    }
   ],
   "source": [
    "\"\"\" code with which I saved the model\n",
    "# save the model to disk\n",
    "\n",
    "joblib.dump(rf_grid_search, filename)\n",
    "\n",
    "\"\"\""
   ]
  },
  {
   "cell_type": "code",
   "execution_count": 82,
   "id": "15a70ae5",
   "metadata": {},
   "outputs": [],
   "source": [
    "# some time later...\n",
    "\n",
    "# load the model from disk\n",
    "loaded_model = joblib.load(filename)"
   ]
  },
  {
   "cell_type": "code",
   "execution_count": 83,
   "id": "31e4e437",
   "metadata": {},
   "outputs": [],
   "source": [
    "forest_accuracy=loaded_model.best_score_ \n",
    "best_params=loaded_model.best_params_"
   ]
  },
  {
   "cell_type": "code",
   "execution_count": 84,
   "id": "6c61eaad",
   "metadata": {},
   "outputs": [
    {
     "name": "stdout",
     "output_type": "stream",
     "text": [
      "Testing Accuracy: 89.98%\n",
      "\n",
      "Best Parameters:{'criterion': 'gini', 'max_depth': None, 'min_samples_leaf': 6, 'min_samples_split': 5, 'n_estimators': 30}\n"
     ]
    }
   ],
   "source": [
    "print(f\"Testing Accuracy: {forest_accuracy:.2%}\")\n",
    "print(\"\")\n",
    "print(f\"Best Parameters:{best_params}\")"
   ]
  },
  {
   "cell_type": "markdown",
   "id": "eb8e9270",
   "metadata": {},
   "source": [
    "### Best Forest"
   ]
  },
  {
   "cell_type": "markdown",
   "id": "56cdde6e",
   "metadata": {},
   "source": [
    "Then I will run a forest with those best parameters we just found:"
   ]
  },
  {
   "cell_type": "code",
   "execution_count": 85,
   "id": "993eda21",
   "metadata": {},
   "outputs": [
    {
     "data": {
      "text/plain": [
       "RandomForestClassifier(min_samples_leaf=6, min_samples_split=5, n_estimators=30,\n",
       "                       random_state=19)"
      ]
     },
     "execution_count": 85,
     "metadata": {},
     "output_type": "execute_result"
    }
   ],
   "source": [
    "best_forest = RandomForestClassifier(n_estimators= 30 , criterion= 'gini', max_depth= None, \n",
    "                                     min_samples_split=5, min_samples_leaf=6, random_state=19)\n",
    "best_forest.fit(X_train, y_train)"
   ]
  },
  {
   "cell_type": "code",
   "execution_count": 86,
   "id": "6c69b77e",
   "metadata": {},
   "outputs": [],
   "source": [
    "ypreds_train_bestfor = best_forest.predict(X_train)"
   ]
  },
  {
   "cell_type": "code",
   "execution_count": 87,
   "id": "bc35bda2",
   "metadata": {},
   "outputs": [
    {
     "name": "stdout",
     "output_type": "stream",
     "text": [
      "Results for best Random Forest:\n",
      "\n",
      "Precision Score: 0.8223060335104799\n",
      "Recall Score: 0.6170496553778656\n",
      "Accuracy Score: 0.902332217752213\n",
      "F1 Score: 0.7050427611602568\n"
     ]
    }
   ],
   "source": [
    "print(\"Results for best Random Forest:\\n\")\n",
    "\n",
    "print_metrics(y_train, ypreds_train_bestfor)"
   ]
  },
  {
   "cell_type": "code",
   "execution_count": 88,
   "id": "df8f2ad7",
   "metadata": {},
   "outputs": [
    {
     "data": {
      "image/png": "[encoded data removed]",
      "text/plain": [
       "<Figure size 432x360 with 2 Axes>"
      ]
     },
     "metadata": {
      "needs_background": "light"
     },
     "output_type": "display_data"
    }
   ],
   "source": [
    "cm = confusion_matrix(y_train, ypreds_train_bestfor)\n",
    "# Normalize\n",
    "cmn = cm.astype('float') / cm.sum(axis=1)[:, np.newaxis]\n",
    "fig, ax = plt.subplots(figsize=(6,5))\n",
    "sns.heatmap(cmn, annot=True, fmt='.2f', cmap='inferno')\n",
    "plt.ylabel('Actual')\n",
    "plt.xlabel('Predicted')\n",
    "plt.show(block=False)"
   ]
  },
  {
   "cell_type": "code",
   "execution_count": 89,
   "id": "736f8c15",
   "metadata": {},
   "outputs": [
    {
     "data": {
      "image/png": "[encoded data removed]",
      "text/plain": [
       "<Figure size 1080x360 with 3 Axes>"
      ]
     },
     "metadata": {
      "needs_background": "light"
     },
     "output_type": "display_data"
    },
    {
     "name": "stdout",
     "output_type": "stream",
     "text": [
      "              precision    recall  f1-score   support\n",
      "\n",
      "           0       0.92      0.97      0.94    633061\n",
      "           1       0.82      0.62      0.71    147698\n",
      "\n",
      "    accuracy                           0.90    780759\n",
      "   macro avg       0.87      0.79      0.82    780759\n",
      "weighted avg       0.90      0.90      0.90    780759\n",
      "\n",
      "Mean Cross Validated Roc_Auc Score: 89%\n",
      "Train Roc_Auc Score: 89%\n",
      "Train Accuracy Score: 90%\n"
     ]
    }
   ],
   "source": [
    "model_results(best_forest)"
   ]
  },
  {
   "cell_type": "markdown",
   "id": "60ff81f3",
   "metadata": {},
   "source": [
    "### Including class imbalance:\n",
    "Now we will also use the balancing of the classes since we saw before that helped improving the recall rate:"
   ]
  },
  {
   "cell_type": "code",
   "execution_count": 90,
   "id": "a7361c35",
   "metadata": {},
   "outputs": [
    {
     "data": {
      "text/plain": [
       "RandomForestClassifier(class_weight='balanced', min_samples_leaf=6,\n",
       "                       min_samples_split=5, n_estimators=30, random_state=19)"
      ]
     },
     "execution_count": 90,
     "metadata": {},
     "output_type": "execute_result"
    }
   ],
   "source": [
    "best_forest_bal = RandomForestClassifier(n_estimators= 30 , criterion= 'gini', max_depth= None, \n",
    "                                     min_samples_split= 5, min_samples_leaf=6, \n",
    "                                     class_weight='balanced',random_state=19,)\n",
    "best_forest_bal.fit(X_train, y_train)"
   ]
  },
  {
   "cell_type": "code",
   "execution_count": 91,
   "id": "2c1b439b",
   "metadata": {},
   "outputs": [],
   "source": [
    "ypreds_train_bestfor_bal = best_forest_bal.predict(X_train)"
   ]
  },
  {
   "cell_type": "code",
   "execution_count": 92,
   "id": "d5d70273",
   "metadata": {},
   "outputs": [
    {
     "name": "stdout",
     "output_type": "stream",
     "text": [
      "Results for best Random Forest Balanced:\n",
      "\n",
      "Precision Score: 0.6191820853376238\n",
      "Recall Score: 0.766056412409105\n",
      "Accuracy Score: 0.8666156906292467\n",
      "F1 Score: 0.6848328395338209\n"
     ]
    }
   ],
   "source": [
    "print(\"Results for best Random Forest Balanced:\\n\")\n",
    "\n",
    "print_metrics(y_train, ypreds_train_bestfor_bal)"
   ]
  },
  {
   "cell_type": "code",
   "execution_count": 93,
   "id": "b590aeef",
   "metadata": {},
   "outputs": [
    {
     "data": {
      "image/png": "[encoded data removed]",
      "text/plain": [
       "<Figure size 432x360 with 2 Axes>"
      ]
     },
     "metadata": {
      "needs_background": "light"
     },
     "output_type": "display_data"
    }
   ],
   "source": [
    "cm = confusion_matrix(y_train, ypreds_train_bestfor)\n",
    "# Normalize\n",
    "cmn = cm.astype('float') / cm.sum(axis=1)[:, np.newaxis]\n",
    "fig, ax = plt.subplots(figsize=(6,5))\n",
    "sns.heatmap(cmn, annot=True, fmt='.2f', cmap='Oranges')\n",
    "plt.ylabel('Actual')\n",
    "plt.xlabel('Predicted')\n",
    "plt.show(block=False)"
   ]
  },
  {
   "cell_type": "code",
   "execution_count": 94,
   "id": "1d91f57e",
   "metadata": {},
   "outputs": [
    {
     "data": {
      "image/png": "[encoded data removed]",
      "text/plain": [
       "<Figure size 1080x360 with 3 Axes>"
      ]
     },
     "metadata": {
      "needs_background": "light"
     },
     "output_type": "display_data"
    },
    {
     "name": "stdout",
     "output_type": "stream",
     "text": [
      "              precision    recall  f1-score   support\n",
      "\n",
      "           0       0.94      0.89      0.92    633061\n",
      "           1       0.62      0.77      0.68    147698\n",
      "\n",
      "    accuracy                           0.87    780759\n",
      "   macro avg       0.78      0.83      0.80    780759\n",
      "weighted avg       0.88      0.87      0.87    780759\n",
      "\n",
      "Mean Cross Validated Roc_Auc Score: 89%\n",
      "Train Roc_Auc Score: 89%\n",
      "Train Accuracy Score: 87%\n"
     ]
    }
   ],
   "source": [
    "model_results(best_forest_bal)"
   ]
  },
  {
   "cell_type": "markdown",
   "id": "eccd8a57",
   "metadata": {},
   "source": [
    "### XGBooster"
   ]
  },
  {
   "cell_type": "code",
   "execution_count": 95,
   "id": "919db618",
   "metadata": {},
   "outputs": [],
   "source": [
    "# Instantiate XGBClassifier\n",
    "xgb_model = xgb.XGBClassifier()\n",
    "\n",
    "# Fit XGBClassifier\n",
    "xgb_model.fit(X_train, y_train)\n",
    "\n",
    "# Predict on training and test sets\n",
    "training_preds = xgb_model.predict(X_train)\n",
    "#test_preds = clf.predict(X_test)\n",
    "\n",
    "# Accuracy of training and test sets\n",
    "#training_accuracy = accuracy_score(y_train, training_preds)\n",
    "#test_accuracy = accuracy_score(y_test, test_preds)\n",
    "\n",
    "#print('Training Accuracy: {:.4}%'.format(training_accuracy * 100))\n",
    "#print('Validation Accuracy: {:.4}%'.format(test_accuracy * 100))"
   ]
  },
  {
   "cell_type": "code",
   "execution_count": 96,
   "id": "394ef827",
   "metadata": {},
   "outputs": [
    {
     "name": "stdout",
     "output_type": "stream",
     "text": [
      "Results for best Random Forest with XGBoost:\n",
      "\n",
      "Precision Score: 0.8213814788518106\n",
      "Recall Score: 0.6031090468388197\n",
      "Accuracy Score: 0.9001087403411296\n",
      "F1 Score: 0.6955224929435052\n"
     ]
    }
   ],
   "source": [
    "print(\"Results for best Random Forest with XGBoost:\\n\")\n",
    "\n",
    "print_metrics(y_train, training_preds)"
   ]
  },
  {
   "cell_type": "code",
   "execution_count": 97,
   "id": "1d6b32fd",
   "metadata": {},
   "outputs": [
    {
     "data": {
      "image/png": "[encoded data removed]",
      "text/plain": [
       "<Figure size 432x360 with 2 Axes>"
      ]
     },
     "metadata": {
      "needs_background": "light"
     },
     "output_type": "display_data"
    }
   ],
   "source": [
    "cm = confusion_matrix(y_train, ypreds_train_bestfor)\n",
    "# Normalize\n",
    "cmn = cm.astype('float') / cm.sum(axis=1)[:, np.newaxis]\n",
    "fig, ax = plt.subplots(figsize=(6,5))\n",
    "sns.heatmap(cmn, annot=True, fmt='.2f', cmap='coolwarm')\n",
    "plt.ylabel('Actual')\n",
    "plt.xlabel('Predicted')\n",
    "plt.show(block=False)"
   ]
  },
  {
   "cell_type": "code",
   "execution_count": 98,
   "id": "9259e53f",
   "metadata": {},
   "outputs": [
    {
     "data": {
      "image/png": "[encoded data removed]",
      "text/plain": [
       "<Figure size 1080x360 with 3 Axes>"
      ]
     },
     "metadata": {
      "needs_background": "light"
     },
     "output_type": "display_data"
    },
    {
     "name": "stdout",
     "output_type": "stream",
     "text": [
      "              precision    recall  f1-score   support\n",
      "\n",
      "           0       0.91      0.97      0.94    633061\n",
      "           1       0.82      0.60      0.70    147698\n",
      "\n",
      "    accuracy                           0.90    780759\n",
      "   macro avg       0.87      0.79      0.82    780759\n",
      "weighted avg       0.90      0.90      0.89    780759\n",
      "\n",
      "Mean Cross Validated Roc_Auc Score: 89%\n",
      "Train Roc_Auc Score: 89%\n",
      "Train Accuracy Score: 90%\n"
     ]
    }
   ],
   "source": [
    "model_results(xgb_model)"
   ]
  },
  {
   "cell_type": "markdown",
   "id": "973c599d",
   "metadata": {},
   "source": [
    "# To draw some conclusions:\n",
    "Now in order to draw some conclusions let us look at the results of the different models together and we will plot the ROC curve for all the different models we saw.\n",
    "<br>Once we can identify the best model we can see what the most important features were for that model."
   ]
  },
  {
   "cell_type": "code",
   "execution_count": 112,
   "id": "f43b7212",
   "metadata": {},
   "outputs": [],
   "source": [
    "models=[clf, clf_bal, logreg, forest, best_forest, best_forest_bal, xgb_model]"
   ]
  },
  {
   "cell_type": "code",
   "execution_count": 124,
   "id": "8864cc54",
   "metadata": {},
   "outputs": [
    {
     "name": "stdout",
     "output_type": "stream",
     "text": [
      "AUC for DecisionTreeClassifier(criterion='entropy'): 0.9021310790052367\n",
      "-------------------------------------------------------------------------------------\n",
      "AUC for DecisionTreeClassifier(class_weight='balanced', criterion='entropy'): 0.9021310790052366\n",
      "-------------------------------------------------------------------------------------\n",
      "AUC for LogisticRegression(max_iter=500): 0.8678817823020272\n",
      "-------------------------------------------------------------------------------------\n",
      "AUC for RandomForestClassifier(random_state=19): 0.9003046785251484\n",
      "-------------------------------------------------------------------------------------\n",
      "AUC for RandomForestClassifier(min_samples_leaf=6, min_samples_split=5, n_estimators=30,\n",
      "                       random_state=19): 0.8948305657492541\n",
      "-------------------------------------------------------------------------------------\n",
      "AUC for RandomForestClassifier(class_weight='balanced', min_samples_leaf=6,\n",
      "                       min_samples_split=5, n_estimators=30, random_state=19): 0.8949909513034436\n",
      "-------------------------------------------------------------------------------------\n",
      "AUC for XGBClassifier(): 0.890351221984758\n",
      "-------------------------------------------------------------------------------------\n"
     ]
    },
    {
     "data": {
      "image/png": "[encoded data removed]",
      "text/plain": [
       "<Figure size 720x576 with 1 Axes>"
      ]
     },
     "metadata": {
      "needs_background": "light"
     },
     "output_type": "display_data"
    }
   ],
   "source": [
    "# Now let's compare a few different regularization performances on the dataset:\n",
    "#weights = [None, 'balanced', {1:2, 0:1}, {1:10, 0:1}, {1:100, 0:1}, {1:1000, 0:1}]\n",
    "#names = ['None', 'Balanced', '2 to 1', '10 to 1', '100 to 1', '1000 to 1']\n",
    "colors = sns.color_palette('Set1')\n",
    "\n",
    "plt.figure(figsize=(10,8))\n",
    "\n",
    "for i in (models):\n",
    "    \n",
    "    yhat = i.predict_proba(X_train)\n",
    "    yhat = yhat[:, 1]\n",
    "    #fpr, tpr, thresholds= roc_curve(y_train, yhat)\n",
    "    fpr, tpr, thresholds = roc_curve(y_train, yhat)\n",
    "    #plot_roc_curve(clf, y_test, yhat)\n",
    "    # plot the roc curve for the model\n",
    "#    plt.plot([0,1], [0,1], linestyle='--', label='No Skill')\n",
    "    plt.plot(fpr, tpr, label=i)\n",
    "# axis labels\n",
    "    plt.xlabel('False Positive Rate')\n",
    "    plt.ylabel('True Positive Rate')\n",
    "    plt.legend()\n",
    "# show the plot\n",
    "    # Fit a model\n",
    "    # Predict\n",
    "#    y_hat_train = i.predict(X_train)\n",
    "\n",
    "#    y_score = i.fit(X_train, y_train).decision_function(X_test)\n",
    "\n",
    "#    fpr, tpr, thresholds = roc_curve(y_test, y_score)\n",
    "    \n",
    "    print('AUC for {}: {}'.format(i, auc(fpr, tpr)))\n",
    "    print('-------------------------------------------------------------------------------------')\n",
    "    lw = 2\n",
    "#    plt.plot(fpr, tpr,\n",
    "#             lw=lw, label='ROC curve {}'.format(i))\n",
    "\n",
    "plt.plot([0, 1], [0, 1], color='navy', lw=lw, linestyle='--', label='No Skill')\n",
    "plt.xlim([0.0, 1.0])\n",
    "plt.ylim([0.0, 1.05])\n",
    "\n",
    "plt.yticks([i/20.0 for i in range(21)])\n",
    "plt.xticks([i/20.0 for i in range(21)])\n",
    "plt.xlabel('False Positive Rate')\n",
    "plt.ylabel('True Positive Rate')\n",
    "plt.title('Receiver operating characteristic (ROC) Curve')\n",
    "plt.legend(loc='lower right')\n",
    "plt.show()"
   ]
  },
  {
   "cell_type": "code",
   "execution_count": 129,
   "id": "035f763b",
   "metadata": {},
   "outputs": [
    {
     "name": "stdout",
     "output_type": "stream",
     "text": [
      "DecisionTreeClassifier(criterion='entropy')\n",
      "Precision Score: 0.8406343933636027\n",
      "Recall Score: 0.6305298649947867\n",
      "Accuracy Score: 0.9074938617422278\n",
      "F1 Score: 0.7205790754446169\n"
     ]
    },
    {
     "data": {
      "image/png": "[encoded data removed]",
      "text/plain": [
       "<Figure size 288x216 with 2 Axes>"
      ]
     },
     "metadata": {
      "needs_background": "light"
     },
     "output_type": "display_data"
    },
    {
     "name": "stdout",
     "output_type": "stream",
     "text": [
      "DecisionTreeClassifier(class_weight='balanced', criterion='entropy')\n",
      "Precision Score: 0.6338527816485036\n",
      "Recall Score: 0.773023331392436\n",
      "Accuracy Score: 0.8725893649640927\n",
      "F1 Score: 0.6965545641729581\n"
     ]
    },
    {
     "data": {
      "image/png": "[encoded data removed]",
      "text/plain": [
       "<Figure size 288x216 with 2 Axes>"
      ]
     },
     "metadata": {
      "needs_background": "light"
     },
     "output_type": "display_data"
    },
    {
     "name": "stdout",
     "output_type": "stream",
     "text": [
      "LogisticRegression(max_iter=500)\n",
      "Precision Score: 0.8140786365951929\n",
      "Recall Score: 0.5950791479911711\n",
      "Accuracy Score: 0.8976905805760804\n",
      "F1 Score: 0.6875613600716568\n"
     ]
    },
    {
     "data": {
      "image/png": "[encoded data removed]",
      "text/plain": [
       "<Figure size 288x216 with 2 Axes>"
      ]
     },
     "metadata": {
      "needs_background": "light"
     },
     "output_type": "display_data"
    },
    {
     "name": "stdout",
     "output_type": "stream",
     "text": [
      "RandomForestClassifier(random_state=19)\n",
      "Precision Score: 0.8340533267235579\n",
      "Recall Score: 0.6379097888935531\n",
      "Accuracy Score: 0.9074925809372675\n",
      "F1 Score: 0.7229131979344898\n"
     ]
    },
    {
     "data": {
      "image/png": "[encoded data removed]",
      "text/plain": [
       "<Figure size 288x216 with 2 Axes>"
      ]
     },
     "metadata": {
      "needs_background": "light"
     },
     "output_type": "display_data"
    },
    {
     "name": "stdout",
     "output_type": "stream",
     "text": [
      "RandomForestClassifier(min_samples_leaf=6, min_samples_split=5, n_estimators=30,\n",
      "                       random_state=19)\n",
      "Precision Score: 0.8223060335104799\n",
      "Recall Score: 0.6170496553778656\n",
      "Accuracy Score: 0.902332217752213\n",
      "F1 Score: 0.7050427611602568\n"
     ]
    },
    {
     "data": {
      "image/png": "[encoded data removed]",
      "text/plain": [
       "<Figure size 288x216 with 2 Axes>"
      ]
     },
     "metadata": {
      "needs_background": "light"
     },
     "output_type": "display_data"
    },
    {
     "name": "stdout",
     "output_type": "stream",
     "text": [
      "RandomForestClassifier(class_weight='balanced', min_samples_leaf=6,\n",
      "                       min_samples_split=5, n_estimators=30, random_state=19)\n",
      "Precision Score: 0.6191820853376238\n",
      "Recall Score: 0.766056412409105\n",
      "Accuracy Score: 0.8666156906292467\n",
      "F1 Score: 0.6848328395338209\n"
     ]
    },
    {
     "data": {
      "image/png": "[encoded data removed]",
      "text/plain": [
       "<Figure size 288x216 with 2 Axes>"
      ]
     },
     "metadata": {
      "needs_background": "light"
     },
     "output_type": "display_data"
    },
    {
     "name": "stdout",
     "output_type": "stream",
     "text": [
      "XGBClassifier()\n",
      "Precision Score: 0.8213814788518106\n",
      "Recall Score: 0.6031090468388197\n",
      "Accuracy Score: 0.9001087403411296\n",
      "F1 Score: 0.6955224929435052\n"
     ]
    },
    {
     "data": {
      "image/png": "[encoded data removed]",
      "text/plain": [
       "<Figure size 288x216 with 2 Axes>"
      ]
     },
     "metadata": {
      "needs_background": "light"
     },
     "output_type": "display_data"
    }
   ],
   "source": [
    "for i in models:\n",
    "    preds=i.predict(X_train)\n",
    "    print(i)\n",
    "    print_metrics(y_train, preds)\n",
    "    cm = confusion_matrix(y_train, preds)\n",
    "    cmn = cm.astype('float') / cm.sum(axis=1)[:, np.newaxis]\n",
    "    fig, ax = plt.subplots(figsize=(4,3))\n",
    "    sns.heatmap(cmn, annot=True, fmt='.2f', cmap='BuPu')\n",
    "    plt.ylabel('Actual')\n",
    "    plt.xlabel('Predicted')\n",
    "    plt.show(block=False)"
   ]
  },
  {
   "cell_type": "code",
   "execution_count": null,
   "id": "bdf950d1",
   "metadata": {},
   "outputs": [],
   "source": []
  },
  {
   "cell_type": "code",
   "execution_count": null,
   "id": "2ae744e1",
   "metadata": {},
   "outputs": [],
   "source": []
  },
  {
   "cell_type": "code",
   "execution_count": null,
   "id": "73565c67",
   "metadata": {},
   "outputs": [],
   "source": []
  },
  {
   "cell_type": "markdown",
   "id": "0a62f6ca",
   "metadata": {},
   "source": [
    "### Threshold Chapter (we will see if it makes sense to include it)"
   ]
  },
  {
   "cell_type": "markdown",
   "id": "9a024509",
   "metadata": {},
   "source": [
    "Now I have to figure out how to decrease this famous threshold in decision trees."
   ]
  },
  {
   "cell_type": "markdown",
   "id": "32c69bb8",
   "metadata": {},
   "source": [
    "First ROC curve"
   ]
  },
  {
   "cell_type": "code",
   "execution_count": 99,
   "id": "5cad9462",
   "metadata": {},
   "outputs": [
    {
     "data": {
      "image/png": "[encoded data removed]",
      "text/plain": [
       "<Figure size 432x288 with 1 Axes>"
      ]
     },
     "metadata": {
      "needs_background": "light"
     },
     "output_type": "display_data"
    }
   ],
   "source": [
    "yhat = clf.predict_proba(X_test)\n",
    "yhat = yhat[:, 1]\n",
    "#fpr, tpr, thresholds= roc_curve(y_train, yhat)\n",
    "fpr, tpr, thresholds = roc_curve(y_test, yhat)\n",
    "#plot_roc_curve(clf, y_test, yhat)\n",
    "# plot the roc curve for the model\n",
    "plt.plot([0,1], [0,1], linestyle='--', label='No Skill')\n",
    "plt.plot(fpr, tpr, marker='.', label='Logistic')\n",
    "# axis labels\n",
    "plt.xlabel('False Positive Rate')\n",
    "plt.ylabel('True Positive Rate')\n",
    "plt.legend()\n",
    "# show the plot\n",
    "plt.show()"
   ]
  },
  {
   "cell_type": "code",
   "execution_count": 100,
   "id": "002bb2ed",
   "metadata": {},
   "outputs": [],
   "source": [
    "...\n",
    "# calculate the g-mean for each threshold\n",
    "gmeans = np.sqrt(tpr * (1-fpr))"
   ]
  },
  {
   "cell_type": "code",
   "execution_count": 101,
   "id": "1da13ab6",
   "metadata": {},
   "outputs": [
    {
     "name": "stdout",
     "output_type": "stream",
     "text": [
      "Best Threshold=0.163265, G-Mean=0.812\n"
     ]
    }
   ],
   "source": [
    "# locate the index of the largest g-mean\n",
    "ix = np.argmax(gmeans)\n",
    "print('Best Threshold=%f, G-Mean=%.3f' % (thresholds[ix], gmeans[ix]))"
   ]
  },
  {
   "cell_type": "code",
   "execution_count": 102,
   "id": "0e282cd3",
   "metadata": {},
   "outputs": [
    {
     "name": "stdout",
     "output_type": "stream",
     "text": [
      "Best Threshold=0.163265, G-Mean=0.812\n"
     ]
    },
    {
     "data": {
      "image/png": "[encoded data removed]",
      "text/plain": [
       "<Figure size 432x288 with 1 Axes>"
      ]
     },
     "metadata": {
      "needs_background": "light"
     },
     "output_type": "display_data"
    }
   ],
   "source": [
    "# roc curve for logistic regression model with optimal threshold\n",
    "from numpy import sqrt\n",
    "from numpy import argmax\n",
    "from sklearn.datasets import make_classification\n",
    "from sklearn.linear_model import LogisticRegression\n",
    "from sklearn.model_selection import train_test_split\n",
    "from sklearn.metrics import roc_curve\n",
    "from matplotlib import pyplot\n",
    "\n",
    "# predict probabilities\n",
    "yhat = clf.predict_proba(X_test)\n",
    "# keep probabilities for the positive outcome only\n",
    "yhat = yhat[:, 1]\n",
    "# calculate roc curves\n",
    "fpr, tpr, thresholds = roc_curve(y_test, yhat)\n",
    "# calculate the g-mean for each threshold\n",
    "gmeans = np.sqrt(tpr * (1-fpr))\n",
    "# locate the index of the largest g-mean\n",
    "ix = np.argmax(gmeans)\n",
    "print('Best Threshold=%f, G-Mean=%.3f' % (thresholds[ix], gmeans[ix]))\n",
    "# plot the roc curve for the model\n",
    "pyplot.plot([0,1], [0,1], linestyle='--', label='No Skill')\n",
    "pyplot.plot(fpr, tpr, label='DecisionTree')\n",
    "pyplot.scatter(fpr[ix], tpr[ix], marker='o', color='black', label='Best')\n",
    "# axis labels\n",
    "pyplot.xlabel('False Positive Rate')\n",
    "pyplot.ylabel('True Positive Rate')\n",
    "pyplot.legend()\n",
    "# show the plot\n",
    "pyplot.show()"
   ]
  },
  {
   "cell_type": "markdown",
   "id": "67fbecd3",
   "metadata": {},
   "source": [
    "### Precision-Recall Curve"
   ]
  },
  {
   "cell_type": "code",
   "execution_count": 103,
   "id": "4505ad23",
   "metadata": {},
   "outputs": [
    {
     "name": "stdout",
     "output_type": "stream",
     "text": [
      "Best Threshold=0.351351, F-Score=0.700\n"
     ]
    },
    {
     "data": {
      "image/png": "[encoded data removed]",
      "text/plain": [
       "<Figure size 432x288 with 1 Axes>"
      ]
     },
     "metadata": {
      "needs_background": "light"
     },
     "output_type": "display_data"
    }
   ],
   "source": [
    "from sklearn.metrics import precision_recall_curve\n",
    "# predict probabilities\n",
    "yhat = clf.predict_proba(X_test)\n",
    "# keep probabilities for the positive outcome only\n",
    "yhat = yhat[:, 1]\n",
    "# calculate roc curves\n",
    "precision, recall, thresholds = precision_recall_curve(y_test, yhat)\n",
    "# convert to f score\n",
    "fscore = (2 * precision * recall) / (precision + recall)\n",
    "# locate the index of the largest f score\n",
    "ix = argmax(fscore)\n",
    "print('Best Threshold=%f, F-Score=%.3f' % (thresholds[ix], fscore[ix]))\n",
    "# plot the roc curve for the model\n",
    "no_skill = len(y_test[y_test==1]) / len(y_test)\n",
    "pyplot.plot([0,1], [no_skill,no_skill], linestyle='--', label='No Skill')\n",
    "pyplot.plot(recall, precision, label='Tree')\n",
    "pyplot.scatter(recall[ix], precision[ix], marker='o', color='black', label='Best')\n",
    "# axis labels\n",
    "pyplot.xlabel('Recall')\n",
    "pyplot.ylabel('Precision')\n",
    "pyplot.legend()\n",
    "# show the plot\n",
    "pyplot.show()"
   ]
  },
  {
   "cell_type": "code",
   "execution_count": 104,
   "id": "c51d36f1",
   "metadata": {},
   "outputs": [],
   "source": [
    "...\n",
    "# define thresholds\n",
    "thresholds = np.arange(0, 1, 0.001)"
   ]
  },
  {
   "cell_type": "code",
   "execution_count": 105,
   "id": "5b14a6a3",
   "metadata": {},
   "outputs": [],
   "source": [
    "# apply threshold to positive probabilities to create labels\n",
    "def to_labels(pos_probs, threshold):\n",
    "     return (pos_probs >= threshold).astype('int')"
   ]
  },
  {
   "cell_type": "code",
   "execution_count": 106,
   "id": "4ab53540",
   "metadata": {},
   "outputs": [
    {
     "ename": "KeyboardInterrupt",
     "evalue": "",
     "output_type": "error",
     "traceback": [
      "\u001b[0;31m---------------------------------------------------------------------------\u001b[0m",
      "\u001b[0;31mKeyboardInterrupt\u001b[0m                         Traceback (most recent call last)",
      "\u001b[0;32m<ipython-input-106-51887a4df798>\u001b[0m in \u001b[0;36m<module>\u001b[0;34m()\u001b[0m\n\u001b[1;32m      3\u001b[0m \u001b[0myhat\u001b[0m \u001b[0;34m=\u001b[0m \u001b[0mclf\u001b[0m\u001b[0;34m.\u001b[0m\u001b[0mpredict_proba\u001b[0m\u001b[0;34m(\u001b[0m\u001b[0mX_test\u001b[0m\u001b[0;34m)\u001b[0m\u001b[0;34m\u001b[0m\u001b[0m\n\u001b[1;32m      4\u001b[0m \u001b[0mprobs\u001b[0m \u001b[0;34m=\u001b[0m \u001b[0myhat\u001b[0m\u001b[0;34m[\u001b[0m\u001b[0;34m:\u001b[0m\u001b[0;34m,\u001b[0m \u001b[0;36m1\u001b[0m\u001b[0;34m]\u001b[0m\u001b[0;34m\u001b[0m\u001b[0m\n\u001b[0;32m----> 5\u001b[0;31m \u001b[0mscores\u001b[0m \u001b[0;34m=\u001b[0m \u001b[0;34m[\u001b[0m\u001b[0mf1_score\u001b[0m\u001b[0;34m(\u001b[0m\u001b[0my_test\u001b[0m\u001b[0;34m,\u001b[0m \u001b[0mto_labels\u001b[0m\u001b[0;34m(\u001b[0m\u001b[0mprobs\u001b[0m\u001b[0;34m,\u001b[0m \u001b[0mt\u001b[0m\u001b[0;34m)\u001b[0m\u001b[0;34m)\u001b[0m \u001b[0;32mfor\u001b[0m \u001b[0mt\u001b[0m \u001b[0;32min\u001b[0m \u001b[0mthresholds\u001b[0m\u001b[0;34m]\u001b[0m\u001b[0;34m\u001b[0m\u001b[0m\n\u001b[0m",
      "\u001b[0;32m<ipython-input-106-51887a4df798>\u001b[0m in \u001b[0;36m<listcomp>\u001b[0;34m(.0)\u001b[0m\n\u001b[1;32m      3\u001b[0m \u001b[0myhat\u001b[0m \u001b[0;34m=\u001b[0m \u001b[0mclf\u001b[0m\u001b[0;34m.\u001b[0m\u001b[0mpredict_proba\u001b[0m\u001b[0;34m(\u001b[0m\u001b[0mX_test\u001b[0m\u001b[0;34m)\u001b[0m\u001b[0;34m\u001b[0m\u001b[0m\n\u001b[1;32m      4\u001b[0m \u001b[0mprobs\u001b[0m \u001b[0;34m=\u001b[0m \u001b[0myhat\u001b[0m\u001b[0;34m[\u001b[0m\u001b[0;34m:\u001b[0m\u001b[0;34m,\u001b[0m \u001b[0;36m1\u001b[0m\u001b[0;34m]\u001b[0m\u001b[0;34m\u001b[0m\u001b[0m\n\u001b[0;32m----> 5\u001b[0;31m \u001b[0mscores\u001b[0m \u001b[0;34m=\u001b[0m \u001b[0;34m[\u001b[0m\u001b[0mf1_score\u001b[0m\u001b[0;34m(\u001b[0m\u001b[0my_test\u001b[0m\u001b[0;34m,\u001b[0m \u001b[0mto_labels\u001b[0m\u001b[0;34m(\u001b[0m\u001b[0mprobs\u001b[0m\u001b[0;34m,\u001b[0m \u001b[0mt\u001b[0m\u001b[0;34m)\u001b[0m\u001b[0;34m)\u001b[0m \u001b[0;32mfor\u001b[0m \u001b[0mt\u001b[0m \u001b[0;32min\u001b[0m \u001b[0mthresholds\u001b[0m\u001b[0;34m]\u001b[0m\u001b[0;34m\u001b[0m\u001b[0m\n\u001b[0m",
      "\u001b[0;32m~/opt/anaconda3/envs/learn-env/lib/python3.6/site-packages/sklearn/utils/validation.py\u001b[0m in \u001b[0;36minner_f\u001b[0;34m(*args, **kwargs)\u001b[0m\n\u001b[1;32m     61\u001b[0m             \u001b[0mextra_args\u001b[0m \u001b[0;34m=\u001b[0m \u001b[0mlen\u001b[0m\u001b[0;34m(\u001b[0m\u001b[0margs\u001b[0m\u001b[0;34m)\u001b[0m \u001b[0;34m-\u001b[0m \u001b[0mlen\u001b[0m\u001b[0;34m(\u001b[0m\u001b[0mall_args\u001b[0m\u001b[0;34m)\u001b[0m\u001b[0;34m\u001b[0m\u001b[0m\n\u001b[1;32m     62\u001b[0m             \u001b[0;32mif\u001b[0m \u001b[0mextra_args\u001b[0m \u001b[0;34m<=\u001b[0m \u001b[0;36m0\u001b[0m\u001b[0;34m:\u001b[0m\u001b[0;34m\u001b[0m\u001b[0m\n\u001b[0;32m---> 63\u001b[0;31m                 \u001b[0;32mreturn\u001b[0m \u001b[0mf\u001b[0m\u001b[0;34m(\u001b[0m\u001b[0;34m*\u001b[0m\u001b[0margs\u001b[0m\u001b[0;34m,\u001b[0m \u001b[0;34m**\u001b[0m\u001b[0mkwargs\u001b[0m\u001b[0;34m)\u001b[0m\u001b[0;34m\u001b[0m\u001b[0m\n\u001b[0m\u001b[1;32m     64\u001b[0m \u001b[0;34m\u001b[0m\u001b[0m\n\u001b[1;32m     65\u001b[0m             \u001b[0;31m# extra_args > 0\u001b[0m\u001b[0;34m\u001b[0m\u001b[0;34m\u001b[0m\u001b[0m\n",
      "\u001b[0;32m~/opt/anaconda3/envs/learn-env/lib/python3.6/site-packages/sklearn/metrics/_classification.py\u001b[0m in \u001b[0;36mf1_score\u001b[0;34m(y_true, y_pred, labels, pos_label, average, sample_weight, zero_division)\u001b[0m\n\u001b[1;32m   1072\u001b[0m                        \u001b[0mpos_label\u001b[0m\u001b[0;34m=\u001b[0m\u001b[0mpos_label\u001b[0m\u001b[0;34m,\u001b[0m \u001b[0maverage\u001b[0m\u001b[0;34m=\u001b[0m\u001b[0maverage\u001b[0m\u001b[0;34m,\u001b[0m\u001b[0;34m\u001b[0m\u001b[0m\n\u001b[1;32m   1073\u001b[0m                        \u001b[0msample_weight\u001b[0m\u001b[0;34m=\u001b[0m\u001b[0msample_weight\u001b[0m\u001b[0;34m,\u001b[0m\u001b[0;34m\u001b[0m\u001b[0m\n\u001b[0;32m-> 1074\u001b[0;31m                        zero_division=zero_division)\n\u001b[0m\u001b[1;32m   1075\u001b[0m \u001b[0;34m\u001b[0m\u001b[0m\n\u001b[1;32m   1076\u001b[0m \u001b[0;34m\u001b[0m\u001b[0m\n",
      "\u001b[0;32m~/opt/anaconda3/envs/learn-env/lib/python3.6/site-packages/sklearn/utils/validation.py\u001b[0m in \u001b[0;36minner_f\u001b[0;34m(*args, **kwargs)\u001b[0m\n\u001b[1;32m     61\u001b[0m             \u001b[0mextra_args\u001b[0m \u001b[0;34m=\u001b[0m \u001b[0mlen\u001b[0m\u001b[0;34m(\u001b[0m\u001b[0margs\u001b[0m\u001b[0;34m)\u001b[0m \u001b[0;34m-\u001b[0m \u001b[0mlen\u001b[0m\u001b[0;34m(\u001b[0m\u001b[0mall_args\u001b[0m\u001b[0;34m)\u001b[0m\u001b[0;34m\u001b[0m\u001b[0m\n\u001b[1;32m     62\u001b[0m             \u001b[0;32mif\u001b[0m \u001b[0mextra_args\u001b[0m \u001b[0;34m<=\u001b[0m \u001b[0;36m0\u001b[0m\u001b[0;34m:\u001b[0m\u001b[0;34m\u001b[0m\u001b[0m\n\u001b[0;32m---> 63\u001b[0;31m                 \u001b[0;32mreturn\u001b[0m \u001b[0mf\u001b[0m\u001b[0;34m(\u001b[0m\u001b[0;34m*\u001b[0m\u001b[0margs\u001b[0m\u001b[0;34m,\u001b[0m \u001b[0;34m**\u001b[0m\u001b[0mkwargs\u001b[0m\u001b[0;34m)\u001b[0m\u001b[0;34m\u001b[0m\u001b[0m\n\u001b[0m\u001b[1;32m     64\u001b[0m \u001b[0;34m\u001b[0m\u001b[0m\n\u001b[1;32m     65\u001b[0m             \u001b[0;31m# extra_args > 0\u001b[0m\u001b[0;34m\u001b[0m\u001b[0;34m\u001b[0m\u001b[0m\n",
      "\u001b[0;32m~/opt/anaconda3/envs/learn-env/lib/python3.6/site-packages/sklearn/metrics/_classification.py\u001b[0m in \u001b[0;36mfbeta_score\u001b[0;34m(y_true, y_pred, beta, labels, pos_label, average, sample_weight, zero_division)\u001b[0m\n\u001b[1;32m   1200\u001b[0m                                                  \u001b[0mwarn_for\u001b[0m\u001b[0;34m=\u001b[0m\u001b[0;34m(\u001b[0m\u001b[0;34m'f-score'\u001b[0m\u001b[0;34m,\u001b[0m\u001b[0;34m)\u001b[0m\u001b[0;34m,\u001b[0m\u001b[0;34m\u001b[0m\u001b[0m\n\u001b[1;32m   1201\u001b[0m                                                  \u001b[0msample_weight\u001b[0m\u001b[0;34m=\u001b[0m\u001b[0msample_weight\u001b[0m\u001b[0;34m,\u001b[0m\u001b[0;34m\u001b[0m\u001b[0m\n\u001b[0;32m-> 1202\u001b[0;31m                                                  zero_division=zero_division)\n\u001b[0m\u001b[1;32m   1203\u001b[0m     \u001b[0;32mreturn\u001b[0m \u001b[0mf\u001b[0m\u001b[0;34m\u001b[0m\u001b[0m\n\u001b[1;32m   1204\u001b[0m \u001b[0;34m\u001b[0m\u001b[0m\n",
      "\u001b[0;32m~/opt/anaconda3/envs/learn-env/lib/python3.6/site-packages/sklearn/utils/validation.py\u001b[0m in \u001b[0;36minner_f\u001b[0;34m(*args, **kwargs)\u001b[0m\n\u001b[1;32m     61\u001b[0m             \u001b[0mextra_args\u001b[0m \u001b[0;34m=\u001b[0m \u001b[0mlen\u001b[0m\u001b[0;34m(\u001b[0m\u001b[0margs\u001b[0m\u001b[0;34m)\u001b[0m \u001b[0;34m-\u001b[0m \u001b[0mlen\u001b[0m\u001b[0;34m(\u001b[0m\u001b[0mall_args\u001b[0m\u001b[0;34m)\u001b[0m\u001b[0;34m\u001b[0m\u001b[0m\n\u001b[1;32m     62\u001b[0m             \u001b[0;32mif\u001b[0m \u001b[0mextra_args\u001b[0m \u001b[0;34m<=\u001b[0m \u001b[0;36m0\u001b[0m\u001b[0;34m:\u001b[0m\u001b[0;34m\u001b[0m\u001b[0m\n\u001b[0;32m---> 63\u001b[0;31m                 \u001b[0;32mreturn\u001b[0m \u001b[0mf\u001b[0m\u001b[0;34m(\u001b[0m\u001b[0;34m*\u001b[0m\u001b[0margs\u001b[0m\u001b[0;34m,\u001b[0m \u001b[0;34m**\u001b[0m\u001b[0mkwargs\u001b[0m\u001b[0;34m)\u001b[0m\u001b[0;34m\u001b[0m\u001b[0m\n\u001b[0m\u001b[1;32m     64\u001b[0m \u001b[0;34m\u001b[0m\u001b[0m\n\u001b[1;32m     65\u001b[0m             \u001b[0;31m# extra_args > 0\u001b[0m\u001b[0;34m\u001b[0m\u001b[0;34m\u001b[0m\u001b[0m\n",
      "\u001b[0;32m~/opt/anaconda3/envs/learn-env/lib/python3.6/site-packages/sklearn/metrics/_classification.py\u001b[0m in \u001b[0;36mprecision_recall_fscore_support\u001b[0;34m(y_true, y_pred, beta, labels, pos_label, average, warn_for, sample_weight, zero_division)\u001b[0m\n\u001b[1;32m   1463\u001b[0m         \u001b[0;32mraise\u001b[0m \u001b[0mValueError\u001b[0m\u001b[0;34m(\u001b[0m\u001b[0;34m\"beta should be >=0 in the F-beta score\"\u001b[0m\u001b[0;34m)\u001b[0m\u001b[0;34m\u001b[0m\u001b[0m\n\u001b[1;32m   1464\u001b[0m     labels = _check_set_wise_labels(y_true, y_pred, average, labels,\n\u001b[0;32m-> 1465\u001b[0;31m                                     pos_label)\n\u001b[0m\u001b[1;32m   1466\u001b[0m \u001b[0;34m\u001b[0m\u001b[0m\n\u001b[1;32m   1467\u001b[0m     \u001b[0;31m# Calculate tp_sum, pred_sum, true_sum ###\u001b[0m\u001b[0;34m\u001b[0m\u001b[0;34m\u001b[0m\u001b[0m\n",
      "\u001b[0;32m~/opt/anaconda3/envs/learn-env/lib/python3.6/site-packages/sklearn/metrics/_classification.py\u001b[0m in \u001b[0;36m_check_set_wise_labels\u001b[0;34m(y_true, y_pred, average, labels, pos_label)\u001b[0m\n\u001b[1;32m   1278\u001b[0m     \u001b[0;31m# Convert to Python primitive type to avoid NumPy type / Python str\u001b[0m\u001b[0;34m\u001b[0m\u001b[0;34m\u001b[0m\u001b[0m\n\u001b[1;32m   1279\u001b[0m     \u001b[0;31m# comparison. See https://github.com/numpy/numpy/issues/6784\u001b[0m\u001b[0;34m\u001b[0m\u001b[0;34m\u001b[0m\u001b[0m\n\u001b[0;32m-> 1280\u001b[0;31m     \u001b[0mpresent_labels\u001b[0m \u001b[0;34m=\u001b[0m \u001b[0munique_labels\u001b[0m\u001b[0;34m(\u001b[0m\u001b[0my_true\u001b[0m\u001b[0;34m,\u001b[0m \u001b[0my_pred\u001b[0m\u001b[0;34m)\u001b[0m\u001b[0;34m.\u001b[0m\u001b[0mtolist\u001b[0m\u001b[0;34m(\u001b[0m\u001b[0;34m)\u001b[0m\u001b[0;34m\u001b[0m\u001b[0m\n\u001b[0m\u001b[1;32m   1281\u001b[0m     \u001b[0;32mif\u001b[0m \u001b[0maverage\u001b[0m \u001b[0;34m==\u001b[0m \u001b[0;34m'binary'\u001b[0m\u001b[0;34m:\u001b[0m\u001b[0;34m\u001b[0m\u001b[0m\n\u001b[1;32m   1282\u001b[0m         \u001b[0;32mif\u001b[0m \u001b[0my_type\u001b[0m \u001b[0;34m==\u001b[0m \u001b[0;34m'binary'\u001b[0m\u001b[0;34m:\u001b[0m\u001b[0;34m\u001b[0m\u001b[0m\n",
      "\u001b[0;32m~/opt/anaconda3/envs/learn-env/lib/python3.6/site-packages/sklearn/utils/multiclass.py\u001b[0m in \u001b[0;36munique_labels\u001b[0;34m(*ys)\u001b[0m\n\u001b[1;32m     98\u001b[0m         \u001b[0;32mraise\u001b[0m \u001b[0mValueError\u001b[0m\u001b[0;34m(\u001b[0m\u001b[0;34m\"Unknown label type: %s\"\u001b[0m \u001b[0;34m%\u001b[0m \u001b[0mrepr\u001b[0m\u001b[0;34m(\u001b[0m\u001b[0mys\u001b[0m\u001b[0;34m)\u001b[0m\u001b[0;34m)\u001b[0m\u001b[0;34m\u001b[0m\u001b[0m\n\u001b[1;32m     99\u001b[0m \u001b[0;34m\u001b[0m\u001b[0m\n\u001b[0;32m--> 100\u001b[0;31m     \u001b[0mys_labels\u001b[0m \u001b[0;34m=\u001b[0m \u001b[0mset\u001b[0m\u001b[0;34m(\u001b[0m\u001b[0mchain\u001b[0m\u001b[0;34m.\u001b[0m\u001b[0mfrom_iterable\u001b[0m\u001b[0;34m(\u001b[0m\u001b[0m_unique_labels\u001b[0m\u001b[0;34m(\u001b[0m\u001b[0my\u001b[0m\u001b[0;34m)\u001b[0m \u001b[0;32mfor\u001b[0m \u001b[0my\u001b[0m \u001b[0;32min\u001b[0m \u001b[0mys\u001b[0m\u001b[0;34m)\u001b[0m\u001b[0;34m)\u001b[0m\u001b[0;34m\u001b[0m\u001b[0m\n\u001b[0m\u001b[1;32m    101\u001b[0m \u001b[0;34m\u001b[0m\u001b[0m\n\u001b[1;32m    102\u001b[0m     \u001b[0;31m# Check that we don't mix string type with number type\u001b[0m\u001b[0;34m\u001b[0m\u001b[0;34m\u001b[0m\u001b[0m\n",
      "\u001b[0;32m~/opt/anaconda3/envs/learn-env/lib/python3.6/site-packages/sklearn/utils/multiclass.py\u001b[0m in \u001b[0;36m<genexpr>\u001b[0;34m(.0)\u001b[0m\n\u001b[1;32m     98\u001b[0m         \u001b[0;32mraise\u001b[0m \u001b[0mValueError\u001b[0m\u001b[0;34m(\u001b[0m\u001b[0;34m\"Unknown label type: %s\"\u001b[0m \u001b[0;34m%\u001b[0m \u001b[0mrepr\u001b[0m\u001b[0;34m(\u001b[0m\u001b[0mys\u001b[0m\u001b[0;34m)\u001b[0m\u001b[0;34m)\u001b[0m\u001b[0;34m\u001b[0m\u001b[0m\n\u001b[1;32m     99\u001b[0m \u001b[0;34m\u001b[0m\u001b[0m\n\u001b[0;32m--> 100\u001b[0;31m     \u001b[0mys_labels\u001b[0m \u001b[0;34m=\u001b[0m \u001b[0mset\u001b[0m\u001b[0;34m(\u001b[0m\u001b[0mchain\u001b[0m\u001b[0;34m.\u001b[0m\u001b[0mfrom_iterable\u001b[0m\u001b[0;34m(\u001b[0m\u001b[0m_unique_labels\u001b[0m\u001b[0;34m(\u001b[0m\u001b[0my\u001b[0m\u001b[0;34m)\u001b[0m \u001b[0;32mfor\u001b[0m \u001b[0my\u001b[0m \u001b[0;32min\u001b[0m \u001b[0mys\u001b[0m\u001b[0;34m)\u001b[0m\u001b[0;34m)\u001b[0m\u001b[0;34m\u001b[0m\u001b[0m\n\u001b[0m\u001b[1;32m    101\u001b[0m \u001b[0;34m\u001b[0m\u001b[0m\n\u001b[1;32m    102\u001b[0m     \u001b[0;31m# Check that we don't mix string type with number type\u001b[0m\u001b[0;34m\u001b[0m\u001b[0;34m\u001b[0m\u001b[0m\n",
      "\u001b[0;32m~/opt/anaconda3/envs/learn-env/lib/python3.6/site-packages/sklearn/utils/multiclass.py\u001b[0m in \u001b[0;36m_unique_multiclass\u001b[0;34m(y)\u001b[0m\n\u001b[1;32m     23\u001b[0m \u001b[0;32mdef\u001b[0m \u001b[0m_unique_multiclass\u001b[0m\u001b[0;34m(\u001b[0m\u001b[0my\u001b[0m\u001b[0;34m)\u001b[0m\u001b[0;34m:\u001b[0m\u001b[0;34m\u001b[0m\u001b[0m\n\u001b[1;32m     24\u001b[0m     \u001b[0;32mif\u001b[0m \u001b[0mhasattr\u001b[0m\u001b[0;34m(\u001b[0m\u001b[0my\u001b[0m\u001b[0;34m,\u001b[0m \u001b[0;34m'__array__'\u001b[0m\u001b[0;34m)\u001b[0m\u001b[0;34m:\u001b[0m\u001b[0;34m\u001b[0m\u001b[0m\n\u001b[0;32m---> 25\u001b[0;31m         \u001b[0;32mreturn\u001b[0m \u001b[0mnp\u001b[0m\u001b[0;34m.\u001b[0m\u001b[0munique\u001b[0m\u001b[0;34m(\u001b[0m\u001b[0mnp\u001b[0m\u001b[0;34m.\u001b[0m\u001b[0masarray\u001b[0m\u001b[0;34m(\u001b[0m\u001b[0my\u001b[0m\u001b[0;34m)\u001b[0m\u001b[0;34m)\u001b[0m\u001b[0;34m\u001b[0m\u001b[0m\n\u001b[0m\u001b[1;32m     26\u001b[0m     \u001b[0;32melse\u001b[0m\u001b[0;34m:\u001b[0m\u001b[0;34m\u001b[0m\u001b[0m\n\u001b[1;32m     27\u001b[0m         \u001b[0;32mreturn\u001b[0m \u001b[0mset\u001b[0m\u001b[0;34m(\u001b[0m\u001b[0my\u001b[0m\u001b[0;34m)\u001b[0m\u001b[0;34m\u001b[0m\u001b[0m\n",
      "\u001b[0;32m<__array_function__ internals>\u001b[0m in \u001b[0;36munique\u001b[0;34m(*args, **kwargs)\u001b[0m\n",
      "\u001b[0;32m~/opt/anaconda3/envs/learn-env/lib/python3.6/site-packages/numpy/lib/arraysetops.py\u001b[0m in \u001b[0;36munique\u001b[0;34m(ar, return_index, return_inverse, return_counts, axis)\u001b[0m\n\u001b[1;32m    259\u001b[0m     \u001b[0mar\u001b[0m \u001b[0;34m=\u001b[0m \u001b[0mnp\u001b[0m\u001b[0;34m.\u001b[0m\u001b[0masanyarray\u001b[0m\u001b[0;34m(\u001b[0m\u001b[0mar\u001b[0m\u001b[0;34m)\u001b[0m\u001b[0;34m\u001b[0m\u001b[0m\n\u001b[1;32m    260\u001b[0m     \u001b[0;32mif\u001b[0m \u001b[0maxis\u001b[0m \u001b[0;32mis\u001b[0m \u001b[0;32mNone\u001b[0m\u001b[0;34m:\u001b[0m\u001b[0;34m\u001b[0m\u001b[0m\n\u001b[0;32m--> 261\u001b[0;31m         \u001b[0mret\u001b[0m \u001b[0;34m=\u001b[0m \u001b[0m_unique1d\u001b[0m\u001b[0;34m(\u001b[0m\u001b[0mar\u001b[0m\u001b[0;34m,\u001b[0m \u001b[0mreturn_index\u001b[0m\u001b[0;34m,\u001b[0m \u001b[0mreturn_inverse\u001b[0m\u001b[0;34m,\u001b[0m \u001b[0mreturn_counts\u001b[0m\u001b[0;34m)\u001b[0m\u001b[0;34m\u001b[0m\u001b[0m\n\u001b[0m\u001b[1;32m    262\u001b[0m         \u001b[0;32mreturn\u001b[0m \u001b[0m_unpack_tuple\u001b[0m\u001b[0;34m(\u001b[0m\u001b[0mret\u001b[0m\u001b[0;34m)\u001b[0m\u001b[0;34m\u001b[0m\u001b[0m\n\u001b[1;32m    263\u001b[0m \u001b[0;34m\u001b[0m\u001b[0m\n",
      "\u001b[0;32m~/opt/anaconda3/envs/learn-env/lib/python3.6/site-packages/numpy/lib/arraysetops.py\u001b[0m in \u001b[0;36m_unique1d\u001b[0;34m(ar, return_index, return_inverse, return_counts)\u001b[0m\n\u001b[1;32m    320\u001b[0m         \u001b[0maux\u001b[0m \u001b[0;34m=\u001b[0m \u001b[0mar\u001b[0m\u001b[0;34m[\u001b[0m\u001b[0mperm\u001b[0m\u001b[0;34m]\u001b[0m\u001b[0;34m\u001b[0m\u001b[0m\n\u001b[1;32m    321\u001b[0m     \u001b[0;32melse\u001b[0m\u001b[0;34m:\u001b[0m\u001b[0;34m\u001b[0m\u001b[0m\n\u001b[0;32m--> 322\u001b[0;31m         \u001b[0mar\u001b[0m\u001b[0;34m.\u001b[0m\u001b[0msort\u001b[0m\u001b[0;34m(\u001b[0m\u001b[0;34m)\u001b[0m\u001b[0;34m\u001b[0m\u001b[0m\n\u001b[0m\u001b[1;32m    323\u001b[0m         \u001b[0maux\u001b[0m \u001b[0;34m=\u001b[0m \u001b[0mar\u001b[0m\u001b[0;34m\u001b[0m\u001b[0m\n\u001b[1;32m    324\u001b[0m     \u001b[0mmask\u001b[0m \u001b[0;34m=\u001b[0m \u001b[0mnp\u001b[0m\u001b[0;34m.\u001b[0m\u001b[0mempty\u001b[0m\u001b[0;34m(\u001b[0m\u001b[0maux\u001b[0m\u001b[0;34m.\u001b[0m\u001b[0mshape\u001b[0m\u001b[0;34m,\u001b[0m \u001b[0mdtype\u001b[0m\u001b[0;34m=\u001b[0m\u001b[0mnp\u001b[0m\u001b[0;34m.\u001b[0m\u001b[0mbool_\u001b[0m\u001b[0;34m)\u001b[0m\u001b[0;34m\u001b[0m\u001b[0m\n",
      "\u001b[0;31mKeyboardInterrupt\u001b[0m: "
     ]
    }
   ],
   "source": [
    "...\n",
    "# evaluate each threshold\n",
    "yhat = clf.predict_proba(X_test)\n",
    "probs = yhat[:, 1]\n",
    "scores = [f1_score(y_test, to_labels(probs, t)) for t in thresholds]"
   ]
  },
  {
   "cell_type": "code",
   "execution_count": null,
   "id": "134e74dc",
   "metadata": {},
   "outputs": [],
   "source": [
    "...\n",
    "# get best threshold\n",
    "ix = argmax(scores)\n",
    "print('Threshold=%.3f, F-Score=%.5f' % (thresholds[ix], scores[ix]))"
   ]
  },
  {
   "cell_type": "code",
   "execution_count": null,
   "id": "dd053893",
   "metadata": {},
   "outputs": [],
   "source": []
  },
  {
   "cell_type": "code",
   "execution_count": null,
   "id": "76390a10",
   "metadata": {},
   "outputs": [],
   "source": [
    "precision_, recall_, proba = precision_recall_curve(y_test, yhat[:, -1])"
   ]
  },
  {
   "cell_type": "code",
   "execution_count": null,
   "id": "6859b3ed",
   "metadata": {},
   "outputs": [],
   "source": [
    "from sklearn.metrics import accuracy_score, precision_score, recall_score, f1_score, roc_auc_score, precision_recall_curve, plot_precision_recall_curve\n",
    "disp = plot_precision_recall_curve(clf, X_test, y_test)\n",
    "disp.ax_.set_title('Precision-Recall curve')"
   ]
  },
  {
   "cell_type": "code",
   "execution_count": null,
   "id": "ec107bfb",
   "metadata": {},
   "outputs": [],
   "source": [
    "optimal_proba_cutoff = sorted(list(zip(np.abs(precision_ - recall_), proba)), key=lambda i: i[0], reverse=False)[0][1]\n",
    "roc_predictions = [1 if i >= optimal_proba_cutoff else 0 for i in yhat[:, -1]]"
   ]
  },
  {
   "cell_type": "code",
   "execution_count": null,
   "id": "4a5cd23e",
   "metadata": {},
   "outputs": [],
   "source": [
    "recall_score(y_test, roc_predictions)"
   ]
  },
  {
   "cell_type": "code",
   "execution_count": null,
   "id": "142598bd",
   "metadata": {},
   "outputs": [],
   "source": [
    "f1_score(y_test, roc_predictions)"
   ]
  },
  {
   "cell_type": "code",
   "execution_count": null,
   "id": "dee0f855",
   "metadata": {},
   "outputs": [],
   "source": [
    "precision_score(y_test, roc_predictions)"
   ]
  },
  {
   "cell_type": "code",
   "execution_count": null,
   "id": "2ed7f701",
   "metadata": {},
   "outputs": [],
   "source": [
    "accuracy_score(y_test, roc_predictions)"
   ]
  },
  {
   "cell_type": "code",
   "execution_count": null,
   "id": "d5019977",
   "metadata": {},
   "outputs": [],
   "source": [
    "print(\"Accuracy Score Before and After Thresholding: {}, {}\".format(accuracy_score(y_test, yhat), accuracy_score(y_test, roc_predictions)))\n",
    "print(\"Precision Score Before and After Thresholding: {}, {}\".format(precision_score(y_test, yhat), precision_score(y_test, roc_predictions)))\n",
    "print(\"Recall Score Before and After Thresholding: {}, {}\".format(recall_score(y_test, yhat), recall_score(y_test, roc_predictions)))\n",
    "print(\"F1 Score Before and After Thresholding: {}, {}\".format(f1_score(y_test, yhat), f1_score(y_test, roc_predictions)))"
   ]
  },
  {
   "cell_type": "code",
   "execution_count": null,
   "id": "b5f3d8b3",
   "metadata": {},
   "outputs": [],
   "source": [
    "recall_score(y_test, yhat[:, -1])"
   ]
  },
  {
   "cell_type": "code",
   "execution_count": null,
   "id": "0ba99d23",
   "metadata": {},
   "outputs": [],
   "source": [
    "print_metrics(y_test, yhat[:, -1])"
   ]
  },
  {
   "cell_type": "markdown",
   "id": "c9172dc0",
   "metadata": {},
   "source": [
    "### Code from Eva model Results"
   ]
  },
  {
   "cell_type": "code",
   "execution_count": null,
   "id": "d447be80",
   "metadata": {},
   "outputs": [],
   "source": [
    "def model_results(model):\n",
    "    with plt.style.context('seaborn-talk'):\n",
    "        fig, (ax1, ax2) = plt.subplots(ncols=2, figsize=(15, 5))\n",
    "        # Create Confusion Matrix for the test set\n",
    "        plot_confusion_matrix(model, X_train, y_train, normalize = 'true', ax=ax1,  cmap = 'Greens')\n",
    "        ax1.grid(False)\n",
    "        ax1.set_title(\"Train Confusion Matrix\")\n",
    "        # Create Roc curve for the test and train for TP and FP rates\n",
    "        plot_roc_curve(model, X_train, y_train, ax=ax2, color='green', name ='Train ROC curve')\n",
    "#        plot_roc_curve(model, X_test, y_test, ax=ax2, color = ‘blue’, name ='Test ROC curve' )\n",
    "        ax2.plot([0, 1], [0, 1], color='black', lw=2, linestyle='-')\n",
    "        ax2.set_xlabel('False Positive Rate')\n",
    "        ax2.set_ylabel('True Positive Rate')\n",
    "        ax2.set_title('Receiver Operating Characteristic (ROC) Curve')\n",
    "        plt.show()\n",
    "        #Create a classification report\n",
    "        y_pred = model.predict(X_train)\n",
    "        print(classification_report(y_train, y_pred))\n",
    "        ######***NEW LINE*** Print CV ROC_AUC score, and roc_auc score for test/train\n",
    "        #Print CV ROC_AUC score\n",
    "        roc_score_train_cv = cross_val_score(estimator=model, X=X_train,  y=y_train,\n",
    "                                        cv=StratifiedKFold(shuffle=True), scoring='roc_auc').mean()\n",
    "        print(f\"Mean Cross Validated Roc_Auc Score: {roc_score_train_cv :.0%}\")\n",
    "        #print roc_auc for test and train\n",
    "        roc_score_train = roc_auc_score(y_train, model.predict_proba(X_train)[:, 1])\n",
    "        print(f\"Train Roc_Auc Score: {roc_score_train :.0%}\")\n",
    "#        roc_score_test = roc_auc_score(y_test, model.predict_proba(X_test)[:, 1])\n",
    "#        print(f”Test Roc_Auc Score: {roc_score_test :.0%}“)\n",
    "        accuracy_train = model.score(X_train, y_train)\n",
    "#        accuracy_test = model.score(X_test, y_test)\n",
    "        print(f\"Train Accuracy Score: {accuracy_train :.0%}\")\n",
    "#        print(f”Test Accuracy Score: {accuracy_test :.0%}“)"
   ]
  },
  {
   "cell_type": "code",
   "execution_count": null,
   "id": "00df43d2",
   "metadata": {},
   "outputs": [],
   "source": []
  },
  {
   "cell_type": "code",
   "execution_count": null,
   "id": "2e7d68a3",
   "metadata": {},
   "outputs": [],
   "source": []
  },
  {
   "cell_type": "code",
   "execution_count": null,
   "id": "0e8b95e4",
   "metadata": {},
   "outputs": [],
   "source": []
  },
  {
   "cell_type": "code",
   "execution_count": null,
   "id": "b12c8f62",
   "metadata": {},
   "outputs": [],
   "source": []
  },
  {
   "cell_type": "code",
   "execution_count": null,
   "id": "5df7fcca",
   "metadata": {},
   "outputs": [],
   "source": []
  },
  {
   "cell_type": "code",
   "execution_count": null,
   "id": "dcc8d68d",
   "metadata": {},
   "outputs": [],
   "source": []
  }
 ],
 "metadata": {
  "kernelspec": {
   "display_name": "Python [conda env:learn-env] *",
   "language": "python",
   "name": "conda-env-learn-env-py"
  },
  "language_info": {
   "codemirror_mode": {
    "name": "ipython",
    "version": 3
   },
   "file_extension": ".py",
   "mimetype": "text/x-python",
   "name": "python",
   "nbconvert_exporter": "python",
   "pygments_lexer": "ipython3",
   "version": "3.6.6"
  }
 },
 "nbformat": 4,
 "nbformat_minor": 5
}
